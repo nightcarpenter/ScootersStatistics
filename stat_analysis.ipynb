{
 "cells": [
  {
   "cell_type": "markdown",
   "id": "1f2b4035",
   "metadata": {},
   "source": [
    "# Анализ данных о пользователях сервиса аренды самокатов и их поездках"
   ]
  },
  {
   "cell_type": "markdown",
   "id": "dc948695",
   "metadata": {
    "tags": []
   },
   "source": [
    "### Постановка задачи"
   ]
  },
  {
   "cell_type": "markdown",
   "id": "eaee30ac",
   "metadata": {},
   "source": [
    "#### Цели исследования:\n",
    "- Проверка гипотез (п.6).\n",
    "- Ответы на вопросы (п.7).\n",
    "- Ответ на главный вопрос: являются ли пользователи с платной подпиской более выгодными для компании.\n",
    "\n",
    "#### Этапы исследования:\n",
    "1. Изучение общей информации о датафреймах.\n",
    "2. Предобработка данных:\n",
    "    - обработка пропусков\n",
    "    - обработка дубликатов\n",
    "    - обработка аномалий\n",
    "    - округление данных\n",
    "    - преобразование типов данных\n",
    "    - создание дополнительного столбца с номером месяца\n",
    "3. Исследовательский анализ (описание и визуализация общей информации о пользователях и поездках):\n",
    "    - частота встречаемости городов\n",
    "    - соотношение пользователей с подпиской и без подписки\n",
    "    - возраст пользователей\n",
    "    - расстояние, которое пользователь преодолел за одну поездку\n",
    "    - продолжительность поездок\n",
    "4. Объединение данных\n",
    "    - Объединение данных о пользователях, поездках и подписках в один датафрейм.\n",
    "    - Разделение нового датафрейма на два:\n",
    "        - c данными о пользователях без подписки\n",
    "        - с данными о пользователях с подпиской\n",
    "    - Визуализация информации о расстоянии и времени поездок для пользователей обеих категорий.\n",
    "5. Подсчёт выручки. (создание датафрейма о поездках для каждого пользователя за каждый месяц со следующими агрегированными данными):\n",
    "    - суммарное расстояние\n",
    "    - количество поездок\n",
    "    - суммарное время поездок\n",
    "    - помесячная выручка, которую принёс пользователь\n",
    "6. Проверка гипотез:\n",
    "    - Тратят ли пользователи с подпиской больше времени на поездки?\n",
    "    - Среднее расстояние, которое проезжают пользователи с подпиской за одну поездку, не превышает 3130 метров?\n",
    "    - Будет ли помесячная выручка от пользователей с подпиской по месяцам выше, чем выручка от пользователей без подписки?\n",
    "7. Ответы на вопросы: \n",
    "    - Нужно провести акцию с раздачей промокодов на один бесплатный месяц подписки, в рамках которой как минимум 100 существующих клиентов должны продлить эту подписку. Какое минимальное количество промокодов нужно разослать, чтобы вероятность не выполнить план была примерно 5%. Подобрать параметры распределения, описывающего эту ситуацию, построить график распределения.\n",
    "    - Отдел маркетинга рассылает клиентам push-уведомления в мобильном приложении. Клиенты могут открыть его или не открывать. Уведомления открывают около 40 % получивших клиентов. Отдел планирует разослать 11 млн уведомлений. С помощью аппроксимации построить примерный график распределения и оценить вероятность того, что уведомление откроют не более 399,5 тыс. пользователей.\n",
    "\n",
    "#### Данные для исследования:\n",
    "\n",
    "1. Пользователи - users_go.csv\n",
    "    - user_id: уникальный идентификатор пользователя\n",
    "    - name: имя пользователя\n",
    "    - age: возраст\n",
    "    - city: город\n",
    "    - subscription_type: тип подписки (free, ultra)\n",
    "2. Поездки - rides_go.csv\n",
    "    - user_id: уникальный идентификатор пользователя\n",
    "    - distance: расстояние, которое пользователь проехал в текущей сессии (в метрах)\n",
    "    - duration: продолжительность сессии (в минутах) - время с того момента, как пользователь нажал кнопку «Начать поездку» до момента, как он нажал кнопку «Завершить поездку»\n",
    "    - date: дата совершения поездки\n",
    "3. Подписки - subscriptions_go.csv\t\n",
    "    - subscription_type: тип подписки\n",
    "    - minute_price: стоимость одной минуты поездки по данной подписке\n",
    "    - start_ride_price: стоимость начала поездки\n",
    "    - subscription_fee: стоимость ежемесячного платежа"
   ]
  },
  {
   "cell_type": "markdown",
   "id": "c42cbe00",
   "metadata": {
    "tags": []
   },
   "source": [
    "### Загрузка данных и изучение общей информации"
   ]
  },
  {
   "cell_type": "markdown",
   "id": "0df3676a",
   "metadata": {},
   "source": [
    "#### Загрузка библиотек и файлов, установка базовых настроек"
   ]
  },
  {
   "cell_type": "code",
   "execution_count": 1,
   "id": "72576667",
   "metadata": {},
   "outputs": [],
   "source": [
    "# Загружаем все необходимые библиотеки\n",
    "import pandas as pd\n",
    "import numpy as np\n",
    "from matplotlib import pyplot as plt\n",
    "from scipy import stats as st\n",
    "\n",
    "# Убираем необязательные предупреждения\n",
    "import warnings\n",
    "warnings.filterwarnings('ignore')\n",
    "\n",
    "# Настраиваем полное отображение всех строк таблицы\n",
    "pd.set_option('display.max_rows', None)\n",
    "pd.set_option('display.max_columns', None)"
   ]
  },
  {
   "cell_type": "code",
   "execution_count": 2,
   "id": "3e42792e",
   "metadata": {},
   "outputs": [],
   "source": [
    "# Задаём стандартне параметры для графиков\n",
    "plt.rcParams['figure.figsize'] = 9,3\n",
    "plt.rcParams.update({'font.size':'12'})"
   ]
  },
  {
   "cell_type": "code",
   "execution_count": 3,
   "id": "eff9f206",
   "metadata": {},
   "outputs": [],
   "source": [
    "# Создаём датафреймы из файлов\n",
    "users = pd.read_csv('/datasets/users_go.csv')\n",
    "rides = pd.read_csv('/datasets/rides_go.csv')\n",
    "subs = pd.read_csv('/datasets/subscriptions_go.csv')"
   ]
  },
  {
   "cell_type": "markdown",
   "id": "ed877e17",
   "metadata": {},
   "source": [
    "#### Датафрейм users"
   ]
  },
  {
   "cell_type": "code",
   "execution_count": 4,
   "id": "15cfbab8",
   "metadata": {},
   "outputs": [
    {
     "data": {
      "text/html": [
       "<div>\n",
       "<style scoped>\n",
       "    .dataframe tbody tr th:only-of-type {\n",
       "        vertical-align: middle;\n",
       "    }\n",
       "\n",
       "    .dataframe tbody tr th {\n",
       "        vertical-align: top;\n",
       "    }\n",
       "\n",
       "    .dataframe thead th {\n",
       "        text-align: right;\n",
       "    }\n",
       "</style>\n",
       "<table border=\"1\" class=\"dataframe\">\n",
       "  <thead>\n",
       "    <tr style=\"text-align: right;\">\n",
       "      <th></th>\n",
       "      <th>user_id</th>\n",
       "      <th>name</th>\n",
       "      <th>age</th>\n",
       "      <th>city</th>\n",
       "      <th>subscription_type</th>\n",
       "    </tr>\n",
       "  </thead>\n",
       "  <tbody>\n",
       "    <tr>\n",
       "      <th>0</th>\n",
       "      <td>1</td>\n",
       "      <td>Кира</td>\n",
       "      <td>22</td>\n",
       "      <td>Тюмень</td>\n",
       "      <td>ultra</td>\n",
       "    </tr>\n",
       "    <tr>\n",
       "      <th>1</th>\n",
       "      <td>2</td>\n",
       "      <td>Станислав</td>\n",
       "      <td>31</td>\n",
       "      <td>Омск</td>\n",
       "      <td>ultra</td>\n",
       "    </tr>\n",
       "    <tr>\n",
       "      <th>2</th>\n",
       "      <td>3</td>\n",
       "      <td>Алексей</td>\n",
       "      <td>20</td>\n",
       "      <td>Москва</td>\n",
       "      <td>ultra</td>\n",
       "    </tr>\n",
       "  </tbody>\n",
       "</table>\n",
       "</div>"
      ],
      "text/plain": [
       "   user_id       name  age    city subscription_type\n",
       "0        1       Кира   22  Тюмень             ultra\n",
       "1        2  Станислав   31    Омск             ultra\n",
       "2        3    Алексей   20  Москва             ultra"
      ]
     },
     "execution_count": 4,
     "metadata": {},
     "output_type": "execute_result"
    }
   ],
   "source": [
    "users.head(3)"
   ]
  },
  {
   "cell_type": "code",
   "execution_count": 5,
   "id": "87dd92f6",
   "metadata": {},
   "outputs": [
    {
     "name": "stdout",
     "output_type": "stream",
     "text": [
      "<class 'pandas.core.frame.DataFrame'>\n",
      "RangeIndex: 1565 entries, 0 to 1564\n",
      "Data columns (total 5 columns):\n",
      " #   Column             Non-Null Count  Dtype \n",
      "---  ------             --------------  ----- \n",
      " 0   user_id            1565 non-null   int64 \n",
      " 1   name               1565 non-null   object\n",
      " 2   age                1565 non-null   int64 \n",
      " 3   city               1565 non-null   object\n",
      " 4   subscription_type  1565 non-null   object\n",
      "dtypes: int64(2), object(3)\n",
      "memory usage: 61.3+ KB\n"
     ]
    }
   ],
   "source": [
    "users.info()"
   ]
  },
  {
   "cell_type": "code",
   "execution_count": 6,
   "id": "0f9e7509",
   "metadata": {},
   "outputs": [
    {
     "data": {
      "text/plain": [
       "array(['ultra', 'free'], dtype=object)"
      ]
     },
     "execution_count": 6,
     "metadata": {},
     "output_type": "execute_result"
    }
   ],
   "source": [
    "# Посмотрим все уникальные значения типа подписки\n",
    "users['subscription_type'].unique()"
   ]
  },
  {
   "cell_type": "markdown",
   "id": "8513f9f3",
   "metadata": {},
   "source": [
    "В датафрейме 5 колонок и 1565 строк, пропусков нет. Тип подписки представлен в строковом виде? хотя имеет всего два уникальных значения (есть платная подписка / нет платной подписки)."
   ]
  },
  {
   "cell_type": "markdown",
   "id": "e0b70931",
   "metadata": {},
   "source": [
    "#### Датафрейм rides"
   ]
  },
  {
   "cell_type": "code",
   "execution_count": 7,
   "id": "ac8b551b",
   "metadata": {},
   "outputs": [
    {
     "data": {
      "text/html": [
       "<div>\n",
       "<style scoped>\n",
       "    .dataframe tbody tr th:only-of-type {\n",
       "        vertical-align: middle;\n",
       "    }\n",
       "\n",
       "    .dataframe tbody tr th {\n",
       "        vertical-align: top;\n",
       "    }\n",
       "\n",
       "    .dataframe thead th {\n",
       "        text-align: right;\n",
       "    }\n",
       "</style>\n",
       "<table border=\"1\" class=\"dataframe\">\n",
       "  <thead>\n",
       "    <tr style=\"text-align: right;\">\n",
       "      <th></th>\n",
       "      <th>user_id</th>\n",
       "      <th>distance</th>\n",
       "      <th>duration</th>\n",
       "      <th>date</th>\n",
       "    </tr>\n",
       "  </thead>\n",
       "  <tbody>\n",
       "    <tr>\n",
       "      <th>0</th>\n",
       "      <td>1</td>\n",
       "      <td>4409.919140</td>\n",
       "      <td>25.599769</td>\n",
       "      <td>2021-01-01</td>\n",
       "    </tr>\n",
       "    <tr>\n",
       "      <th>1</th>\n",
       "      <td>1</td>\n",
       "      <td>2617.592153</td>\n",
       "      <td>15.816871</td>\n",
       "      <td>2021-01-18</td>\n",
       "    </tr>\n",
       "    <tr>\n",
       "      <th>2</th>\n",
       "      <td>1</td>\n",
       "      <td>754.159807</td>\n",
       "      <td>6.232113</td>\n",
       "      <td>2021-04-20</td>\n",
       "    </tr>\n",
       "  </tbody>\n",
       "</table>\n",
       "</div>"
      ],
      "text/plain": [
       "   user_id     distance   duration        date\n",
       "0        1  4409.919140  25.599769  2021-01-01\n",
       "1        1  2617.592153  15.816871  2021-01-18\n",
       "2        1   754.159807   6.232113  2021-04-20"
      ]
     },
     "execution_count": 7,
     "metadata": {},
     "output_type": "execute_result"
    }
   ],
   "source": [
    "rides.head(3)"
   ]
  },
  {
   "cell_type": "code",
   "execution_count": 8,
   "id": "3e26313c",
   "metadata": {},
   "outputs": [
    {
     "name": "stdout",
     "output_type": "stream",
     "text": [
      "<class 'pandas.core.frame.DataFrame'>\n",
      "RangeIndex: 18068 entries, 0 to 18067\n",
      "Data columns (total 4 columns):\n",
      " #   Column    Non-Null Count  Dtype  \n",
      "---  ------    --------------  -----  \n",
      " 0   user_id   18068 non-null  int64  \n",
      " 1   distance  18068 non-null  float64\n",
      " 2   duration  18068 non-null  float64\n",
      " 3   date      18068 non-null  object \n",
      "dtypes: float64(2), int64(1), object(1)\n",
      "memory usage: 564.8+ KB\n"
     ]
    }
   ],
   "source": [
    "rides.info()"
   ]
  },
  {
   "cell_type": "markdown",
   "id": "601f5489",
   "metadata": {},
   "source": [
    "В датафрейме 4 колоноки и 18068 строк, пропусков нет. Колонка с датой имеет строковый тип данных. Значения в столбцах с расстоянием и временем поездки не округлённые."
   ]
  },
  {
   "cell_type": "markdown",
   "id": "25d77b77",
   "metadata": {},
   "source": [
    "#### Датафрейм subs (subscriptions)"
   ]
  },
  {
   "cell_type": "code",
   "execution_count": 9,
   "id": "f535f4cd",
   "metadata": {},
   "outputs": [
    {
     "data": {
      "text/html": [
       "<div>\n",
       "<style scoped>\n",
       "    .dataframe tbody tr th:only-of-type {\n",
       "        vertical-align: middle;\n",
       "    }\n",
       "\n",
       "    .dataframe tbody tr th {\n",
       "        vertical-align: top;\n",
       "    }\n",
       "\n",
       "    .dataframe thead th {\n",
       "        text-align: right;\n",
       "    }\n",
       "</style>\n",
       "<table border=\"1\" class=\"dataframe\">\n",
       "  <thead>\n",
       "    <tr style=\"text-align: right;\">\n",
       "      <th></th>\n",
       "      <th>subscription_type</th>\n",
       "      <th>minute_price</th>\n",
       "      <th>start_ride_price</th>\n",
       "      <th>subscription_fee</th>\n",
       "    </tr>\n",
       "  </thead>\n",
       "  <tbody>\n",
       "    <tr>\n",
       "      <th>0</th>\n",
       "      <td>free</td>\n",
       "      <td>8</td>\n",
       "      <td>50</td>\n",
       "      <td>0</td>\n",
       "    </tr>\n",
       "    <tr>\n",
       "      <th>1</th>\n",
       "      <td>ultra</td>\n",
       "      <td>6</td>\n",
       "      <td>0</td>\n",
       "      <td>199</td>\n",
       "    </tr>\n",
       "  </tbody>\n",
       "</table>\n",
       "</div>"
      ],
      "text/plain": [
       "  subscription_type  minute_price  start_ride_price  subscription_fee\n",
       "0              free             8                50                 0\n",
       "1             ultra             6                 0               199"
      ]
     },
     "execution_count": 9,
     "metadata": {},
     "output_type": "execute_result"
    }
   ],
   "source": [
    "subs"
   ]
  },
  {
   "cell_type": "code",
   "execution_count": 10,
   "id": "ddab5a4f",
   "metadata": {
    "scrolled": true
   },
   "outputs": [
    {
     "name": "stdout",
     "output_type": "stream",
     "text": [
      "<class 'pandas.core.frame.DataFrame'>\n",
      "RangeIndex: 2 entries, 0 to 1\n",
      "Data columns (total 4 columns):\n",
      " #   Column             Non-Null Count  Dtype \n",
      "---  ------             --------------  ----- \n",
      " 0   subscription_type  2 non-null      object\n",
      " 1   minute_price       2 non-null      int64 \n",
      " 2   start_ride_price   2 non-null      int64 \n",
      " 3   subscription_fee   2 non-null      int64 \n",
      "dtypes: int64(3), object(1)\n",
      "memory usage: 192.0+ bytes\n"
     ]
    }
   ],
   "source": [
    "subs.info()"
   ]
  },
  {
   "cell_type": "markdown",
   "id": "ae3b5164",
   "metadata": {},
   "source": [
    "В датафрейме 5 колонок и всего 2 строки, пропусков нет. Здесь представлена информация о тарифах сервиса (первая строка - цены без подписки, вторая строка - цены с подпиской)."
   ]
  },
  {
   "cell_type": "markdown",
   "id": "e95ebca7",
   "metadata": {},
   "source": [
    "### Предобработка данных"
   ]
  },
  {
   "cell_type": "markdown",
   "id": "1cbf0208",
   "metadata": {},
   "source": [
    "#### Обработка дубликатов"
   ]
  },
  {
   "cell_type": "markdown",
   "id": "c2170127",
   "metadata": {},
   "source": [
    "##### Поиск явных дубликатов в датафрейме users"
   ]
  },
  {
   "cell_type": "code",
   "execution_count": 11,
   "id": "fbc6e323",
   "metadata": {},
   "outputs": [
    {
     "data": {
      "text/plain": [
       "31"
      ]
     },
     "execution_count": 11,
     "metadata": {},
     "output_type": "execute_result"
    }
   ],
   "source": [
    "# Смотрим количество явных дубликатов\n",
    "users.duplicated().sum()"
   ]
  },
  {
   "cell_type": "markdown",
   "id": "be92253b",
   "metadata": {},
   "source": [
    "Посмотрим примеры дубликатов:"
   ]
  },
  {
   "cell_type": "code",
   "execution_count": 12,
   "id": "17ceb53e",
   "metadata": {},
   "outputs": [
    {
     "data": {
      "text/html": [
       "<div>\n",
       "<style scoped>\n",
       "    .dataframe tbody tr th:only-of-type {\n",
       "        vertical-align: middle;\n",
       "    }\n",
       "\n",
       "    .dataframe tbody tr th {\n",
       "        vertical-align: top;\n",
       "    }\n",
       "\n",
       "    .dataframe thead th {\n",
       "        text-align: right;\n",
       "    }\n",
       "</style>\n",
       "<table border=\"1\" class=\"dataframe\">\n",
       "  <thead>\n",
       "    <tr style=\"text-align: right;\">\n",
       "      <th></th>\n",
       "      <th>user_id</th>\n",
       "      <th>name</th>\n",
       "      <th>age</th>\n",
       "      <th>city</th>\n",
       "      <th>subscription_type</th>\n",
       "    </tr>\n",
       "  </thead>\n",
       "  <tbody>\n",
       "    <tr>\n",
       "      <th>1564</th>\n",
       "      <td>1045</td>\n",
       "      <td>Артемий</td>\n",
       "      <td>28</td>\n",
       "      <td>Ростов-на-Дону</td>\n",
       "      <td>free</td>\n",
       "    </tr>\n",
       "    <tr>\n",
       "      <th>1554</th>\n",
       "      <td>1198</td>\n",
       "      <td>Демид</td>\n",
       "      <td>29</td>\n",
       "      <td>Ростов-на-Дону</td>\n",
       "      <td>free</td>\n",
       "    </tr>\n",
       "    <tr>\n",
       "      <th>1537</th>\n",
       "      <td>403</td>\n",
       "      <td>Полина</td>\n",
       "      <td>19</td>\n",
       "      <td>Сочи</td>\n",
       "      <td>ultra</td>\n",
       "    </tr>\n",
       "  </tbody>\n",
       "</table>\n",
       "</div>"
      ],
      "text/plain": [
       "      user_id     name  age            city subscription_type\n",
       "1564     1045  Артемий   28  Ростов-на-Дону              free\n",
       "1554     1198    Демид   29  Ростов-на-Дону              free\n",
       "1537      403   Полина   19            Сочи             ultra"
      ]
     },
     "execution_count": 12,
     "metadata": {},
     "output_type": "execute_result"
    }
   ],
   "source": [
    "# Выводим несколько дубликатов на экран\n",
    "users[users.duplicated()].sample(3)"
   ]
  },
  {
   "cell_type": "code",
   "execution_count": 13,
   "id": "e32ebd7e",
   "metadata": {
    "scrolled": true
   },
   "outputs": [
    {
     "data": {
      "text/plain": [
       "0"
      ]
     },
     "execution_count": 13,
     "metadata": {},
     "output_type": "execute_result"
    }
   ],
   "source": [
    "# Удаляем явные дубликаты\n",
    "users = users.drop_duplicates()\n",
    "# Смотрим количество явных дубликатов\n",
    "users.duplicated().sum()"
   ]
  },
  {
   "cell_type": "markdown",
   "id": "cee0d140",
   "metadata": {},
   "source": [
    "Была удалена 31 строка с дубликатами. Теперь проверим дубликаты отдельно по столбцу user_id"
   ]
  },
  {
   "cell_type": "code",
   "execution_count": 14,
   "id": "de741eb7",
   "metadata": {},
   "outputs": [
    {
     "data": {
      "text/plain": [
       "0"
      ]
     },
     "execution_count": 14,
     "metadata": {},
     "output_type": "execute_result"
    }
   ],
   "source": [
    "# Смотрим количество явных дубликатов отдельно в столбце user_id\n",
    "users['user_id'].duplicated().sum()"
   ]
  },
  {
   "cell_type": "markdown",
   "id": "b9593710",
   "metadata": {},
   "source": [
    "##### Поиск неявных дубликатов в столбце city"
   ]
  },
  {
   "cell_type": "code",
   "execution_count": 15,
   "id": "ccaef538",
   "metadata": {
    "scrolled": true
   },
   "outputs": [
    {
     "data": {
      "text/plain": [
       "array(['Тюмень', 'Омск', 'Москва', 'Ростов-на-Дону', 'Краснодар',\n",
       "       'Пятигорск', 'Екатеринбург', 'Сочи'], dtype=object)"
      ]
     },
     "execution_count": 15,
     "metadata": {},
     "output_type": "execute_result"
    }
   ],
   "source": [
    "# Смотрим полный список городов, представленных в датафрейме\n",
    "users['city'].unique()"
   ]
  },
  {
   "cell_type": "markdown",
   "id": "f873c7f5",
   "metadata": {},
   "source": [
    "В датафрейме представлено всего 8 городов, дубликатов нет."
   ]
  },
  {
   "cell_type": "markdown",
   "id": "124d4090",
   "metadata": {},
   "source": [
    "##### Поиск явных дубликатов в датафрейме rides"
   ]
  },
  {
   "cell_type": "code",
   "execution_count": 16,
   "id": "0ed6b883",
   "metadata": {},
   "outputs": [
    {
     "data": {
      "text/plain": [
       "0"
      ]
     },
     "execution_count": 16,
     "metadata": {},
     "output_type": "execute_result"
    }
   ],
   "source": [
    "# Смотрим количество явных дубликатов\n",
    "rides.duplicated().sum()"
   ]
  },
  {
   "cell_type": "markdown",
   "id": "4ac616bf",
   "metadata": {},
   "source": [
    "Дубликатов не выявлено."
   ]
  },
  {
   "cell_type": "markdown",
   "id": "540acdd0",
   "metadata": {},
   "source": [
    "##### Итоги обработки дубликатов"
   ]
  },
  {
   "cell_type": "markdown",
   "id": "cab0a8eb",
   "metadata": {},
   "source": [
    "Из датафрейма users был удалён 31 явный дубликат. Других дубликатов выявлено не было."
   ]
  },
  {
   "cell_type": "markdown",
   "id": "0a28e22b",
   "metadata": {},
   "source": [
    "#### Обработка аномалий"
   ]
  },
  {
   "cell_type": "markdown",
   "id": "810c104b",
   "metadata": {},
   "source": [
    "##### Проверка что столбец user_id в датафреймах users и rides имеет одинаковые значения"
   ]
  },
  {
   "cell_type": "code",
   "execution_count": 17,
   "id": "6e6dece6",
   "metadata": {},
   "outputs": [
    {
     "name": "stdout",
     "output_type": "stream",
     "text": [
      "True\n",
      "True\n"
     ]
    }
   ],
   "source": [
    "# Проверяем, что все значения столбца user_id из таблицы users\n",
    "# есть в столбце user_id из таблицы rides и наоборот\n",
    "print(users['user_id'].isin(rides['user_id']).all())\n",
    "print(rides['user_id'].isin(users['user_id']).all())"
   ]
  },
  {
   "cell_type": "markdown",
   "id": "1b44e6a1",
   "metadata": {},
   "source": [
    "В датафреймах нет пользователей, у которых нет поездок, и нет поездок, для которых не определены пользователи."
   ]
  },
  {
   "cell_type": "markdown",
   "id": "8aa2eacd",
   "metadata": {},
   "source": [
    "##### Датафрейм users, столбец users_age"
   ]
  },
  {
   "cell_type": "code",
   "execution_count": 18,
   "id": "6f538e5c",
   "metadata": {},
   "outputs": [
    {
     "data": {
      "image/png": "[encoded data removed]",
      "text/plain": [
       "<Figure size 648x216 with 1 Axes>"
      ]
     },
     "metadata": {
      "needs_background": "light"
     },
     "output_type": "display_data"
    }
   ],
   "source": [
    "# Посчитаем возрастной диапазон пользователей\n",
    "age_range = users['age'].max() - users['age'].min()\n",
    "# Строим гистограмму\n",
    "users['age'].hist(bins=age_range, linewidth=1.0, edgecolor='k')\n",
    "plt.title('Гистограмма распределения возраста пользователей')\n",
    "plt.xlabel('Возраст пользователей')\n",
    "plt.show()"
   ]
  },
  {
   "cell_type": "markdown",
   "id": "e645ac7a",
   "metadata": {},
   "source": [
    "Возраст пользователей от 12 до 43 лет, аномальных значений в данном столбце нет."
   ]
  },
  {
   "cell_type": "markdown",
   "id": "4e4e747f",
   "metadata": {},
   "source": [
    "##### Датафрейм rides, столбец distance"
   ]
  },
  {
   "cell_type": "code",
   "execution_count": 19,
   "id": "c01852d3",
   "metadata": {},
   "outputs": [
    {
     "data": {
      "image/png": "[encoded data removed]",
      "text/plain": [
       "<Figure size 648x216 with 1 Axes>"
      ]
     },
     "metadata": {
      "needs_background": "light"
     },
     "output_type": "display_data"
    }
   ],
   "source": [
    "# Строим гистограмму\n",
    "rides['distance'].hist(bins=100, linewidth=1.0, edgecolor='k')\n",
    "plt.title('Гистограмма распределения расстояния поездки')\n",
    "plt.xlabel('Расстояние поездки')\n",
    "plt.show()"
   ]
  },
  {
   "cell_type": "markdown",
   "id": "ef8651a5",
   "metadata": {},
   "source": [
    "Аномальных значений нет."
   ]
  },
  {
   "cell_type": "markdown",
   "id": "002ade2d",
   "metadata": {},
   "source": [
    "##### Датафрейм rides, столбец duration"
   ]
  },
  {
   "cell_type": "code",
   "execution_count": 20,
   "id": "33135c27",
   "metadata": {
    "scrolled": true
   },
   "outputs": [
    {
     "data": {
      "image/png": "[encoded data removed]",
      "text/plain": [
       "<Figure size 648x216 with 1 Axes>"
      ]
     },
     "metadata": {
      "needs_background": "light"
     },
     "output_type": "display_data"
    }
   ],
   "source": [
    "# Строим гистограмму\n",
    "rides['duration'].hist(bins=100, linewidth=1.0, edgecolor='k')\n",
    "plt.title('Гистограмма распределения времени поездки')\n",
    "plt.xlabel('Время поездки')\n",
    "plt.show()"
   ]
  },
  {
   "cell_type": "markdown",
   "id": "5ddec8f2",
   "metadata": {},
   "source": [
    "На гистограмма показано нормальное распределение. Максимальные и минимальные значения не выходят за пределы допустимых, но на 30 секундах есть странный пик. Рассмотрим эти строки более детально."
   ]
  },
  {
   "cell_type": "code",
   "execution_count": 21,
   "id": "f269d630",
   "metadata": {
    "scrolled": true
   },
   "outputs": [
    {
     "name": "stdout",
     "output_type": "stream",
     "text": [
      "Всего тридцатисекундных поездок:  95\n",
      "Среднее расстояние: 5113 км\n"
     ]
    }
   ],
   "source": [
    "# Считаем кол-во поездок, которые длились ровно 30 секунд\n",
    "print('Всего тридцатисекундных поездок: ', len(rides[rides['duration'] == 0.5]))\n",
    "print('Среднее расстояние:', round(rides['distance'][rides['duration'] == 0.5].mean()), 'км')"
   ]
  },
  {
   "cell_type": "code",
   "execution_count": 22,
   "id": "6b127ce3",
   "metadata": {},
   "outputs": [
    {
     "data": {
      "text/html": [
       "<div>\n",
       "<style scoped>\n",
       "    .dataframe tbody tr th:only-of-type {\n",
       "        vertical-align: middle;\n",
       "    }\n",
       "\n",
       "    .dataframe tbody tr th {\n",
       "        vertical-align: top;\n",
       "    }\n",
       "\n",
       "    .dataframe thead th {\n",
       "        text-align: right;\n",
       "    }\n",
       "</style>\n",
       "<table border=\"1\" class=\"dataframe\">\n",
       "  <thead>\n",
       "    <tr style=\"text-align: right;\">\n",
       "      <th></th>\n",
       "      <th>user_id</th>\n",
       "      <th>distance</th>\n",
       "      <th>duration</th>\n",
       "      <th>date</th>\n",
       "    </tr>\n",
       "  </thead>\n",
       "  <tbody>\n",
       "    <tr>\n",
       "      <th>14342</th>\n",
       "      <td>1268</td>\n",
       "      <td>4177.139336</td>\n",
       "      <td>0.5</td>\n",
       "      <td>2021-06-09</td>\n",
       "    </tr>\n",
       "    <tr>\n",
       "      <th>15492</th>\n",
       "      <td>1355</td>\n",
       "      <td>5913.033578</td>\n",
       "      <td>0.5</td>\n",
       "      <td>2021-01-16</td>\n",
       "    </tr>\n",
       "    <tr>\n",
       "      <th>7791</th>\n",
       "      <td>792</td>\n",
       "      <td>5353.189287</td>\n",
       "      <td>0.5</td>\n",
       "      <td>2021-11-06</td>\n",
       "    </tr>\n",
       "  </tbody>\n",
       "</table>\n",
       "</div>"
      ],
      "text/plain": [
       "       user_id     distance  duration        date\n",
       "14342     1268  4177.139336       0.5  2021-06-09\n",
       "15492     1355  5913.033578       0.5  2021-01-16\n",
       "7791       792  5353.189287       0.5  2021-11-06"
      ]
     },
     "execution_count": 22,
     "metadata": {},
     "output_type": "execute_result"
    }
   ],
   "source": [
    "# Посмотрим все поездки, которые длились ровно 30 секунд\n",
    "rides[rides['duration'] == 0.5].sample(3)"
   ]
  },
  {
   "cell_type": "markdown",
   "id": "f077c0da",
   "metadata": {},
   "source": [
    "Средняя скорость таких поездок больше 600 км/час! Скорее всего произошла техническая ошибка. Поскольку таких строк мало, а возможности восстановить реальное время поездки у нас нет, удалим их из датафрейма."
   ]
  },
  {
   "cell_type": "code",
   "execution_count": 23,
   "id": "63369ec3",
   "metadata": {},
   "outputs": [
    {
     "data": {
      "text/plain": [
       "0"
      ]
     },
     "execution_count": 23,
     "metadata": {},
     "output_type": "execute_result"
    }
   ],
   "source": [
    "# Создаём массив с индексами строк, которые нужно удалить\n",
    "index_del_arr = rides[rides['duration'] == 0.5].index.tolist()\n",
    "# Удаляем строки\n",
    "rides = rides.drop(index_del_arr)\n",
    "# Проверяем, что строк больше нет\n",
    "len(rides[rides['duration'] == 0.5])"
   ]
  },
  {
   "cell_type": "markdown",
   "id": "80d0581a",
   "metadata": {},
   "source": [
    "Проверим, что мы не удалили все поездки у какого-либо пользователя (т.е. в датафрейме users не появилось пользователей, у которых нет ни одной поездки в датафрейме rides)."
   ]
  },
  {
   "cell_type": "code",
   "execution_count": 24,
   "id": "c32891b5",
   "metadata": {},
   "outputs": [
    {
     "data": {
      "text/plain": [
       "True"
      ]
     },
     "execution_count": 24,
     "metadata": {},
     "output_type": "execute_result"
    }
   ],
   "source": [
    "# Проверяем, что у каждого пользователя из датафрейма users есть поездки\n",
    "# есть поездки в датафрейме rides\n",
    "users['user_id'].isin(rides['user_id']).all()"
   ]
  },
  {
   "cell_type": "markdown",
   "id": "d1633323",
   "metadata": {},
   "source": [
    "##### Поиск аномальных поездок по скорости"
   ]
  },
  {
   "cell_type": "markdown",
   "id": "4661c84e",
   "metadata": {},
   "source": [
    "Возможно есть и другие поездки, скорость которых слишком высока. Создадим дополнительный столбец speed со скоростью поездок, в километрах в час."
   ]
  },
  {
   "cell_type": "code",
   "execution_count": 25,
   "id": "bd93abcc",
   "metadata": {
    "scrolled": true
   },
   "outputs": [
    {
     "data": {
      "text/html": [
       "<div>\n",
       "<style scoped>\n",
       "    .dataframe tbody tr th:only-of-type {\n",
       "        vertical-align: middle;\n",
       "    }\n",
       "\n",
       "    .dataframe tbody tr th {\n",
       "        vertical-align: top;\n",
       "    }\n",
       "\n",
       "    .dataframe thead th {\n",
       "        text-align: right;\n",
       "    }\n",
       "</style>\n",
       "<table border=\"1\" class=\"dataframe\">\n",
       "  <thead>\n",
       "    <tr style=\"text-align: right;\">\n",
       "      <th></th>\n",
       "      <th>user_id</th>\n",
       "      <th>distance</th>\n",
       "      <th>duration</th>\n",
       "      <th>date</th>\n",
       "      <th>speed</th>\n",
       "    </tr>\n",
       "  </thead>\n",
       "  <tbody>\n",
       "    <tr>\n",
       "      <th>7941</th>\n",
       "      <td>805</td>\n",
       "      <td>4320.713788</td>\n",
       "      <td>23.970878</td>\n",
       "      <td>2021-04-10</td>\n",
       "      <td>10.81</td>\n",
       "    </tr>\n",
       "  </tbody>\n",
       "</table>\n",
       "</div>"
      ],
      "text/plain": [
       "      user_id     distance   duration        date  speed\n",
       "7941      805  4320.713788  23.970878  2021-04-10  10.81"
      ]
     },
     "execution_count": 25,
     "metadata": {},
     "output_type": "execute_result"
    }
   ],
   "source": [
    "rides['speed'] = round(rides['distance'] / rides['duration'] * (60 / 1000), 2)\n",
    "rides.sample(1)"
   ]
  },
  {
   "cell_type": "markdown",
   "id": "1e18f99b",
   "metadata": {},
   "source": [
    "Построим гистограмму:"
   ]
  },
  {
   "cell_type": "code",
   "execution_count": 26,
   "id": "89edf828",
   "metadata": {
    "scrolled": true
   },
   "outputs": [
    {
     "data": {
      "image/png": "[encoded data removed]",
      "text/plain": [
       "<Figure size 648x216 with 1 Axes>"
      ]
     },
     "metadata": {
      "needs_background": "light"
     },
     "output_type": "display_data"
    }
   ],
   "source": [
    "# Строим гистограмму\n",
    "rides['speed'].hist(bins=100, linewidth=1.0, edgecolor='k')\n",
    "plt.title('Гистограмма распределения скорости')\n",
    "plt.xlabel('Скорость, км/ч')\n",
    "plt.ylabel('Количество поездок')\n",
    "plt.show()"
   ]
  },
  {
   "cell_type": "markdown",
   "id": "c9ca0d2a",
   "metadata": {},
   "source": [
    "Аномалий нет. \n",
    "\n",
    "Оставим столбец с рассчитанной скоростью, возможно он ещё пригодится."
   ]
  },
  {
   "cell_type": "markdown",
   "id": "dbd6f8a5",
   "metadata": {},
   "source": [
    "##### Итоги обработки аномалий"
   ]
  },
  {
   "cell_type": "markdown",
   "id": "3cb3e722",
   "metadata": {},
   "source": [
    "В датафрейме rides было вывлено 95 аномальных знячений (время поездок ровно 30 секунд, при расстоянии несколько километров). Данные строки были удалены из датафрейма. Других аномальных значений выявлено не было."
   ]
  },
  {
   "cell_type": "markdown",
   "id": "9d07e46b",
   "metadata": {},
   "source": [
    "#### Округление данных"
   ]
  },
  {
   "cell_type": "markdown",
   "id": "05285da4",
   "metadata": {},
   "source": [
    "Для данного исследования, излишняя точность ни к чему, но работать с данными будет удобнее, если их округлить. Округлм метры до целых значений. Минуты переведём в секунды и также округлим до целых."
   ]
  },
  {
   "cell_type": "code",
   "execution_count": 27,
   "id": "f087646d",
   "metadata": {},
   "outputs": [
    {
     "data": {
      "text/html": [
       "<div>\n",
       "<style scoped>\n",
       "    .dataframe tbody tr th:only-of-type {\n",
       "        vertical-align: middle;\n",
       "    }\n",
       "\n",
       "    .dataframe tbody tr th {\n",
       "        vertical-align: top;\n",
       "    }\n",
       "\n",
       "    .dataframe thead th {\n",
       "        text-align: right;\n",
       "    }\n",
       "</style>\n",
       "<table border=\"1\" class=\"dataframe\">\n",
       "  <thead>\n",
       "    <tr style=\"text-align: right;\">\n",
       "      <th></th>\n",
       "      <th>user_id</th>\n",
       "      <th>distance</th>\n",
       "      <th>duration</th>\n",
       "      <th>date</th>\n",
       "      <th>speed</th>\n",
       "    </tr>\n",
       "  </thead>\n",
       "  <tbody>\n",
       "    <tr>\n",
       "      <th>17364</th>\n",
       "      <td>1486</td>\n",
       "      <td>4028.0</td>\n",
       "      <td>13.0</td>\n",
       "      <td>2021-06-29</td>\n",
       "      <td>19.66</td>\n",
       "    </tr>\n",
       "    <tr>\n",
       "      <th>7756</th>\n",
       "      <td>790</td>\n",
       "      <td>3293.0</td>\n",
       "      <td>21.0</td>\n",
       "      <td>2021-03-23</td>\n",
       "      <td>9.68</td>\n",
       "    </tr>\n",
       "    <tr>\n",
       "      <th>9264</th>\n",
       "      <td>905</td>\n",
       "      <td>3667.0</td>\n",
       "      <td>17.0</td>\n",
       "      <td>2021-11-15</td>\n",
       "      <td>13.56</td>\n",
       "    </tr>\n",
       "  </tbody>\n",
       "</table>\n",
       "</div>"
      ],
      "text/plain": [
       "       user_id  distance  duration        date  speed\n",
       "17364     1486    4028.0      13.0  2021-06-29  19.66\n",
       "7756       790    3293.0      21.0  2021-03-23   9.68\n",
       "9264       905    3667.0      17.0  2021-11-15  13.56"
      ]
     },
     "execution_count": 27,
     "metadata": {},
     "output_type": "execute_result"
    }
   ],
   "source": [
    "# Округляем данные\n",
    "rides['distance'] = round(rides['distance'])\n",
    "rides['duration'] = np.ceil(rides['duration'])\n",
    "rides.sample(3)"
   ]
  },
  {
   "cell_type": "markdown",
   "id": "29157896",
   "metadata": {},
   "source": [
    "#### Преобразование типов данных"
   ]
  },
  {
   "cell_type": "markdown",
   "id": "37014215",
   "metadata": {},
   "source": [
    "##### Меняем название и тип столбецов с информацией о подписке на bool"
   ]
  },
  {
   "cell_type": "markdown",
   "id": "134176a8",
   "metadata": {},
   "source": [
    "В датафрейме users изменим название столбца \"subscription_type\" на \"subscription\", и изменим тип данных на bool: пользователям с платной подпиской присвоим значение True, пользователям без платной подписки False."
   ]
  },
  {
   "cell_type": "code",
   "execution_count": 28,
   "id": "cbd92d12",
   "metadata": {},
   "outputs": [
    {
     "data": {
      "text/html": [
       "<div>\n",
       "<style scoped>\n",
       "    .dataframe tbody tr th:only-of-type {\n",
       "        vertical-align: middle;\n",
       "    }\n",
       "\n",
       "    .dataframe tbody tr th {\n",
       "        vertical-align: top;\n",
       "    }\n",
       "\n",
       "    .dataframe thead th {\n",
       "        text-align: right;\n",
       "    }\n",
       "</style>\n",
       "<table border=\"1\" class=\"dataframe\">\n",
       "  <thead>\n",
       "    <tr style=\"text-align: right;\">\n",
       "      <th></th>\n",
       "      <th>user_id</th>\n",
       "      <th>name</th>\n",
       "      <th>age</th>\n",
       "      <th>city</th>\n",
       "      <th>subscription</th>\n",
       "    </tr>\n",
       "  </thead>\n",
       "  <tbody>\n",
       "    <tr>\n",
       "      <th>690</th>\n",
       "      <td>691</td>\n",
       "      <td>Сергей</td>\n",
       "      <td>30</td>\n",
       "      <td>Сочи</td>\n",
       "      <td>ultra</td>\n",
       "    </tr>\n",
       "  </tbody>\n",
       "</table>\n",
       "</div>"
      ],
      "text/plain": [
       "     user_id    name  age  city subscription\n",
       "690      691  Сергей   30  Сочи        ultra"
      ]
     },
     "execution_count": 28,
     "metadata": {},
     "output_type": "execute_result"
    }
   ],
   "source": [
    "# Меняем название столбца\n",
    "users = users.rename(columns={'subscription_type': 'subscription'})\n",
    "users.sample()"
   ]
  },
  {
   "cell_type": "code",
   "execution_count": 29,
   "id": "eb2b095d",
   "metadata": {},
   "outputs": [
    {
     "data": {
      "text/plain": [
       "dtype('bool')"
      ]
     },
     "execution_count": 29,
     "metadata": {},
     "output_type": "execute_result"
    }
   ],
   "source": [
    "# Меняем значения на True и False\n",
    "users['subscription'][users['subscription'] == 'free'] = False\n",
    "users['subscription'][users['subscription'] == 'ultra'] = True\n",
    "# Меняем тип столбца на bool\n",
    "users['subscription'] = users['subscription'].astype(bool)\n",
    "users.dtypes['subscription']"
   ]
  },
  {
   "cell_type": "markdown",
   "id": "ab1cccd8",
   "metadata": {},
   "source": [
    "То же самое сделаем с датафреймом subs."
   ]
  },
  {
   "cell_type": "code",
   "execution_count": 30,
   "id": "94e4289d",
   "metadata": {
    "scrolled": true
   },
   "outputs": [
    {
     "data": {
      "text/html": [
       "<div>\n",
       "<style scoped>\n",
       "    .dataframe tbody tr th:only-of-type {\n",
       "        vertical-align: middle;\n",
       "    }\n",
       "\n",
       "    .dataframe tbody tr th {\n",
       "        vertical-align: top;\n",
       "    }\n",
       "\n",
       "    .dataframe thead th {\n",
       "        text-align: right;\n",
       "    }\n",
       "</style>\n",
       "<table border=\"1\" class=\"dataframe\">\n",
       "  <thead>\n",
       "    <tr style=\"text-align: right;\">\n",
       "      <th></th>\n",
       "      <th>subscription</th>\n",
       "      <th>minute_price</th>\n",
       "      <th>start_ride_price</th>\n",
       "      <th>subscription_fee</th>\n",
       "    </tr>\n",
       "  </thead>\n",
       "  <tbody>\n",
       "    <tr>\n",
       "      <th>0</th>\n",
       "      <td>free</td>\n",
       "      <td>8</td>\n",
       "      <td>50</td>\n",
       "      <td>0</td>\n",
       "    </tr>\n",
       "    <tr>\n",
       "      <th>1</th>\n",
       "      <td>ultra</td>\n",
       "      <td>6</td>\n",
       "      <td>0</td>\n",
       "      <td>199</td>\n",
       "    </tr>\n",
       "  </tbody>\n",
       "</table>\n",
       "</div>"
      ],
      "text/plain": [
       "  subscription  minute_price  start_ride_price  subscription_fee\n",
       "0         free             8                50                 0\n",
       "1        ultra             6                 0               199"
      ]
     },
     "execution_count": 30,
     "metadata": {},
     "output_type": "execute_result"
    }
   ],
   "source": [
    "subs = subs.rename(columns={'subscription_type': 'subscription'})\n",
    "subs"
   ]
  },
  {
   "cell_type": "code",
   "execution_count": 31,
   "id": "f2471452",
   "metadata": {},
   "outputs": [
    {
     "data": {
      "text/plain": [
       "dtype('bool')"
      ]
     },
     "execution_count": 31,
     "metadata": {},
     "output_type": "execute_result"
    }
   ],
   "source": [
    "# Меняем значения на True и False\n",
    "subs['subscription'][subs['subscription'] == 'free'] = False\n",
    "subs['subscription'][subs['subscription'] == 'ultra'] = True\n",
    "# Меняем тип столбца на bool\n",
    "subs['subscription'] = subs['subscription'].astype(bool)\n",
    "subs.dtypes['subscription']"
   ]
  },
  {
   "cell_type": "markdown",
   "id": "02d83150",
   "metadata": {},
   "source": [
    "##### Меняем тип столбцов с временем и расстоянием на int"
   ]
  },
  {
   "cell_type": "code",
   "execution_count": 32,
   "id": "5aa07508",
   "metadata": {},
   "outputs": [
    {
     "data": {
      "text/plain": [
       "user_id       int64\n",
       "distance      int64\n",
       "duration      int64\n",
       "date         object\n",
       "speed       float64\n",
       "dtype: object"
      ]
     },
     "execution_count": 32,
     "metadata": {},
     "output_type": "execute_result"
    }
   ],
   "source": [
    "# Меняем тип с float на int\n",
    "rides['distance'] = rides['distance'].astype(int)\n",
    "rides['duration'] = rides['duration'].astype(int)\n",
    "rides.dtypes"
   ]
  },
  {
   "cell_type": "markdown",
   "id": "fe976f2b",
   "metadata": {},
   "source": [
    "##### Приведём дату к формату datetime"
   ]
  },
  {
   "cell_type": "code",
   "execution_count": 33,
   "id": "058fd94a",
   "metadata": {},
   "outputs": [
    {
     "data": {
      "text/plain": [
       "8436    2021-09-23\n",
       "Name: date, dtype: object"
      ]
     },
     "execution_count": 33,
     "metadata": {},
     "output_type": "execute_result"
    }
   ],
   "source": [
    "rides['date'].sample()"
   ]
  },
  {
   "cell_type": "code",
   "execution_count": 34,
   "id": "938fc0bd",
   "metadata": {
    "scrolled": true
   },
   "outputs": [
    {
     "data": {
      "text/plain": [
       "813   2021-04-01\n",
       "Name: date, dtype: datetime64[ns]"
      ]
     },
     "execution_count": 34,
     "metadata": {},
     "output_type": "execute_result"
    }
   ],
   "source": [
    "# Меняем формат даты\n",
    "rides['date'] = pd.to_datetime(rides['date'], format='%Y-%m-%dT')\n",
    "# Проверяем что формат даты был изменён корректно\n",
    "rides['date'].sample()"
   ]
  },
  {
   "cell_type": "markdown",
   "id": "75c59be8",
   "metadata": {},
   "source": [
    "#### Создание столбца с номером месяца"
   ]
  },
  {
   "cell_type": "markdown",
   "id": "29b9276c",
   "metadata": {},
   "source": [
    "Проверить за какой период у нас данные (чтобы данные за несколько лет не склеились при агрегации по месяцам)."
   ]
  },
  {
   "cell_type": "code",
   "execution_count": 35,
   "id": "04c549c8",
   "metadata": {
    "scrolled": true
   },
   "outputs": [
    {
     "name": "stdout",
     "output_type": "stream",
     "text": [
      "Минимальная дата:  2021-01-01 00:00:00\n",
      "Максимальная дата:  2021-12-30 00:00:00\n"
     ]
    }
   ],
   "source": [
    "# Посмотрим за какой период наша выборка\n",
    "print('Минимальная дата: ', rides['date'].min())\n",
    "print('Максимальная дата: ', rides['date'].max())"
   ]
  },
  {
   "cell_type": "markdown",
   "id": "7f73a78f",
   "metadata": {},
   "source": [
    "В выборке представлены данные только за 2021 год.\n",
    "\n",
    "Создадим столбец с номером месяца:"
   ]
  },
  {
   "cell_type": "code",
   "execution_count": 36,
   "id": "6c28d130",
   "metadata": {
    "scrolled": true
   },
   "outputs": [
    {
     "data": {
      "text/html": [
       "<div>\n",
       "<style scoped>\n",
       "    .dataframe tbody tr th:only-of-type {\n",
       "        vertical-align: middle;\n",
       "    }\n",
       "\n",
       "    .dataframe tbody tr th {\n",
       "        vertical-align: top;\n",
       "    }\n",
       "\n",
       "    .dataframe thead th {\n",
       "        text-align: right;\n",
       "    }\n",
       "</style>\n",
       "<table border=\"1\" class=\"dataframe\">\n",
       "  <thead>\n",
       "    <tr style=\"text-align: right;\">\n",
       "      <th></th>\n",
       "      <th>user_id</th>\n",
       "      <th>distance</th>\n",
       "      <th>duration</th>\n",
       "      <th>date</th>\n",
       "      <th>speed</th>\n",
       "      <th>month</th>\n",
       "    </tr>\n",
       "  </thead>\n",
       "  <tbody>\n",
       "    <tr>\n",
       "      <th>6660</th>\n",
       "      <td>711</td>\n",
       "      <td>2971</td>\n",
       "      <td>24</td>\n",
       "      <td>2021-01-03</td>\n",
       "      <td>7.62</td>\n",
       "      <td>1</td>\n",
       "    </tr>\n",
       "  </tbody>\n",
       "</table>\n",
       "</div>"
      ],
      "text/plain": [
       "      user_id  distance  duration       date  speed  month\n",
       "6660      711      2971        24 2021-01-03   7.62      1"
      ]
     },
     "execution_count": 36,
     "metadata": {},
     "output_type": "execute_result"
    }
   ],
   "source": [
    "# Добавляем столбец с номером месяца\n",
    "rides['month'] = rides['date'].dt.month\n",
    "rides.sample(1)"
   ]
  },
  {
   "cell_type": "markdown",
   "id": "02cfa140",
   "metadata": {},
   "source": [
    "#### Итоги предобработки данных"
   ]
  },
  {
   "cell_type": "markdown",
   "id": "fe9acc41",
   "metadata": {},
   "source": [
    "Была выполнена полная предобработка данных:\n",
    "- была выполнена проверка на отсутствие пропусков\n",
    "- были удалены дубликаты\n",
    "- были удалены аномальные значения\n",
    "- было выполнено округление для дробных значений\n",
    "- типы данных были преведены к нужному виду\n",
    "- был создан дополнительный столбец с номером месяца\n",
    "\n",
    "Датафреймы готовы к дальнейшей работе с ними."
   ]
  },
  {
   "cell_type": "markdown",
   "id": "212593c7",
   "metadata": {},
   "source": [
    "### Исследовательский анализ данных"
   ]
  },
  {
   "cell_type": "markdown",
   "id": "3a205ba0",
   "metadata": {},
   "source": [
    "#### Частота встречаемости городов"
   ]
  },
  {
   "cell_type": "code",
   "execution_count": 37,
   "id": "35a54280",
   "metadata": {},
   "outputs": [
    {
     "data": {
      "text/html": [
       "<div>\n",
       "<style scoped>\n",
       "    .dataframe tbody tr th:only-of-type {\n",
       "        vertical-align: middle;\n",
       "    }\n",
       "\n",
       "    .dataframe tbody tr th {\n",
       "        vertical-align: top;\n",
       "    }\n",
       "\n",
       "    .dataframe thead th {\n",
       "        text-align: right;\n",
       "    }\n",
       "</style>\n",
       "<table border=\"1\" class=\"dataframe\">\n",
       "  <thead>\n",
       "    <tr style=\"text-align: right;\">\n",
       "      <th></th>\n",
       "      <th>users</th>\n",
       "      <th>proportion</th>\n",
       "    </tr>\n",
       "    <tr>\n",
       "      <th>city</th>\n",
       "      <th></th>\n",
       "      <th></th>\n",
       "    </tr>\n",
       "  </thead>\n",
       "  <tbody>\n",
       "    <tr>\n",
       "      <th>Пятигорск</th>\n",
       "      <td>219</td>\n",
       "      <td>14.28</td>\n",
       "    </tr>\n",
       "    <tr>\n",
       "      <th>Екатеринбург</th>\n",
       "      <td>204</td>\n",
       "      <td>13.30</td>\n",
       "    </tr>\n",
       "    <tr>\n",
       "      <th>Ростов-на-Дону</th>\n",
       "      <td>198</td>\n",
       "      <td>12.91</td>\n",
       "    </tr>\n",
       "    <tr>\n",
       "      <th>Краснодар</th>\n",
       "      <td>193</td>\n",
       "      <td>12.58</td>\n",
       "    </tr>\n",
       "    <tr>\n",
       "      <th>Сочи</th>\n",
       "      <td>189</td>\n",
       "      <td>12.32</td>\n",
       "    </tr>\n",
       "    <tr>\n",
       "      <th>Омск</th>\n",
       "      <td>183</td>\n",
       "      <td>11.93</td>\n",
       "    </tr>\n",
       "    <tr>\n",
       "      <th>Тюмень</th>\n",
       "      <td>180</td>\n",
       "      <td>11.73</td>\n",
       "    </tr>\n",
       "    <tr>\n",
       "      <th>Москва</th>\n",
       "      <td>168</td>\n",
       "      <td>10.95</td>\n",
       "    </tr>\n",
       "  </tbody>\n",
       "</table>\n",
       "</div>"
      ],
      "text/plain": [
       "                users  proportion\n",
       "city                             \n",
       "Пятигорск         219       14.28\n",
       "Екатеринбург      204       13.30\n",
       "Ростов-на-Дону    198       12.91\n",
       "Краснодар         193       12.58\n",
       "Сочи              189       12.32\n",
       "Омск              183       11.93\n",
       "Тюмень            180       11.73\n",
       "Москва            168       10.95"
      ]
     },
     "execution_count": 37,
     "metadata": {},
     "output_type": "execute_result"
    }
   ],
   "source": [
    "# Создаём сводную таблицу по городам\n",
    "citys = users.pivot_table(index='city', values='user_id', aggfunc='count')\n",
    "# Меняем название столбца не более логичное\n",
    "citys = citys.rename(columns={'user_id': 'users'})\n",
    "# Сортируем значения по убыванию\n",
    "citys = citys.sort_values('users', ascending=False)\n",
    "citys['proportion'] = round(citys['users'] / citys['users'].sum() * 100, 2)\n",
    "citys"
   ]
  },
  {
   "cell_type": "code",
   "execution_count": 38,
   "id": "9948b447",
   "metadata": {},
   "outputs": [
    {
     "data": {
      "image/png": "[encoded data removed]",
      "text/plain": [
       "<Figure size 648x360 with 1 Axes>"
      ]
     },
     "metadata": {
      "needs_background": "light"
     },
     "output_type": "display_data"
    }
   ],
   "source": [
    "# Отсортируем значения, для построения диаграммы\n",
    "citys = citys.sort_values(by='users')\n",
    "# Создаём фигуру и оси\n",
    "fig, ax = plt.subplots(figsize=(9,5))\n",
    "# Наносим сетку, подписываем оси\n",
    "\n",
    "ax.grid()\n",
    "ax.set(title='Распределение пользователей по городам', \n",
    "       xlabel='Количество пользователей')\n",
    "# Отрисосываем графики\n",
    "ax.barh(citys.index, citys['users'], linewidth=1.0, edgecolor='k', height=0.7)\n",
    "plt.show()"
   ]
  },
  {
   "cell_type": "markdown",
   "id": "1fd22d93",
   "metadata": {},
   "source": [
    "Частоты встречаемости представленных в выборке городов отличается не очень сильно. В выборке представлено больше всего пользователей из Пятигорска (14.28%), а меньше всего из Москвы (10.95%)."
   ]
  },
  {
   "cell_type": "markdown",
   "id": "3184977d",
   "metadata": {},
   "source": [
    "Теперь посмотрим частоту встречаемости городов у пользователей с подпиской и без неё:"
   ]
  },
  {
   "cell_type": "code",
   "execution_count": 40,
   "id": "a908ec7f",
   "metadata": {},
   "outputs": [
    {
     "data": {
      "text/html": [
       "<div>\n",
       "<style scoped>\n",
       "    .dataframe tbody tr th:only-of-type {\n",
       "        vertical-align: middle;\n",
       "    }\n",
       "\n",
       "    .dataframe tbody tr th {\n",
       "        vertical-align: top;\n",
       "    }\n",
       "\n",
       "    .dataframe thead th {\n",
       "        text-align: right;\n",
       "    }\n",
       "</style>\n",
       "<table border=\"1\" class=\"dataframe\">\n",
       "  <thead>\n",
       "    <tr style=\"text-align: right;\">\n",
       "      <th></th>\n",
       "      <th>index</th>\n",
       "      <th>city</th>\n",
       "      <th>subscription</th>\n",
       "      <th>users</th>\n",
       "      <th>users_total</th>\n",
       "      <th>proportion</th>\n",
       "      <th>sub_ratio</th>\n",
       "    </tr>\n",
       "  </thead>\n",
       "  <tbody>\n",
       "    <tr>\n",
       "      <th>4</th>\n",
       "      <td>9</td>\n",
       "      <td>Пятигорск</td>\n",
       "      <td>True</td>\n",
       "      <td>94</td>\n",
       "      <td>219</td>\n",
       "      <td>14.28</td>\n",
       "      <td>42.92</td>\n",
       "    </tr>\n",
       "    <tr>\n",
       "      <th>0</th>\n",
       "      <td>1</td>\n",
       "      <td>Екатеринбург</td>\n",
       "      <td>True</td>\n",
       "      <td>92</td>\n",
       "      <td>204</td>\n",
       "      <td>13.30</td>\n",
       "      <td>45.10</td>\n",
       "    </tr>\n",
       "    <tr>\n",
       "      <th>5</th>\n",
       "      <td>11</td>\n",
       "      <td>Ростов-на-Дону</td>\n",
       "      <td>True</td>\n",
       "      <td>89</td>\n",
       "      <td>198</td>\n",
       "      <td>12.91</td>\n",
       "      <td>44.95</td>\n",
       "    </tr>\n",
       "    <tr>\n",
       "      <th>1</th>\n",
       "      <td>3</td>\n",
       "      <td>Краснодар</td>\n",
       "      <td>True</td>\n",
       "      <td>81</td>\n",
       "      <td>193</td>\n",
       "      <td>12.58</td>\n",
       "      <td>41.97</td>\n",
       "    </tr>\n",
       "    <tr>\n",
       "      <th>6</th>\n",
       "      <td>13</td>\n",
       "      <td>Сочи</td>\n",
       "      <td>True</td>\n",
       "      <td>86</td>\n",
       "      <td>189</td>\n",
       "      <td>12.32</td>\n",
       "      <td>45.50</td>\n",
       "    </tr>\n",
       "    <tr>\n",
       "      <th>3</th>\n",
       "      <td>7</td>\n",
       "      <td>Омск</td>\n",
       "      <td>True</td>\n",
       "      <td>91</td>\n",
       "      <td>183</td>\n",
       "      <td>11.93</td>\n",
       "      <td>49.73</td>\n",
       "    </tr>\n",
       "    <tr>\n",
       "      <th>7</th>\n",
       "      <td>15</td>\n",
       "      <td>Тюмень</td>\n",
       "      <td>True</td>\n",
       "      <td>82</td>\n",
       "      <td>180</td>\n",
       "      <td>11.73</td>\n",
       "      <td>45.56</td>\n",
       "    </tr>\n",
       "    <tr>\n",
       "      <th>2</th>\n",
       "      <td>5</td>\n",
       "      <td>Москва</td>\n",
       "      <td>True</td>\n",
       "      <td>84</td>\n",
       "      <td>168</td>\n",
       "      <td>10.95</td>\n",
       "      <td>50.00</td>\n",
       "    </tr>\n",
       "  </tbody>\n",
       "</table>\n",
       "</div>"
      ],
      "text/plain": [
       "   index            city  subscription  users  users_total  proportion  \\\n",
       "4      9       Пятигорск          True     94          219       14.28   \n",
       "0      1    Екатеринбург          True     92          204       13.30   \n",
       "5     11  Ростов-на-Дону          True     89          198       12.91   \n",
       "1      3       Краснодар          True     81          193       12.58   \n",
       "6     13            Сочи          True     86          189       12.32   \n",
       "3      7            Омск          True     91          183       11.93   \n",
       "7     15          Тюмень          True     82          180       11.73   \n",
       "2      5          Москва          True     84          168       10.95   \n",
       "\n",
       "   sub_ratio  \n",
       "4      42.92  \n",
       "0      45.10  \n",
       "5      44.95  \n",
       "1      41.97  \n",
       "6      45.50  \n",
       "3      49.73  \n",
       "7      45.56  \n",
       "2      50.00  "
      ]
     },
     "execution_count": 40,
     "metadata": {},
     "output_type": "execute_result"
    }
   ],
   "source": [
    "# Создаём сводную таблицу по городам b типу подписки\n",
    "citys_info = users.pivot_table(index=['city', 'subscription'], \n",
    "                               values='user_id', \n",
    "                               aggfunc='count')\n",
    "# Меняем название столбца не более логичное и переустанавливаем индексы\n",
    "citys_info = citys_info.rename(columns={'user_id': 'users'})\n",
    "citys_info = citys_info.reset_index()\n",
    "# Добавляем столбец с общим количеством пользователей\n",
    "citys_info = citys_info.merge(citys, how='left', on='city', suffixes=['', '_total'])\n",
    "# Разделяем датафрейм на два по наличию подписки\n",
    "citys_sub = citys_info.query('subscription == True')\n",
    "citys_nosub = citys_info.query('subscription == False')\n",
    "# Переустанавливаем индексы\n",
    "citys_sub = citys_sub.reset_index()\n",
    "citys_nosub = citys_nosub.reset_index()\n",
    "# Сортируем столбцы по суммарному коли-ву пользователей в городе\n",
    "citys_sub = citys_sub.sort_values(by='users_total', ascending=False)\n",
    "citys_nosub = citys_nosub.sort_values(by='users_total', ascending=False)\n",
    "# Посчитаем долю пользователей\n",
    "citys_sub['sub_ratio'] = round(citys_sub['users'] / citys_sub['users_total'] * 100, 2)\n",
    "citys_nosub['nosub_ratio'] = round(citys_nosub['users'] / citys_nosub['users_total'] * 100, 2)\n",
    "citys_sub"
   ]
  },
  {
   "cell_type": "code",
   "execution_count": 41,
   "id": "d3fcb2e2",
   "metadata": {},
   "outputs": [
    {
     "data": {
      "text/html": [
       "<div>\n",
       "<style scoped>\n",
       "    .dataframe tbody tr th:only-of-type {\n",
       "        vertical-align: middle;\n",
       "    }\n",
       "\n",
       "    .dataframe tbody tr th {\n",
       "        vertical-align: top;\n",
       "    }\n",
       "\n",
       "    .dataframe thead th {\n",
       "        text-align: right;\n",
       "    }\n",
       "</style>\n",
       "<table border=\"1\" class=\"dataframe\">\n",
       "  <thead>\n",
       "    <tr style=\"text-align: right;\">\n",
       "      <th></th>\n",
       "      <th>index</th>\n",
       "      <th>city</th>\n",
       "      <th>subscription</th>\n",
       "      <th>users</th>\n",
       "      <th>users_total</th>\n",
       "      <th>proportion</th>\n",
       "      <th>nosub_ratio</th>\n",
       "    </tr>\n",
       "  </thead>\n",
       "  <tbody>\n",
       "    <tr>\n",
       "      <th>4</th>\n",
       "      <td>8</td>\n",
       "      <td>Пятигорск</td>\n",
       "      <td>False</td>\n",
       "      <td>125</td>\n",
       "      <td>219</td>\n",
       "      <td>14.28</td>\n",
       "      <td>57.08</td>\n",
       "    </tr>\n",
       "    <tr>\n",
       "      <th>0</th>\n",
       "      <td>0</td>\n",
       "      <td>Екатеринбург</td>\n",
       "      <td>False</td>\n",
       "      <td>112</td>\n",
       "      <td>204</td>\n",
       "      <td>13.30</td>\n",
       "      <td>54.90</td>\n",
       "    </tr>\n",
       "    <tr>\n",
       "      <th>5</th>\n",
       "      <td>10</td>\n",
       "      <td>Ростов-на-Дону</td>\n",
       "      <td>False</td>\n",
       "      <td>109</td>\n",
       "      <td>198</td>\n",
       "      <td>12.91</td>\n",
       "      <td>55.05</td>\n",
       "    </tr>\n",
       "    <tr>\n",
       "      <th>1</th>\n",
       "      <td>2</td>\n",
       "      <td>Краснодар</td>\n",
       "      <td>False</td>\n",
       "      <td>112</td>\n",
       "      <td>193</td>\n",
       "      <td>12.58</td>\n",
       "      <td>58.03</td>\n",
       "    </tr>\n",
       "    <tr>\n",
       "      <th>6</th>\n",
       "      <td>12</td>\n",
       "      <td>Сочи</td>\n",
       "      <td>False</td>\n",
       "      <td>103</td>\n",
       "      <td>189</td>\n",
       "      <td>12.32</td>\n",
       "      <td>54.50</td>\n",
       "    </tr>\n",
       "    <tr>\n",
       "      <th>3</th>\n",
       "      <td>6</td>\n",
       "      <td>Омск</td>\n",
       "      <td>False</td>\n",
       "      <td>92</td>\n",
       "      <td>183</td>\n",
       "      <td>11.93</td>\n",
       "      <td>50.27</td>\n",
       "    </tr>\n",
       "    <tr>\n",
       "      <th>7</th>\n",
       "      <td>14</td>\n",
       "      <td>Тюмень</td>\n",
       "      <td>False</td>\n",
       "      <td>98</td>\n",
       "      <td>180</td>\n",
       "      <td>11.73</td>\n",
       "      <td>54.44</td>\n",
       "    </tr>\n",
       "    <tr>\n",
       "      <th>2</th>\n",
       "      <td>4</td>\n",
       "      <td>Москва</td>\n",
       "      <td>False</td>\n",
       "      <td>84</td>\n",
       "      <td>168</td>\n",
       "      <td>10.95</td>\n",
       "      <td>50.00</td>\n",
       "    </tr>\n",
       "  </tbody>\n",
       "</table>\n",
       "</div>"
      ],
      "text/plain": [
       "   index            city  subscription  users  users_total  proportion  \\\n",
       "4      8       Пятигорск         False    125          219       14.28   \n",
       "0      0    Екатеринбург         False    112          204       13.30   \n",
       "5     10  Ростов-на-Дону         False    109          198       12.91   \n",
       "1      2       Краснодар         False    112          193       12.58   \n",
       "6     12            Сочи         False    103          189       12.32   \n",
       "3      6            Омск         False     92          183       11.93   \n",
       "7     14          Тюмень         False     98          180       11.73   \n",
       "2      4          Москва         False     84          168       10.95   \n",
       "\n",
       "   nosub_ratio  \n",
       "4        57.08  \n",
       "0        54.90  \n",
       "5        55.05  \n",
       "1        58.03  \n",
       "6        54.50  \n",
       "3        50.27  \n",
       "7        54.44  \n",
       "2        50.00  "
      ]
     },
     "execution_count": 41,
     "metadata": {},
     "output_type": "execute_result"
    }
   ],
   "source": [
    "citys_nosub"
   ]
  },
  {
   "cell_type": "code",
   "execution_count": 76,
   "id": "767c2a0a",
   "metadata": {},
   "outputs": [
    {
     "data": {
      "image/png": "[encoded data removed]",
      "text/plain": [
       "<Figure size 792x360 with 1 Axes>"
      ]
     },
     "metadata": {
      "needs_background": "light"
     },
     "output_type": "display_data"
    },
    {
     "name": "stdout",
     "output_type": "stream",
     "text": [
      "['Пятигорск', 'Екатеринбург', 'Ростов-на-Дону', 'Краснодар', 'Сочи', 'Омск', 'Тюмень', 'Москва']\n"
     ]
    }
   ],
   "source": [
    "# Создаём числовую ось x, и массив с подписью оси x\n",
    "ax_x = np.arange(len(citys))\n",
    "labels_x = citys_sub['city'].to_list()\n",
    "# Создаём фигуру и оси\n",
    "fig, ax = plt.subplots(1, 1, figsize=(11, 5))\n",
    "# Отрисосываем графики\n",
    "ax.bar(ax_x + 0.14, citys_sub['users'], linewidth=2.0, edgecolor='k', width=0.26, label='С подпиской')\n",
    "ax.bar(ax_x - 0.14, citys_nosub['users'], linewidth=2.0, edgecolor='k', width=0.26, label='Без подписки')\n",
    "ax.set(title='Распределение пользователей по городам', \n",
    "       ylabel='Количество пользователей')\n",
    "ax.set_xticks(ax_x)\n",
    "ax.set_xticklabels(labels_x, rotation = 30)\n",
    "ax.grid()\n",
    "ax.legend()\n",
    "plt.show()"
   ]
  },
  {
   "cell_type": "markdown",
   "id": "dff8f9c9",
   "metadata": {},
   "source": [
    "**Вывод:**\n",
    "- в Москве и в Омске пользователей с подпиской и без неё примерно одинаковое количество\n",
    "- в Пятигорске и Краснодаре максимальная доля пользователей без подписки (57% и 58% соответственно)\n",
    "- в остальных городах доля пользователей без подписки составляет около 55%"
   ]
  },
  {
   "cell_type": "markdown",
   "id": "c969314c",
   "metadata": {},
   "source": [
    "#### Соотношение пользователей с подпиской и без подписки"
   ]
  },
  {
   "cell_type": "code",
   "execution_count": 43,
   "id": "783ba6a7",
   "metadata": {},
   "outputs": [],
   "source": [
    "# Создаём сводную таблицу по пользователям с подпиской и без неё\n",
    "sub_users = users.pivot_table(index='subscription', values='user_id', aggfunc='count')\n",
    "# Меняем название колонки на более логичное\n",
    "sub_users = sub_users.rename(columns={'user_id': 'users'})\n",
    "# Меняем название индексов на более репрезентативное\n",
    "sub_users.index = ['Без подписки', 'С подпиской']"
   ]
  },
  {
   "cell_type": "code",
   "execution_count": 44,
   "id": "16a399b6",
   "metadata": {},
   "outputs": [
    {
     "data": {
      "image/png": "[encoded data removed]",
      "text/plain": [
       "<Figure size 792x432 with 2 Axes>"
      ]
     },
     "metadata": {
      "needs_background": "light"
     },
     "output_type": "display_data"
    }
   ],
   "source": [
    "# Создаём фигуру и оси\n",
    "fig, axs = plt.subplots(2, 1, figsize=(11, 6))\n",
    "# Наносим сетку, подписываем оси\n",
    "axs[1].grid()\n",
    "axs[1].set(title='Гистограмма распределения по наличию подписки', \n",
    "           xlabel='Количество пользователей')\n",
    "# Отрисосываем графики\n",
    "axs[0].pie(sub_users['users'], \n",
    "           labels=sub_users.index, \n",
    "           autopct='%1.2f%%', \n",
    "           explode=([0.04] * 2), \n",
    "           colors=['red', 'green'])\n",
    "axs[1].barh(sub_users.index, sub_users['users'], linewidth=1.0, edgecolor='k', height=0.5)\n",
    "plt.show()"
   ]
  },
  {
   "cell_type": "markdown",
   "id": "d799f781",
   "metadata": {},
   "source": [
    "Пользователей без подписки немного меньше, чем пользоветелей с подпиской."
   ]
  },
  {
   "cell_type": "markdown",
   "id": "4a382d7e",
   "metadata": {},
   "source": [
    "#### Возраст пользователей"
   ]
  },
  {
   "cell_type": "code",
   "execution_count": 45,
   "id": "0824a71c",
   "metadata": {},
   "outputs": [
    {
     "data": {
      "image/png": "[encoded data removed]",
      "text/plain": [
       "<Figure size 648x216 with 1 Axes>"
      ]
     },
     "metadata": {
      "needs_background": "light"
     },
     "output_type": "display_data"
    }
   ],
   "source": [
    "# Посчитаем возрастной диапазон пользователей\n",
    "age_range = users['age'].max() - users['age'].min()\n",
    "# Подписываем оси\n",
    "plt.title('Гистограмма распределения по возрасту')\n",
    "plt.xlabel('Возраст пользователей')\n",
    "plt.ylabel('Количество')\n",
    "# Построим гистограмму распределения\n",
    "users['age'].hist(bins=age_range*2, linewidth=1.0, edgecolor='k')\n",
    "plt.show()"
   ]
  },
  {
   "cell_type": "markdown",
   "id": "a3b58319",
   "metadata": {},
   "source": [
    "Возраст пользователей имеет нормальное распределение. Минимальный возраст - 12 лет, максимальный - 43 года."
   ]
  },
  {
   "cell_type": "markdown",
   "id": "8dc889fd",
   "metadata": {},
   "source": [
    "#### Расстояние, которое пользователь преодолел за одну поездку"
   ]
  },
  {
   "cell_type": "markdown",
   "id": "260304d6",
   "metadata": {},
   "source": [
    "Построим гистограмму распределения:"
   ]
  },
  {
   "cell_type": "code",
   "execution_count": 46,
   "id": "480c704c",
   "metadata": {},
   "outputs": [
    {
     "data": {
      "image/png": "[encoded data removed]",
      "text/plain": [
       "<Figure size 648x216 with 1 Axes>"
      ]
     },
     "metadata": {
      "needs_background": "light"
     },
     "output_type": "display_data"
    }
   ],
   "source": [
    "# Подписываем оси\n",
    "plt.title('Гистограмма распределения по расстоянию поездки')\n",
    "plt.xlabel('Расстояние поездки')\n",
    "plt.ylabel('Количество поездок')\n",
    "# Построим гистограмму распределения\n",
    "rides['distance'].hist(bins=100, linewidth=1.0, edgecolor='k')\n",
    "plt.show()"
   ]
  },
  {
   "cell_type": "markdown",
   "id": "3f2ef278",
   "metadata": {},
   "source": [
    "На гистограмме присутствует два пика, примерно на 500 и на 3000 метров. Возможно это связанно с тем, что в датафрейме представлены как крупные, так и небольшие города. Или пользователи с платной подпиской и без неё обычно перемещаются на разные расстояния. \n",
    "\n",
    "Проверим данные предположения. Для начала добавим в датафрейм rides столбцы city и subscription по ключу user_ud:"
   ]
  },
  {
   "cell_type": "code",
   "execution_count": 47,
   "id": "f841cc8b",
   "metadata": {
    "scrolled": true
   },
   "outputs": [
    {
     "data": {
      "text/html": [
       "<div>\n",
       "<style scoped>\n",
       "    .dataframe tbody tr th:only-of-type {\n",
       "        vertical-align: middle;\n",
       "    }\n",
       "\n",
       "    .dataframe tbody tr th {\n",
       "        vertical-align: top;\n",
       "    }\n",
       "\n",
       "    .dataframe thead th {\n",
       "        text-align: right;\n",
       "    }\n",
       "</style>\n",
       "<table border=\"1\" class=\"dataframe\">\n",
       "  <thead>\n",
       "    <tr style=\"text-align: right;\">\n",
       "      <th></th>\n",
       "      <th>user_id</th>\n",
       "      <th>distance</th>\n",
       "      <th>duration</th>\n",
       "      <th>date</th>\n",
       "      <th>speed</th>\n",
       "      <th>month</th>\n",
       "      <th>city</th>\n",
       "      <th>subscription</th>\n",
       "    </tr>\n",
       "  </thead>\n",
       "  <tbody>\n",
       "    <tr>\n",
       "      <th>219</th>\n",
       "      <td>23</td>\n",
       "      <td>2827</td>\n",
       "      <td>21</td>\n",
       "      <td>2021-08-26</td>\n",
       "      <td>8.35</td>\n",
       "      <td>8</td>\n",
       "      <td>Сочи</td>\n",
       "      <td>True</td>\n",
       "    </tr>\n",
       "  </tbody>\n",
       "</table>\n",
       "</div>"
      ],
      "text/plain": [
       "     user_id  distance  duration       date  speed  month  city  subscription\n",
       "219       23      2827        21 2021-08-26   8.35      8  Сочи          True"
      ]
     },
     "execution_count": 47,
     "metadata": {},
     "output_type": "execute_result"
    }
   ],
   "source": [
    "# Добавим столбец с городом в таблицу rides по ключу user_id\n",
    "rides = rides.merge(users[['user_id', 'city', 'subscription']], how='left', on='user_id', suffixes=False)\n",
    "rides.sample()"
   ]
  },
  {
   "cell_type": "markdown",
   "id": "3a26cbaf",
   "metadata": {},
   "source": [
    "Построим отдельные гистограммы для каждого города:"
   ]
  },
  {
   "cell_type": "code",
   "execution_count": 48,
   "id": "4d357bc5",
   "metadata": {},
   "outputs": [
    {
     "data": {
      "image/png": "[encoded data removed]",
      "text/plain": [
       "<Figure size 936x792 with 8 Axes>"
      ]
     },
     "metadata": {
      "needs_background": "light"
     },
     "output_type": "display_data"
    }
   ],
   "source": [
    "# Создаём список с названиями всех городов\n",
    "city_names =  rides['city'].unique().tolist()\n",
    "# Создаём фигуру и оси\n",
    "fig, axs = plt.subplots(4, 2, figsize=(13, 11))\n",
    "fig.suptitle('Гистограммы распределения расстояния поездок для каждого города')\n",
    "axs = axs.flat\n",
    "for city in enumerate(city_names):\n",
    "    # Создаём переменные для удобства\n",
    "    number = city[0]\n",
    "    name = city[1]\n",
    "    values = rides[rides['city'] == name]['distance']\n",
    "    x_label = 'Расстояние поездок в городе ' + name\n",
    "    # Добавляем строчку, что бы не перекрывались подписи осей\n",
    "    plt.tight_layout()\n",
    "    # Наносим сетку, подписываем оси\n",
    "    axs[number].grid()\n",
    "    axs[number].set(xlabel=x_label)\n",
    "    if number % 2 == 0:\n",
    "        axs[number].set(ylabel='Количество поездок')\n",
    "    # Отрисосываем графики\n",
    "    axs[number].hist(values, bins=100, linewidth=1.0, edgecolor='k')\n",
    "plt.show()"
   ]
  },
  {
   "cell_type": "markdown",
   "id": "8a6e09c1",
   "metadata": {},
   "source": [
    "Предположение о том, что длина поездки сильно зависит от города не подтвердилось: Во всех городах расстояния, на которые  пользователи перемещаются за одну поездку, примерно одинаковые.\n",
    "\n",
    "Построим гистограммы для пользователей с подпиской и без неё:"
   ]
  },
  {
   "cell_type": "code",
   "execution_count": 49,
   "id": "e9280f61",
   "metadata": {},
   "outputs": [
    {
     "data": {
      "image/png": "[encoded data removed]",
      "text/plain": [
       "<Figure size 792x576 with 2 Axes>"
      ]
     },
     "metadata": {
      "needs_background": "light"
     },
     "output_type": "display_data"
    }
   ],
   "source": [
    "# Создаём фигуру и оси\n",
    "fig, axs = plt.subplots(2, 1, figsize=(11, 8))\n",
    "# Создаём переменные для удобства\n",
    "with_sub = rides[rides['subscription']]['distance']\n",
    "no_sub = rides[~rides['subscription']]['distance']\n",
    "# Добавляем строчку, что бы не перекрывались подписи осей\n",
    "plt.tight_layout(pad=4.0)\n",
    "# Наносим сетку, подписываем оси, задаём интервалы по осям\n",
    "axs[0].grid()\n",
    "axs[0].title.set_text(f'У пользователей с подпиской ({len(with_sub)} поездок)', )\n",
    "axs[0].set(xlabel='Расстояние поездок', ylabel='Количество поездок', \n",
    "           xticks=range(0, 8000, 500), xlim=(0, 7500))\n",
    "axs[1].grid()\n",
    "axs[1].title.set_text(f'У пользователей без подписки ({len(no_sub)} поездок)')\n",
    "axs[1].set(xlabel='Расстояние поездок', ylabel='Количество поездок', \n",
    "           xticks=range(0, 8000, 500), xlim=(0, 7500))\n",
    "# Отрисосываем графики\n",
    "axs[0].hist(with_sub, bins=100, linewidth=1.0, edgecolor='k')\n",
    "axs[1].hist(no_sub, bins=100, linewidth=1.0, edgecolor='k')\n",
    "plt.show()"
   ]
  },
  {
   "cell_type": "markdown",
   "id": "dbabeb50",
   "metadata": {},
   "source": [
    "Распределение поездок у пользователей с подпиской и без подписки выглядит похоже - на обеих гистограммах присутствует по два пика.\n",
    "\n",
    "**Вывод:** Все поездки можно условно разделить на короткие и длинные, распределение похоже на бимодальное."
   ]
  },
  {
   "cell_type": "markdown",
   "id": "4ade7bca",
   "metadata": {},
   "source": [
    "#### Продолжительность поездок"
   ]
  },
  {
   "cell_type": "markdown",
   "id": "3bae145a",
   "metadata": {},
   "source": [
    "Построим гистограмму распределения:"
   ]
  },
  {
   "cell_type": "code",
   "execution_count": 50,
   "id": "48f912b2",
   "metadata": {
    "scrolled": true
   },
   "outputs": [
    {
     "data": {
      "image/png": "[encoded data removed]",
      "text/plain": [
       "<Figure size 648x216 with 1 Axes>"
      ]
     },
     "metadata": {
      "needs_background": "light"
     },
     "output_type": "display_data"
    }
   ],
   "source": [
    "# Подписываем оси\n",
    "plt.title('Гистограмма распределения времени поездок')\n",
    "plt.xlabel('Время поездок')\n",
    "plt.ylabel('Количество поездок')\n",
    "# Построим гистограмму распределения\n",
    "bins_rides = rides['duration'].max() - rides['duration'].min()\n",
    "rides['duration'].hist(bins=bins_rides, linewidth=1.0, edgecolor='k')\n",
    "plt.show()"
   ]
  },
  {
   "cell_type": "markdown",
   "id": "ee860c3d",
   "metadata": {},
   "source": [
    "Время поездок имеет нормальное распределение."
   ]
  },
  {
   "cell_type": "markdown",
   "id": "9f18b9ce",
   "metadata": {},
   "source": [
    "#### Среднее количество поездок у пользователей"
   ]
  },
  {
   "cell_type": "markdown",
   "id": "05271504",
   "metadata": {},
   "source": [
    "Посчитаем среднее количество поездок у пользователей с подпиской и без неё:"
   ]
  },
  {
   "cell_type": "code",
   "execution_count": 51,
   "id": "1f70fc48",
   "metadata": {},
   "outputs": [
    {
     "name": "stdout",
     "output_type": "stream",
     "text": [
      "Среднее количество поездок у пользователей с подпиской: 9.30\n",
      "Среднее количество поездок у пользователей без подписки: 13.74\n"
     ]
    }
   ],
   "source": [
    "# Считаем среднее количество поездок для пользователдей с подпиской и без нее\n",
    "freq_rides = rides.pivot_table(index='user_id', values='subscription', aggfunc=['sum', 'count'])\n",
    "freq_rides.columns=['sub', 'rides']\n",
    "freq_rides['sub'] = freq_rides['sub'].astype(bool)\n",
    "sub_users_rides_mean = freq_rides['rides'][freq_rides['sub']].mean()\n",
    "no_sub_users_rides_mean = freq_rides['rides'][~freq_rides['sub']].mean()\n",
    "print(f'Среднее количество поездок у пользователей с подпиской: {sub_users_rides_mean:.2f}')\n",
    "print(f'Среднее количество поездок у пользователей без подписки: {no_sub_users_rides_mean:.2f}')"
   ]
  },
  {
   "cell_type": "markdown",
   "id": "80024918",
   "metadata": {},
   "source": [
    "Странный факт: пользователи с подпиской ездят реже, чем пользователи без подписки."
   ]
  },
  {
   "cell_type": "markdown",
   "id": "4ef51331",
   "metadata": {},
   "source": [
    "### Объединение данных"
   ]
  },
  {
   "cell_type": "markdown",
   "id": "e5ef9417",
   "metadata": {},
   "source": [
    "#### Объединение датафреймов в один"
   ]
  },
  {
   "cell_type": "markdown",
   "id": "3decdf27",
   "metadata": {},
   "source": [
    "Создадим общий датафрейм, включающий в себя все данные."
   ]
  },
  {
   "cell_type": "code",
   "execution_count": 52,
   "id": "51d3ce75",
   "metadata": {},
   "outputs": [
    {
     "name": "stdout",
     "output_type": "stream",
     "text": [
      "0\n"
     ]
    },
    {
     "data": {
      "text/html": [
       "<div>\n",
       "<style scoped>\n",
       "    .dataframe tbody tr th:only-of-type {\n",
       "        vertical-align: middle;\n",
       "    }\n",
       "\n",
       "    .dataframe tbody tr th {\n",
       "        vertical-align: top;\n",
       "    }\n",
       "\n",
       "    .dataframe thead th {\n",
       "        text-align: right;\n",
       "    }\n",
       "</style>\n",
       "<table border=\"1\" class=\"dataframe\">\n",
       "  <thead>\n",
       "    <tr style=\"text-align: right;\">\n",
       "      <th></th>\n",
       "      <th>user_id</th>\n",
       "      <th>distance</th>\n",
       "      <th>duration</th>\n",
       "      <th>date</th>\n",
       "      <th>speed</th>\n",
       "      <th>month</th>\n",
       "      <th>city</th>\n",
       "      <th>subscription</th>\n",
       "      <th>name</th>\n",
       "      <th>age</th>\n",
       "    </tr>\n",
       "  </thead>\n",
       "  <tbody>\n",
       "    <tr>\n",
       "      <th>13966</th>\n",
       "      <td>1247</td>\n",
       "      <td>2521</td>\n",
       "      <td>20</td>\n",
       "      <td>2021-04-15</td>\n",
       "      <td>7.63</td>\n",
       "      <td>4</td>\n",
       "      <td>Омск</td>\n",
       "      <td>False</td>\n",
       "      <td>Марат</td>\n",
       "      <td>30</td>\n",
       "    </tr>\n",
       "  </tbody>\n",
       "</table>\n",
       "</div>"
      ],
      "text/plain": [
       "       user_id  distance  duration       date  speed  month  city  \\\n",
       "13966     1247      2521        20 2021-04-15   7.63      4  Омск   \n",
       "\n",
       "       subscription   name  age  \n",
       "13966         False  Марат   30  "
      ]
     },
     "execution_count": 52,
     "metadata": {},
     "output_type": "execute_result"
    }
   ],
   "source": [
    "# Объединим датафреймы rides и users в новый датафрейм data\n",
    "data = rides.merge(users[['user_id', 'name', 'age']], how='left', on='user_id')\n",
    "# Проверка на наличие пропусков\n",
    "print(data.isna().sum().sum())\n",
    "data.sample()"
   ]
  },
  {
   "cell_type": "code",
   "execution_count": 53,
   "id": "ab1251d0",
   "metadata": {},
   "outputs": [
    {
     "name": "stdout",
     "output_type": "stream",
     "text": [
      "0\n"
     ]
    },
    {
     "data": {
      "text/html": [
       "<div>\n",
       "<style scoped>\n",
       "    .dataframe tbody tr th:only-of-type {\n",
       "        vertical-align: middle;\n",
       "    }\n",
       "\n",
       "    .dataframe tbody tr th {\n",
       "        vertical-align: top;\n",
       "    }\n",
       "\n",
       "    .dataframe thead th {\n",
       "        text-align: right;\n",
       "    }\n",
       "</style>\n",
       "<table border=\"1\" class=\"dataframe\">\n",
       "  <thead>\n",
       "    <tr style=\"text-align: right;\">\n",
       "      <th></th>\n",
       "      <th>user_id</th>\n",
       "      <th>distance</th>\n",
       "      <th>duration</th>\n",
       "      <th>date</th>\n",
       "      <th>speed</th>\n",
       "      <th>month</th>\n",
       "      <th>city</th>\n",
       "      <th>subscription</th>\n",
       "      <th>name</th>\n",
       "      <th>age</th>\n",
       "      <th>minute_price</th>\n",
       "      <th>start_ride_price</th>\n",
       "      <th>subscription_fee</th>\n",
       "    </tr>\n",
       "  </thead>\n",
       "  <tbody>\n",
       "    <tr>\n",
       "      <th>13070</th>\n",
       "      <td>1185</td>\n",
       "      <td>5041</td>\n",
       "      <td>20</td>\n",
       "      <td>2021-03-06</td>\n",
       "      <td>15.82</td>\n",
       "      <td>3</td>\n",
       "      <td>Ростов-на-Дону</td>\n",
       "      <td>False</td>\n",
       "      <td>Александр</td>\n",
       "      <td>20</td>\n",
       "      <td>8</td>\n",
       "      <td>50</td>\n",
       "      <td>0</td>\n",
       "    </tr>\n",
       "  </tbody>\n",
       "</table>\n",
       "</div>"
      ],
      "text/plain": [
       "       user_id  distance  duration       date  speed  month            city  \\\n",
       "13070     1185      5041        20 2021-03-06  15.82      3  Ростов-на-Дону   \n",
       "\n",
       "       subscription       name  age  minute_price  start_ride_price  \\\n",
       "13070         False  Александр   20             8                50   \n",
       "\n",
       "       subscription_fee  \n",
       "13070                 0  "
      ]
     },
     "execution_count": 53,
     "metadata": {},
     "output_type": "execute_result"
    }
   ],
   "source": [
    "# Добавим в датафрейм data информацию о подписке из датафрейма subs\n",
    "data = data.merge(subs, how='left', on='subscription')\n",
    "# Проверка на наличие пропусков\n",
    "print(data.isna().sum().sum())\n",
    "data.sample()"
   ]
  },
  {
   "cell_type": "markdown",
   "id": "a6b7edb8",
   "metadata": {},
   "source": [
    "Разделим датафрейм на два:\n",
    "- пользователи с подпиской\n",
    "- пользователи без подписки"
   ]
  },
  {
   "cell_type": "code",
   "execution_count": 54,
   "id": "6bf288b5",
   "metadata": {
    "scrolled": true
   },
   "outputs": [
    {
     "name": "stdout",
     "output_type": "stream",
     "text": [
      "0\n",
      "0\n",
      "True\n"
     ]
    }
   ],
   "source": [
    "# Разделим общий датафрейм на два (с подпиской и без неё)\n",
    "df_subs = data[data['subscription']]\n",
    "df_nosubs = data[~data['subscription']]\n",
    "# Проверка созданных датафреймов на пропуски и соразмерность\n",
    "print(df_subs.isna().sum().sum())\n",
    "print(df_nosubs.isna().sum().sum())\n",
    "print(len(df_subs) + len(df_nosubs) == len(data))"
   ]
  },
  {
   "cell_type": "code",
   "execution_count": 55,
   "id": "68ea4aeb",
   "metadata": {},
   "outputs": [
    {
     "data": {
      "text/html": [
       "<div>\n",
       "<style scoped>\n",
       "    .dataframe tbody tr th:only-of-type {\n",
       "        vertical-align: middle;\n",
       "    }\n",
       "\n",
       "    .dataframe tbody tr th {\n",
       "        vertical-align: top;\n",
       "    }\n",
       "\n",
       "    .dataframe thead th {\n",
       "        text-align: right;\n",
       "    }\n",
       "</style>\n",
       "<table border=\"1\" class=\"dataframe\">\n",
       "  <thead>\n",
       "    <tr style=\"text-align: right;\">\n",
       "      <th></th>\n",
       "      <th>user_id</th>\n",
       "      <th>distance</th>\n",
       "      <th>duration</th>\n",
       "      <th>date</th>\n",
       "      <th>speed</th>\n",
       "      <th>month</th>\n",
       "      <th>city</th>\n",
       "      <th>subscription</th>\n",
       "      <th>name</th>\n",
       "      <th>age</th>\n",
       "      <th>minute_price</th>\n",
       "      <th>start_ride_price</th>\n",
       "      <th>subscription_fee</th>\n",
       "    </tr>\n",
       "  </thead>\n",
       "  <tbody>\n",
       "    <tr>\n",
       "      <th>5725</th>\n",
       "      <td>612</td>\n",
       "      <td>3961</td>\n",
       "      <td>16</td>\n",
       "      <td>2021-01-30</td>\n",
       "      <td>15.32</td>\n",
       "      <td>1</td>\n",
       "      <td>Ростов-на-Дону</td>\n",
       "      <td>True</td>\n",
       "      <td>Елена</td>\n",
       "      <td>32</td>\n",
       "      <td>6</td>\n",
       "      <td>0</td>\n",
       "      <td>199</td>\n",
       "    </tr>\n",
       "  </tbody>\n",
       "</table>\n",
       "</div>"
      ],
      "text/plain": [
       "      user_id  distance  duration       date  speed  month            city  \\\n",
       "5725      612      3961        16 2021-01-30  15.32      1  Ростов-на-Дону   \n",
       "\n",
       "      subscription   name  age  minute_price  start_ride_price  \\\n",
       "5725          True  Елена   32             6                 0   \n",
       "\n",
       "      subscription_fee  \n",
       "5725               199  "
      ]
     },
     "execution_count": 55,
     "metadata": {},
     "output_type": "execute_result"
    }
   ],
   "source": [
    "# Проверим датафрейм df_subs\n",
    "df_subs.sample()"
   ]
  },
  {
   "cell_type": "code",
   "execution_count": 56,
   "id": "84a79a90",
   "metadata": {},
   "outputs": [
    {
     "data": {
      "text/html": [
       "<div>\n",
       "<style scoped>\n",
       "    .dataframe tbody tr th:only-of-type {\n",
       "        vertical-align: middle;\n",
       "    }\n",
       "\n",
       "    .dataframe tbody tr th {\n",
       "        vertical-align: top;\n",
       "    }\n",
       "\n",
       "    .dataframe thead th {\n",
       "        text-align: right;\n",
       "    }\n",
       "</style>\n",
       "<table border=\"1\" class=\"dataframe\">\n",
       "  <thead>\n",
       "    <tr style=\"text-align: right;\">\n",
       "      <th></th>\n",
       "      <th>user_id</th>\n",
       "      <th>distance</th>\n",
       "      <th>duration</th>\n",
       "      <th>date</th>\n",
       "      <th>speed</th>\n",
       "      <th>month</th>\n",
       "      <th>city</th>\n",
       "      <th>subscription</th>\n",
       "      <th>name</th>\n",
       "      <th>age</th>\n",
       "      <th>minute_price</th>\n",
       "      <th>start_ride_price</th>\n",
       "      <th>subscription_fee</th>\n",
       "    </tr>\n",
       "  </thead>\n",
       "  <tbody>\n",
       "    <tr>\n",
       "      <th>8976</th>\n",
       "      <td>886</td>\n",
       "      <td>1942</td>\n",
       "      <td>12</td>\n",
       "      <td>2021-07-05</td>\n",
       "      <td>10.29</td>\n",
       "      <td>7</td>\n",
       "      <td>Тюмень</td>\n",
       "      <td>False</td>\n",
       "      <td>Наташа</td>\n",
       "      <td>22</td>\n",
       "      <td>8</td>\n",
       "      <td>50</td>\n",
       "      <td>0</td>\n",
       "    </tr>\n",
       "  </tbody>\n",
       "</table>\n",
       "</div>"
      ],
      "text/plain": [
       "      user_id  distance  duration       date  speed  month    city  \\\n",
       "8976      886      1942        12 2021-07-05  10.29      7  Тюмень   \n",
       "\n",
       "      subscription    name  age  minute_price  start_ride_price  \\\n",
       "8976         False  Наташа   22             8                50   \n",
       "\n",
       "      subscription_fee  \n",
       "8976                 0  "
      ]
     },
     "execution_count": 56,
     "metadata": {},
     "output_type": "execute_result"
    }
   ],
   "source": [
    "# Проверим датафрейм df_nosubs\n",
    "df_nosubs.sample()"
   ]
  },
  {
   "cell_type": "markdown",
   "id": "cb358366",
   "metadata": {},
   "source": [
    "Все датафреймы, необходимые для дальнейшено анализа, были успешно созданы."
   ]
  },
  {
   "cell_type": "markdown",
   "id": "ea2beb6f",
   "metadata": {},
   "source": [
    "#### Визуализация времени для двух категорий пользователей"
   ]
  },
  {
   "cell_type": "markdown",
   "id": "ebe7d20c",
   "metadata": {},
   "source": [
    "Построим гистограммы распределения для пользователей с подпиской и без неё:"
   ]
  },
  {
   "cell_type": "code",
   "execution_count": 57,
   "id": "43a7ec61",
   "metadata": {},
   "outputs": [
    {
     "data": {
      "image/png": "[encoded data removed]",
      "text/plain": [
       "<Figure size 792x576 with 2 Axes>"
      ]
     },
     "metadata": {
      "needs_background": "light"
     },
     "output_type": "display_data"
    }
   ],
   "source": [
    "# Рассчитаем оптимальное количество корзин\n",
    "bins_sub = df_subs['duration'].max() - df_subs['duration'].min()\n",
    "bins_nosub = df_nosubs['duration'].max() - df_nosubs['duration'].min()\n",
    "# Рассчитаем максимум по оси x\n",
    "max_x = max(df_subs['duration'].max(), df_nosubs['duration'].max()) + 1\n",
    "\n",
    "# Создаём фигуру и оси\n",
    "fig, axs = plt.subplots(2, 1, figsize=(11, 8))\n",
    "# Добавляем строчку, что бы не перекрывались подписи осей\n",
    "plt.tight_layout(pad=4.0)\n",
    "# Наносим сетку, подписываем оси, задаём интервалы по осям\n",
    "axs[0].grid()\n",
    "axs[0].title.set_text(f'У пользователей с подпиской ({len(df_subs)} поездок)', )\n",
    "axs[0].set(xlabel='Время поездок', ylabel='Количество поездок', \n",
    "           xticks=range(0, max_x, 5), xlim=(0, max_x))\n",
    "axs[1].grid()\n",
    "axs[1].title.set_text(f'У пользователей без подписки ({len(df_nosubs)} поездок)')\n",
    "axs[1].set(xlabel='Время поездок', ylabel='Количество поездок', \n",
    "           xticks=range(0, max_x, 5), xlim=(0, max_x))\n",
    "# Отрисосываем графики\n",
    "axs[0].hist(df_subs['duration'], bins=bins_sub, linewidth=1.0, edgecolor='k')\n",
    "axs[1].hist(df_nosubs['duration'], bins=bins_nosub, linewidth=1.0, edgecolor='k')\n",
    "plt.show()"
   ]
  },
  {
   "cell_type": "code",
   "execution_count": 58,
   "id": "9a7e46f4",
   "metadata": {},
   "outputs": [
    {
     "name": "stdout",
     "output_type": "stream",
     "text": [
      "Для пользователей с подпиской\n",
      "Среднее значение: 19\n",
      "Стандартное отклонение: 6\n",
      "\n",
      "Для пользователей без подписки\n",
      "Среднее значение: 18\n",
      "Стандартное отклонение: 6\n"
     ]
    }
   ],
   "source": [
    "# Посмотрим среднее и отклонение\n",
    "print('Для пользователей с подпиской')\n",
    "print(f\"Среднее значение: {df_subs['duration'].mean():.0f}\")\n",
    "print(f\"Стандартное отклонение: {df_subs['duration'].std():.0f}\")\n",
    "print()\n",
    "print('Для пользователей без подписки')\n",
    "print(f\"Среднее значение: {df_nosubs['duration'].mean():.0f}\")\n",
    "print(f\"Стандартное отклонение: {df_nosubs['duration'].std():.0f}\")"
   ]
  },
  {
   "cell_type": "markdown",
   "id": "e9844727",
   "metadata": {},
   "source": [
    "**Выводы:**\n",
    "\n",
    "Графики похожи, на обоих графиках обображено нормальное распределение. У пользователей без подписки чуть меньше среднее время поездки, и этом чуть больше стандартное отклонение."
   ]
  },
  {
   "cell_type": "markdown",
   "id": "afb086d1",
   "metadata": {},
   "source": [
    "#### Визуализация расстояния для двух категорий пользователей"
   ]
  },
  {
   "cell_type": "markdown",
   "id": "8d264916",
   "metadata": {},
   "source": [
    "Построим гистограммы распределения для пользователей с подпиской и без неё:"
   ]
  },
  {
   "cell_type": "code",
   "execution_count": 59,
   "id": "73b951a4",
   "metadata": {},
   "outputs": [
    {
     "data": {
      "image/png": "[encoded data removed]",
      "text/plain": [
       "<Figure size 792x576 with 2 Axes>"
      ]
     },
     "metadata": {
      "needs_background": "light"
     },
     "output_type": "display_data"
    }
   ],
   "source": [
    "# Создаём фигуру и оси\n",
    "fig, axs = plt.subplots(2, 1, figsize=(11, 8))\n",
    "# Добавляем строчку, что бы не перекрывались подписи осей\n",
    "plt.tight_layout(pad=4.0)\n",
    "# Наносим сетку, подписываем оси, задаём интервалы по осям\n",
    "axs[0].grid()\n",
    "axs[0].title.set_text(f'У пользователей с подпиской ({len(df_subs)} поездок)', )\n",
    "axs[0].set(xlabel='Расстояние поездок', ylabel='Количество поездок', \n",
    "           xticks=range(0, 8000, 500), xlim=(0, 7500))\n",
    "axs[1].grid()\n",
    "axs[1].title.set_text(f'У пользователей без подписки ({len(df_nosubs)} поездок)')\n",
    "axs[1].set(xlabel='Расстояние поездок', ylabel='Количество поездок', \n",
    "           xticks=range(0, 8000, 500), xlim=(0, 7500))\n",
    "# Отрисосываем графики\n",
    "axs[0].hist(df_subs['distance'], bins=100, linewidth=1.0, edgecolor='k')\n",
    "axs[1].hist(df_nosubs['distance'], bins=100, linewidth=1.0, edgecolor='k')\n",
    "plt.show()"
   ]
  },
  {
   "cell_type": "markdown",
   "id": "94d92af9",
   "metadata": {},
   "source": [
    "Для большей наглядности, построим гистограммы на одном графике."
   ]
  },
  {
   "cell_type": "code",
   "execution_count": 60,
   "id": "4a124288",
   "metadata": {},
   "outputs": [
    {
     "data": {
      "image/png": "[encoded data removed]",
      "text/plain": [
       "<Figure size 792x360 with 1 Axes>"
      ]
     },
     "metadata": {
      "needs_background": "light"
     },
     "output_type": "display_data"
    }
   ],
   "source": [
    "# Создаём фигуру и оси\n",
    "fig, ax = plt.subplots(figsize=(11, 5))\n",
    "# Отрисосываем графики\n",
    "ax.hist([df_subs['distance'], df_nosubs['distance']], \n",
    "        linewidth=0.6, \n",
    "        edgecolor='k',\n",
    "        bins=60, \n",
    "        label=['с подпиской', 'без подписки'])\n",
    "ax.set(title='Гистограмма распределения расстояния поездки', \n",
    "       xlabel='Расстояние поездки',\n",
    "       ylabel='Количество пользователей')\n",
    "ax.legend()\n",
    "ax.grid()\n",
    "plt.show()"
   ]
  },
  {
   "cell_type": "code",
   "execution_count": 61,
   "id": "76831548",
   "metadata": {},
   "outputs": [
    {
     "name": "stdout",
     "output_type": "stream",
     "text": [
      "Для пользователей с подпиской\n",
      "Среднее значение: 3115\n",
      "Стандартное отклонение: 837\n",
      "\n",
      "Для пользователей без подписки\n",
      "Среднее значение: 3028\n",
      "Стандартное отклонение: 1236\n"
     ]
    }
   ],
   "source": [
    "# Посмотрим среднее и отклонение\n",
    "print('Для пользователей с подпиской')\n",
    "print(f\"Среднее значение: {df_subs['distance'].mean():.0f}\")\n",
    "print(f\"Стандартное отклонение: {df_subs['distance'].std():.0f}\")\n",
    "print()\n",
    "print('Для пользователей без подписки')\n",
    "print(f\"Среднее значение: {df_nosubs['distance'].mean():.0f}\")\n",
    "print(f\"Стандартное отклонение: {df_nosubs['distance'].std():.0f}\")"
   ]
  },
  {
   "cell_type": "markdown",
   "id": "8ada9082",
   "metadata": {},
   "source": [
    "**Выводы:**\n",
    "- Гистограммы распределения имеют похожую форму.\n",
    "- У пользователей без подписки много коротких поездок (до 500 метров), а у пользователей с подпиской их почти нет. Возможно это связано с тем, что пользователи без подписки тестировали сервис.\n",
    "- Также у пользователей без подписки доля поездок далее чем на 3.5 км. больше (на верхней гистограмме после 3.5 км. идёт резкий спад).\n",
    "- Стандартное отклонение у пользователей без подписки значительно выше (у пользоветелей с подпиской поездки расположены кучнее, основная масса поездок была в пределах примерно 2.5 - 3.5 км.)"
   ]
  },
  {
   "cell_type": "markdown",
   "id": "402d620f",
   "metadata": {},
   "source": [
    "### Подсчёт выручки"
   ]
  },
  {
   "cell_type": "markdown",
   "id": "03458831",
   "metadata": {},
   "source": [
    "Создадим новый датафрейм с агрегированными данными о поездках по месяцам и посчитаем выручку каждого пользователя за каждый месяц."
   ]
  },
  {
   "cell_type": "code",
   "execution_count": 62,
   "id": "53049e0a",
   "metadata": {},
   "outputs": [
    {
     "data": {
      "text/html": [
       "<div>\n",
       "<style scoped>\n",
       "    .dataframe tbody tr th:only-of-type {\n",
       "        vertical-align: middle;\n",
       "    }\n",
       "\n",
       "    .dataframe tbody tr th {\n",
       "        vertical-align: top;\n",
       "    }\n",
       "\n",
       "    .dataframe thead th {\n",
       "        text-align: right;\n",
       "    }\n",
       "</style>\n",
       "<table border=\"1\" class=\"dataframe\">\n",
       "  <thead>\n",
       "    <tr style=\"text-align: right;\">\n",
       "      <th></th>\n",
       "      <th></th>\n",
       "      <th>distance</th>\n",
       "      <th>rides</th>\n",
       "      <th>duration</th>\n",
       "      <th>minute_price</th>\n",
       "      <th>start_price</th>\n",
       "      <th>subscription</th>\n",
       "      <th>sub_price</th>\n",
       "      <th>income</th>\n",
       "    </tr>\n",
       "    <tr>\n",
       "      <th>user_id</th>\n",
       "      <th>month</th>\n",
       "      <th></th>\n",
       "      <th></th>\n",
       "      <th></th>\n",
       "      <th></th>\n",
       "      <th></th>\n",
       "      <th></th>\n",
       "      <th></th>\n",
       "      <th></th>\n",
       "    </tr>\n",
       "  </thead>\n",
       "  <tbody>\n",
       "    <tr>\n",
       "      <th rowspan=\"6\" valign=\"top\">1</th>\n",
       "      <th>1</th>\n",
       "      <td>7028</td>\n",
       "      <td>2</td>\n",
       "      <td>42</td>\n",
       "      <td>6</td>\n",
       "      <td>0</td>\n",
       "      <td>True</td>\n",
       "      <td>199</td>\n",
       "      <td>451</td>\n",
       "    </tr>\n",
       "    <tr>\n",
       "      <th>4</th>\n",
       "      <td>754</td>\n",
       "      <td>1</td>\n",
       "      <td>7</td>\n",
       "      <td>6</td>\n",
       "      <td>0</td>\n",
       "      <td>True</td>\n",
       "      <td>199</td>\n",
       "      <td>241</td>\n",
       "    </tr>\n",
       "    <tr>\n",
       "      <th>8</th>\n",
       "      <td>6724</td>\n",
       "      <td>2</td>\n",
       "      <td>46</td>\n",
       "      <td>6</td>\n",
       "      <td>0</td>\n",
       "      <td>True</td>\n",
       "      <td>199</td>\n",
       "      <td>475</td>\n",
       "    </tr>\n",
       "    <tr>\n",
       "      <th>10</th>\n",
       "      <td>5810</td>\n",
       "      <td>2</td>\n",
       "      <td>32</td>\n",
       "      <td>6</td>\n",
       "      <td>0</td>\n",
       "      <td>True</td>\n",
       "      <td>199</td>\n",
       "      <td>391</td>\n",
       "    </tr>\n",
       "    <tr>\n",
       "      <th>11</th>\n",
       "      <td>7004</td>\n",
       "      <td>3</td>\n",
       "      <td>56</td>\n",
       "      <td>6</td>\n",
       "      <td>0</td>\n",
       "      <td>True</td>\n",
       "      <td>199</td>\n",
       "      <td>535</td>\n",
       "    </tr>\n",
       "    <tr>\n",
       "      <th>12</th>\n",
       "      <td>6752</td>\n",
       "      <td>2</td>\n",
       "      <td>28</td>\n",
       "      <td>6</td>\n",
       "      <td>0</td>\n",
       "      <td>True</td>\n",
       "      <td>199</td>\n",
       "      <td>367</td>\n",
       "    </tr>\n",
       "    <tr>\n",
       "      <th rowspan=\"4\" valign=\"top\">2</th>\n",
       "      <th>3</th>\n",
       "      <td>10188</td>\n",
       "      <td>3</td>\n",
       "      <td>63</td>\n",
       "      <td>6</td>\n",
       "      <td>0</td>\n",
       "      <td>True</td>\n",
       "      <td>199</td>\n",
       "      <td>577</td>\n",
       "    </tr>\n",
       "    <tr>\n",
       "      <th>4</th>\n",
       "      <td>6165</td>\n",
       "      <td>2</td>\n",
       "      <td>40</td>\n",
       "      <td>6</td>\n",
       "      <td>0</td>\n",
       "      <td>True</td>\n",
       "      <td>199</td>\n",
       "      <td>439</td>\n",
       "    </tr>\n",
       "    <tr>\n",
       "      <th>6</th>\n",
       "      <td>3255</td>\n",
       "      <td>1</td>\n",
       "      <td>14</td>\n",
       "      <td>6</td>\n",
       "      <td>0</td>\n",
       "      <td>True</td>\n",
       "      <td>199</td>\n",
       "      <td>283</td>\n",
       "    </tr>\n",
       "    <tr>\n",
       "      <th>7</th>\n",
       "      <td>6781</td>\n",
       "      <td>2</td>\n",
       "      <td>48</td>\n",
       "      <td>6</td>\n",
       "      <td>0</td>\n",
       "      <td>True</td>\n",
       "      <td>199</td>\n",
       "      <td>487</td>\n",
       "    </tr>\n",
       "  </tbody>\n",
       "</table>\n",
       "</div>"
      ],
      "text/plain": [
       "               distance  rides  duration  minute_price  start_price  \\\n",
       "user_id month                                                         \n",
       "1       1          7028      2        42             6            0   \n",
       "        4           754      1         7             6            0   \n",
       "        8          6724      2        46             6            0   \n",
       "        10         5810      2        32             6            0   \n",
       "        11         7004      3        56             6            0   \n",
       "        12         6752      2        28             6            0   \n",
       "2       3         10188      3        63             6            0   \n",
       "        4          6165      2        40             6            0   \n",
       "        6          3255      1        14             6            0   \n",
       "        7          6781      2        48             6            0   \n",
       "\n",
       "               subscription  sub_price  income  \n",
       "user_id month                                   \n",
       "1       1              True        199     451  \n",
       "        4              True        199     241  \n",
       "        8              True        199     475  \n",
       "        10             True        199     391  \n",
       "        11             True        199     535  \n",
       "        12             True        199     367  \n",
       "2       3              True        199     577  \n",
       "        4              True        199     439  \n",
       "        6              True        199     283  \n",
       "        7              True        199     487  "
      ]
     },
     "execution_count": 62,
     "metadata": {},
     "output_type": "execute_result"
    }
   ],
   "source": [
    "# Создаём сводную таблицу\n",
    "df_income = data.pivot_table(index=['user_id', 'month'], \n",
    "                             values=['distance', 'duration', \n",
    "                                     'subscription',\n",
    "                                     'minute_price', 'start_ride_price', 'subscription_fee'], \n",
    "                             aggfunc={'distance': 'sum',\n",
    "                                      'duration': ['sum', 'count'],\n",
    "                                      'minute_price': 'median',\n",
    "                                      'start_ride_price': 'median',\n",
    "                                      'subscription_fee': 'median', \n",
    "                                      'subscription': 'median'})\n",
    "# Меняем названия столбцов на более удобные\n",
    "df_income.columns=['distance', 'rides', 'duration', 'minute_price', 'start_price', 'subscription', 'sub_price']\n",
    "# Создаём новый столбей с выручкой\n",
    "df_income['income'] = (df_income['duration'] * df_income['minute_price'] +\n",
    "                       df_income['rides'] * df_income['start_price'] +\n",
    "                       df_income['sub_price'])\n",
    "df_income.head(10)"
   ]
  },
  {
   "cell_type": "code",
   "execution_count": 63,
   "id": "6ff5fc69",
   "metadata": {},
   "outputs": [
    {
     "data": {
      "text/plain": [
       "subscription\n",
       "False    329.332644\n",
       "True     362.792191\n",
       "Name: income, dtype: float64"
      ]
     },
     "execution_count": 63,
     "metadata": {},
     "output_type": "execute_result"
    }
   ],
   "source": [
    "# Код ревьюера\n",
    "df_income.groupby('subscription')['income'].mean()"
   ]
  },
  {
   "cell_type": "markdown",
   "id": "41545ac0",
   "metadata": {},
   "source": [
    "### Проверка гипотез"
   ]
  },
  {
   "cell_type": "markdown",
   "id": "87ef9798",
   "metadata": {},
   "source": [
    "#### Тратят ли пользователи с подпиской больше времени на поездки"
   ]
  },
  {
   "cell_type": "markdown",
   "id": "6f70d4cd",
   "metadata": {},
   "source": [
    "**Нулевая гипотеза:** Пользователи с подпиской и без подписки тратят одинаковое количество времени на поездки.\n",
    "\n",
    "**Альтернативная гипотеза:** Пользователи с подпиской тратят больше времени на поездки, чем пользователи без подписки."
   ]
  },
  {
   "cell_type": "code",
   "execution_count": 64,
   "id": "3e4a2970",
   "metadata": {},
   "outputs": [
    {
     "name": "stdout",
     "output_type": "stream",
     "text": [
      "p-значение: 3.086332092684639e-29\n",
      "Отвергаем нулевую гипотезу\n"
     ]
    }
   ],
   "source": [
    "# Задаём минимальную вероятность получить такую выборку, при условии, что гипотеза верна\n",
    "alpha = 0.01\n",
    "# Передаём в метод имеющиеся выборки и необходимые настройки\n",
    "results = st.ttest_ind(df_subs['duration'], df_nosubs['duration'], \n",
    "                       equal_var=False, \n",
    "                       alternative='greater')\n",
    "# Выводим на экран p-значение\n",
    "print('p-значение:', results.pvalue)\n",
    "# Сравниваем p-значение с alpha и делаем вывод\n",
    "if results.pvalue < alpha:\n",
    "    print('Отвергаем нулевую гипотезу')\n",
    "else:\n",
    "    print('Не отвергаем нулевую гипотезу')"
   ]
  },
  {
   "cell_type": "markdown",
   "id": "8bee9adf",
   "metadata": {},
   "source": [
    "**Вывод:** \n",
    "\n",
    "Скорее всего, пользователи с подпиской тратят больше времени на поездки, чем пользователи без подписки."
   ]
  },
  {
   "cell_type": "markdown",
   "id": "9b8a67c2",
   "metadata": {},
   "source": [
    "#### Среднее расстояние, которое проезжают пользователи с подпиской за одну поездку, не превышает 3130 метров"
   ]
  },
  {
   "cell_type": "markdown",
   "id": "5e5a2f7d",
   "metadata": {},
   "source": [
    "**Нулевая гипотеза:** Среднее расстояние, которое проезжают пользователи с подпиской за одну поездку равно 3130 метров.\n",
    "\n",
    "**Альтернативная гипотеза:** Среднее расстояние, которое проезжают пользователи с подпиской за одну поездку, больше 3130 метров."
   ]
  },
  {
   "cell_type": "code",
   "execution_count": 65,
   "id": "83c88537",
   "metadata": {},
   "outputs": [
    {
     "name": "stdout",
     "output_type": "stream",
     "text": [
      "p-значение: 0.9195649894697724\n",
      "Не отвергаем нулевую гипотезу\n"
     ]
    }
   ],
   "source": [
    "# Задаём минимальную вероятность получить такую выборку, при условии, что гипотеза верна\n",
    "alpha = 0.01\n",
    "# Передаём в метод имеющиеся выборки и необходимые настройки\n",
    "results = st.ttest_1samp(df_subs['distance'], 3130, alternative='greater')\n",
    "# Выводим на экран p-значение\n",
    "print('p-значение:', results.pvalue)\n",
    "# Сравниваем p-значение с alpha и делаем вывод\n",
    "if results.pvalue < alpha:\n",
    "    print('Отвергаем нулевую гипотезу')\n",
    "else:\n",
    "    print('Не отвергаем нулевую гипотезу')"
   ]
  },
  {
   "cell_type": "markdown",
   "id": "e4fe883b",
   "metadata": {},
   "source": [
    "**Вывод:** Нет оснований счиать, что среднее расстояние, которое проезжают пользователи с подпиской за одну поездку не превышает оптимальное с точки зрения износа самоката (3130 м.)."
   ]
  },
  {
   "cell_type": "markdown",
   "id": "1ad63f24",
   "metadata": {},
   "source": [
    "#### Помесячная выручка от пользователей с подпиской по месяцам выше, чем выручка от пользователей без подписки"
   ]
  },
  {
   "cell_type": "markdown",
   "id": "64c7c5a3",
   "metadata": {},
   "source": [
    "Создадим два списка:\n",
    "- все месячные выручки всех пользователей с подпиской\n",
    "- все месячные выручки всех пользователей без подписки"
   ]
  },
  {
   "cell_type": "code",
   "execution_count": 66,
   "id": "d40badbe",
   "metadata": {},
   "outputs": [],
   "source": [
    "# Создаём списки с месячными выручками для пользователей с подпиской и без \n",
    "sub = df_income['income'][df_income['subscription']]\n",
    "no_sub = df_income['income'][~df_income['subscription']]"
   ]
  },
  {
   "cell_type": "markdown",
   "id": "cfcc1ac2",
   "metadata": {},
   "source": [
    "Для начала, визуализируем данные на гистограммах:"
   ]
  },
  {
   "cell_type": "code",
   "execution_count": 67,
   "id": "18a3b48d",
   "metadata": {},
   "outputs": [
    {
     "data": {
      "image/png": "[encoded data removed]",
      "text/plain": [
       "<Figure size 792x576 with 2 Axes>"
      ]
     },
     "metadata": {
      "needs_background": "light"
     },
     "output_type": "display_data"
    }
   ],
   "source": [
    "# Создаём фигуру и оси\n",
    "fig, axs = plt.subplots(2, 1, figsize=(11, 8))\n",
    "# Добавляем строчку, что бы не перекрывались подписи осей\n",
    "plt.tight_layout(pad=4.0)\n",
    "# Наносим сетку, подписываем оси, задаём интервалы по осям\n",
    "axs[0].grid()\n",
    "axs[0].title.set_text(f'У пользователей с подпиской ({len(df_subs)} поездок)', )\n",
    "axs[0].set(xlabel='Месячная выручка', ylabel='Кол-во месячных выручек', \n",
    "           xticks=range(0, 1500, 100), xlim=(0, 1500))\n",
    "axs[1].grid()\n",
    "axs[1].title.set_text(f'У пользователей без подписки ({len(df_nosubs)} поездок)')\n",
    "axs[1].set(xlabel='Месячная выручка', ylabel='Кол-во месячных выручек', \n",
    "           xticks=range(0, 1500, 100), xlim=(0, 1500))\n",
    "# Отрисосываем графики\n",
    "axs[0].hist(sub, bins=50, linewidth=1.0, edgecolor='k')\n",
    "axs[1].hist(no_sub, bins=100, linewidth=1.0, edgecolor='k')\n",
    "plt.show()"
   ]
  },
  {
   "cell_type": "code",
   "execution_count": 68,
   "id": "58bbf821",
   "metadata": {},
   "outputs": [
    {
     "name": "stdout",
     "output_type": "stream",
     "text": [
      "Для пользователей с подпиской\n",
      "Среднее значение: 363\n",
      "Стандартное отклонение: 88\n",
      "\n",
      "Для пользователей без подписки\n",
      "Среднее значение: 329\n",
      "Стандартное отклонение: 183\n"
     ]
    }
   ],
   "source": [
    "# Посмотрим среднее и отклонение\n",
    "print('Для пользователей с подпиской')\n",
    "print(f\"Среднее значение: {sub.mean():.0f}\")\n",
    "print(f\"Стандартное отклонение: {sub.std():.0f}\")\n",
    "print()\n",
    "print('Для пользователей без подписки')\n",
    "print(f\"Среднее значение: {no_sub.mean():.0f}\")\n",
    "print(f\"Стандартное отклонение: {no_sub.std():.0f}\")"
   ]
  },
  {
   "cell_type": "markdown",
   "id": "03ded756",
   "metadata": {},
   "source": [
    "Дисперсия у пользователей без подписки значительно выше, из-за этого сложно однозначно сделать какой-либо вывод.\n",
    "\n",
    "Сформулируем гипотезы и проведём тест."
   ]
  },
  {
   "cell_type": "markdown",
   "id": "bb389a31",
   "metadata": {},
   "source": [
    "**Нулевая гипотеза:** Помесячная выручка от пользователей с подпиской и без подписки одинаковая.\n",
    "\n",
    "**Альтернативная гипотеза:** Помесячная выручка от пользователей с подпиской выше, чем выручка от пользователей без подписки."
   ]
  },
  {
   "cell_type": "code",
   "execution_count": 69,
   "id": "46d94f78",
   "metadata": {
    "scrolled": true
   },
   "outputs": [
    {
     "name": "stdout",
     "output_type": "stream",
     "text": [
      "p-значение: 2.4970242872858465e-38\n",
      "Отвергаем нулевую гипотезу\n"
     ]
    }
   ],
   "source": [
    "# Задаём минимальную вероятность получить такую выборку, при условии, что гипотеза верна\n",
    "alpha = 0.01\n",
    "# Передаём в метод имеющиеся выборки и необходимые настройки\n",
    "results = st.ttest_ind(sub, no_sub, \n",
    "                       equal_var=False, \n",
    "                       alternative='greater')\n",
    "# Выводим на экран p-значение\n",
    "print('p-значение:', results.pvalue)\n",
    "# Сравниваем p-значение с alpha и делаем вывод\n",
    "if results.pvalue < alpha:\n",
    "    print('Отвергаем нулевую гипотезу')\n",
    "else:\n",
    "    print('Не отвергаем нулевую гипотезу')"
   ]
  },
  {
   "cell_type": "markdown",
   "id": "3fa209fc",
   "metadata": {},
   "source": [
    "**Вывод:** Скорее всего помесячная выручка от пользователей с подпиской выше, чем выручка от пользователей без подписки."
   ]
  },
  {
   "cell_type": "markdown",
   "id": "983f1449",
   "metadata": {},
   "source": [
    "#### Ответ на вопрос, касающийся обновления сервера"
   ]
  },
  {
   "cell_type": "markdown",
   "id": "56a169a0",
   "metadata": {},
   "source": [
    "**Вопрос:**\n",
    "\n",
    "Представьте такую ситуацию: техническая команда сервиса обновила сервера, с которыми взаимодействует мобильное приложение. Она надеется, что из-за этого количество обращений в техподдержку значимо снизилось. Некоторый файл содержит для каждого пользователя данные о количестве обращений до обновления и после него. Какой тест вам понадобился бы для проверки этой гипотезы?"
   ]
  },
  {
   "cell_type": "markdown",
   "id": "ae382989",
   "metadata": {},
   "source": [
    "**Ответ:**\n",
    "\n",
    "Для проверки данной гипотезы понадобится провести тест ttest_rel() библиотеки scipy.stats, с оргументом alternative='greater':\n",
    "\n",
    "from scipy import stats as st\n",
    "results = st.ttest_rel(before, after, alternative='less')\n",
    "\n",
    "Гипотезы будут сформулированы следующим образом:\n",
    "- Нулевая гипотеза: Количестве обращений до и после обновления не изменилось.\n",
    "- Альтернативная гипотеза: Количестве обращений после обновления снизилось.\n",
    "\n",
    "Поскольку, техническую команду интересуют только значимые изменения, возьмём коэффициент alpha = 0.01, ближе к нижней границе, тогда сравнение будет выглядеть следующим образом:\n",
    "\n",
    "if results.pvalue < alpha:\n",
    "    \n",
    "    print('Отвергаем нулевую гипотезу')\n",
    "\n",
    "else:\n",
    "    \n",
    "    print('Не отвергаем нулевую гипотезу')\n",
    "\n",
    "В случае, если нулевая гипотеза будет отвергнута, будут основания считать, что верна альтернативная - т.е. что количество обращений снизилось."
   ]
  },
  {
   "cell_type": "markdown",
   "id": "61213c5e",
   "metadata": {},
   "source": [
    "### Рассчёты распределений"
   ]
  },
  {
   "cell_type": "markdown",
   "id": "07894d1f",
   "metadata": {},
   "source": [
    "#### Рассчёт количества промокодов"
   ]
  },
  {
   "cell_type": "markdown",
   "id": "fc3a8799",
   "metadata": {},
   "source": [
    "**Постановка задачи:**\n",
    "\n",
    "Отделу маркетинга поставили задачу: нужно провести акцию с раздачей промокодов на один бесплатный месяц подписки, в рамках которой как минимум 100 существующих клиентов должны продлить эту подписку. То есть по завершении периода действия подписки пользователь может либо отказаться от неё, либо продлить, совершив соответствующий платёж.\n",
    "\n",
    "Эта акция уже проводилась ранее и по итогу выяснилось, что после бесплатного пробного периода подписку продлевают 10% пользователей. Выясните, какое минимальное количество промокодов нужно разослать, чтобы вероятность не выполнить план была примерно 5%. Подберите параметры распределения, описывающего эту ситуацию, постройте график распределения и сформулируйте ответ на вопрос о количестве промокодов."
   ]
  },
  {
   "cell_type": "markdown",
   "id": "efd735ee",
   "metadata": {},
   "source": [
    "**Построение графика:**\n",
    "\n",
    "Построим график зависимости вероятности получить 100 поьзователей, продливших подписку от общего числа разосланных промокодов:"
   ]
  },
  {
   "cell_type": "code",
   "execution_count": 70,
   "id": "6e2e5ccc",
   "metadata": {},
   "outputs": [
    {
     "data": {
      "image/png": "[encoded data removed]",
      "text/plain": [
       "<Figure size 792x432 with 1 Axes>"
      ]
     },
     "metadata": {
      "needs_background": "light"
     },
     "output_type": "display_data"
    }
   ],
   "source": [
    "# Задаём примерное кол-во разосланных промокодов, \n",
    "# которое точно будет больше, чем нам нужно\n",
    "n = 1501\n",
    "# Создаём список значений с вероятностями получить ровно 100 подписчиков, \n",
    "# в зависимости от кол-ва разосланных промокодов\n",
    "distr=[]\n",
    "for i in range(650, n):\n",
    "    distr.append(st.binom.pmf(k=100, n=i, p=0.1))\n",
    "# Строим график\n",
    "plt.figure(figsize=(11, 6))\n",
    "plt.title('Распределение вероятности набрать 100 подписчиков, в зависимости от количества промокодов')\n",
    "plt.xlabel('Количество разосланных промокодов')\n",
    "plt.ylabel('Вероятность получить 100 подписчиков')\n",
    "plt.grid()\n",
    "plt.bar(range(650, n), distr)\n",
    "plt.show()"
   ]
  },
  {
   "cell_type": "markdown",
   "id": "16724344",
   "metadata": {},
   "source": [
    "**Рассчёт нужного количества разосланных промоколов:**"
   ]
  },
  {
   "cell_type": "code",
   "execution_count": 71,
   "id": "30559e6d",
   "metadata": {},
   "outputs": [
    {
     "name": "stdout",
     "output_type": "stream",
     "text": [
      "Необходимое количество промокодов: 1172\n"
     ]
    }
   ],
   "source": [
    "#  Задаём параметры\n",
    "k=100\n",
    "n = 1500\n",
    "alpha = 0.05\n",
    "# Циклом подбираем нужное n\n",
    "for i in range(n):\n",
    "    p = st.binom.cdf(k=100, n=i, p=0.1)\n",
    "    if st.binom.cdf(k=100, n=i, p=0.1) < alpha:\n",
    "        break\n",
    "print(f'Необходимое количество промокодов: {i}')"
   ]
  },
  {
   "cell_type": "markdown",
   "id": "a70c5940",
   "metadata": {},
   "source": [
    "**Вывод:**\n",
    "\n",
    "Для того что бы вероятность не выполнить план по получению 100 новых подписчиков была не более 5%, нужно разослать не менее 1172 промокодов."
   ]
  },
  {
   "cell_type": "markdown",
   "id": "714149b8",
   "metadata": {},
   "source": [
    "#### Оценка вероятности открытия уведомлений"
   ]
  },
  {
   "cell_type": "markdown",
   "id": "989d24ce",
   "metadata": {},
   "source": [
    "**Постановка задачи:**\n",
    "\n",
    "Отдел маркетинга рассылает клиентам push-уведомления в мобильном приложении. Клиенты могут открыть его или не открывать. Известно, что уведомления открывают около 40% получивших клиентов. Отдел планирует разослать 1 млн. уведомлений. С помощью аппроксимации постройте примерный график распределения и оцените вероятность того, что уведомление откроют не более 399.5 тыс. пользователей."
   ]
  },
  {
   "cell_type": "markdown",
   "id": "2faf82a7",
   "metadata": {},
   "source": [
    "**Построение графика:**\n",
    "\n",
    "Поскольку n (количество уведомлений) достаточно большое, а p (вероятность прочтения сообщения) близко к 0.5, мы можем аппроксимировать биномиальное распределение нормальным и построим график нормального распределения."
   ]
  },
  {
   "cell_type": "code",
   "execution_count": 72,
   "id": "cc83887f",
   "metadata": {},
   "outputs": [
    {
     "data": {
      "image/png": "[encoded data removed]",
      "text/plain": [
       "<Figure size 792x288 with 1 Axes>"
      ]
     },
     "metadata": {
      "needs_background": "light"
     },
     "output_type": "display_data"
    }
   ],
   "source": [
    "# Задаём параметры биномиального распределения\n",
    "n = 10**6\n",
    "p = 0.4\n",
    "\n",
    "# Зададим мат.ожидание и ст.отклонение нормального распределения равными\n",
    "# мат.ожиданию и ст.отклонению биномиального распределения\n",
    "mu = n * p\n",
    "sigma = (n * p * (1 - p)) ** 0.5\n",
    "\n",
    "# Задаём нормальное распределение по параметрам\n",
    "distr = st.norm(mu, sigma)\n",
    "\n",
    "# Создаём диапазон для оси x\n",
    "x_array = np.linspace(mu - 4*sigma, mu + 4*sigma, 100)\n",
    "\n",
    "# ПОтрисовываем график\n",
    "plt.figure(figsize=(11, 4))\n",
    "plt.title('График распределения (построенный с помощью аппроксимации)')\n",
    "plt.xlabel('Количество разосланных сообщений')\n",
    "plt.ylabel('Вероятность прочтения')\n",
    "plt.grid()\n",
    "plt.plot(x_array, st.norm.pdf(x_array, mu, sigma))\n",
    "plt.show()"
   ]
  },
  {
   "cell_type": "code",
   "execution_count": 73,
   "id": "454f627a",
   "metadata": {},
   "outputs": [
    {
     "name": "stdout",
     "output_type": "stream",
     "text": [
      "Вероятность: 15.37%\n"
     ]
    }
   ],
   "source": [
    "value = 399500\n",
    "# считаем вероятность хвоста слева от 43 тысяч\n",
    "result = distr.cdf(value)\n",
    "print(f'Вероятность: {result:.2%}')"
   ]
  },
  {
   "cell_type": "markdown",
   "id": "0cd4023a",
   "metadata": {},
   "source": [
    "**Вывод:**\n",
    "\n",
    "Вероятность того, что уведомления откроют не более 399.500 пользователей (при 1 млн. разосланных уведомлений) равна 15.37%."
   ]
  },
  {
   "cell_type": "markdown",
   "id": "41a5d554",
   "metadata": {},
   "source": [
    "### Общий вывод"
   ]
  },
  {
   "cell_type": "markdown",
   "id": "37d4345d",
   "metadata": {},
   "source": [
    "**Выводы:**\n",
    "\n",
    "1. В 95-ти поездках были выявлены аномально низкие значения времени. Скорее всего плата за эти поездки была начислена некорректно. Рекомендую передать информацию в техническую поддержку для проверки и устранения неполадок.\n",
    "\n",
    "2. Средний возраст пользователей от 20-ти до 30-ти лет. Таргетированную рекламу лучше настраивать на эту возрастную категорию.\n",
    "\n",
    "3. Можно сделать вывод, что пользователи с подпиской предпочтительнее, потому что:\n",
    "    - помесячная выручка от пользователей с подпиской выше\n",
    "    - среднее расстояние, которое проезжают пользователи с подпиской за одну поездку не превышает оптимальное с точки зрения износа самоката\n",
    "\n",
    "4. В Москве и Омске доля пользователей с платной подпиский максимальная (около 50%), в то время, как в Пятигорске и Краснодаре она минимальная (43% и 42% соответственно). Увеличивать долю платных подписок лучше начинать с этих городов, т.к. потенциал для роста там больше.\n",
    "\n",
    "**Ответы на вопросы:**\n",
    "\n",
    "1. Для того что бы вероятность не выполнить план по получению 100 новых подписчиков была не более 5%, нужно разослать не менее 1172 промокодов.\n",
    "2. Вероятность того, что уведомления откроют не более 399.500 пользователей (при 1 млн. разосланных уведомлений) равна 15.37%.\n",
    "\n"
   ]
  }
 ],
 "metadata": {
  "ExecuteTimeLog": [
   {
    "duration": 46,
    "start_time": "2024-02-08T11:13:48.516Z"
   },
   {
    "duration": 362,
    "start_time": "2024-02-08T11:13:55.414Z"
   },
   {
    "duration": 28,
    "start_time": "2024-02-08T11:13:57.835Z"
   },
   {
    "duration": 73,
    "start_time": "2024-02-08T11:14:08.661Z"
   },
   {
    "duration": 15,
    "start_time": "2024-02-08T11:14:19.292Z"
   },
   {
    "duration": 138,
    "start_time": "2024-02-08T11:15:16.466Z"
   },
   {
    "duration": 66,
    "start_time": "2024-02-08T11:15:30.098Z"
   },
   {
    "duration": 11,
    "start_time": "2024-02-08T11:15:51.875Z"
   },
   {
    "duration": 10,
    "start_time": "2024-02-08T11:16:04.493Z"
   },
   {
    "duration": 14,
    "start_time": "2024-02-08T11:16:06.946Z"
   },
   {
    "duration": 65,
    "start_time": "2024-02-08T11:18:01.420Z"
   },
   {
    "duration": 3,
    "start_time": "2024-02-08T11:18:33.612Z"
   },
   {
    "duration": 8,
    "start_time": "2024-02-08T11:21:38.184Z"
   },
   {
    "duration": 11,
    "start_time": "2024-02-08T11:21:48.771Z"
   },
   {
    "duration": 7,
    "start_time": "2024-02-08T11:22:16.643Z"
   },
   {
    "duration": 9,
    "start_time": "2024-02-08T11:22:32.619Z"
   },
   {
    "duration": 9,
    "start_time": "2024-02-08T11:23:00.427Z"
   },
   {
    "duration": 5,
    "start_time": "2024-02-08T11:24:34.602Z"
   },
   {
    "duration": 7,
    "start_time": "2024-02-08T11:24:42.115Z"
   },
   {
    "duration": 6,
    "start_time": "2024-02-08T11:24:52.938Z"
   },
   {
    "duration": 432,
    "start_time": "2024-02-08T13:03:10.311Z"
   },
   {
    "duration": 86,
    "start_time": "2024-02-08T13:08:37.168Z"
   },
   {
    "duration": 74,
    "start_time": "2024-02-08T13:09:59.887Z"
   },
   {
    "duration": 7,
    "start_time": "2024-02-08T13:14:06.606Z"
   },
   {
    "duration": 5,
    "start_time": "2024-02-08T13:15:04.534Z"
   },
   {
    "duration": 4,
    "start_time": "2024-02-08T13:15:45.839Z"
   },
   {
    "duration": 6,
    "start_time": "2024-02-08T14:02:42.077Z"
   },
   {
    "duration": 4,
    "start_time": "2024-02-08T14:03:50.525Z"
   },
   {
    "duration": 6,
    "start_time": "2024-02-08T14:05:45.141Z"
   },
   {
    "duration": 4,
    "start_time": "2024-02-08T14:06:03.869Z"
   },
   {
    "duration": 5,
    "start_time": "2024-02-08T14:07:54.844Z"
   },
   {
    "duration": 8,
    "start_time": "2024-02-08T14:08:03.027Z"
   },
   {
    "duration": 26,
    "start_time": "2024-02-08T14:09:38.202Z"
   },
   {
    "duration": 10,
    "start_time": "2024-02-08T14:09:47.596Z"
   },
   {
    "duration": 8,
    "start_time": "2024-02-08T14:09:58.539Z"
   },
   {
    "duration": 7,
    "start_time": "2024-02-08T14:10:10.299Z"
   },
   {
    "duration": 11,
    "start_time": "2024-02-08T14:10:18.987Z"
   },
   {
    "duration": 10,
    "start_time": "2024-02-08T14:10:38.396Z"
   },
   {
    "duration": 4,
    "start_time": "2024-02-08T14:11:05.683Z"
   },
   {
    "duration": 11,
    "start_time": "2024-02-08T14:18:58.555Z"
   },
   {
    "duration": 1229,
    "start_time": "2024-02-08T14:27:46.239Z"
   },
   {
    "duration": 173,
    "start_time": "2024-02-08T14:28:07.832Z"
   },
   {
    "duration": 3,
    "start_time": "2024-02-08T14:30:09.029Z"
   },
   {
    "duration": 3,
    "start_time": "2024-02-08T14:31:15.902Z"
   },
   {
    "duration": 15,
    "start_time": "2024-02-08T14:32:59.558Z"
   },
   {
    "duration": 5,
    "start_time": "2024-02-08T14:33:33.485Z"
   },
   {
    "duration": 8,
    "start_time": "2024-02-08T14:33:35.309Z"
   },
   {
    "duration": 3,
    "start_time": "2024-02-08T14:34:29.886Z"
   },
   {
    "duration": 3,
    "start_time": "2024-02-08T14:34:35.294Z"
   },
   {
    "duration": 4,
    "start_time": "2024-02-08T14:35:14.494Z"
   },
   {
    "duration": 2,
    "start_time": "2024-02-08T14:35:16.717Z"
   },
   {
    "duration": 671,
    "start_time": "2024-02-08T14:35:24.628Z"
   },
   {
    "duration": 3,
    "start_time": "2024-02-08T14:35:25.301Z"
   },
   {
    "duration": 83,
    "start_time": "2024-02-08T14:35:25.305Z"
   },
   {
    "duration": 17,
    "start_time": "2024-02-08T14:35:25.390Z"
   },
   {
    "duration": 12,
    "start_time": "2024-02-08T14:35:25.409Z"
   },
   {
    "duration": 5,
    "start_time": "2024-02-08T14:35:25.422Z"
   },
   {
    "duration": 10,
    "start_time": "2024-02-08T14:35:25.429Z"
   },
   {
    "duration": 35,
    "start_time": "2024-02-08T14:35:25.441Z"
   },
   {
    "duration": 7,
    "start_time": "2024-02-08T14:35:25.478Z"
   },
   {
    "duration": 11,
    "start_time": "2024-02-08T14:35:25.487Z"
   },
   {
    "duration": 6,
    "start_time": "2024-02-08T14:35:25.499Z"
   },
   {
    "duration": 8,
    "start_time": "2024-02-08T14:35:25.506Z"
   },
   {
    "duration": 5,
    "start_time": "2024-02-08T14:35:25.565Z"
   },
   {
    "duration": 11,
    "start_time": "2024-02-08T14:35:25.572Z"
   },
   {
    "duration": 9,
    "start_time": "2024-02-08T14:35:25.585Z"
   },
   {
    "duration": 244,
    "start_time": "2024-02-08T14:35:25.595Z"
   },
   {
    "duration": 254,
    "start_time": "2024-02-08T14:35:37.215Z"
   },
   {
    "duration": 168,
    "start_time": "2024-02-08T14:35:44.840Z"
   },
   {
    "duration": 4,
    "start_time": "2024-02-08T14:36:11.408Z"
   },
   {
    "duration": 240,
    "start_time": "2024-02-08T14:39:15.670Z"
   },
   {
    "duration": 123,
    "start_time": "2024-02-08T14:39:46.063Z"
   },
   {
    "duration": 245,
    "start_time": "2024-02-08T14:39:49.631Z"
   },
   {
    "duration": 364,
    "start_time": "2024-02-08T14:39:54.382Z"
   },
   {
    "duration": 292,
    "start_time": "2024-02-08T14:40:04.071Z"
   },
   {
    "duration": 2037,
    "start_time": "2024-02-08T14:40:10.455Z"
   },
   {
    "duration": 239,
    "start_time": "2024-02-08T14:40:15.229Z"
   },
   {
    "duration": 4,
    "start_time": "2024-02-08T14:45:36.357Z"
   },
   {
    "duration": 228,
    "start_time": "2024-02-08T14:48:26.516Z"
   },
   {
    "duration": 90,
    "start_time": "2024-02-08T14:53:12.916Z"
   },
   {
    "duration": 245,
    "start_time": "2024-02-08T14:53:26.042Z"
   },
   {
    "duration": 73,
    "start_time": "2024-02-08T14:55:24.861Z"
   },
   {
    "duration": 22,
    "start_time": "2024-02-08T14:55:29.753Z"
   },
   {
    "duration": 4,
    "start_time": "2024-02-08T14:56:35.550Z"
   },
   {
    "duration": 381,
    "start_time": "2024-02-08T14:56:52.186Z"
   },
   {
    "duration": 5,
    "start_time": "2024-02-08T14:57:06.225Z"
   },
   {
    "duration": 11,
    "start_time": "2024-02-08T14:59:24.395Z"
   },
   {
    "duration": 20,
    "start_time": "2024-02-08T15:02:09.907Z"
   },
   {
    "duration": 5,
    "start_time": "2024-02-08T15:14:05.223Z"
   },
   {
    "duration": 16,
    "start_time": "2024-02-08T15:15:38.944Z"
   },
   {
    "duration": 7,
    "start_time": "2024-02-08T15:16:46.504Z"
   },
   {
    "duration": 70,
    "start_time": "2024-02-08T15:18:09.487Z"
   },
   {
    "duration": 7,
    "start_time": "2024-02-08T15:18:56.813Z"
   },
   {
    "duration": 80,
    "start_time": "2024-02-08T15:19:10.653Z"
   },
   {
    "duration": 8,
    "start_time": "2024-02-08T15:19:39.133Z"
   },
   {
    "duration": 5,
    "start_time": "2024-02-08T15:19:57.865Z"
   },
   {
    "duration": 6,
    "start_time": "2024-02-08T15:20:30.398Z"
   },
   {
    "duration": 7,
    "start_time": "2024-02-08T15:20:49.806Z"
   },
   {
    "duration": 7,
    "start_time": "2024-02-08T15:21:03.933Z"
   },
   {
    "duration": 7,
    "start_time": "2024-02-08T15:21:09.589Z"
   },
   {
    "duration": 10,
    "start_time": "2024-02-08T15:26:11.525Z"
   },
   {
    "duration": 4,
    "start_time": "2024-02-08T15:28:08.429Z"
   },
   {
    "duration": 72,
    "start_time": "2024-02-08T15:32:44.012Z"
   },
   {
    "duration": 10,
    "start_time": "2024-02-08T15:32:54.163Z"
   },
   {
    "duration": 21,
    "start_time": "2024-02-08T15:33:36.603Z"
   },
   {
    "duration": 19,
    "start_time": "2024-02-08T15:34:05.308Z"
   },
   {
    "duration": 10,
    "start_time": "2024-02-08T15:34:18.261Z"
   },
   {
    "duration": 6,
    "start_time": "2024-02-08T15:38:38.842Z"
   },
   {
    "duration": 5,
    "start_time": "2024-02-08T15:39:16.547Z"
   },
   {
    "duration": 91,
    "start_time": "2024-02-08T15:42:24.753Z"
   },
   {
    "duration": 76,
    "start_time": "2024-02-08T15:42:39.330Z"
   },
   {
    "duration": 15,
    "start_time": "2024-02-08T15:42:45.531Z"
   },
   {
    "duration": 7,
    "start_time": "2024-02-08T15:42:53.177Z"
   },
   {
    "duration": 12,
    "start_time": "2024-02-08T15:45:32.881Z"
   },
   {
    "duration": 11,
    "start_time": "2024-02-08T15:47:48.696Z"
   },
   {
    "duration": 213,
    "start_time": "2024-02-08T15:48:26.879Z"
   },
   {
    "duration": 11,
    "start_time": "2024-02-08T15:49:23.992Z"
   },
   {
    "duration": 10,
    "start_time": "2024-02-08T15:50:02.783Z"
   },
   {
    "duration": 9,
    "start_time": "2024-02-08T15:50:15.136Z"
   },
   {
    "duration": 12,
    "start_time": "2024-02-08T15:56:25.480Z"
   },
   {
    "duration": 668,
    "start_time": "2024-02-08T15:57:02.854Z"
   },
   {
    "duration": 2,
    "start_time": "2024-02-08T15:57:03.524Z"
   },
   {
    "duration": 95,
    "start_time": "2024-02-08T15:57:03.527Z"
   },
   {
    "duration": 13,
    "start_time": "2024-02-08T15:57:03.624Z"
   },
   {
    "duration": 23,
    "start_time": "2024-02-08T15:57:03.639Z"
   },
   {
    "duration": 15,
    "start_time": "2024-02-08T15:57:03.664Z"
   },
   {
    "duration": 23,
    "start_time": "2024-02-08T15:57:03.681Z"
   },
   {
    "duration": 11,
    "start_time": "2024-02-08T15:57:03.706Z"
   },
   {
    "duration": 7,
    "start_time": "2024-02-08T15:57:03.718Z"
   },
   {
    "duration": 9,
    "start_time": "2024-02-08T15:57:03.728Z"
   },
   {
    "duration": 9,
    "start_time": "2024-02-08T15:57:03.739Z"
   },
   {
    "duration": 27,
    "start_time": "2024-02-08T15:57:03.749Z"
   },
   {
    "duration": 5,
    "start_time": "2024-02-08T15:57:03.778Z"
   },
   {
    "duration": 3,
    "start_time": "2024-02-08T15:57:03.785Z"
   },
   {
    "duration": 8,
    "start_time": "2024-02-08T15:57:03.790Z"
   },
   {
    "duration": 226,
    "start_time": "2024-02-08T15:57:03.799Z"
   },
   {
    "duration": 277,
    "start_time": "2024-02-08T15:57:04.027Z"
   },
   {
    "duration": 319,
    "start_time": "2024-02-08T15:57:04.307Z"
   },
   {
    "duration": 8,
    "start_time": "2024-02-08T15:57:04.628Z"
   },
   {
    "duration": 15,
    "start_time": "2024-02-08T15:57:04.638Z"
   },
   {
    "duration": 17,
    "start_time": "2024-02-08T15:57:04.655Z"
   },
   {
    "duration": 15,
    "start_time": "2024-02-08T15:57:04.674Z"
   },
   {
    "duration": 270,
    "start_time": "2024-02-08T15:57:04.690Z"
   },
   {
    "duration": 13,
    "start_time": "2024-02-08T15:57:04.962Z"
   },
   {
    "duration": 12,
    "start_time": "2024-02-08T15:57:04.977Z"
   },
   {
    "duration": 1331,
    "start_time": "2024-02-08T15:57:34.094Z"
   },
   {
    "duration": 10,
    "start_time": "2024-02-08T15:57:54.221Z"
   },
   {
    "duration": 238,
    "start_time": "2024-02-08T15:57:57.221Z"
   },
   {
    "duration": 234,
    "start_time": "2024-02-08T15:58:14.190Z"
   },
   {
    "duration": 216,
    "start_time": "2024-02-08T15:59:00.719Z"
   },
   {
    "duration": 225,
    "start_time": "2024-02-08T15:59:17.958Z"
   },
   {
    "duration": 233,
    "start_time": "2024-02-08T15:59:37.678Z"
   },
   {
    "duration": 220,
    "start_time": "2024-02-08T15:59:45.406Z"
   },
   {
    "duration": 9,
    "start_time": "2024-02-08T16:02:47.893Z"
   },
   {
    "duration": 9,
    "start_time": "2024-02-08T16:02:51.307Z"
   },
   {
    "duration": 11,
    "start_time": "2024-02-08T16:02:55.564Z"
   },
   {
    "duration": 9,
    "start_time": "2024-02-08T16:04:34.162Z"
   },
   {
    "duration": 3,
    "start_time": "2024-02-08T16:04:41.019Z"
   },
   {
    "duration": 191,
    "start_time": "2024-02-08T16:04:48.652Z"
   },
   {
    "duration": 3,
    "start_time": "2024-02-08T16:05:14.588Z"
   },
   {
    "duration": 158,
    "start_time": "2024-02-08T16:05:21.027Z"
   },
   {
    "duration": 150,
    "start_time": "2024-02-08T16:05:34.915Z"
   },
   {
    "duration": 3,
    "start_time": "2024-02-08T16:05:39.043Z"
   },
   {
    "duration": 177,
    "start_time": "2024-02-08T16:05:41.490Z"
   },
   {
    "duration": 2,
    "start_time": "2024-02-08T16:05:46.108Z"
   },
   {
    "duration": 185,
    "start_time": "2024-02-08T16:05:48.042Z"
   },
   {
    "duration": 3,
    "start_time": "2024-02-08T16:05:52.884Z"
   },
   {
    "duration": 172,
    "start_time": "2024-02-08T16:05:55.149Z"
   },
   {
    "duration": 3,
    "start_time": "2024-02-08T16:05:59.260Z"
   },
   {
    "duration": 160,
    "start_time": "2024-02-08T16:06:01.475Z"
   },
   {
    "duration": 3,
    "start_time": "2024-02-08T16:06:27.059Z"
   },
   {
    "duration": 155,
    "start_time": "2024-02-08T16:06:29.275Z"
   },
   {
    "duration": 3,
    "start_time": "2024-02-08T16:06:39.251Z"
   },
   {
    "duration": 3,
    "start_time": "2024-02-08T16:07:25.498Z"
   },
   {
    "duration": 601,
    "start_time": "2024-02-08T16:07:32.606Z"
   },
   {
    "duration": 3,
    "start_time": "2024-02-08T16:07:33.208Z"
   },
   {
    "duration": 71,
    "start_time": "2024-02-08T16:07:33.212Z"
   },
   {
    "duration": 10,
    "start_time": "2024-02-08T16:07:33.285Z"
   },
   {
    "duration": 10,
    "start_time": "2024-02-08T16:07:33.296Z"
   },
   {
    "duration": 15,
    "start_time": "2024-02-08T16:07:33.308Z"
   },
   {
    "duration": 13,
    "start_time": "2024-02-08T16:07:33.325Z"
   },
   {
    "duration": 11,
    "start_time": "2024-02-08T16:07:33.341Z"
   },
   {
    "duration": 6,
    "start_time": "2024-02-08T16:07:33.353Z"
   },
   {
    "duration": 21,
    "start_time": "2024-02-08T16:07:33.362Z"
   },
   {
    "duration": 4,
    "start_time": "2024-02-08T16:07:33.385Z"
   },
   {
    "duration": 7,
    "start_time": "2024-02-08T16:07:33.391Z"
   },
   {
    "duration": 4,
    "start_time": "2024-02-08T16:07:33.399Z"
   },
   {
    "duration": 5,
    "start_time": "2024-02-08T16:07:33.404Z"
   },
   {
    "duration": 8,
    "start_time": "2024-02-08T16:07:33.410Z"
   },
   {
    "duration": 210,
    "start_time": "2024-02-08T16:07:33.419Z"
   },
   {
    "duration": 253,
    "start_time": "2024-02-08T16:07:33.631Z"
   },
   {
    "duration": 303,
    "start_time": "2024-02-08T16:07:33.885Z"
   },
   {
    "duration": 7,
    "start_time": "2024-02-08T16:07:34.190Z"
   },
   {
    "duration": 20,
    "start_time": "2024-02-08T16:07:34.199Z"
   },
   {
    "duration": 9,
    "start_time": "2024-02-08T16:07:34.221Z"
   },
   {
    "duration": 30,
    "start_time": "2024-02-08T16:07:34.231Z"
   },
   {
    "duration": 315,
    "start_time": "2024-02-08T16:07:34.263Z"
   },
   {
    "duration": 0,
    "start_time": "2024-02-08T16:07:34.580Z"
   },
   {
    "duration": 0,
    "start_time": "2024-02-08T16:07:34.581Z"
   },
   {
    "duration": 250,
    "start_time": "2024-02-08T16:07:51.444Z"
   },
   {
    "duration": 611,
    "start_time": "2024-02-08T16:08:01.623Z"
   },
   {
    "duration": 2,
    "start_time": "2024-02-08T16:08:02.236Z"
   },
   {
    "duration": 79,
    "start_time": "2024-02-08T16:08:02.239Z"
   },
   {
    "duration": 10,
    "start_time": "2024-02-08T16:08:02.320Z"
   },
   {
    "duration": 14,
    "start_time": "2024-02-08T16:08:02.331Z"
   },
   {
    "duration": 18,
    "start_time": "2024-02-08T16:08:02.346Z"
   },
   {
    "duration": 28,
    "start_time": "2024-02-08T16:08:02.367Z"
   },
   {
    "duration": 21,
    "start_time": "2024-02-08T16:08:02.396Z"
   },
   {
    "duration": 19,
    "start_time": "2024-02-08T16:08:02.418Z"
   },
   {
    "duration": 12,
    "start_time": "2024-02-08T16:08:02.440Z"
   },
   {
    "duration": 13,
    "start_time": "2024-02-08T16:08:02.453Z"
   },
   {
    "duration": 16,
    "start_time": "2024-02-08T16:08:02.468Z"
   },
   {
    "duration": 4,
    "start_time": "2024-02-08T16:08:02.485Z"
   },
   {
    "duration": 7,
    "start_time": "2024-02-08T16:08:02.490Z"
   },
   {
    "duration": 9,
    "start_time": "2024-02-08T16:08:02.498Z"
   },
   {
    "duration": 213,
    "start_time": "2024-02-08T16:08:02.508Z"
   },
   {
    "duration": 239,
    "start_time": "2024-02-08T16:08:02.722Z"
   },
   {
    "duration": 291,
    "start_time": "2024-02-08T16:08:02.964Z"
   },
   {
    "duration": 12,
    "start_time": "2024-02-08T16:08:03.256Z"
   },
   {
    "duration": 12,
    "start_time": "2024-02-08T16:08:03.271Z"
   },
   {
    "duration": 7,
    "start_time": "2024-02-08T16:08:03.284Z"
   },
   {
    "duration": 12,
    "start_time": "2024-02-08T16:08:03.292Z"
   },
   {
    "duration": 251,
    "start_time": "2024-02-08T16:08:03.305Z"
   },
   {
    "duration": 15,
    "start_time": "2024-02-08T16:08:03.557Z"
   },
   {
    "duration": 22,
    "start_time": "2024-02-08T16:08:03.575Z"
   },
   {
    "duration": 90,
    "start_time": "2024-02-08T16:08:48.667Z"
   },
   {
    "duration": 3,
    "start_time": "2024-02-08T16:08:53.988Z"
   },
   {
    "duration": 673,
    "start_time": "2024-02-08T16:09:08.956Z"
   },
   {
    "duration": 2,
    "start_time": "2024-02-08T16:09:09.632Z"
   },
   {
    "duration": 69,
    "start_time": "2024-02-08T16:09:09.636Z"
   },
   {
    "duration": 10,
    "start_time": "2024-02-08T16:09:09.707Z"
   },
   {
    "duration": 10,
    "start_time": "2024-02-08T16:09:09.718Z"
   },
   {
    "duration": 8,
    "start_time": "2024-02-08T16:09:09.729Z"
   },
   {
    "duration": 10,
    "start_time": "2024-02-08T16:09:09.738Z"
   },
   {
    "duration": 13,
    "start_time": "2024-02-08T16:09:09.750Z"
   },
   {
    "duration": 11,
    "start_time": "2024-02-08T16:09:09.765Z"
   },
   {
    "duration": 15,
    "start_time": "2024-02-08T16:09:09.779Z"
   },
   {
    "duration": 6,
    "start_time": "2024-02-08T16:09:09.796Z"
   },
   {
    "duration": 7,
    "start_time": "2024-02-08T16:09:09.804Z"
   },
   {
    "duration": 4,
    "start_time": "2024-02-08T16:09:09.812Z"
   },
   {
    "duration": 6,
    "start_time": "2024-02-08T16:09:09.817Z"
   },
   {
    "duration": 41,
    "start_time": "2024-02-08T16:09:09.824Z"
   },
   {
    "duration": 179,
    "start_time": "2024-02-08T16:09:09.868Z"
   },
   {
    "duration": 240,
    "start_time": "2024-02-08T16:09:10.049Z"
   },
   {
    "duration": 296,
    "start_time": "2024-02-08T16:09:10.291Z"
   },
   {
    "duration": 7,
    "start_time": "2024-02-08T16:09:10.588Z"
   },
   {
    "duration": 32,
    "start_time": "2024-02-08T16:09:10.596Z"
   },
   {
    "duration": 28,
    "start_time": "2024-02-08T16:09:10.630Z"
   },
   {
    "duration": 27,
    "start_time": "2024-02-08T16:09:10.659Z"
   },
   {
    "duration": 236,
    "start_time": "2024-02-08T16:09:10.687Z"
   },
   {
    "duration": 5,
    "start_time": "2024-02-08T16:09:10.925Z"
   },
   {
    "duration": 18,
    "start_time": "2024-02-08T16:09:10.932Z"
   },
   {
    "duration": 13,
    "start_time": "2024-02-08T16:21:18.146Z"
   },
   {
    "duration": 69,
    "start_time": "2024-02-08T16:21:30.434Z"
   },
   {
    "duration": 5,
    "start_time": "2024-02-08T16:25:29.679Z"
   },
   {
    "duration": 4,
    "start_time": "2024-02-08T16:26:16.392Z"
   },
   {
    "duration": 5,
    "start_time": "2024-02-08T16:33:06.834Z"
   },
   {
    "duration": 5,
    "start_time": "2024-02-08T16:33:39.079Z"
   },
   {
    "duration": 649,
    "start_time": "2024-02-08T16:40:12.852Z"
   },
   {
    "duration": 3,
    "start_time": "2024-02-08T16:40:13.503Z"
   },
   {
    "duration": 67,
    "start_time": "2024-02-08T16:40:13.508Z"
   },
   {
    "duration": 15,
    "start_time": "2024-02-08T16:40:13.578Z"
   },
   {
    "duration": 15,
    "start_time": "2024-02-08T16:40:13.595Z"
   },
   {
    "duration": 8,
    "start_time": "2024-02-08T16:40:13.612Z"
   },
   {
    "duration": 17,
    "start_time": "2024-02-08T16:40:13.622Z"
   },
   {
    "duration": 35,
    "start_time": "2024-02-08T16:40:13.641Z"
   },
   {
    "duration": 6,
    "start_time": "2024-02-08T16:40:13.678Z"
   },
   {
    "duration": 13,
    "start_time": "2024-02-08T16:40:13.687Z"
   },
   {
    "duration": 6,
    "start_time": "2024-02-08T16:40:13.701Z"
   },
   {
    "duration": 10,
    "start_time": "2024-02-08T16:40:13.708Z"
   },
   {
    "duration": 3,
    "start_time": "2024-02-08T16:40:13.719Z"
   },
   {
    "duration": 4,
    "start_time": "2024-02-08T16:40:13.765Z"
   },
   {
    "duration": 15,
    "start_time": "2024-02-08T16:40:13.771Z"
   },
   {
    "duration": 5,
    "start_time": "2024-02-08T16:40:13.788Z"
   },
   {
    "duration": 227,
    "start_time": "2024-02-08T16:40:13.795Z"
   },
   {
    "duration": 261,
    "start_time": "2024-02-08T16:40:14.024Z"
   },
   {
    "duration": 296,
    "start_time": "2024-02-08T16:40:14.287Z"
   },
   {
    "duration": 7,
    "start_time": "2024-02-08T16:40:14.585Z"
   },
   {
    "duration": 14,
    "start_time": "2024-02-08T16:40:14.594Z"
   },
   {
    "duration": 11,
    "start_time": "2024-02-08T16:40:14.610Z"
   },
   {
    "duration": 12,
    "start_time": "2024-02-08T16:40:14.622Z"
   },
   {
    "duration": 235,
    "start_time": "2024-02-08T16:40:14.635Z"
   },
   {
    "duration": 4,
    "start_time": "2024-02-08T16:40:14.872Z"
   },
   {
    "duration": 10,
    "start_time": "2024-02-08T16:40:14.877Z"
   },
   {
    "duration": 7,
    "start_time": "2024-02-08T16:45:45.818Z"
   },
   {
    "duration": 5,
    "start_time": "2024-02-08T16:46:22.353Z"
   },
   {
    "duration": 4,
    "start_time": "2024-02-08T16:52:54.137Z"
   },
   {
    "duration": 578,
    "start_time": "2024-02-08T17:13:25.820Z"
   },
   {
    "duration": 3,
    "start_time": "2024-02-08T17:13:26.400Z"
   },
   {
    "duration": 84,
    "start_time": "2024-02-08T17:13:26.405Z"
   },
   {
    "duration": 12,
    "start_time": "2024-02-08T17:13:26.491Z"
   },
   {
    "duration": 21,
    "start_time": "2024-02-08T17:13:26.505Z"
   },
   {
    "duration": 12,
    "start_time": "2024-02-08T17:13:26.528Z"
   },
   {
    "duration": 21,
    "start_time": "2024-02-08T17:13:26.542Z"
   },
   {
    "duration": 18,
    "start_time": "2024-02-08T17:13:26.564Z"
   },
   {
    "duration": 15,
    "start_time": "2024-02-08T17:13:26.584Z"
   },
   {
    "duration": 21,
    "start_time": "2024-02-08T17:13:26.602Z"
   },
   {
    "duration": 31,
    "start_time": "2024-02-08T17:13:26.625Z"
   },
   {
    "duration": 23,
    "start_time": "2024-02-08T17:13:26.658Z"
   },
   {
    "duration": 18,
    "start_time": "2024-02-08T17:13:26.682Z"
   },
   {
    "duration": 11,
    "start_time": "2024-02-08T17:13:26.703Z"
   },
   {
    "duration": 24,
    "start_time": "2024-02-08T17:13:26.715Z"
   },
   {
    "duration": 6,
    "start_time": "2024-02-08T17:13:26.741Z"
   },
   {
    "duration": 180,
    "start_time": "2024-02-08T17:13:26.748Z"
   },
   {
    "duration": 225,
    "start_time": "2024-02-08T17:13:26.930Z"
   },
   {
    "duration": 293,
    "start_time": "2024-02-08T17:13:27.157Z"
   },
   {
    "duration": 18,
    "start_time": "2024-02-08T17:13:27.452Z"
   },
   {
    "duration": 11,
    "start_time": "2024-02-08T17:13:27.472Z"
   },
   {
    "duration": 27,
    "start_time": "2024-02-08T17:13:27.485Z"
   },
   {
    "duration": 31,
    "start_time": "2024-02-08T17:13:27.514Z"
   },
   {
    "duration": 21,
    "start_time": "2024-02-08T17:13:27.548Z"
   },
   {
    "duration": 270,
    "start_time": "2024-02-08T17:13:27.571Z"
   },
   {
    "duration": 9,
    "start_time": "2024-02-08T17:13:27.842Z"
   },
   {
    "duration": 27,
    "start_time": "2024-02-08T17:13:27.853Z"
   },
   {
    "duration": 12,
    "start_time": "2024-02-08T17:19:32.062Z"
   },
   {
    "duration": 11,
    "start_time": "2024-02-08T17:23:29.454Z"
   },
   {
    "duration": 99,
    "start_time": "2024-02-08T17:54:00.129Z"
   },
   {
    "duration": 9,
    "start_time": "2024-02-08T17:54:04.665Z"
   },
   {
    "duration": 7,
    "start_time": "2024-02-08T17:54:20.432Z"
   },
   {
    "duration": 8,
    "start_time": "2024-02-08T17:55:12.665Z"
   },
   {
    "duration": 8,
    "start_time": "2024-02-08T17:56:15.512Z"
   },
   {
    "duration": 6,
    "start_time": "2024-02-08T17:56:24.599Z"
   },
   {
    "duration": 6,
    "start_time": "2024-02-08T18:01:14.527Z"
   },
   {
    "duration": 4,
    "start_time": "2024-02-08T18:02:25.718Z"
   },
   {
    "duration": 146,
    "start_time": "2024-02-08T18:03:30.413Z"
   },
   {
    "duration": 3,
    "start_time": "2024-02-08T18:03:46.137Z"
   },
   {
    "duration": 6,
    "start_time": "2024-02-08T18:03:50.773Z"
   },
   {
    "duration": 11,
    "start_time": "2024-02-08T18:03:52.740Z"
   },
   {
    "duration": 10,
    "start_time": "2024-02-08T18:04:44.301Z"
   },
   {
    "duration": 8,
    "start_time": "2024-02-08T18:05:28.279Z"
   },
   {
    "duration": 6,
    "start_time": "2024-02-08T18:05:59.909Z"
   },
   {
    "duration": 9,
    "start_time": "2024-02-08T18:06:02.621Z"
   },
   {
    "duration": 5,
    "start_time": "2024-02-08T18:06:22.717Z"
   },
   {
    "duration": 627,
    "start_time": "2024-02-08T18:06:34.381Z"
   },
   {
    "duration": 5,
    "start_time": "2024-02-08T18:06:35.010Z"
   },
   {
    "duration": 79,
    "start_time": "2024-02-08T18:06:35.017Z"
   },
   {
    "duration": 14,
    "start_time": "2024-02-08T18:06:35.098Z"
   },
   {
    "duration": 13,
    "start_time": "2024-02-08T18:06:35.114Z"
   },
   {
    "duration": 12,
    "start_time": "2024-02-08T18:06:35.129Z"
   },
   {
    "duration": 13,
    "start_time": "2024-02-08T18:06:35.143Z"
   },
   {
    "duration": 16,
    "start_time": "2024-02-08T18:06:35.166Z"
   },
   {
    "duration": 10,
    "start_time": "2024-02-08T18:06:35.184Z"
   },
   {
    "duration": 10,
    "start_time": "2024-02-08T18:06:35.199Z"
   },
   {
    "duration": 6,
    "start_time": "2024-02-08T18:06:35.211Z"
   },
   {
    "duration": 47,
    "start_time": "2024-02-08T18:06:35.219Z"
   },
   {
    "duration": 5,
    "start_time": "2024-02-08T18:06:35.268Z"
   },
   {
    "duration": 5,
    "start_time": "2024-02-08T18:06:35.277Z"
   },
   {
    "duration": 20,
    "start_time": "2024-02-08T18:06:35.284Z"
   },
   {
    "duration": 5,
    "start_time": "2024-02-08T18:06:35.306Z"
   },
   {
    "duration": 221,
    "start_time": "2024-02-08T18:06:35.312Z"
   },
   {
    "duration": 271,
    "start_time": "2024-02-08T18:06:35.536Z"
   },
   {
    "duration": 320,
    "start_time": "2024-02-08T18:06:35.810Z"
   },
   {
    "duration": 9,
    "start_time": "2024-02-08T18:06:36.132Z"
   },
   {
    "duration": 22,
    "start_time": "2024-02-08T18:06:36.143Z"
   },
   {
    "duration": 9,
    "start_time": "2024-02-08T18:06:36.167Z"
   },
   {
    "duration": 6,
    "start_time": "2024-02-08T18:06:36.178Z"
   },
   {
    "duration": 15,
    "start_time": "2024-02-08T18:06:36.186Z"
   },
   {
    "duration": 264,
    "start_time": "2024-02-08T18:06:36.202Z"
   },
   {
    "duration": 14,
    "start_time": "2024-02-08T18:06:36.468Z"
   },
   {
    "duration": 16,
    "start_time": "2024-02-08T18:06:36.484Z"
   },
   {
    "duration": 13,
    "start_time": "2024-02-08T18:06:36.504Z"
   },
   {
    "duration": 81,
    "start_time": "2024-02-08T18:06:36.519Z"
   },
   {
    "duration": 5,
    "start_time": "2024-02-08T18:06:36.602Z"
   },
   {
    "duration": 9,
    "start_time": "2024-02-08T18:06:36.609Z"
   },
   {
    "duration": 6,
    "start_time": "2024-02-08T18:06:36.621Z"
   },
   {
    "duration": 18,
    "start_time": "2024-02-08T18:07:16.573Z"
   },
   {
    "duration": 3,
    "start_time": "2024-02-08T18:07:27.142Z"
   },
   {
    "duration": 4,
    "start_time": "2024-02-08T18:07:31.461Z"
   },
   {
    "duration": 7,
    "start_time": "2024-02-08T18:07:45.973Z"
   },
   {
    "duration": 685,
    "start_time": "2024-02-08T18:08:00.513Z"
   },
   {
    "duration": 5,
    "start_time": "2024-02-08T18:08:01.200Z"
   },
   {
    "duration": 121,
    "start_time": "2024-02-08T18:08:01.207Z"
   },
   {
    "duration": 17,
    "start_time": "2024-02-08T18:08:01.332Z"
   },
   {
    "duration": 44,
    "start_time": "2024-02-08T18:08:01.351Z"
   },
   {
    "duration": 19,
    "start_time": "2024-02-08T18:08:01.397Z"
   },
   {
    "duration": 29,
    "start_time": "2024-02-08T18:08:01.418Z"
   },
   {
    "duration": 69,
    "start_time": "2024-02-08T18:08:01.449Z"
   },
   {
    "duration": 32,
    "start_time": "2024-02-08T18:08:01.521Z"
   },
   {
    "duration": 40,
    "start_time": "2024-02-08T18:08:01.555Z"
   },
   {
    "duration": 26,
    "start_time": "2024-02-08T18:08:01.597Z"
   },
   {
    "duration": 23,
    "start_time": "2024-02-08T18:08:01.625Z"
   },
   {
    "duration": 6,
    "start_time": "2024-02-08T18:08:01.650Z"
   },
   {
    "duration": 35,
    "start_time": "2024-02-08T18:08:01.658Z"
   },
   {
    "duration": 36,
    "start_time": "2024-02-08T18:08:01.695Z"
   },
   {
    "duration": 18,
    "start_time": "2024-02-08T18:08:01.733Z"
   },
   {
    "duration": 206,
    "start_time": "2024-02-08T18:08:01.753Z"
   },
   {
    "duration": 271,
    "start_time": "2024-02-08T18:08:01.962Z"
   },
   {
    "duration": 319,
    "start_time": "2024-02-08T18:08:02.235Z"
   },
   {
    "duration": 14,
    "start_time": "2024-02-08T18:08:02.556Z"
   },
   {
    "duration": 10,
    "start_time": "2024-02-08T18:08:02.572Z"
   },
   {
    "duration": 14,
    "start_time": "2024-02-08T18:08:02.584Z"
   },
   {
    "duration": 4,
    "start_time": "2024-02-08T18:08:02.600Z"
   },
   {
    "duration": 12,
    "start_time": "2024-02-08T18:08:02.606Z"
   },
   {
    "duration": 268,
    "start_time": "2024-02-08T18:08:02.619Z"
   },
   {
    "duration": 12,
    "start_time": "2024-02-08T18:08:02.889Z"
   },
   {
    "duration": 11,
    "start_time": "2024-02-08T18:08:02.903Z"
   },
   {
    "duration": 11,
    "start_time": "2024-02-08T18:08:02.919Z"
   },
   {
    "duration": 55,
    "start_time": "2024-02-08T18:08:02.932Z"
   },
   {
    "duration": 5,
    "start_time": "2024-02-08T18:08:02.990Z"
   },
   {
    "duration": 4,
    "start_time": "2024-02-08T18:08:02.997Z"
   },
   {
    "duration": 9,
    "start_time": "2024-02-08T18:08:03.003Z"
   },
   {
    "duration": 8,
    "start_time": "2024-02-08T18:08:03.014Z"
   },
   {
    "duration": 74,
    "start_time": "2024-02-08T18:09:04.493Z"
   },
   {
    "duration": 13,
    "start_time": "2024-02-08T18:09:07.772Z"
   },
   {
    "duration": 681,
    "start_time": "2024-02-08T18:09:19.676Z"
   },
   {
    "duration": 6,
    "start_time": "2024-02-08T18:09:20.359Z"
   },
   {
    "duration": 77,
    "start_time": "2024-02-08T18:09:20.367Z"
   },
   {
    "duration": 16,
    "start_time": "2024-02-08T18:09:20.447Z"
   },
   {
    "duration": 14,
    "start_time": "2024-02-08T18:09:20.465Z"
   },
   {
    "duration": 5,
    "start_time": "2024-02-08T18:09:20.481Z"
   },
   {
    "duration": 11,
    "start_time": "2024-02-08T18:09:20.488Z"
   },
   {
    "duration": 15,
    "start_time": "2024-02-08T18:09:20.501Z"
   },
   {
    "duration": 9,
    "start_time": "2024-02-08T18:09:20.518Z"
   },
   {
    "duration": 13,
    "start_time": "2024-02-08T18:09:20.567Z"
   },
   {
    "duration": 12,
    "start_time": "2024-02-08T18:09:20.582Z"
   },
   {
    "duration": 11,
    "start_time": "2024-02-08T18:09:20.596Z"
   },
   {
    "duration": 5,
    "start_time": "2024-02-08T18:09:20.609Z"
   },
   {
    "duration": 5,
    "start_time": "2024-02-08T18:09:20.616Z"
   },
   {
    "duration": 51,
    "start_time": "2024-02-08T18:09:20.623Z"
   },
   {
    "duration": 8,
    "start_time": "2024-02-08T18:09:20.676Z"
   },
   {
    "duration": 207,
    "start_time": "2024-02-08T18:09:20.685Z"
   },
   {
    "duration": 256,
    "start_time": "2024-02-08T18:09:20.894Z"
   },
   {
    "duration": 331,
    "start_time": "2024-02-08T18:09:21.152Z"
   },
   {
    "duration": 8,
    "start_time": "2024-02-08T18:09:21.484Z"
   },
   {
    "duration": 8,
    "start_time": "2024-02-08T18:09:21.494Z"
   },
   {
    "duration": 11,
    "start_time": "2024-02-08T18:09:21.504Z"
   },
   {
    "duration": 5,
    "start_time": "2024-02-08T18:09:21.517Z"
   },
   {
    "duration": 48,
    "start_time": "2024-02-08T18:09:21.524Z"
   },
   {
    "duration": 252,
    "start_time": "2024-02-08T18:09:21.574Z"
   },
   {
    "duration": 12,
    "start_time": "2024-02-08T18:09:21.828Z"
   },
   {
    "duration": 25,
    "start_time": "2024-02-08T18:09:21.842Z"
   },
   {
    "duration": 68,
    "start_time": "2024-02-08T18:09:21.870Z"
   },
   {
    "duration": 0,
    "start_time": "2024-02-08T18:09:21.940Z"
   },
   {
    "duration": 0,
    "start_time": "2024-02-08T18:09:21.941Z"
   },
   {
    "duration": 0,
    "start_time": "2024-02-08T18:09:21.942Z"
   },
   {
    "duration": 0,
    "start_time": "2024-02-08T18:09:21.944Z"
   },
   {
    "duration": 0,
    "start_time": "2024-02-08T18:09:21.965Z"
   },
   {
    "duration": 0,
    "start_time": "2024-02-08T18:09:21.967Z"
   },
   {
    "duration": 611,
    "start_time": "2024-02-08T18:09:51.918Z"
   },
   {
    "duration": 4,
    "start_time": "2024-02-08T18:09:52.531Z"
   },
   {
    "duration": 83,
    "start_time": "2024-02-08T18:09:52.537Z"
   },
   {
    "duration": 16,
    "start_time": "2024-02-08T18:09:52.622Z"
   },
   {
    "duration": 12,
    "start_time": "2024-02-08T18:09:52.640Z"
   },
   {
    "duration": 13,
    "start_time": "2024-02-08T18:09:52.653Z"
   },
   {
    "duration": 9,
    "start_time": "2024-02-08T18:09:52.667Z"
   },
   {
    "duration": 15,
    "start_time": "2024-02-08T18:09:52.678Z"
   },
   {
    "duration": 8,
    "start_time": "2024-02-08T18:09:52.695Z"
   },
   {
    "duration": 12,
    "start_time": "2024-02-08T18:09:52.706Z"
   },
   {
    "duration": 15,
    "start_time": "2024-02-08T18:09:52.719Z"
   },
   {
    "duration": 32,
    "start_time": "2024-02-08T18:09:52.736Z"
   },
   {
    "duration": 7,
    "start_time": "2024-02-08T18:09:52.770Z"
   },
   {
    "duration": 40,
    "start_time": "2024-02-08T18:09:52.779Z"
   },
   {
    "duration": 61,
    "start_time": "2024-02-08T18:09:52.821Z"
   },
   {
    "duration": 16,
    "start_time": "2024-02-08T18:09:52.884Z"
   },
   {
    "duration": 265,
    "start_time": "2024-02-08T18:09:52.902Z"
   },
   {
    "duration": 240,
    "start_time": "2024-02-08T18:09:53.171Z"
   },
   {
    "duration": 335,
    "start_time": "2024-02-08T18:09:53.414Z"
   },
   {
    "duration": 17,
    "start_time": "2024-02-08T18:09:53.751Z"
   },
   {
    "duration": 10,
    "start_time": "2024-02-08T18:09:53.770Z"
   },
   {
    "duration": 17,
    "start_time": "2024-02-08T18:09:53.782Z"
   },
   {
    "duration": 7,
    "start_time": "2024-02-08T18:09:53.800Z"
   },
   {
    "duration": 10,
    "start_time": "2024-02-08T18:09:53.809Z"
   },
   {
    "duration": 254,
    "start_time": "2024-02-08T18:09:53.821Z"
   },
   {
    "duration": 13,
    "start_time": "2024-02-08T18:09:54.080Z"
   },
   {
    "duration": 13,
    "start_time": "2024-02-08T18:09:54.096Z"
   },
   {
    "duration": 8,
    "start_time": "2024-02-08T18:09:54.112Z"
   },
   {
    "duration": 12,
    "start_time": "2024-02-08T18:09:54.121Z"
   },
   {
    "duration": 73,
    "start_time": "2024-02-08T18:09:54.134Z"
   },
   {
    "duration": 5,
    "start_time": "2024-02-08T18:09:54.209Z"
   },
   {
    "duration": 5,
    "start_time": "2024-02-08T18:09:54.216Z"
   },
   {
    "duration": 11,
    "start_time": "2024-02-08T18:09:54.223Z"
   },
   {
    "duration": 30,
    "start_time": "2024-02-08T18:09:54.236Z"
   },
   {
    "duration": 697,
    "start_time": "2024-02-08T18:10:23.976Z"
   },
   {
    "duration": 3,
    "start_time": "2024-02-08T18:10:24.675Z"
   },
   {
    "duration": 83,
    "start_time": "2024-02-08T18:10:24.679Z"
   },
   {
    "duration": 17,
    "start_time": "2024-02-08T18:10:24.764Z"
   },
   {
    "duration": 14,
    "start_time": "2024-02-08T18:10:24.783Z"
   },
   {
    "duration": 9,
    "start_time": "2024-02-08T18:10:24.799Z"
   },
   {
    "duration": 9,
    "start_time": "2024-02-08T18:10:24.810Z"
   },
   {
    "duration": 44,
    "start_time": "2024-02-08T18:10:24.821Z"
   },
   {
    "duration": 9,
    "start_time": "2024-02-08T18:10:24.867Z"
   },
   {
    "duration": 11,
    "start_time": "2024-02-08T18:10:24.879Z"
   },
   {
    "duration": 7,
    "start_time": "2024-02-08T18:10:24.892Z"
   },
   {
    "duration": 9,
    "start_time": "2024-02-08T18:10:24.901Z"
   },
   {
    "duration": 4,
    "start_time": "2024-02-08T18:10:24.912Z"
   },
   {
    "duration": 49,
    "start_time": "2024-02-08T18:10:24.918Z"
   },
   {
    "duration": 13,
    "start_time": "2024-02-08T18:10:24.970Z"
   },
   {
    "duration": 11,
    "start_time": "2024-02-08T18:10:24.986Z"
   },
   {
    "duration": 200,
    "start_time": "2024-02-08T18:10:25.000Z"
   },
   {
    "duration": 375,
    "start_time": "2024-02-08T18:10:25.203Z"
   },
   {
    "duration": 361,
    "start_time": "2024-02-08T18:10:25.580Z"
   },
   {
    "duration": 8,
    "start_time": "2024-02-08T18:10:25.943Z"
   },
   {
    "duration": 22,
    "start_time": "2024-02-08T18:10:25.953Z"
   },
   {
    "duration": 9,
    "start_time": "2024-02-08T18:10:25.976Z"
   },
   {
    "duration": 5,
    "start_time": "2024-02-08T18:10:25.987Z"
   },
   {
    "duration": 14,
    "start_time": "2024-02-08T18:10:25.994Z"
   },
   {
    "duration": 264,
    "start_time": "2024-02-08T18:10:26.010Z"
   },
   {
    "duration": 10,
    "start_time": "2024-02-08T18:10:26.275Z"
   },
   {
    "duration": 10,
    "start_time": "2024-02-08T18:10:26.286Z"
   },
   {
    "duration": 6,
    "start_time": "2024-02-08T18:10:26.299Z"
   },
   {
    "duration": 14,
    "start_time": "2024-02-08T18:10:26.306Z"
   },
   {
    "duration": 59,
    "start_time": "2024-02-08T18:10:26.321Z"
   },
   {
    "duration": 4,
    "start_time": "2024-02-08T18:10:26.381Z"
   },
   {
    "duration": 4,
    "start_time": "2024-02-08T18:10:26.387Z"
   },
   {
    "duration": 15,
    "start_time": "2024-02-08T18:10:26.393Z"
   },
   {
    "duration": 8,
    "start_time": "2024-02-08T18:10:26.409Z"
   },
   {
    "duration": 750,
    "start_time": "2024-02-08T18:10:50.304Z"
   },
   {
    "duration": 10,
    "start_time": "2024-02-08T18:10:51.056Z"
   },
   {
    "duration": 81,
    "start_time": "2024-02-08T18:10:51.068Z"
   },
   {
    "duration": 15,
    "start_time": "2024-02-08T18:10:51.152Z"
   },
   {
    "duration": 14,
    "start_time": "2024-02-08T18:10:51.170Z"
   },
   {
    "duration": 5,
    "start_time": "2024-02-08T18:10:51.186Z"
   },
   {
    "duration": 20,
    "start_time": "2024-02-08T18:10:51.194Z"
   },
   {
    "duration": 20,
    "start_time": "2024-02-08T18:10:51.216Z"
   },
   {
    "duration": 34,
    "start_time": "2024-02-08T18:10:51.238Z"
   },
   {
    "duration": 18,
    "start_time": "2024-02-08T18:10:51.274Z"
   },
   {
    "duration": 15,
    "start_time": "2024-02-08T18:10:51.294Z"
   },
   {
    "duration": 11,
    "start_time": "2024-02-08T18:10:51.311Z"
   },
   {
    "duration": 5,
    "start_time": "2024-02-08T18:10:51.324Z"
   },
   {
    "duration": 34,
    "start_time": "2024-02-08T18:10:51.334Z"
   },
   {
    "duration": 15,
    "start_time": "2024-02-08T18:10:51.370Z"
   },
   {
    "duration": 16,
    "start_time": "2024-02-08T18:10:51.387Z"
   },
   {
    "duration": 305,
    "start_time": "2024-02-08T18:10:51.405Z"
   },
   {
    "duration": 388,
    "start_time": "2024-02-08T18:10:51.713Z"
   },
   {
    "duration": 433,
    "start_time": "2024-02-08T18:10:52.103Z"
   },
   {
    "duration": 9,
    "start_time": "2024-02-08T18:10:52.538Z"
   },
   {
    "duration": 28,
    "start_time": "2024-02-08T18:10:52.549Z"
   },
   {
    "duration": 12,
    "start_time": "2024-02-08T18:10:52.579Z"
   },
   {
    "duration": 7,
    "start_time": "2024-02-08T18:10:52.593Z"
   },
   {
    "duration": 16,
    "start_time": "2024-02-08T18:10:52.602Z"
   },
   {
    "duration": 309,
    "start_time": "2024-02-08T18:10:52.620Z"
   },
   {
    "duration": 10,
    "start_time": "2024-02-08T18:10:52.931Z"
   },
   {
    "duration": 26,
    "start_time": "2024-02-08T18:10:52.943Z"
   },
   {
    "duration": 8,
    "start_time": "2024-02-08T18:10:52.971Z"
   },
   {
    "duration": 17,
    "start_time": "2024-02-08T18:10:52.980Z"
   },
   {
    "duration": 37,
    "start_time": "2024-02-08T18:10:52.999Z"
   },
   {
    "duration": 3,
    "start_time": "2024-02-08T18:10:53.038Z"
   },
   {
    "duration": 23,
    "start_time": "2024-02-08T18:10:53.043Z"
   },
   {
    "duration": 10,
    "start_time": "2024-02-08T18:10:53.068Z"
   },
   {
    "duration": 9,
    "start_time": "2024-02-08T18:10:53.080Z"
   },
   {
    "duration": 782,
    "start_time": "2024-02-08T18:11:19.255Z"
   },
   {
    "duration": 2,
    "start_time": "2024-02-08T18:11:20.039Z"
   },
   {
    "duration": 80,
    "start_time": "2024-02-08T18:11:20.043Z"
   },
   {
    "duration": 16,
    "start_time": "2024-02-08T18:11:20.126Z"
   },
   {
    "duration": 16,
    "start_time": "2024-02-08T18:11:20.144Z"
   },
   {
    "duration": 6,
    "start_time": "2024-02-08T18:11:20.162Z"
   },
   {
    "duration": 25,
    "start_time": "2024-02-08T18:11:20.169Z"
   },
   {
    "duration": 16,
    "start_time": "2024-02-08T18:11:20.196Z"
   },
   {
    "duration": 13,
    "start_time": "2024-02-08T18:11:20.216Z"
   },
   {
    "duration": 13,
    "start_time": "2024-02-08T18:11:20.234Z"
   },
   {
    "duration": 8,
    "start_time": "2024-02-08T18:11:20.266Z"
   },
   {
    "duration": 10,
    "start_time": "2024-02-08T18:11:20.277Z"
   },
   {
    "duration": 7,
    "start_time": "2024-02-08T18:11:20.293Z"
   },
   {
    "duration": 8,
    "start_time": "2024-02-08T18:11:20.302Z"
   },
   {
    "duration": 14,
    "start_time": "2024-02-08T18:11:20.314Z"
   },
   {
    "duration": 39,
    "start_time": "2024-02-08T18:11:20.331Z"
   },
   {
    "duration": 281,
    "start_time": "2024-02-08T18:11:20.372Z"
   },
   {
    "duration": 307,
    "start_time": "2024-02-08T18:11:20.656Z"
   },
   {
    "duration": 506,
    "start_time": "2024-02-08T18:11:20.966Z"
   },
   {
    "duration": 9,
    "start_time": "2024-02-08T18:11:21.474Z"
   },
   {
    "duration": 13,
    "start_time": "2024-02-08T18:11:21.485Z"
   },
   {
    "duration": 12,
    "start_time": "2024-02-08T18:11:21.500Z"
   },
   {
    "duration": 8,
    "start_time": "2024-02-08T18:11:21.514Z"
   },
   {
    "duration": 51,
    "start_time": "2024-02-08T18:11:21.524Z"
   },
   {
    "duration": 380,
    "start_time": "2024-02-08T18:11:21.577Z"
   },
   {
    "duration": 18,
    "start_time": "2024-02-08T18:11:21.960Z"
   },
   {
    "duration": 16,
    "start_time": "2024-02-08T18:11:21.980Z"
   },
   {
    "duration": 8,
    "start_time": "2024-02-08T18:11:22.000Z"
   },
   {
    "duration": 14,
    "start_time": "2024-02-08T18:11:22.009Z"
   },
   {
    "duration": 69,
    "start_time": "2024-02-08T18:11:22.025Z"
   },
   {
    "duration": 4,
    "start_time": "2024-02-08T18:11:22.096Z"
   },
   {
    "duration": 7,
    "start_time": "2024-02-08T18:11:22.102Z"
   },
   {
    "duration": 16,
    "start_time": "2024-02-08T18:11:22.111Z"
   },
   {
    "duration": 5,
    "start_time": "2024-02-08T18:11:22.129Z"
   },
   {
    "duration": 11,
    "start_time": "2024-02-08T18:12:08.994Z"
   },
   {
    "duration": 6,
    "start_time": "2024-02-08T18:16:59.218Z"
   },
   {
    "duration": 42,
    "start_time": "2024-02-08T18:17:14.625Z"
   },
   {
    "duration": 7,
    "start_time": "2024-02-08T18:18:27.650Z"
   },
   {
    "duration": 1074,
    "start_time": "2024-02-08T18:18:49.002Z"
   },
   {
    "duration": 9,
    "start_time": "2024-02-08T18:18:52.628Z"
   },
   {
    "duration": 7,
    "start_time": "2024-02-08T18:20:24.938Z"
   },
   {
    "duration": 11,
    "start_time": "2024-02-08T18:28:30.864Z"
   },
   {
    "duration": 9,
    "start_time": "2024-02-08T18:29:27.367Z"
   },
   {
    "duration": 10,
    "start_time": "2024-02-08T18:29:47.752Z"
   },
   {
    "duration": 96,
    "start_time": "2024-02-08T18:32:01.311Z"
   },
   {
    "duration": 7,
    "start_time": "2024-02-08T18:32:15.976Z"
   },
   {
    "duration": 11,
    "start_time": "2024-02-08T18:33:04.968Z"
   },
   {
    "duration": 8,
    "start_time": "2024-02-08T18:33:54.095Z"
   },
   {
    "duration": 8,
    "start_time": "2024-02-08T18:34:30.856Z"
   },
   {
    "duration": 7,
    "start_time": "2024-02-08T18:36:56.935Z"
   },
   {
    "duration": 10,
    "start_time": "2024-02-08T18:37:44.125Z"
   },
   {
    "duration": 5,
    "start_time": "2024-02-08T18:40:24.950Z"
   },
   {
    "duration": 4,
    "start_time": "2024-02-08T18:40:33.615Z"
   },
   {
    "duration": 1142,
    "start_time": "2024-02-08T18:41:21.313Z"
   },
   {
    "duration": 9,
    "start_time": "2024-02-08T18:41:36.230Z"
   },
   {
    "duration": 13,
    "start_time": "2024-02-08T18:44:30.420Z"
   },
   {
    "duration": 7,
    "start_time": "2024-02-08T18:44:46.438Z"
   },
   {
    "duration": 6,
    "start_time": "2024-02-08T18:44:56.325Z"
   },
   {
    "duration": 13,
    "start_time": "2024-02-08T18:45:17.357Z"
   },
   {
    "duration": 6,
    "start_time": "2024-02-08T18:45:19.940Z"
   },
   {
    "duration": 11,
    "start_time": "2024-02-08T18:45:45.269Z"
   },
   {
    "duration": 13,
    "start_time": "2024-02-08T19:30:58.292Z"
   },
   {
    "duration": 11,
    "start_time": "2024-02-08T19:31:25.789Z"
   },
   {
    "duration": 11,
    "start_time": "2024-02-08T19:31:32.283Z"
   },
   {
    "duration": 153,
    "start_time": "2024-02-08T19:31:38.844Z"
   },
   {
    "duration": 227,
    "start_time": "2024-02-08T19:31:58.195Z"
   },
   {
    "duration": 100,
    "start_time": "2024-02-08T19:32:33.314Z"
   },
   {
    "duration": 108,
    "start_time": "2024-02-08T19:32:44.686Z"
   },
   {
    "duration": 117,
    "start_time": "2024-02-08T19:32:54.100Z"
   },
   {
    "duration": 252,
    "start_time": "2024-02-08T19:32:59.643Z"
   },
   {
    "duration": 242,
    "start_time": "2024-02-08T19:33:09.043Z"
   },
   {
    "duration": 250,
    "start_time": "2024-02-08T19:33:12.458Z"
   },
   {
    "duration": 296,
    "start_time": "2024-02-08T19:34:10.532Z"
   },
   {
    "duration": 266,
    "start_time": "2024-02-08T19:34:59.993Z"
   },
   {
    "duration": 253,
    "start_time": "2024-02-08T19:35:52.405Z"
   },
   {
    "duration": 242,
    "start_time": "2024-02-08T19:35:57.987Z"
   },
   {
    "duration": 264,
    "start_time": "2024-02-08T19:36:08.955Z"
   },
   {
    "duration": 67,
    "start_time": "2024-02-08T19:36:41.083Z"
   },
   {
    "duration": 257,
    "start_time": "2024-02-08T19:36:46.739Z"
   },
   {
    "duration": 258,
    "start_time": "2024-02-08T19:37:01.298Z"
   },
   {
    "duration": 257,
    "start_time": "2024-02-08T19:37:08.450Z"
   },
   {
    "duration": 259,
    "start_time": "2024-02-08T19:37:16.161Z"
   },
   {
    "duration": 238,
    "start_time": "2024-02-08T19:37:24.738Z"
   },
   {
    "duration": 259,
    "start_time": "2024-02-08T19:37:32.745Z"
   },
   {
    "duration": 340,
    "start_time": "2024-02-08T19:37:51.601Z"
   },
   {
    "duration": 153,
    "start_time": "2024-02-08T19:38:21.906Z"
   },
   {
    "duration": 129,
    "start_time": "2024-02-08T19:38:41.400Z"
   },
   {
    "duration": 133,
    "start_time": "2024-02-08T19:39:25.842Z"
   },
   {
    "duration": 12,
    "start_time": "2024-02-08T19:39:30.891Z"
   },
   {
    "duration": 137,
    "start_time": "2024-02-08T19:39:40.048Z"
   },
   {
    "duration": 11,
    "start_time": "2024-02-08T19:40:04.161Z"
   },
   {
    "duration": 11,
    "start_time": "2024-02-08T19:40:07.665Z"
   },
   {
    "duration": 12,
    "start_time": "2024-02-08T19:40:15.778Z"
   },
   {
    "duration": 119,
    "start_time": "2024-02-08T19:42:53.761Z"
   },
   {
    "duration": 126,
    "start_time": "2024-02-08T19:43:07.400Z"
   },
   {
    "duration": 125,
    "start_time": "2024-02-08T19:43:15.952Z"
   },
   {
    "duration": 167,
    "start_time": "2024-02-08T19:45:28.024Z"
   },
   {
    "duration": 157,
    "start_time": "2024-02-08T19:45:39.794Z"
   },
   {
    "duration": 176,
    "start_time": "2024-02-08T19:45:48.321Z"
   },
   {
    "duration": 228,
    "start_time": "2024-02-08T19:45:57.392Z"
   },
   {
    "duration": 178,
    "start_time": "2024-02-08T19:47:03.399Z"
   },
   {
    "duration": 178,
    "start_time": "2024-02-08T19:49:20.486Z"
   },
   {
    "duration": 183,
    "start_time": "2024-02-08T19:50:09.278Z"
   },
   {
    "duration": 203,
    "start_time": "2024-02-08T19:50:45.080Z"
   },
   {
    "duration": 129,
    "start_time": "2024-02-08T19:51:17.616Z"
   },
   {
    "duration": 6,
    "start_time": "2024-02-08T19:51:41.225Z"
   },
   {
    "duration": 185,
    "start_time": "2024-02-08T19:52:34.207Z"
   },
   {
    "duration": 1272,
    "start_time": "2024-02-08T19:54:09.647Z"
   },
   {
    "duration": 187,
    "start_time": "2024-02-08T19:54:20.414Z"
   },
   {
    "duration": 207,
    "start_time": "2024-02-08T19:54:51.166Z"
   },
   {
    "duration": 210,
    "start_time": "2024-02-08T19:56:11.834Z"
   },
   {
    "duration": 265,
    "start_time": "2024-02-08T19:58:57.555Z"
   },
   {
    "duration": 186,
    "start_time": "2024-02-08T19:59:25.988Z"
   },
   {
    "duration": 88,
    "start_time": "2024-02-08T20:00:39.843Z"
   },
   {
    "duration": 186,
    "start_time": "2024-02-08T20:00:52.115Z"
   },
   {
    "duration": 212,
    "start_time": "2024-02-08T20:01:05.323Z"
   },
   {
    "duration": 193,
    "start_time": "2024-02-08T20:01:36.011Z"
   },
   {
    "duration": 5,
    "start_time": "2024-02-08T20:02:38.593Z"
   },
   {
    "duration": 197,
    "start_time": "2024-02-08T20:02:53.858Z"
   },
   {
    "duration": 185,
    "start_time": "2024-02-08T20:04:12.419Z"
   },
   {
    "duration": 215,
    "start_time": "2024-02-08T20:04:29.658Z"
   },
   {
    "duration": 195,
    "start_time": "2024-02-08T20:05:07.217Z"
   },
   {
    "duration": 213,
    "start_time": "2024-02-08T20:05:16.202Z"
   },
   {
    "duration": 231,
    "start_time": "2024-02-08T20:05:35.769Z"
   },
   {
    "duration": 282,
    "start_time": "2024-02-08T20:05:54.123Z"
   },
   {
    "duration": 215,
    "start_time": "2024-02-08T20:06:13.946Z"
   },
   {
    "duration": 210,
    "start_time": "2024-02-08T20:06:30.170Z"
   },
   {
    "duration": 216,
    "start_time": "2024-02-08T20:06:55.338Z"
   },
   {
    "duration": 212,
    "start_time": "2024-02-08T20:07:04.097Z"
   },
   {
    "duration": 181,
    "start_time": "2024-02-08T20:11:41.153Z"
   },
   {
    "duration": 184,
    "start_time": "2024-02-08T20:12:28.089Z"
   },
   {
    "duration": 210,
    "start_time": "2024-02-08T20:12:34.800Z"
   },
   {
    "duration": 67,
    "start_time": "2024-02-08T20:12:54.079Z"
   },
   {
    "duration": 225,
    "start_time": "2024-02-08T20:12:58.927Z"
   },
   {
    "duration": 239,
    "start_time": "2024-02-08T20:13:08.823Z"
   },
   {
    "duration": 173,
    "start_time": "2024-02-08T20:14:36.625Z"
   },
   {
    "duration": 311,
    "start_time": "2024-02-08T20:14:54.310Z"
   },
   {
    "duration": 315,
    "start_time": "2024-02-08T20:15:19.144Z"
   },
   {
    "duration": 292,
    "start_time": "2024-02-08T20:15:30.927Z"
   },
   {
    "duration": 239,
    "start_time": "2024-02-08T20:16:01.167Z"
   },
   {
    "duration": 228,
    "start_time": "2024-02-08T20:16:17.239Z"
   },
   {
    "duration": 238,
    "start_time": "2024-02-08T20:16:24.784Z"
   },
   {
    "duration": 72,
    "start_time": "2024-02-08T20:17:06.390Z"
   },
   {
    "duration": 61,
    "start_time": "2024-02-08T20:17:11.230Z"
   },
   {
    "duration": 70,
    "start_time": "2024-02-08T20:26:02.382Z"
   },
   {
    "duration": 83,
    "start_time": "2024-02-08T20:26:06.860Z"
   },
   {
    "duration": 247,
    "start_time": "2024-02-08T20:26:17.259Z"
   },
   {
    "duration": 247,
    "start_time": "2024-02-08T20:26:29.765Z"
   },
   {
    "duration": 245,
    "start_time": "2024-02-08T20:26:38.061Z"
   },
   {
    "duration": 334,
    "start_time": "2024-02-08T20:26:49.469Z"
   },
   {
    "duration": 260,
    "start_time": "2024-02-08T20:26:58.405Z"
   },
   {
    "duration": 276,
    "start_time": "2024-02-08T20:31:19.437Z"
   },
   {
    "duration": 272,
    "start_time": "2024-02-08T20:31:43.108Z"
   },
   {
    "duration": 264,
    "start_time": "2024-02-08T20:31:57.412Z"
   },
   {
    "duration": 284,
    "start_time": "2024-02-08T20:35:05.870Z"
   },
   {
    "duration": 287,
    "start_time": "2024-02-08T20:35:15.325Z"
   },
   {
    "duration": 251,
    "start_time": "2024-02-08T20:35:25.244Z"
   },
   {
    "duration": 263,
    "start_time": "2024-02-08T20:35:41.804Z"
   },
   {
    "duration": 248,
    "start_time": "2024-02-08T20:35:51.404Z"
   },
   {
    "duration": 249,
    "start_time": "2024-02-08T20:36:09.036Z"
   },
   {
    "duration": 85,
    "start_time": "2024-02-08T20:39:25.196Z"
   },
   {
    "duration": 66,
    "start_time": "2024-02-08T20:39:51.594Z"
   },
   {
    "duration": 67,
    "start_time": "2024-02-08T20:39:56.380Z"
   },
   {
    "duration": 376,
    "start_time": "2024-02-08T20:40:09.573Z"
   },
   {
    "duration": 257,
    "start_time": "2024-02-08T21:31:51.005Z"
   },
   {
    "duration": 247,
    "start_time": "2024-02-08T21:32:14.824Z"
   },
   {
    "duration": 217,
    "start_time": "2024-02-08T21:32:29.828Z"
   },
   {
    "duration": 273,
    "start_time": "2024-02-08T21:32:58.485Z"
   },
   {
    "duration": 186,
    "start_time": "2024-02-08T21:33:16.740Z"
   },
   {
    "duration": 200,
    "start_time": "2024-02-08T21:35:09.987Z"
   },
   {
    "duration": 204,
    "start_time": "2024-02-08T21:35:44.586Z"
   },
   {
    "duration": 257,
    "start_time": "2024-02-08T21:35:59.818Z"
   },
   {
    "duration": 193,
    "start_time": "2024-02-08T21:36:25.475Z"
   },
   {
    "duration": 258,
    "start_time": "2024-02-08T21:36:48.098Z"
   },
   {
    "duration": 284,
    "start_time": "2024-02-08T21:36:57.169Z"
   },
   {
    "duration": 271,
    "start_time": "2024-02-08T21:37:01.465Z"
   },
   {
    "duration": 218,
    "start_time": "2024-02-08T21:37:09.441Z"
   },
   {
    "duration": 242,
    "start_time": "2024-02-08T21:37:14.506Z"
   },
   {
    "duration": 9,
    "start_time": "2024-02-08T21:42:42.217Z"
   },
   {
    "duration": 8,
    "start_time": "2024-02-08T21:43:40.424Z"
   },
   {
    "duration": 9,
    "start_time": "2024-02-08T21:45:02.328Z"
   },
   {
    "duration": 1208,
    "start_time": "2024-02-08T21:45:30.912Z"
   },
   {
    "duration": 6,
    "start_time": "2024-02-08T21:45:49.984Z"
   },
   {
    "duration": 6,
    "start_time": "2024-02-08T21:45:59.499Z"
   },
   {
    "duration": 8,
    "start_time": "2024-02-08T21:47:37.328Z"
   },
   {
    "duration": 11,
    "start_time": "2024-02-08T21:48:03.406Z"
   },
   {
    "duration": 12,
    "start_time": "2024-02-08T21:48:12.751Z"
   },
   {
    "duration": 13,
    "start_time": "2024-02-08T21:48:28.919Z"
   },
   {
    "duration": 14,
    "start_time": "2024-02-08T21:50:42.455Z"
   },
   {
    "duration": 13,
    "start_time": "2024-02-08T21:51:14.104Z"
   },
   {
    "duration": 14,
    "start_time": "2024-02-08T21:53:56.071Z"
   },
   {
    "duration": 14,
    "start_time": "2024-02-08T21:54:03.213Z"
   },
   {
    "duration": 14,
    "start_time": "2024-02-08T21:54:20.815Z"
   },
   {
    "duration": 12,
    "start_time": "2024-02-08T21:54:45.902Z"
   },
   {
    "duration": 14,
    "start_time": "2024-02-08T21:54:51.797Z"
   },
   {
    "duration": 98,
    "start_time": "2024-02-08T21:56:19.613Z"
   },
   {
    "duration": 111,
    "start_time": "2024-02-08T21:56:30.269Z"
   },
   {
    "duration": 116,
    "start_time": "2024-02-08T21:56:44.862Z"
   },
   {
    "duration": 71,
    "start_time": "2024-02-08T21:57:34.062Z"
   },
   {
    "duration": 124,
    "start_time": "2024-02-08T21:57:42.526Z"
   },
   {
    "duration": 14,
    "start_time": "2024-02-08T21:57:58.214Z"
   },
   {
    "duration": 123,
    "start_time": "2024-02-08T21:58:01.053Z"
   },
   {
    "duration": 14,
    "start_time": "2024-02-08T21:58:21.526Z"
   },
   {
    "duration": 116,
    "start_time": "2024-02-08T21:58:24.038Z"
   },
   {
    "duration": 15,
    "start_time": "2024-02-08T21:58:32.213Z"
   },
   {
    "duration": 189,
    "start_time": "2024-02-08T21:58:37.564Z"
   },
   {
    "duration": 120,
    "start_time": "2024-02-08T21:59:13.789Z"
   },
   {
    "duration": 102,
    "start_time": "2024-02-08T21:59:27.837Z"
   },
   {
    "duration": 116,
    "start_time": "2024-02-08T21:59:46.605Z"
   },
   {
    "duration": 120,
    "start_time": "2024-02-08T22:00:18.776Z"
   },
   {
    "duration": 115,
    "start_time": "2024-02-08T22:00:24.574Z"
   },
   {
    "duration": 110,
    "start_time": "2024-02-08T22:00:32.189Z"
   },
   {
    "duration": 111,
    "start_time": "2024-02-08T22:00:37.423Z"
   },
   {
    "duration": 115,
    "start_time": "2024-02-08T22:00:47.454Z"
   },
   {
    "duration": 12,
    "start_time": "2024-02-08T22:01:12.558Z"
   },
   {
    "duration": 14,
    "start_time": "2024-02-08T22:01:23.916Z"
   },
   {
    "duration": 124,
    "start_time": "2024-02-08T22:01:59.245Z"
   },
   {
    "duration": 138,
    "start_time": "2024-02-08T22:02:09.742Z"
   },
   {
    "duration": 89,
    "start_time": "2024-02-08T22:04:10.769Z"
   },
   {
    "duration": 194,
    "start_time": "2024-02-08T22:04:15.660Z"
   },
   {
    "duration": 118,
    "start_time": "2024-02-08T22:05:42.533Z"
   },
   {
    "duration": 8,
    "start_time": "2024-02-08T22:06:10.013Z"
   },
   {
    "duration": 115,
    "start_time": "2024-02-08T22:07:26.916Z"
   },
   {
    "duration": 125,
    "start_time": "2024-02-08T22:07:39.724Z"
   },
   {
    "duration": 121,
    "start_time": "2024-02-08T22:07:44.644Z"
   },
   {
    "duration": 114,
    "start_time": "2024-02-08T22:07:56.844Z"
   },
   {
    "duration": 118,
    "start_time": "2024-02-08T22:08:04.589Z"
   },
   {
    "duration": 83,
    "start_time": "2024-02-08T22:08:09.370Z"
   },
   {
    "duration": 117,
    "start_time": "2024-02-08T22:08:14.586Z"
   },
   {
    "duration": 115,
    "start_time": "2024-02-08T22:08:21.171Z"
   },
   {
    "duration": 124,
    "start_time": "2024-02-08T22:08:27.293Z"
   },
   {
    "duration": 94,
    "start_time": "2024-02-08T22:09:13.718Z"
   },
   {
    "duration": 8,
    "start_time": "2024-02-08T22:09:18.836Z"
   },
   {
    "duration": 8,
    "start_time": "2024-02-08T22:11:02.036Z"
   },
   {
    "duration": 137,
    "start_time": "2024-02-08T22:11:08.882Z"
   },
   {
    "duration": 183,
    "start_time": "2024-02-08T22:11:13.571Z"
   },
   {
    "duration": 110,
    "start_time": "2024-02-08T22:11:22.204Z"
   },
   {
    "duration": 113,
    "start_time": "2024-02-08T22:11:28.324Z"
   },
   {
    "duration": 111,
    "start_time": "2024-02-08T22:11:32.084Z"
   },
   {
    "duration": 113,
    "start_time": "2024-02-08T22:22:57.953Z"
   },
   {
    "duration": 116,
    "start_time": "2024-02-08T22:23:09.040Z"
   },
   {
    "duration": 118,
    "start_time": "2024-02-08T22:23:18.688Z"
   },
   {
    "duration": 124,
    "start_time": "2024-02-08T22:23:40.056Z"
   },
   {
    "duration": 121,
    "start_time": "2024-02-08T22:24:23.977Z"
   },
   {
    "duration": 236,
    "start_time": "2024-02-08T22:24:47.345Z"
   },
   {
    "duration": 234,
    "start_time": "2024-02-08T22:25:27.887Z"
   },
   {
    "duration": 269,
    "start_time": "2024-02-08T22:26:20.215Z"
   },
   {
    "duration": 201,
    "start_time": "2024-02-08T22:27:16.759Z"
   },
   {
    "duration": 254,
    "start_time": "2024-02-08T22:27:21.369Z"
   },
   {
    "duration": 253,
    "start_time": "2024-02-08T22:27:42.190Z"
   },
   {
    "duration": 235,
    "start_time": "2024-02-08T22:27:47.856Z"
   },
   {
    "duration": 250,
    "start_time": "2024-02-08T22:27:52.535Z"
   },
   {
    "duration": 15,
    "start_time": "2024-02-08T22:33:23.927Z"
   },
   {
    "duration": 26,
    "start_time": "2024-02-08T22:36:49.486Z"
   },
   {
    "duration": 12,
    "start_time": "2024-02-08T22:37:09.303Z"
   },
   {
    "duration": 18,
    "start_time": "2024-02-08T22:37:37.885Z"
   },
   {
    "duration": 16,
    "start_time": "2024-02-08T22:38:04.701Z"
   },
   {
    "duration": 18,
    "start_time": "2024-02-08T22:38:22.934Z"
   },
   {
    "duration": 17,
    "start_time": "2024-02-08T22:39:21.549Z"
   },
   {
    "duration": 1159,
    "start_time": "2024-02-08T22:39:54.933Z"
   },
   {
    "duration": 1190,
    "start_time": "2024-02-08T22:40:07.580Z"
   },
   {
    "duration": 1246,
    "start_time": "2024-02-08T22:40:16.997Z"
   },
   {
    "duration": 1184,
    "start_time": "2024-02-08T22:40:35.484Z"
   },
   {
    "duration": 1167,
    "start_time": "2024-02-08T22:40:52.175Z"
   },
   {
    "duration": 14,
    "start_time": "2024-02-08T22:41:03.076Z"
   },
   {
    "duration": 16,
    "start_time": "2024-02-08T22:41:38.308Z"
   },
   {
    "duration": 15,
    "start_time": "2024-02-08T22:42:06.634Z"
   },
   {
    "duration": 18,
    "start_time": "2024-02-08T22:42:31.115Z"
   },
   {
    "duration": 251,
    "start_time": "2024-02-08T22:42:47.819Z"
   },
   {
    "duration": 251,
    "start_time": "2024-02-08T22:43:07.115Z"
   },
   {
    "duration": 10,
    "start_time": "2024-02-08T22:43:50.074Z"
   },
   {
    "duration": 248,
    "start_time": "2024-02-08T22:43:52.612Z"
   },
   {
    "duration": 260,
    "start_time": "2024-02-08T22:44:08.611Z"
   },
   {
    "duration": 10,
    "start_time": "2024-02-08T22:47:39.666Z"
   },
   {
    "duration": 12,
    "start_time": "2024-02-08T22:47:46.978Z"
   },
   {
    "duration": 8,
    "start_time": "2024-02-08T22:48:10.954Z"
   },
   {
    "duration": 327,
    "start_time": "2024-02-08T22:48:14.938Z"
   },
   {
    "duration": 10,
    "start_time": "2024-02-08T22:48:23.050Z"
   },
   {
    "duration": 5,
    "start_time": "2024-02-08T22:56:14.289Z"
   },
   {
    "duration": 5,
    "start_time": "2024-02-08T22:56:37.154Z"
   },
   {
    "duration": 4,
    "start_time": "2024-02-08T22:57:15.193Z"
   },
   {
    "duration": 4,
    "start_time": "2024-02-08T22:57:32.345Z"
   },
   {
    "duration": 4,
    "start_time": "2024-02-08T22:57:46.913Z"
   },
   {
    "duration": 5,
    "start_time": "2024-02-08T22:58:44.896Z"
   },
   {
    "duration": 51,
    "start_time": "2024-02-09T09:13:09.062Z"
   },
   {
    "duration": 680,
    "start_time": "2024-02-09T09:13:49.152Z"
   },
   {
    "duration": 3,
    "start_time": "2024-02-09T09:13:49.834Z"
   },
   {
    "duration": 308,
    "start_time": "2024-02-09T09:13:49.838Z"
   },
   {
    "duration": 10,
    "start_time": "2024-02-09T09:13:50.148Z"
   },
   {
    "duration": 10,
    "start_time": "2024-02-09T09:13:50.160Z"
   },
   {
    "duration": 5,
    "start_time": "2024-02-09T09:13:50.171Z"
   },
   {
    "duration": 9,
    "start_time": "2024-02-09T09:13:50.177Z"
   },
   {
    "duration": 18,
    "start_time": "2024-02-09T09:13:50.187Z"
   },
   {
    "duration": 8,
    "start_time": "2024-02-09T09:13:50.207Z"
   },
   {
    "duration": 12,
    "start_time": "2024-02-09T09:13:50.219Z"
   },
   {
    "duration": 30,
    "start_time": "2024-02-09T09:13:50.232Z"
   },
   {
    "duration": 9,
    "start_time": "2024-02-09T09:13:50.264Z"
   },
   {
    "duration": 4,
    "start_time": "2024-02-09T09:13:50.274Z"
   },
   {
    "duration": 9,
    "start_time": "2024-02-09T09:13:50.280Z"
   },
   {
    "duration": 11,
    "start_time": "2024-02-09T09:13:50.291Z"
   },
   {
    "duration": 5,
    "start_time": "2024-02-09T09:13:50.303Z"
   },
   {
    "duration": 192,
    "start_time": "2024-02-09T09:13:50.310Z"
   },
   {
    "duration": 220,
    "start_time": "2024-02-09T09:13:50.503Z"
   },
   {
    "duration": 287,
    "start_time": "2024-02-09T09:13:50.724Z"
   },
   {
    "duration": 7,
    "start_time": "2024-02-09T09:13:51.012Z"
   },
   {
    "duration": 11,
    "start_time": "2024-02-09T09:13:51.020Z"
   },
   {
    "duration": 31,
    "start_time": "2024-02-09T09:13:51.033Z"
   },
   {
    "duration": 6,
    "start_time": "2024-02-09T09:13:51.066Z"
   },
   {
    "duration": 12,
    "start_time": "2024-02-09T09:13:51.073Z"
   },
   {
    "duration": 228,
    "start_time": "2024-02-09T09:13:51.086Z"
   },
   {
    "duration": 9,
    "start_time": "2024-02-09T09:13:51.315Z"
   },
   {
    "duration": 17,
    "start_time": "2024-02-09T09:13:51.325Z"
   },
   {
    "duration": 19,
    "start_time": "2024-02-09T09:13:51.345Z"
   },
   {
    "duration": 27,
    "start_time": "2024-02-09T09:13:51.366Z"
   },
   {
    "duration": 7,
    "start_time": "2024-02-09T09:13:51.394Z"
   },
   {
    "duration": 19,
    "start_time": "2024-02-09T09:13:51.402Z"
   },
   {
    "duration": 11,
    "start_time": "2024-02-09T09:13:51.423Z"
   },
   {
    "duration": 23,
    "start_time": "2024-02-09T09:13:51.436Z"
   },
   {
    "duration": 10,
    "start_time": "2024-02-09T09:13:51.461Z"
   },
   {
    "duration": 28,
    "start_time": "2024-02-09T09:13:51.473Z"
   },
   {
    "duration": 11,
    "start_time": "2024-02-09T09:13:51.503Z"
   },
   {
    "duration": 271,
    "start_time": "2024-02-09T09:13:51.515Z"
   },
   {
    "duration": 251,
    "start_time": "2024-02-09T09:13:58.341Z"
   },
   {
    "duration": 75,
    "start_time": "2024-02-09T09:18:11.149Z"
   },
   {
    "duration": 11,
    "start_time": "2024-02-09T09:18:24.876Z"
   },
   {
    "duration": 12,
    "start_time": "2024-02-09T09:21:39.643Z"
   },
   {
    "duration": 1181,
    "start_time": "2024-02-09T09:22:44.171Z"
   },
   {
    "duration": 11,
    "start_time": "2024-02-09T09:22:57.227Z"
   },
   {
    "duration": 191,
    "start_time": "2024-02-09T09:22:59.771Z"
   },
   {
    "duration": 190,
    "start_time": "2024-02-09T09:23:14.243Z"
   },
   {
    "duration": 215,
    "start_time": "2024-02-09T09:23:23.099Z"
   },
   {
    "duration": 196,
    "start_time": "2024-02-09T09:23:39.924Z"
   },
   {
    "duration": 251,
    "start_time": "2024-02-09T09:23:43.973Z"
   },
   {
    "duration": 180,
    "start_time": "2024-02-09T09:23:49.628Z"
   },
   {
    "duration": 153,
    "start_time": "2024-02-09T09:23:53.868Z"
   },
   {
    "duration": 182,
    "start_time": "2024-02-09T09:23:58.883Z"
   },
   {
    "duration": 157,
    "start_time": "2024-02-09T09:24:07.900Z"
   },
   {
    "duration": 181,
    "start_time": "2024-02-09T09:24:13.996Z"
   },
   {
    "duration": 14,
    "start_time": "2024-02-09T09:26:29.514Z"
   },
   {
    "duration": 160,
    "start_time": "2024-02-09T09:26:32.681Z"
   },
   {
    "duration": 153,
    "start_time": "2024-02-09T09:26:52.211Z"
   },
   {
    "duration": 163,
    "start_time": "2024-02-09T09:26:58.563Z"
   },
   {
    "duration": 8,
    "start_time": "2024-02-09T09:27:20.730Z"
   },
   {
    "duration": 154,
    "start_time": "2024-02-09T09:27:24.818Z"
   },
   {
    "duration": 170,
    "start_time": "2024-02-09T09:27:32.723Z"
   },
   {
    "duration": 234,
    "start_time": "2024-02-09T09:27:43.155Z"
   },
   {
    "duration": 164,
    "start_time": "2024-02-09T09:27:49.378Z"
   },
   {
    "duration": 167,
    "start_time": "2024-02-09T09:28:11.211Z"
   },
   {
    "duration": 154,
    "start_time": "2024-02-09T09:28:15.547Z"
   },
   {
    "duration": 235,
    "start_time": "2024-02-09T09:28:22.091Z"
   },
   {
    "duration": 9,
    "start_time": "2024-02-09T09:34:03.732Z"
   },
   {
    "duration": 9,
    "start_time": "2024-02-09T09:34:20.644Z"
   },
   {
    "duration": 159,
    "start_time": "2024-02-09T09:35:25.084Z"
   },
   {
    "duration": 5,
    "start_time": "2024-02-09T09:42:39.275Z"
   },
   {
    "duration": 4,
    "start_time": "2024-02-09T09:43:03.514Z"
   },
   {
    "duration": 3,
    "start_time": "2024-02-09T09:43:35.004Z"
   },
   {
    "duration": 134,
    "start_time": "2024-02-09T09:44:17.729Z"
   },
   {
    "duration": 161,
    "start_time": "2024-02-09T09:44:42.114Z"
   },
   {
    "duration": 188,
    "start_time": "2024-02-09T09:45:14.658Z"
   },
   {
    "duration": 250,
    "start_time": "2024-02-09T09:45:24.970Z"
   },
   {
    "duration": 174,
    "start_time": "2024-02-09T09:46:03.153Z"
   },
   {
    "duration": 131,
    "start_time": "2024-02-09T09:46:18.369Z"
   },
   {
    "duration": 138,
    "start_time": "2024-02-09T09:46:31.266Z"
   },
   {
    "duration": 130,
    "start_time": "2024-02-09T09:46:40.282Z"
   },
   {
    "duration": 170,
    "start_time": "2024-02-09T09:47:00.458Z"
   },
   {
    "duration": 157,
    "start_time": "2024-02-09T09:47:04.682Z"
   },
   {
    "duration": 161,
    "start_time": "2024-02-09T09:47:08.563Z"
   },
   {
    "duration": 234,
    "start_time": "2024-02-09T09:50:40.872Z"
   },
   {
    "duration": 161,
    "start_time": "2024-02-09T09:51:50.418Z"
   },
   {
    "duration": 164,
    "start_time": "2024-02-09T09:51:58.025Z"
   },
   {
    "duration": 9,
    "start_time": "2024-02-09T09:52:25.046Z"
   },
   {
    "duration": 9,
    "start_time": "2024-02-09T09:52:32.762Z"
   },
   {
    "duration": 173,
    "start_time": "2024-02-09T09:52:41.176Z"
   },
   {
    "duration": 8,
    "start_time": "2024-02-09T09:53:09.089Z"
   },
   {
    "duration": 172,
    "start_time": "2024-02-09T09:53:35.176Z"
   },
   {
    "duration": 184,
    "start_time": "2024-02-09T09:53:57.347Z"
   },
   {
    "duration": 260,
    "start_time": "2024-02-09T09:54:15.249Z"
   },
   {
    "duration": 239,
    "start_time": "2024-02-09T09:57:53.137Z"
   },
   {
    "duration": 19,
    "start_time": "2024-02-09T10:13:53.134Z"
   },
   {
    "duration": 973,
    "start_time": "2024-02-09T10:14:33.893Z"
   },
   {
    "duration": 14,
    "start_time": "2024-02-09T10:14:44.549Z"
   },
   {
    "duration": 8,
    "start_time": "2024-02-09T10:16:47.173Z"
   },
   {
    "duration": 9,
    "start_time": "2024-02-09T10:17:22.908Z"
   },
   {
    "duration": 4,
    "start_time": "2024-02-09T10:17:59.322Z"
   },
   {
    "duration": 15,
    "start_time": "2024-02-09T10:18:26.107Z"
   },
   {
    "duration": 17,
    "start_time": "2024-02-09T10:19:31.620Z"
   },
   {
    "duration": 15,
    "start_time": "2024-02-09T10:20:12.716Z"
   },
   {
    "duration": 16,
    "start_time": "2024-02-09T10:20:21.459Z"
   },
   {
    "duration": 638,
    "start_time": "2024-02-09T10:20:33.541Z"
   },
   {
    "duration": 3,
    "start_time": "2024-02-09T10:20:34.180Z"
   },
   {
    "duration": 68,
    "start_time": "2024-02-09T10:20:34.185Z"
   },
   {
    "duration": 11,
    "start_time": "2024-02-09T10:20:34.255Z"
   },
   {
    "duration": 13,
    "start_time": "2024-02-09T10:20:34.267Z"
   },
   {
    "duration": 17,
    "start_time": "2024-02-09T10:20:34.281Z"
   },
   {
    "duration": 16,
    "start_time": "2024-02-09T10:20:34.299Z"
   },
   {
    "duration": 18,
    "start_time": "2024-02-09T10:20:34.316Z"
   },
   {
    "duration": 12,
    "start_time": "2024-02-09T10:20:34.336Z"
   },
   {
    "duration": 9,
    "start_time": "2024-02-09T10:20:34.358Z"
   },
   {
    "duration": 16,
    "start_time": "2024-02-09T10:20:34.369Z"
   },
   {
    "duration": 8,
    "start_time": "2024-02-09T10:20:34.387Z"
   },
   {
    "duration": 5,
    "start_time": "2024-02-09T10:20:34.396Z"
   },
   {
    "duration": 5,
    "start_time": "2024-02-09T10:20:34.403Z"
   },
   {
    "duration": 10,
    "start_time": "2024-02-09T10:20:34.410Z"
   },
   {
    "duration": 6,
    "start_time": "2024-02-09T10:20:34.458Z"
   },
   {
    "duration": 182,
    "start_time": "2024-02-09T10:20:34.465Z"
   },
   {
    "duration": 238,
    "start_time": "2024-02-09T10:20:34.649Z"
   },
   {
    "duration": 291,
    "start_time": "2024-02-09T10:20:34.889Z"
   },
   {
    "duration": 7,
    "start_time": "2024-02-09T10:20:35.182Z"
   },
   {
    "duration": 30,
    "start_time": "2024-02-09T10:20:35.190Z"
   },
   {
    "duration": 22,
    "start_time": "2024-02-09T10:20:35.222Z"
   },
   {
    "duration": 4,
    "start_time": "2024-02-09T10:20:35.246Z"
   },
   {
    "duration": 10,
    "start_time": "2024-02-09T10:20:35.252Z"
   },
   {
    "duration": 251,
    "start_time": "2024-02-09T10:20:35.264Z"
   },
   {
    "duration": 9,
    "start_time": "2024-02-09T10:20:35.516Z"
   },
   {
    "duration": 48,
    "start_time": "2024-02-09T10:20:35.527Z"
   },
   {
    "duration": 8,
    "start_time": "2024-02-09T10:20:35.578Z"
   },
   {
    "duration": 35,
    "start_time": "2024-02-09T10:20:35.587Z"
   },
   {
    "duration": 10,
    "start_time": "2024-02-09T10:20:35.623Z"
   },
   {
    "duration": 29,
    "start_time": "2024-02-09T10:20:35.634Z"
   },
   {
    "duration": 6,
    "start_time": "2024-02-09T10:20:35.664Z"
   },
   {
    "duration": 5,
    "start_time": "2024-02-09T10:20:35.672Z"
   },
   {
    "duration": 9,
    "start_time": "2024-02-09T10:20:35.678Z"
   },
   {
    "duration": 23,
    "start_time": "2024-02-09T10:20:35.688Z"
   },
   {
    "duration": 9,
    "start_time": "2024-02-09T10:20:35.712Z"
   },
   {
    "duration": 271,
    "start_time": "2024-02-09T10:20:35.758Z"
   },
   {
    "duration": 9,
    "start_time": "2024-02-09T10:20:36.030Z"
   },
   {
    "duration": 201,
    "start_time": "2024-02-09T10:20:36.041Z"
   },
   {
    "duration": 186,
    "start_time": "2024-02-09T10:20:36.243Z"
   },
   {
    "duration": 242,
    "start_time": "2024-02-09T10:20:36.430Z"
   },
   {
    "duration": 14,
    "start_time": "2024-02-09T10:20:36.674Z"
   },
   {
    "duration": 82,
    "start_time": "2024-02-09T10:20:36.690Z"
   },
   {
    "duration": 579,
    "start_time": "2024-02-09T10:23:46.248Z"
   },
   {
    "duration": 534,
    "start_time": "2024-02-09T10:23:55.066Z"
   },
   {
    "duration": 8,
    "start_time": "2024-02-09T10:25:02.889Z"
   },
   {
    "duration": 513,
    "start_time": "2024-02-09T10:25:16.667Z"
   },
   {
    "duration": 552,
    "start_time": "2024-02-09T10:26:17.506Z"
   },
   {
    "duration": 628,
    "start_time": "2024-02-09T10:27:13.880Z"
   },
   {
    "duration": 582,
    "start_time": "2024-02-09T10:28:04.633Z"
   },
   {
    "duration": 562,
    "start_time": "2024-02-09T10:28:14.714Z"
   },
   {
    "duration": 641,
    "start_time": "2024-02-09T10:28:18.689Z"
   },
   {
    "duration": 526,
    "start_time": "2024-02-09T10:30:03.728Z"
   },
   {
    "duration": 533,
    "start_time": "2024-02-09T10:30:11.977Z"
   },
   {
    "duration": 540,
    "start_time": "2024-02-09T10:30:19.280Z"
   },
   {
    "duration": 198,
    "start_time": "2024-02-09T10:30:41.657Z"
   },
   {
    "duration": 248,
    "start_time": "2024-02-09T10:31:31.120Z"
   },
   {
    "duration": 284,
    "start_time": "2024-02-09T10:31:53.970Z"
   },
   {
    "duration": 555,
    "start_time": "2024-02-09T10:33:11.328Z"
   },
   {
    "duration": 524,
    "start_time": "2024-02-09T10:33:53.392Z"
   },
   {
    "duration": 661,
    "start_time": "2024-02-09T10:34:04.521Z"
   },
   {
    "duration": 544,
    "start_time": "2024-02-09T10:37:03.807Z"
   },
   {
    "duration": 617,
    "start_time": "2024-02-09T10:37:08.055Z"
   },
   {
    "duration": 584,
    "start_time": "2024-02-09T10:37:36.839Z"
   },
   {
    "duration": 716,
    "start_time": "2024-02-09T10:37:43.544Z"
   },
   {
    "duration": 577,
    "start_time": "2024-02-09T10:39:51.367Z"
   },
   {
    "duration": 555,
    "start_time": "2024-02-09T10:39:59.046Z"
   },
   {
    "duration": 872,
    "start_time": "2024-02-09T10:43:21.390Z"
   },
   {
    "duration": 610,
    "start_time": "2024-02-09T10:44:11.861Z"
   },
   {
    "duration": 621,
    "start_time": "2024-02-09T10:46:46.267Z"
   },
   {
    "duration": 746,
    "start_time": "2024-02-09T10:47:00.780Z"
   },
   {
    "duration": 1216,
    "start_time": "2024-02-09T10:51:20.307Z"
   },
   {
    "duration": 1265,
    "start_time": "2024-02-09T10:51:35.854Z"
   },
   {
    "duration": 1220,
    "start_time": "2024-02-09T10:51:44.413Z"
   },
   {
    "duration": 1293,
    "start_time": "2024-02-09T10:54:41.626Z"
   },
   {
    "duration": 786,
    "start_time": "2024-02-09T10:55:27.405Z"
   },
   {
    "duration": 790,
    "start_time": "2024-02-09T10:56:19.211Z"
   },
   {
    "duration": 88,
    "start_time": "2024-02-09T10:56:59.444Z"
   },
   {
    "duration": 84,
    "start_time": "2024-02-09T10:57:04.372Z"
   },
   {
    "duration": 940,
    "start_time": "2024-02-09T10:57:14.961Z"
   },
   {
    "duration": 591,
    "start_time": "2024-02-09T10:58:27.484Z"
   },
   {
    "duration": 580,
    "start_time": "2024-02-09T10:58:44.667Z"
   },
   {
    "duration": 575,
    "start_time": "2024-02-09T10:58:57.338Z"
   },
   {
    "duration": 898,
    "start_time": "2024-02-09T10:59:32.507Z"
   },
   {
    "duration": 794,
    "start_time": "2024-02-09T11:00:23.948Z"
   },
   {
    "duration": 1497,
    "start_time": "2024-02-09T11:00:36.435Z"
   },
   {
    "duration": 2582,
    "start_time": "2024-02-09T11:01:06.186Z"
   },
   {
    "duration": 2701,
    "start_time": "2024-02-09T11:01:37.074Z"
   },
   {
    "duration": 2006,
    "start_time": "2024-02-09T11:02:02.523Z"
   },
   {
    "duration": 2029,
    "start_time": "2024-02-09T11:02:21.258Z"
   },
   {
    "duration": 1757,
    "start_time": "2024-02-09T11:02:56.168Z"
   },
   {
    "duration": 2554,
    "start_time": "2024-02-09T11:03:33.185Z"
   },
   {
    "duration": 350,
    "start_time": "2024-02-09T11:05:12.651Z"
   },
   {
    "duration": 2650,
    "start_time": "2024-02-09T11:06:52.090Z"
   },
   {
    "duration": 230,
    "start_time": "2024-02-09T11:08:23.393Z"
   },
   {
    "duration": 2672,
    "start_time": "2024-02-09T11:09:33.057Z"
   },
   {
    "duration": 231,
    "start_time": "2024-02-09T11:10:40.003Z"
   },
   {
    "duration": 2714,
    "start_time": "2024-02-09T11:11:59.145Z"
   },
   {
    "duration": 2592,
    "start_time": "2024-02-09T11:18:17.831Z"
   },
   {
    "duration": 137,
    "start_time": "2024-02-09T11:29:54.124Z"
   },
   {
    "duration": 297,
    "start_time": "2024-02-09T11:30:01.316Z"
   },
   {
    "duration": 136,
    "start_time": "2024-02-09T11:31:46.427Z"
   },
   {
    "duration": 185,
    "start_time": "2024-02-09T11:31:53.452Z"
   },
   {
    "duration": 169,
    "start_time": "2024-02-09T11:32:28.323Z"
   },
   {
    "duration": 131,
    "start_time": "2024-02-09T11:32:38.026Z"
   },
   {
    "duration": 227,
    "start_time": "2024-02-09T11:32:55.875Z"
   },
   {
    "duration": 228,
    "start_time": "2024-02-09T11:33:01.419Z"
   },
   {
    "duration": 882,
    "start_time": "2024-02-09T11:33:09.867Z"
   },
   {
    "duration": 881,
    "start_time": "2024-02-09T11:33:21.338Z"
   },
   {
    "duration": 646,
    "start_time": "2024-02-09T11:33:40.881Z"
   },
   {
    "duration": 3,
    "start_time": "2024-02-09T11:33:41.529Z"
   },
   {
    "duration": 69,
    "start_time": "2024-02-09T11:33:41.533Z"
   },
   {
    "duration": 10,
    "start_time": "2024-02-09T11:33:41.604Z"
   },
   {
    "duration": 10,
    "start_time": "2024-02-09T11:33:41.615Z"
   },
   {
    "duration": 4,
    "start_time": "2024-02-09T11:33:41.626Z"
   },
   {
    "duration": 7,
    "start_time": "2024-02-09T11:33:41.632Z"
   },
   {
    "duration": 11,
    "start_time": "2024-02-09T11:33:41.640Z"
   },
   {
    "duration": 8,
    "start_time": "2024-02-09T11:33:41.652Z"
   },
   {
    "duration": 11,
    "start_time": "2024-02-09T11:33:41.662Z"
   },
   {
    "duration": 7,
    "start_time": "2024-02-09T11:33:41.674Z"
   },
   {
    "duration": 6,
    "start_time": "2024-02-09T11:33:41.682Z"
   },
   {
    "duration": 3,
    "start_time": "2024-02-09T11:33:41.690Z"
   },
   {
    "duration": 6,
    "start_time": "2024-02-09T11:33:41.695Z"
   },
   {
    "duration": 9,
    "start_time": "2024-02-09T11:33:41.703Z"
   },
   {
    "duration": 5,
    "start_time": "2024-02-09T11:33:41.713Z"
   },
   {
    "duration": 176,
    "start_time": "2024-02-09T11:33:41.719Z"
   },
   {
    "duration": 269,
    "start_time": "2024-02-09T11:33:41.896Z"
   },
   {
    "duration": 294,
    "start_time": "2024-02-09T11:33:42.167Z"
   },
   {
    "duration": 8,
    "start_time": "2024-02-09T11:33:42.463Z"
   },
   {
    "duration": 14,
    "start_time": "2024-02-09T11:33:42.472Z"
   },
   {
    "duration": 20,
    "start_time": "2024-02-09T11:33:42.488Z"
   },
   {
    "duration": 13,
    "start_time": "2024-02-09T11:33:42.509Z"
   },
   {
    "duration": 21,
    "start_time": "2024-02-09T11:33:42.524Z"
   },
   {
    "duration": 202,
    "start_time": "2024-02-09T11:33:42.546Z"
   },
   {
    "duration": 14,
    "start_time": "2024-02-09T11:33:42.750Z"
   },
   {
    "duration": 22,
    "start_time": "2024-02-09T11:33:42.765Z"
   },
   {
    "duration": 8,
    "start_time": "2024-02-09T11:33:42.790Z"
   },
   {
    "duration": 35,
    "start_time": "2024-02-09T11:33:42.799Z"
   },
   {
    "duration": 11,
    "start_time": "2024-02-09T11:33:42.836Z"
   },
   {
    "duration": 11,
    "start_time": "2024-02-09T11:33:42.849Z"
   },
   {
    "duration": 17,
    "start_time": "2024-02-09T11:33:42.862Z"
   },
   {
    "duration": 24,
    "start_time": "2024-02-09T11:33:42.881Z"
   },
   {
    "duration": 13,
    "start_time": "2024-02-09T11:33:42.907Z"
   },
   {
    "duration": 27,
    "start_time": "2024-02-09T11:33:42.921Z"
   },
   {
    "duration": 12,
    "start_time": "2024-02-09T11:33:42.950Z"
   },
   {
    "duration": 253,
    "start_time": "2024-02-09T11:33:42.963Z"
   },
   {
    "duration": 9,
    "start_time": "2024-02-09T11:33:43.218Z"
   },
   {
    "duration": 178,
    "start_time": "2024-02-09T11:33:43.228Z"
   },
   {
    "duration": 198,
    "start_time": "2024-02-09T11:33:43.407Z"
   },
   {
    "duration": 219,
    "start_time": "2024-02-09T11:33:43.606Z"
   },
   {
    "duration": 14,
    "start_time": "2024-02-09T11:33:43.826Z"
   },
   {
    "duration": 2646,
    "start_time": "2024-02-09T11:33:43.841Z"
   },
   {
    "duration": 75,
    "start_time": "2024-02-09T11:34:27.370Z"
   },
   {
    "duration": 656,
    "start_time": "2024-02-09T11:34:35.539Z"
   },
   {
    "duration": 2,
    "start_time": "2024-02-09T11:34:36.197Z"
   },
   {
    "duration": 106,
    "start_time": "2024-02-09T11:34:36.200Z"
   },
   {
    "duration": 11,
    "start_time": "2024-02-09T11:34:36.308Z"
   },
   {
    "duration": 32,
    "start_time": "2024-02-09T11:34:36.320Z"
   },
   {
    "duration": 25,
    "start_time": "2024-02-09T11:34:36.353Z"
   },
   {
    "duration": 19,
    "start_time": "2024-02-09T11:34:36.379Z"
   },
   {
    "duration": 24,
    "start_time": "2024-02-09T11:34:36.399Z"
   },
   {
    "duration": 10,
    "start_time": "2024-02-09T11:34:36.425Z"
   },
   {
    "duration": 15,
    "start_time": "2024-02-09T11:34:36.437Z"
   },
   {
    "duration": 23,
    "start_time": "2024-02-09T11:34:36.453Z"
   },
   {
    "duration": 20,
    "start_time": "2024-02-09T11:34:36.477Z"
   },
   {
    "duration": 17,
    "start_time": "2024-02-09T11:34:36.498Z"
   },
   {
    "duration": 12,
    "start_time": "2024-02-09T11:34:36.516Z"
   },
   {
    "duration": 25,
    "start_time": "2024-02-09T11:34:36.530Z"
   },
   {
    "duration": 7,
    "start_time": "2024-02-09T11:34:36.557Z"
   },
   {
    "duration": 153,
    "start_time": "2024-02-09T11:34:36.566Z"
   },
   {
    "duration": 215,
    "start_time": "2024-02-09T11:34:36.721Z"
   },
   {
    "duration": 281,
    "start_time": "2024-02-09T11:34:36.938Z"
   },
   {
    "duration": 6,
    "start_time": "2024-02-09T11:34:37.220Z"
   },
   {
    "duration": 22,
    "start_time": "2024-02-09T11:34:37.228Z"
   },
   {
    "duration": 18,
    "start_time": "2024-02-09T11:34:37.251Z"
   },
   {
    "duration": 18,
    "start_time": "2024-02-09T11:34:37.271Z"
   },
   {
    "duration": 34,
    "start_time": "2024-02-09T11:34:37.291Z"
   },
   {
    "duration": 210,
    "start_time": "2024-02-09T11:34:37.327Z"
   },
   {
    "duration": 9,
    "start_time": "2024-02-09T11:34:37.539Z"
   },
   {
    "duration": 28,
    "start_time": "2024-02-09T11:34:37.549Z"
   },
   {
    "duration": 18,
    "start_time": "2024-02-09T11:34:37.580Z"
   },
   {
    "duration": 44,
    "start_time": "2024-02-09T11:34:37.600Z"
   },
   {
    "duration": 20,
    "start_time": "2024-02-09T11:34:37.646Z"
   },
   {
    "duration": 11,
    "start_time": "2024-02-09T11:34:37.668Z"
   },
   {
    "duration": 26,
    "start_time": "2024-02-09T11:34:37.680Z"
   },
   {
    "duration": 11,
    "start_time": "2024-02-09T11:34:37.707Z"
   },
   {
    "duration": 19,
    "start_time": "2024-02-09T11:34:37.720Z"
   },
   {
    "duration": 16,
    "start_time": "2024-02-09T11:34:37.741Z"
   },
   {
    "duration": 36,
    "start_time": "2024-02-09T11:34:37.758Z"
   },
   {
    "duration": 263,
    "start_time": "2024-02-09T11:34:37.795Z"
   },
   {
    "duration": 9,
    "start_time": "2024-02-09T11:34:38.059Z"
   },
   {
    "duration": 189,
    "start_time": "2024-02-09T11:34:38.069Z"
   },
   {
    "duration": 178,
    "start_time": "2024-02-09T11:34:38.259Z"
   },
   {
    "duration": 246,
    "start_time": "2024-02-09T11:34:38.439Z"
   },
   {
    "duration": 15,
    "start_time": "2024-02-09T11:34:38.686Z"
   },
   {
    "duration": 2889,
    "start_time": "2024-02-09T11:34:38.702Z"
   },
   {
    "duration": 76,
    "start_time": "2024-02-09T11:46:27.401Z"
   },
   {
    "duration": 15,
    "start_time": "2024-02-09T11:47:10.240Z"
   },
   {
    "duration": 9,
    "start_time": "2024-02-09T11:47:20.216Z"
   },
   {
    "duration": 14,
    "start_time": "2024-02-09T11:47:34.920Z"
   },
   {
    "duration": 597,
    "start_time": "2024-02-09T11:47:47.601Z"
   },
   {
    "duration": 4,
    "start_time": "2024-02-09T11:47:48.200Z"
   },
   {
    "duration": 81,
    "start_time": "2024-02-09T11:47:48.205Z"
   },
   {
    "duration": 12,
    "start_time": "2024-02-09T11:47:48.287Z"
   },
   {
    "duration": 11,
    "start_time": "2024-02-09T11:47:48.301Z"
   },
   {
    "duration": 14,
    "start_time": "2024-02-09T11:47:48.313Z"
   },
   {
    "duration": 9,
    "start_time": "2024-02-09T11:47:48.328Z"
   },
   {
    "duration": 12,
    "start_time": "2024-02-09T11:47:48.339Z"
   },
   {
    "duration": 8,
    "start_time": "2024-02-09T11:47:48.358Z"
   },
   {
    "duration": 21,
    "start_time": "2024-02-09T11:47:48.368Z"
   },
   {
    "duration": 18,
    "start_time": "2024-02-09T11:47:48.391Z"
   },
   {
    "duration": 9,
    "start_time": "2024-02-09T11:47:48.411Z"
   },
   {
    "duration": 5,
    "start_time": "2024-02-09T11:47:48.422Z"
   },
   {
    "duration": 5,
    "start_time": "2024-02-09T11:47:48.431Z"
   },
   {
    "duration": 29,
    "start_time": "2024-02-09T11:47:48.438Z"
   },
   {
    "duration": 13,
    "start_time": "2024-02-09T11:47:48.468Z"
   },
   {
    "duration": 173,
    "start_time": "2024-02-09T11:47:48.483Z"
   },
   {
    "duration": 256,
    "start_time": "2024-02-09T11:47:48.658Z"
   },
   {
    "duration": 308,
    "start_time": "2024-02-09T11:47:48.915Z"
   },
   {
    "duration": 7,
    "start_time": "2024-02-09T11:47:49.224Z"
   },
   {
    "duration": 17,
    "start_time": "2024-02-09T11:47:49.232Z"
   },
   {
    "duration": 14,
    "start_time": "2024-02-09T11:47:49.250Z"
   },
   {
    "duration": 4,
    "start_time": "2024-02-09T11:47:49.265Z"
   },
   {
    "duration": 46,
    "start_time": "2024-02-09T11:47:49.270Z"
   },
   {
    "duration": 224,
    "start_time": "2024-02-09T11:47:49.317Z"
   },
   {
    "duration": 9,
    "start_time": "2024-02-09T11:47:49.543Z"
   },
   {
    "duration": 12,
    "start_time": "2024-02-09T11:47:49.553Z"
   },
   {
    "duration": 8,
    "start_time": "2024-02-09T11:47:49.567Z"
   },
   {
    "duration": 37,
    "start_time": "2024-02-09T11:47:49.576Z"
   },
   {
    "duration": 7,
    "start_time": "2024-02-09T11:47:49.614Z"
   },
   {
    "duration": 37,
    "start_time": "2024-02-09T11:47:49.623Z"
   },
   {
    "duration": 13,
    "start_time": "2024-02-09T11:47:49.661Z"
   },
   {
    "duration": 14,
    "start_time": "2024-02-09T11:47:49.676Z"
   },
   {
    "duration": 23,
    "start_time": "2024-02-09T11:47:49.691Z"
   },
   {
    "duration": 11,
    "start_time": "2024-02-09T11:47:49.716Z"
   },
   {
    "duration": 11,
    "start_time": "2024-02-09T11:47:49.728Z"
   },
   {
    "duration": 286,
    "start_time": "2024-02-09T11:47:49.740Z"
   },
   {
    "duration": 9,
    "start_time": "2024-02-09T11:47:50.028Z"
   },
   {
    "duration": 191,
    "start_time": "2024-02-09T11:47:50.039Z"
   },
   {
    "duration": 192,
    "start_time": "2024-02-09T11:47:50.231Z"
   },
   {
    "duration": 246,
    "start_time": "2024-02-09T11:47:50.427Z"
   },
   {
    "duration": 15,
    "start_time": "2024-02-09T11:47:50.674Z"
   },
   {
    "duration": 2661,
    "start_time": "2024-02-09T11:47:50.690Z"
   },
   {
    "duration": 780,
    "start_time": "2024-02-09T15:31:15.110Z"
   },
   {
    "duration": 3,
    "start_time": "2024-02-09T15:31:15.893Z"
   },
   {
    "duration": 313,
    "start_time": "2024-02-09T15:31:15.898Z"
   },
   {
    "duration": 12,
    "start_time": "2024-02-09T15:31:16.213Z"
   },
   {
    "duration": 24,
    "start_time": "2024-02-09T15:31:16.227Z"
   },
   {
    "duration": 37,
    "start_time": "2024-02-09T15:31:16.253Z"
   },
   {
    "duration": 21,
    "start_time": "2024-02-09T15:31:16.291Z"
   },
   {
    "duration": 22,
    "start_time": "2024-02-09T15:31:16.313Z"
   },
   {
    "duration": 8,
    "start_time": "2024-02-09T15:31:16.337Z"
   },
   {
    "duration": 17,
    "start_time": "2024-02-09T15:31:16.348Z"
   },
   {
    "duration": 10,
    "start_time": "2024-02-09T15:31:16.367Z"
   },
   {
    "duration": 8,
    "start_time": "2024-02-09T15:31:16.378Z"
   },
   {
    "duration": 4,
    "start_time": "2024-02-09T15:31:16.388Z"
   },
   {
    "duration": 10,
    "start_time": "2024-02-09T15:31:16.393Z"
   },
   {
    "duration": 13,
    "start_time": "2024-02-09T15:31:16.404Z"
   },
   {
    "duration": 3,
    "start_time": "2024-02-09T15:31:16.420Z"
   },
   {
    "duration": 162,
    "start_time": "2024-02-09T15:31:16.425Z"
   },
   {
    "duration": 245,
    "start_time": "2024-02-09T15:31:16.593Z"
   },
   {
    "duration": 289,
    "start_time": "2024-02-09T15:31:16.839Z"
   },
   {
    "duration": 6,
    "start_time": "2024-02-09T15:31:17.130Z"
   },
   {
    "duration": 11,
    "start_time": "2024-02-09T15:31:17.137Z"
   },
   {
    "duration": 12,
    "start_time": "2024-02-09T15:31:17.150Z"
   },
   {
    "duration": 4,
    "start_time": "2024-02-09T15:31:17.164Z"
   },
   {
    "duration": 29,
    "start_time": "2024-02-09T15:31:17.169Z"
   },
   {
    "duration": 227,
    "start_time": "2024-02-09T15:31:17.200Z"
   },
   {
    "duration": 12,
    "start_time": "2024-02-09T15:31:17.429Z"
   },
   {
    "duration": 27,
    "start_time": "2024-02-09T15:31:17.443Z"
   },
   {
    "duration": 40,
    "start_time": "2024-02-09T15:31:17.473Z"
   },
   {
    "duration": 35,
    "start_time": "2024-02-09T15:31:17.515Z"
   },
   {
    "duration": 20,
    "start_time": "2024-02-09T15:31:17.551Z"
   },
   {
    "duration": 15,
    "start_time": "2024-02-09T15:31:17.572Z"
   },
   {
    "duration": 24,
    "start_time": "2024-02-09T15:31:17.589Z"
   },
   {
    "duration": 14,
    "start_time": "2024-02-09T15:31:17.614Z"
   },
   {
    "duration": 16,
    "start_time": "2024-02-09T15:31:17.629Z"
   },
   {
    "duration": 26,
    "start_time": "2024-02-09T15:31:17.646Z"
   },
   {
    "duration": 9,
    "start_time": "2024-02-09T15:31:17.674Z"
   },
   {
    "duration": 255,
    "start_time": "2024-02-09T15:31:17.685Z"
   },
   {
    "duration": 9,
    "start_time": "2024-02-09T15:31:17.942Z"
   },
   {
    "duration": 171,
    "start_time": "2024-02-09T15:31:17.953Z"
   },
   {
    "duration": 179,
    "start_time": "2024-02-09T15:31:18.126Z"
   },
   {
    "duration": 250,
    "start_time": "2024-02-09T15:31:18.307Z"
   },
   {
    "duration": 17,
    "start_time": "2024-02-09T15:31:18.559Z"
   },
   {
    "duration": 2672,
    "start_time": "2024-02-09T15:31:18.578Z"
   },
   {
    "duration": 478,
    "start_time": "2024-02-09T15:34:27.499Z"
   },
   {
    "duration": 195,
    "start_time": "2024-02-09T15:34:40.401Z"
   },
   {
    "duration": 191,
    "start_time": "2024-02-09T15:34:46.027Z"
   },
   {
    "duration": 286,
    "start_time": "2024-02-09T15:35:08.110Z"
   },
   {
    "duration": 268,
    "start_time": "2024-02-09T15:37:28.615Z"
   },
   {
    "duration": 322,
    "start_time": "2024-02-09T15:38:05.152Z"
   },
   {
    "duration": 444,
    "start_time": "2024-02-09T15:38:32.257Z"
   },
   {
    "duration": 572,
    "start_time": "2024-02-09T15:39:04.346Z"
   },
   {
    "duration": 416,
    "start_time": "2024-02-09T15:39:32.586Z"
   },
   {
    "duration": 5,
    "start_time": "2024-02-09T15:41:56.769Z"
   },
   {
    "duration": 4,
    "start_time": "2024-02-09T15:42:22.017Z"
   },
   {
    "duration": 238,
    "start_time": "2024-02-09T15:43:04.351Z"
   },
   {
    "duration": 175,
    "start_time": "2024-02-09T15:43:12.080Z"
   },
   {
    "duration": 11,
    "start_time": "2024-02-09T15:43:15.942Z"
   },
   {
    "duration": 4,
    "start_time": "2024-02-09T15:43:27.602Z"
   },
   {
    "duration": 4,
    "start_time": "2024-02-09T15:43:32.631Z"
   },
   {
    "duration": 4,
    "start_time": "2024-02-09T15:43:42.864Z"
   },
   {
    "duration": 10,
    "start_time": "2024-02-09T15:44:20.111Z"
   },
   {
    "duration": 411,
    "start_time": "2024-02-09T15:44:42.918Z"
   },
   {
    "duration": 291,
    "start_time": "2024-02-09T15:45:10.116Z"
   },
   {
    "duration": 2501,
    "start_time": "2024-02-09T15:45:22.210Z"
   },
   {
    "duration": 460,
    "start_time": "2024-02-09T15:57:54.053Z"
   },
   {
    "duration": 95,
    "start_time": "2024-02-09T15:58:14.686Z"
   },
   {
    "duration": 14,
    "start_time": "2024-02-09T15:58:20.534Z"
   },
   {
    "duration": 13,
    "start_time": "2024-02-09T15:58:33.718Z"
   },
   {
    "duration": 13,
    "start_time": "2024-02-09T15:58:38.924Z"
   },
   {
    "duration": 170,
    "start_time": "2024-02-09T15:59:59.770Z"
   },
   {
    "duration": 460,
    "start_time": "2024-02-09T16:00:06.485Z"
   },
   {
    "duration": 545,
    "start_time": "2024-02-09T16:01:50.306Z"
   },
   {
    "duration": 420,
    "start_time": "2024-02-09T16:01:57.214Z"
   },
   {
    "duration": 555,
    "start_time": "2024-02-09T16:02:11.996Z"
   },
   {
    "duration": 165,
    "start_time": "2024-02-09T16:04:14.003Z"
   },
   {
    "duration": 678,
    "start_time": "2024-02-09T16:04:28.916Z"
   },
   {
    "duration": 584,
    "start_time": "2024-02-09T16:05:03.981Z"
   },
   {
    "duration": 4,
    "start_time": "2024-02-09T16:05:41.818Z"
   },
   {
    "duration": 5,
    "start_time": "2024-02-09T16:05:54.460Z"
   },
   {
    "duration": 4,
    "start_time": "2024-02-09T16:06:03.265Z"
   },
   {
    "duration": 5,
    "start_time": "2024-02-09T16:06:45.234Z"
   },
   {
    "duration": 6,
    "start_time": "2024-02-09T16:07:18.988Z"
   },
   {
    "duration": 629,
    "start_time": "2024-02-09T16:08:38.550Z"
   },
   {
    "duration": 580,
    "start_time": "2024-02-09T16:09:59.388Z"
   },
   {
    "duration": 324,
    "start_time": "2024-02-09T16:20:28.390Z"
   },
   {
    "duration": 672,
    "start_time": "2024-02-09T16:20:48.408Z"
   },
   {
    "duration": 591,
    "start_time": "2024-02-09T16:21:12.671Z"
   },
   {
    "duration": 597,
    "start_time": "2024-02-09T16:21:47.879Z"
   },
   {
    "duration": 739,
    "start_time": "2024-02-09T16:21:55.348Z"
   },
   {
    "duration": 634,
    "start_time": "2024-02-09T16:22:09.629Z"
   },
   {
    "duration": 670,
    "start_time": "2024-02-09T16:23:01.167Z"
   },
   {
    "duration": 721,
    "start_time": "2024-02-09T16:40:35.329Z"
   },
   {
    "duration": 626,
    "start_time": "2024-02-09T16:40:53.791Z"
   },
   {
    "duration": 687,
    "start_time": "2024-02-09T16:41:24.935Z"
   },
   {
    "duration": 814,
    "start_time": "2024-02-09T16:41:44.608Z"
   },
   {
    "duration": 658,
    "start_time": "2024-02-09T16:43:17.095Z"
   },
   {
    "duration": 632,
    "start_time": "2024-02-09T16:43:28.327Z"
   },
   {
    "duration": 835,
    "start_time": "2024-02-09T16:43:42.159Z"
   },
   {
    "duration": 761,
    "start_time": "2024-02-09T16:44:01.183Z"
   },
   {
    "duration": 782,
    "start_time": "2024-02-09T16:57:11.325Z"
   },
   {
    "duration": 695,
    "start_time": "2024-02-09T16:57:20.623Z"
   },
   {
    "duration": 646,
    "start_time": "2024-02-09T16:57:36.815Z"
   },
   {
    "duration": 765,
    "start_time": "2024-02-09T16:57:42.873Z"
   },
   {
    "duration": 613,
    "start_time": "2024-02-09T16:57:53.693Z"
   },
   {
    "duration": 663,
    "start_time": "2024-02-09T16:58:02.244Z"
   },
   {
    "duration": 719,
    "start_time": "2024-02-09T16:59:58.073Z"
   },
   {
    "duration": 644,
    "start_time": "2024-02-09T17:00:08.790Z"
   },
   {
    "duration": 401,
    "start_time": "2024-02-09T17:00:39.795Z"
   },
   {
    "duration": 716,
    "start_time": "2024-02-09T17:00:48.301Z"
   },
   {
    "duration": 640,
    "start_time": "2024-02-09T17:01:27.300Z"
   },
   {
    "duration": 631,
    "start_time": "2024-02-09T17:01:36.566Z"
   },
   {
    "duration": 723,
    "start_time": "2024-02-09T17:01:46.524Z"
   },
   {
    "duration": 661,
    "start_time": "2024-02-09T17:03:14.277Z"
   },
   {
    "duration": 10,
    "start_time": "2024-02-09T17:07:24.628Z"
   },
   {
    "duration": 2595,
    "start_time": "2024-02-09T17:08:51.871Z"
   },
   {
    "duration": 2596,
    "start_time": "2024-02-09T17:09:30.577Z"
   },
   {
    "duration": 225,
    "start_time": "2024-02-09T17:23:51.109Z"
   },
   {
    "duration": 9,
    "start_time": "2024-02-09T17:24:49.857Z"
   },
   {
    "duration": 307,
    "start_time": "2024-02-09T17:25:12.075Z"
   },
   {
    "duration": 234,
    "start_time": "2024-02-09T17:28:25.109Z"
   },
   {
    "duration": 225,
    "start_time": "2024-02-09T17:28:54.056Z"
   },
   {
    "duration": 207,
    "start_time": "2024-02-09T17:29:58.314Z"
   },
   {
    "duration": 231,
    "start_time": "2024-02-09T17:30:21.561Z"
   },
   {
    "duration": 220,
    "start_time": "2024-02-09T17:30:36.073Z"
   },
   {
    "duration": 325,
    "start_time": "2024-02-09T17:30:50.995Z"
   },
   {
    "duration": 219,
    "start_time": "2024-02-09T17:31:08.554Z"
   },
   {
    "duration": 217,
    "start_time": "2024-02-09T17:31:22.682Z"
   },
   {
    "duration": 213,
    "start_time": "2024-02-09T17:31:26.482Z"
   },
   {
    "duration": 216,
    "start_time": "2024-02-09T17:31:56.930Z"
   },
   {
    "duration": 323,
    "start_time": "2024-02-09T17:32:04.722Z"
   },
   {
    "duration": 231,
    "start_time": "2024-02-09T17:32:22.385Z"
   },
   {
    "duration": 230,
    "start_time": "2024-02-09T17:32:48.055Z"
   },
   {
    "duration": 222,
    "start_time": "2024-02-09T17:32:56.324Z"
   },
   {
    "duration": 976,
    "start_time": "2024-02-09T17:36:30.613Z"
   },
   {
    "duration": 640,
    "start_time": "2024-02-09T17:38:38.590Z"
   },
   {
    "duration": 3,
    "start_time": "2024-02-09T17:38:39.232Z"
   },
   {
    "duration": 75,
    "start_time": "2024-02-09T17:38:39.236Z"
   },
   {
    "duration": 12,
    "start_time": "2024-02-09T17:38:39.312Z"
   },
   {
    "duration": 10,
    "start_time": "2024-02-09T17:38:39.326Z"
   },
   {
    "duration": 24,
    "start_time": "2024-02-09T17:38:39.337Z"
   },
   {
    "duration": 13,
    "start_time": "2024-02-09T17:38:39.363Z"
   },
   {
    "duration": 16,
    "start_time": "2024-02-09T17:38:39.377Z"
   },
   {
    "duration": 8,
    "start_time": "2024-02-09T17:38:39.395Z"
   },
   {
    "duration": 15,
    "start_time": "2024-02-09T17:38:39.404Z"
   },
   {
    "duration": 17,
    "start_time": "2024-02-09T17:38:39.421Z"
   },
   {
    "duration": 23,
    "start_time": "2024-02-09T17:38:39.439Z"
   },
   {
    "duration": 4,
    "start_time": "2024-02-09T17:38:39.464Z"
   },
   {
    "duration": 4,
    "start_time": "2024-02-09T17:38:39.471Z"
   },
   {
    "duration": 10,
    "start_time": "2024-02-09T17:38:39.476Z"
   },
   {
    "duration": 4,
    "start_time": "2024-02-09T17:38:39.494Z"
   },
   {
    "duration": 158,
    "start_time": "2024-02-09T17:38:39.499Z"
   },
   {
    "duration": 240,
    "start_time": "2024-02-09T17:38:39.659Z"
   },
   {
    "duration": 282,
    "start_time": "2024-02-09T17:38:39.901Z"
   },
   {
    "duration": 11,
    "start_time": "2024-02-09T17:38:40.184Z"
   },
   {
    "duration": 27,
    "start_time": "2024-02-09T17:38:40.196Z"
   },
   {
    "duration": 30,
    "start_time": "2024-02-09T17:38:40.224Z"
   },
   {
    "duration": 33,
    "start_time": "2024-02-09T17:38:40.256Z"
   },
   {
    "duration": 31,
    "start_time": "2024-02-09T17:38:40.291Z"
   },
   {
    "duration": 228,
    "start_time": "2024-02-09T17:38:40.323Z"
   },
   {
    "duration": 11,
    "start_time": "2024-02-09T17:38:40.553Z"
   },
   {
    "duration": 81,
    "start_time": "2024-02-09T17:38:40.565Z"
   },
   {
    "duration": 53,
    "start_time": "2024-02-09T17:38:40.648Z"
   },
   {
    "duration": 29,
    "start_time": "2024-02-09T17:38:40.702Z"
   },
   {
    "duration": 35,
    "start_time": "2024-02-09T17:38:40.732Z"
   },
   {
    "duration": 31,
    "start_time": "2024-02-09T17:38:40.768Z"
   },
   {
    "duration": 9,
    "start_time": "2024-02-09T17:38:40.800Z"
   },
   {
    "duration": 28,
    "start_time": "2024-02-09T17:38:40.810Z"
   },
   {
    "duration": 16,
    "start_time": "2024-02-09T17:38:40.840Z"
   },
   {
    "duration": 29,
    "start_time": "2024-02-09T17:38:40.857Z"
   },
   {
    "duration": 301,
    "start_time": "2024-02-09T17:38:40.887Z"
   },
   {
    "duration": 8,
    "start_time": "2024-02-09T17:38:41.189Z"
   },
   {
    "duration": 176,
    "start_time": "2024-02-09T17:38:41.199Z"
   },
   {
    "duration": 175,
    "start_time": "2024-02-09T17:38:41.376Z"
   },
   {
    "duration": 227,
    "start_time": "2024-02-09T17:38:41.552Z"
   },
   {
    "duration": 20,
    "start_time": "2024-02-09T17:38:41.783Z"
   },
   {
    "duration": 2602,
    "start_time": "2024-02-09T17:38:41.804Z"
   },
   {
    "duration": 747,
    "start_time": "2024-02-09T17:38:44.408Z"
   },
   {
    "duration": 218,
    "start_time": "2024-02-09T17:38:45.157Z"
   },
   {
    "duration": 11,
    "start_time": "2024-02-09T17:43:19.048Z"
   },
   {
    "duration": 71,
    "start_time": "2024-02-09T17:48:24.802Z"
   },
   {
    "duration": 63,
    "start_time": "2024-02-09T17:48:47.985Z"
   },
   {
    "duration": 56,
    "start_time": "2024-02-09T17:49:24.501Z"
   },
   {
    "duration": 82,
    "start_time": "2024-02-09T17:49:45.397Z"
   },
   {
    "duration": 76,
    "start_time": "2024-02-09T17:53:11.468Z"
   },
   {
    "duration": 87,
    "start_time": "2024-02-09T17:53:56.949Z"
   },
   {
    "duration": 16,
    "start_time": "2024-02-09T17:56:47.483Z"
   },
   {
    "duration": 18,
    "start_time": "2024-02-09T17:57:10.095Z"
   },
   {
    "duration": 16,
    "start_time": "2024-02-09T17:58:22.214Z"
   },
   {
    "duration": 637,
    "start_time": "2024-02-09T17:58:33.365Z"
   },
   {
    "duration": 16,
    "start_time": "2024-02-09T17:59:22.102Z"
   },
   {
    "duration": 19,
    "start_time": "2024-02-09T18:02:11.462Z"
   },
   {
    "duration": 18,
    "start_time": "2024-02-09T18:02:26.909Z"
   },
   {
    "duration": 16,
    "start_time": "2024-02-09T18:07:02.703Z"
   },
   {
    "duration": 15,
    "start_time": "2024-02-09T18:08:15.738Z"
   },
   {
    "duration": 17,
    "start_time": "2024-02-09T18:09:05.649Z"
   },
   {
    "duration": 15,
    "start_time": "2024-02-09T18:10:57.225Z"
   },
   {
    "duration": 311,
    "start_time": "2024-02-09T18:15:04.407Z"
   },
   {
    "duration": 245,
    "start_time": "2024-02-09T18:15:47.082Z"
   },
   {
    "duration": 351,
    "start_time": "2024-02-09T18:15:51.893Z"
   },
   {
    "duration": 11,
    "start_time": "2024-02-09T18:59:52.440Z"
   },
   {
    "duration": 7,
    "start_time": "2024-02-09T19:00:13.145Z"
   },
   {
    "duration": 8,
    "start_time": "2024-02-09T19:04:15.920Z"
   },
   {
    "duration": 950,
    "start_time": "2024-02-09T19:05:48.834Z"
   },
   {
    "duration": 19,
    "start_time": "2024-02-09T19:06:03.032Z"
   },
   {
    "duration": 11,
    "start_time": "2024-02-09T19:06:23.110Z"
   },
   {
    "duration": 19,
    "start_time": "2024-02-09T19:06:56.998Z"
   },
   {
    "duration": 17,
    "start_time": "2024-02-09T19:07:12.656Z"
   },
   {
    "duration": 16,
    "start_time": "2024-02-09T19:07:38.558Z"
   },
   {
    "duration": 876,
    "start_time": "2024-02-09T19:08:07.473Z"
   },
   {
    "duration": 4,
    "start_time": "2024-02-09T19:08:21.321Z"
   },
   {
    "duration": 4,
    "start_time": "2024-02-09T19:08:49.864Z"
   },
   {
    "duration": 604,
    "start_time": "2024-02-09T19:12:50.919Z"
   },
   {
    "duration": 3,
    "start_time": "2024-02-09T19:12:51.524Z"
   },
   {
    "duration": 108,
    "start_time": "2024-02-09T19:12:51.529Z"
   },
   {
    "duration": 10,
    "start_time": "2024-02-09T19:12:51.639Z"
   },
   {
    "duration": 27,
    "start_time": "2024-02-09T19:12:51.651Z"
   },
   {
    "duration": 31,
    "start_time": "2024-02-09T19:12:51.680Z"
   },
   {
    "duration": 23,
    "start_time": "2024-02-09T19:12:51.712Z"
   },
   {
    "duration": 39,
    "start_time": "2024-02-09T19:12:51.736Z"
   },
   {
    "duration": 29,
    "start_time": "2024-02-09T19:12:51.776Z"
   },
   {
    "duration": 23,
    "start_time": "2024-02-09T19:12:51.808Z"
   },
   {
    "duration": 33,
    "start_time": "2024-02-09T19:12:51.832Z"
   },
   {
    "duration": 15,
    "start_time": "2024-02-09T19:12:51.866Z"
   },
   {
    "duration": 32,
    "start_time": "2024-02-09T19:12:51.882Z"
   },
   {
    "duration": 18,
    "start_time": "2024-02-09T19:12:51.916Z"
   },
   {
    "duration": 38,
    "start_time": "2024-02-09T19:12:51.936Z"
   },
   {
    "duration": 27,
    "start_time": "2024-02-09T19:12:51.976Z"
   },
   {
    "duration": 175,
    "start_time": "2024-02-09T19:12:52.005Z"
   },
   {
    "duration": 263,
    "start_time": "2024-02-09T19:12:52.181Z"
   },
   {
    "duration": 272,
    "start_time": "2024-02-09T19:12:52.445Z"
   },
   {
    "duration": 7,
    "start_time": "2024-02-09T19:12:52.718Z"
   },
   {
    "duration": 57,
    "start_time": "2024-02-09T19:12:52.726Z"
   },
   {
    "duration": 29,
    "start_time": "2024-02-09T19:12:52.784Z"
   },
   {
    "duration": 65,
    "start_time": "2024-02-09T19:12:52.814Z"
   },
   {
    "duration": 36,
    "start_time": "2024-02-09T19:12:52.880Z"
   },
   {
    "duration": 248,
    "start_time": "2024-02-09T19:12:52.918Z"
   },
   {
    "duration": 10,
    "start_time": "2024-02-09T19:12:53.167Z"
   },
   {
    "duration": 62,
    "start_time": "2024-02-09T19:12:53.179Z"
   },
   {
    "duration": 63,
    "start_time": "2024-02-09T19:12:53.244Z"
   },
   {
    "duration": 49,
    "start_time": "2024-02-09T19:12:53.309Z"
   },
   {
    "duration": 39,
    "start_time": "2024-02-09T19:12:53.359Z"
   },
   {
    "duration": 44,
    "start_time": "2024-02-09T19:12:53.400Z"
   },
   {
    "duration": 37,
    "start_time": "2024-02-09T19:12:53.446Z"
   },
   {
    "duration": 41,
    "start_time": "2024-02-09T19:12:53.484Z"
   },
   {
    "duration": 34,
    "start_time": "2024-02-09T19:12:53.527Z"
   },
   {
    "duration": 41,
    "start_time": "2024-02-09T19:12:53.562Z"
   },
   {
    "duration": 271,
    "start_time": "2024-02-09T19:12:53.604Z"
   },
   {
    "duration": 23,
    "start_time": "2024-02-09T19:12:53.877Z"
   },
   {
    "duration": 168,
    "start_time": "2024-02-09T19:12:53.902Z"
   },
   {
    "duration": 176,
    "start_time": "2024-02-09T19:12:54.071Z"
   },
   {
    "duration": 230,
    "start_time": "2024-02-09T19:12:54.248Z"
   },
   {
    "duration": 22,
    "start_time": "2024-02-09T19:12:54.479Z"
   },
   {
    "duration": 2518,
    "start_time": "2024-02-09T19:12:54.503Z"
   },
   {
    "duration": 720,
    "start_time": "2024-02-09T19:12:57.022Z"
   },
   {
    "duration": 218,
    "start_time": "2024-02-09T19:12:57.743Z"
   },
   {
    "duration": 16,
    "start_time": "2024-02-09T19:12:57.962Z"
   },
   {
    "duration": 44,
    "start_time": "2024-02-09T19:12:57.979Z"
   },
   {
    "duration": 31,
    "start_time": "2024-02-09T19:12:58.024Z"
   },
   {
    "duration": 11,
    "start_time": "2024-02-09T19:12:58.057Z"
   },
   {
    "duration": 26,
    "start_time": "2024-02-09T19:12:58.069Z"
   },
   {
    "duration": 72,
    "start_time": "2024-02-09T19:13:46.905Z"
   },
   {
    "duration": 19,
    "start_time": "2024-02-09T19:14:05.657Z"
   },
   {
    "duration": 3,
    "start_time": "2024-02-09T19:14:31.172Z"
   },
   {
    "duration": 6,
    "start_time": "2024-02-09T19:18:02.718Z"
   },
   {
    "duration": 85,
    "start_time": "2024-02-09T19:18:57.059Z"
   },
   {
    "duration": 8,
    "start_time": "2024-02-09T19:19:05.557Z"
   },
   {
    "duration": 8,
    "start_time": "2024-02-09T19:19:40.895Z"
   },
   {
    "duration": 205,
    "start_time": "2024-02-09T19:27:53.429Z"
   },
   {
    "duration": 1050,
    "start_time": "2024-02-09T19:28:35.404Z"
   },
   {
    "duration": 723,
    "start_time": "2024-02-09T19:29:26.704Z"
   },
   {
    "duration": 581,
    "start_time": "2024-02-09T19:30:33.086Z"
   },
   {
    "duration": 588,
    "start_time": "2024-02-09T19:32:51.406Z"
   },
   {
    "duration": 749,
    "start_time": "2024-02-09T19:33:03.265Z"
   },
   {
    "duration": 31,
    "start_time": "2024-02-09T19:44:56.656Z"
   },
   {
    "duration": 7,
    "start_time": "2024-02-09T19:45:17.462Z"
   },
   {
    "duration": 7,
    "start_time": "2024-02-09T19:45:41.324Z"
   },
   {
    "duration": 6,
    "start_time": "2024-02-09T19:46:16.908Z"
   },
   {
    "duration": 9,
    "start_time": "2024-02-09T19:46:48.490Z"
   },
   {
    "duration": 9,
    "start_time": "2024-02-09T19:47:05.572Z"
   },
   {
    "duration": 9,
    "start_time": "2024-02-09T19:47:28.372Z"
   },
   {
    "duration": 13,
    "start_time": "2024-02-09T19:47:49.426Z"
   },
   {
    "duration": 4,
    "start_time": "2024-02-09T19:48:11.060Z"
   },
   {
    "duration": 87,
    "start_time": "2024-02-09T19:48:34.107Z"
   },
   {
    "duration": 79,
    "start_time": "2024-02-09T19:48:40.067Z"
   },
   {
    "duration": 89,
    "start_time": "2024-02-09T19:48:50.321Z"
   },
   {
    "duration": 84,
    "start_time": "2024-02-09T19:49:16.283Z"
   },
   {
    "duration": 103,
    "start_time": "2024-02-09T19:49:40.851Z"
   },
   {
    "duration": 122,
    "start_time": "2024-02-09T19:49:43.480Z"
   },
   {
    "duration": 3,
    "start_time": "2024-02-09T19:49:47.618Z"
   },
   {
    "duration": 6,
    "start_time": "2024-02-09T19:53:05.168Z"
   },
   {
    "duration": 6,
    "start_time": "2024-02-09T19:55:18.088Z"
   },
   {
    "duration": 6,
    "start_time": "2024-02-09T19:59:39.592Z"
   },
   {
    "duration": 12,
    "start_time": "2024-02-09T20:30:24.964Z"
   },
   {
    "duration": 29,
    "start_time": "2024-02-09T20:32:19.865Z"
   },
   {
    "duration": 26,
    "start_time": "2024-02-09T20:33:05.555Z"
   },
   {
    "duration": 30,
    "start_time": "2024-02-09T20:38:18.404Z"
   },
   {
    "duration": 26,
    "start_time": "2024-02-09T20:38:44.544Z"
   },
   {
    "duration": 34,
    "start_time": "2024-02-09T20:38:51.680Z"
   },
   {
    "duration": 34,
    "start_time": "2024-02-09T20:39:37.642Z"
   },
   {
    "duration": 24,
    "start_time": "2024-02-09T20:39:47.265Z"
   },
   {
    "duration": 27,
    "start_time": "2024-02-09T20:43:26.921Z"
   },
   {
    "duration": 16,
    "start_time": "2024-02-09T20:49:47.446Z"
   },
   {
    "duration": 10,
    "start_time": "2024-02-09T20:50:09.782Z"
   },
   {
    "duration": 26,
    "start_time": "2024-02-09T20:51:24.317Z"
   },
   {
    "duration": 5,
    "start_time": "2024-02-09T20:52:05.142Z"
   },
   {
    "duration": 37,
    "start_time": "2024-02-09T20:52:26.590Z"
   },
   {
    "duration": 38,
    "start_time": "2024-02-09T20:57:28.847Z"
   },
   {
    "duration": 44,
    "start_time": "2024-02-09T20:57:55.501Z"
   },
   {
    "duration": 38,
    "start_time": "2024-02-09T21:00:11.109Z"
   },
   {
    "duration": 125,
    "start_time": "2024-02-09T21:00:54.861Z"
   },
   {
    "duration": 40,
    "start_time": "2024-02-09T21:01:04.446Z"
   },
   {
    "duration": 40,
    "start_time": "2024-02-09T21:01:55.224Z"
   },
   {
    "duration": 41,
    "start_time": "2024-02-09T21:02:58.358Z"
   },
   {
    "duration": 40,
    "start_time": "2024-02-09T21:05:25.184Z"
   },
   {
    "duration": 39,
    "start_time": "2024-02-09T21:09:37.959Z"
   },
   {
    "duration": 601,
    "start_time": "2024-02-09T21:20:40.455Z"
   },
   {
    "duration": 3,
    "start_time": "2024-02-09T21:20:41.057Z"
   },
   {
    "duration": 69,
    "start_time": "2024-02-09T21:20:41.061Z"
   },
   {
    "duration": 10,
    "start_time": "2024-02-09T21:20:41.132Z"
   },
   {
    "duration": 10,
    "start_time": "2024-02-09T21:20:41.143Z"
   },
   {
    "duration": 12,
    "start_time": "2024-02-09T21:20:41.154Z"
   },
   {
    "duration": 9,
    "start_time": "2024-02-09T21:20:41.167Z"
   },
   {
    "duration": 36,
    "start_time": "2024-02-09T21:20:41.177Z"
   },
   {
    "duration": 6,
    "start_time": "2024-02-09T21:20:41.215Z"
   },
   {
    "duration": 44,
    "start_time": "2024-02-09T21:20:41.223Z"
   },
   {
    "duration": 19,
    "start_time": "2024-02-09T21:20:41.268Z"
   },
   {
    "duration": 13,
    "start_time": "2024-02-09T21:20:41.288Z"
   },
   {
    "duration": 32,
    "start_time": "2024-02-09T21:20:41.303Z"
   },
   {
    "duration": 32,
    "start_time": "2024-02-09T21:20:41.336Z"
   },
   {
    "duration": 10,
    "start_time": "2024-02-09T21:20:41.369Z"
   },
   {
    "duration": 8,
    "start_time": "2024-02-09T21:20:41.380Z"
   },
   {
    "duration": 155,
    "start_time": "2024-02-09T21:20:41.389Z"
   },
   {
    "duration": 210,
    "start_time": "2024-02-09T21:20:41.546Z"
   },
   {
    "duration": 262,
    "start_time": "2024-02-09T21:20:41.758Z"
   },
   {
    "duration": 6,
    "start_time": "2024-02-09T21:20:42.021Z"
   },
   {
    "duration": 10,
    "start_time": "2024-02-09T21:20:42.028Z"
   },
   {
    "duration": 6,
    "start_time": "2024-02-09T21:20:42.039Z"
   },
   {
    "duration": 4,
    "start_time": "2024-02-09T21:20:42.046Z"
   },
   {
    "duration": 51,
    "start_time": "2024-02-09T21:20:42.051Z"
   },
   {
    "duration": 220,
    "start_time": "2024-02-09T21:20:42.103Z"
   },
   {
    "duration": 10,
    "start_time": "2024-02-09T21:20:42.324Z"
   },
   {
    "duration": 15,
    "start_time": "2024-02-09T21:20:42.335Z"
   },
   {
    "duration": 42,
    "start_time": "2024-02-09T21:20:42.353Z"
   },
   {
    "duration": 9,
    "start_time": "2024-02-09T21:20:42.397Z"
   },
   {
    "duration": 7,
    "start_time": "2024-02-09T21:20:42.407Z"
   },
   {
    "duration": 7,
    "start_time": "2024-02-09T21:20:42.415Z"
   },
   {
    "duration": 23,
    "start_time": "2024-02-09T21:20:42.423Z"
   },
   {
    "duration": 9,
    "start_time": "2024-02-09T21:20:42.447Z"
   },
   {
    "duration": 10,
    "start_time": "2024-02-09T21:20:42.457Z"
   },
   {
    "duration": 29,
    "start_time": "2024-02-09T21:20:42.468Z"
   },
   {
    "duration": 248,
    "start_time": "2024-02-09T21:20:42.499Z"
   },
   {
    "duration": 8,
    "start_time": "2024-02-09T21:20:42.749Z"
   },
   {
    "duration": 162,
    "start_time": "2024-02-09T21:20:42.759Z"
   },
   {
    "duration": 181,
    "start_time": "2024-02-09T21:20:42.923Z"
   },
   {
    "duration": 232,
    "start_time": "2024-02-09T21:20:43.105Z"
   },
   {
    "duration": 15,
    "start_time": "2024-02-09T21:20:43.339Z"
   },
   {
    "duration": 2463,
    "start_time": "2024-02-09T21:20:43.355Z"
   },
   {
    "duration": 695,
    "start_time": "2024-02-09T21:20:45.820Z"
   },
   {
    "duration": 236,
    "start_time": "2024-02-09T21:20:46.516Z"
   },
   {
    "duration": 14,
    "start_time": "2024-02-09T21:20:46.754Z"
   },
   {
    "duration": 31,
    "start_time": "2024-02-09T21:20:46.770Z"
   },
   {
    "duration": 19,
    "start_time": "2024-02-09T21:20:46.802Z"
   },
   {
    "duration": 8,
    "start_time": "2024-02-09T21:20:46.822Z"
   },
   {
    "duration": 634,
    "start_time": "2024-02-09T21:20:46.831Z"
   },
   {
    "duration": 6,
    "start_time": "2024-02-09T21:20:47.466Z"
   },
   {
    "duration": 762,
    "start_time": "2024-02-09T21:20:47.473Z"
   },
   {
    "duration": 5,
    "start_time": "2024-02-09T21:20:48.237Z"
   },
   {
    "duration": 53,
    "start_time": "2024-02-09T21:20:48.243Z"
   },
   {
    "duration": 435,
    "start_time": "2024-02-09T21:22:48.250Z"
   },
   {
    "duration": 10,
    "start_time": "2024-02-09T21:27:20.586Z"
   },
   {
    "duration": 5,
    "start_time": "2024-02-09T21:28:25.738Z"
   },
   {
    "duration": 5,
    "start_time": "2024-02-09T21:29:30.113Z"
   },
   {
    "duration": 991,
    "start_time": "2024-02-09T21:34:38.243Z"
   },
   {
    "duration": 3,
    "start_time": "2024-02-09T21:34:39.236Z"
   },
   {
    "duration": 73,
    "start_time": "2024-02-09T21:34:39.240Z"
   },
   {
    "duration": 11,
    "start_time": "2024-02-09T21:34:39.315Z"
   },
   {
    "duration": 11,
    "start_time": "2024-02-09T21:34:39.327Z"
   },
   {
    "duration": 16,
    "start_time": "2024-02-09T21:34:39.340Z"
   },
   {
    "duration": 8,
    "start_time": "2024-02-09T21:34:39.357Z"
   },
   {
    "duration": 20,
    "start_time": "2024-02-09T21:34:39.367Z"
   },
   {
    "duration": 6,
    "start_time": "2024-02-09T21:34:39.388Z"
   },
   {
    "duration": 14,
    "start_time": "2024-02-09T21:34:39.397Z"
   },
   {
    "duration": 12,
    "start_time": "2024-02-09T21:34:39.413Z"
   },
   {
    "duration": 8,
    "start_time": "2024-02-09T21:34:39.426Z"
   },
   {
    "duration": 4,
    "start_time": "2024-02-09T21:34:39.435Z"
   },
   {
    "duration": 5,
    "start_time": "2024-02-09T21:34:39.441Z"
   },
   {
    "duration": 14,
    "start_time": "2024-02-09T21:34:39.447Z"
   },
   {
    "duration": 5,
    "start_time": "2024-02-09T21:34:39.462Z"
   },
   {
    "duration": 140,
    "start_time": "2024-02-09T21:34:39.493Z"
   },
   {
    "duration": 222,
    "start_time": "2024-02-09T21:34:39.635Z"
   },
   {
    "duration": 219,
    "start_time": "2024-02-09T21:34:39.859Z"
   },
   {
    "duration": 13,
    "start_time": "2024-02-09T21:34:40.080Z"
   },
   {
    "duration": 9,
    "start_time": "2024-02-09T21:34:40.095Z"
   },
   {
    "duration": 8,
    "start_time": "2024-02-09T21:34:40.105Z"
   },
   {
    "duration": 27,
    "start_time": "2024-02-09T21:34:40.115Z"
   },
   {
    "duration": 12,
    "start_time": "2024-02-09T21:34:40.144Z"
   },
   {
    "duration": 218,
    "start_time": "2024-02-09T21:34:40.158Z"
   },
   {
    "duration": 11,
    "start_time": "2024-02-09T21:34:40.377Z"
   },
   {
    "duration": 34,
    "start_time": "2024-02-09T21:34:40.394Z"
   },
   {
    "duration": 33,
    "start_time": "2024-02-09T21:34:40.431Z"
   },
   {
    "duration": 15,
    "start_time": "2024-02-09T21:34:40.466Z"
   },
   {
    "duration": 19,
    "start_time": "2024-02-09T21:34:40.482Z"
   },
   {
    "duration": 10,
    "start_time": "2024-02-09T21:34:40.502Z"
   },
   {
    "duration": 6,
    "start_time": "2024-02-09T21:34:40.513Z"
   },
   {
    "duration": 27,
    "start_time": "2024-02-09T21:34:40.520Z"
   },
   {
    "duration": 10,
    "start_time": "2024-02-09T21:34:40.548Z"
   },
   {
    "duration": 9,
    "start_time": "2024-02-09T21:34:40.559Z"
   },
   {
    "duration": 248,
    "start_time": "2024-02-09T21:34:40.570Z"
   },
   {
    "duration": 9,
    "start_time": "2024-02-09T21:34:40.820Z"
   },
   {
    "duration": 227,
    "start_time": "2024-02-09T21:34:40.830Z"
   },
   {
    "duration": 165,
    "start_time": "2024-02-09T21:34:41.058Z"
   },
   {
    "duration": 235,
    "start_time": "2024-02-09T21:34:41.224Z"
   },
   {
    "duration": 18,
    "start_time": "2024-02-09T21:34:41.461Z"
   },
   {
    "duration": 2462,
    "start_time": "2024-02-09T21:34:41.480Z"
   },
   {
    "duration": 635,
    "start_time": "2024-02-09T21:34:43.944Z"
   },
   {
    "duration": 318,
    "start_time": "2024-02-09T21:34:44.580Z"
   },
   {
    "duration": 16,
    "start_time": "2024-02-09T21:34:44.899Z"
   },
   {
    "duration": 29,
    "start_time": "2024-02-09T21:34:44.916Z"
   },
   {
    "duration": 18,
    "start_time": "2024-02-09T21:34:44.947Z"
   },
   {
    "duration": 7,
    "start_time": "2024-02-09T21:34:44.967Z"
   },
   {
    "duration": 596,
    "start_time": "2024-02-09T21:34:44.975Z"
   },
   {
    "duration": 5,
    "start_time": "2024-02-09T21:34:45.573Z"
   },
   {
    "duration": 629,
    "start_time": "2024-02-09T21:34:45.580Z"
   },
   {
    "duration": 5,
    "start_time": "2024-02-09T21:34:46.210Z"
   },
   {
    "duration": 51,
    "start_time": "2024-02-09T21:34:46.216Z"
   },
   {
    "duration": 4,
    "start_time": "2024-02-09T21:34:46.269Z"
   },
   {
    "duration": 21,
    "start_time": "2024-02-09T21:34:46.275Z"
   },
   {
    "duration": 85,
    "start_time": "2024-02-09T21:41:17.709Z"
   },
   {
    "duration": 6,
    "start_time": "2024-02-09T21:41:51.311Z"
   },
   {
    "duration": 94,
    "start_time": "2024-02-09T21:46:01.887Z"
   },
   {
    "duration": 13,
    "start_time": "2024-02-09T21:46:06.132Z"
   },
   {
    "duration": 5,
    "start_time": "2024-02-09T21:46:23.068Z"
   },
   {
    "duration": 5,
    "start_time": "2024-02-09T21:46:53.062Z"
   },
   {
    "duration": 80,
    "start_time": "2024-02-09T21:47:07.325Z"
   },
   {
    "duration": 5,
    "start_time": "2024-02-09T21:47:20.806Z"
   },
   {
    "duration": 6,
    "start_time": "2024-02-09T21:48:08.333Z"
   },
   {
    "duration": 6,
    "start_time": "2024-02-09T21:48:22.877Z"
   },
   {
    "duration": 1354,
    "start_time": "2024-02-10T08:59:11.434Z"
   },
   {
    "duration": 2,
    "start_time": "2024-02-10T08:59:12.791Z"
   },
   {
    "duration": 286,
    "start_time": "2024-02-10T08:59:12.795Z"
   },
   {
    "duration": 13,
    "start_time": "2024-02-10T08:59:13.083Z"
   },
   {
    "duration": 19,
    "start_time": "2024-02-10T08:59:13.098Z"
   },
   {
    "duration": 14,
    "start_time": "2024-02-10T08:59:13.118Z"
   },
   {
    "duration": 35,
    "start_time": "2024-02-10T08:59:13.133Z"
   },
   {
    "duration": 32,
    "start_time": "2024-02-10T08:59:13.169Z"
   },
   {
    "duration": 22,
    "start_time": "2024-02-10T08:59:13.203Z"
   },
   {
    "duration": 19,
    "start_time": "2024-02-10T08:59:13.229Z"
   },
   {
    "duration": 29,
    "start_time": "2024-02-10T08:59:13.250Z"
   },
   {
    "duration": 31,
    "start_time": "2024-02-10T08:59:13.280Z"
   },
   {
    "duration": 12,
    "start_time": "2024-02-10T08:59:13.313Z"
   },
   {
    "duration": 22,
    "start_time": "2024-02-10T08:59:13.327Z"
   },
   {
    "duration": 49,
    "start_time": "2024-02-10T08:59:13.351Z"
   },
   {
    "duration": 22,
    "start_time": "2024-02-10T08:59:13.402Z"
   },
   {
    "duration": 198,
    "start_time": "2024-02-10T08:59:13.425Z"
   },
   {
    "duration": 259,
    "start_time": "2024-02-10T08:59:13.624Z"
   },
   {
    "duration": 274,
    "start_time": "2024-02-10T08:59:13.885Z"
   },
   {
    "duration": 7,
    "start_time": "2024-02-10T08:59:14.161Z"
   },
   {
    "duration": 26,
    "start_time": "2024-02-10T08:59:14.169Z"
   },
   {
    "duration": 16,
    "start_time": "2024-02-10T08:59:14.197Z"
   },
   {
    "duration": 11,
    "start_time": "2024-02-10T08:59:14.215Z"
   },
   {
    "duration": 22,
    "start_time": "2024-02-10T08:59:14.228Z"
   },
   {
    "duration": 292,
    "start_time": "2024-02-10T08:59:14.251Z"
   },
   {
    "duration": 13,
    "start_time": "2024-02-10T08:59:14.544Z"
   },
   {
    "duration": 50,
    "start_time": "2024-02-10T08:59:14.558Z"
   },
   {
    "duration": 76,
    "start_time": "2024-02-10T08:59:14.612Z"
   },
   {
    "duration": 42,
    "start_time": "2024-02-10T08:59:14.689Z"
   },
   {
    "duration": 20,
    "start_time": "2024-02-10T08:59:14.733Z"
   },
   {
    "duration": 36,
    "start_time": "2024-02-10T08:59:14.755Z"
   },
   {
    "duration": 13,
    "start_time": "2024-02-10T08:59:14.793Z"
   },
   {
    "duration": 23,
    "start_time": "2024-02-10T08:59:14.807Z"
   },
   {
    "duration": 13,
    "start_time": "2024-02-10T08:59:14.832Z"
   },
   {
    "duration": 22,
    "start_time": "2024-02-10T08:59:14.848Z"
   },
   {
    "duration": 304,
    "start_time": "2024-02-10T08:59:14.872Z"
   },
   {
    "duration": 18,
    "start_time": "2024-02-10T08:59:15.178Z"
   },
   {
    "duration": 270,
    "start_time": "2024-02-10T08:59:15.197Z"
   },
   {
    "duration": 212,
    "start_time": "2024-02-10T08:59:15.470Z"
   },
   {
    "duration": 267,
    "start_time": "2024-02-10T08:59:15.684Z"
   },
   {
    "duration": 18,
    "start_time": "2024-02-10T08:59:15.953Z"
   },
   {
    "duration": 3099,
    "start_time": "2024-02-10T08:59:15.973Z"
   },
   {
    "duration": 785,
    "start_time": "2024-02-10T08:59:19.074Z"
   },
   {
    "duration": 426,
    "start_time": "2024-02-10T08:59:19.861Z"
   },
   {
    "duration": 20,
    "start_time": "2024-02-10T08:59:20.289Z"
   },
   {
    "duration": 20,
    "start_time": "2024-02-10T08:59:20.312Z"
   },
   {
    "duration": 23,
    "start_time": "2024-02-10T08:59:20.334Z"
   },
   {
    "duration": 39,
    "start_time": "2024-02-10T08:59:20.359Z"
   },
   {
    "duration": 693,
    "start_time": "2024-02-10T08:59:20.399Z"
   },
   {
    "duration": 6,
    "start_time": "2024-02-10T08:59:21.093Z"
   },
   {
    "duration": 747,
    "start_time": "2024-02-10T08:59:21.101Z"
   },
   {
    "duration": 8,
    "start_time": "2024-02-10T08:59:21.850Z"
   },
   {
    "duration": 74,
    "start_time": "2024-02-10T08:59:21.861Z"
   },
   {
    "duration": 7,
    "start_time": "2024-02-10T08:59:21.937Z"
   },
   {
    "duration": 20,
    "start_time": "2024-02-10T08:59:21.946Z"
   },
   {
    "duration": 114,
    "start_time": "2024-02-10T09:07:21.643Z"
   },
   {
    "duration": 5,
    "start_time": "2024-02-10T09:07:45.963Z"
   },
   {
    "duration": 7,
    "start_time": "2024-02-10T09:08:19.508Z"
   },
   {
    "duration": 12,
    "start_time": "2024-02-10T09:08:51.994Z"
   },
   {
    "duration": 6,
    "start_time": "2024-02-10T09:08:55.180Z"
   },
   {
    "duration": 7,
    "start_time": "2024-02-10T09:10:26.635Z"
   },
   {
    "duration": 6,
    "start_time": "2024-02-10T09:10:32.897Z"
   },
   {
    "duration": 82,
    "start_time": "2024-02-10T09:12:22.955Z"
   },
   {
    "duration": 5,
    "start_time": "2024-02-10T09:12:35.923Z"
   },
   {
    "duration": 5,
    "start_time": "2024-02-10T09:12:41.731Z"
   },
   {
    "duration": 5,
    "start_time": "2024-02-10T09:12:59.051Z"
   },
   {
    "duration": 5,
    "start_time": "2024-02-10T09:13:03.188Z"
   },
   {
    "duration": 5,
    "start_time": "2024-02-10T09:13:07.779Z"
   },
   {
    "duration": 5,
    "start_time": "2024-02-10T09:13:12.330Z"
   },
   {
    "duration": 5,
    "start_time": "2024-02-10T09:13:16.563Z"
   },
   {
    "duration": 6,
    "start_time": "2024-02-10T09:13:22.906Z"
   },
   {
    "duration": 5,
    "start_time": "2024-02-10T09:13:36.826Z"
   },
   {
    "duration": 6,
    "start_time": "2024-02-10T09:14:06.553Z"
   },
   {
    "duration": 6,
    "start_time": "2024-02-10T09:14:20.794Z"
   },
   {
    "duration": 94,
    "start_time": "2024-02-10T09:15:30.210Z"
   },
   {
    "duration": 5,
    "start_time": "2024-02-10T09:15:36.882Z"
   },
   {
    "duration": 5,
    "start_time": "2024-02-10T09:15:54.977Z"
   },
   {
    "duration": 6,
    "start_time": "2024-02-10T09:16:00.120Z"
   },
   {
    "duration": 5,
    "start_time": "2024-02-10T09:16:04.458Z"
   },
   {
    "duration": 5,
    "start_time": "2024-02-10T09:16:23.562Z"
   },
   {
    "duration": 90,
    "start_time": "2024-02-10T09:16:43.616Z"
   },
   {
    "duration": 6,
    "start_time": "2024-02-10T09:16:48.880Z"
   },
   {
    "duration": 6,
    "start_time": "2024-02-10T09:16:55.129Z"
   },
   {
    "duration": 6,
    "start_time": "2024-02-10T09:17:15.026Z"
   },
   {
    "duration": 6,
    "start_time": "2024-02-10T09:17:23.601Z"
   },
   {
    "duration": 5,
    "start_time": "2024-02-10T09:17:32.472Z"
   },
   {
    "duration": 6,
    "start_time": "2024-02-10T09:17:57.456Z"
   },
   {
    "duration": 11,
    "start_time": "2024-02-10T09:23:34.014Z"
   },
   {
    "duration": 11,
    "start_time": "2024-02-10T09:23:45.888Z"
   },
   {
    "duration": 9,
    "start_time": "2024-02-10T09:23:50.152Z"
   },
   {
    "duration": 10,
    "start_time": "2024-02-10T09:23:55.656Z"
   },
   {
    "duration": 967,
    "start_time": "2024-02-10T09:45:36.450Z"
   },
   {
    "duration": 11,
    "start_time": "2024-02-10T09:45:43.803Z"
   },
   {
    "duration": 12,
    "start_time": "2024-02-10T09:49:39.786Z"
   },
   {
    "duration": 7,
    "start_time": "2024-02-10T11:08:45.569Z"
   },
   {
    "duration": 5,
    "start_time": "2024-02-10T11:31:04.075Z"
   },
   {
    "duration": 7,
    "start_time": "2024-02-10T11:31:57.320Z"
   },
   {
    "duration": 6,
    "start_time": "2024-02-10T11:32:05.874Z"
   },
   {
    "duration": 5,
    "start_time": "2024-02-10T11:32:27.322Z"
   },
   {
    "duration": 6,
    "start_time": "2024-02-10T11:32:35.090Z"
   },
   {
    "duration": 5,
    "start_time": "2024-02-10T11:40:22.449Z"
   },
   {
    "duration": 5,
    "start_time": "2024-02-10T11:51:48.061Z"
   },
   {
    "duration": 5,
    "start_time": "2024-02-10T11:52:13.477Z"
   },
   {
    "duration": 86,
    "start_time": "2024-02-10T12:09:02.334Z"
   },
   {
    "duration": 16,
    "start_time": "2024-02-10T12:09:13.118Z"
   },
   {
    "duration": 11,
    "start_time": "2024-02-10T12:15:23.149Z"
   },
   {
    "duration": 9,
    "start_time": "2024-02-10T12:15:33.340Z"
   },
   {
    "duration": 847,
    "start_time": "2024-02-10T12:17:53.365Z"
   },
   {
    "duration": 886,
    "start_time": "2024-02-10T12:18:02.460Z"
   },
   {
    "duration": 936,
    "start_time": "2024-02-10T12:18:14.643Z"
   },
   {
    "duration": 38,
    "start_time": "2024-02-10T12:18:34.617Z"
   },
   {
    "duration": 6,
    "start_time": "2024-02-10T12:18:54.707Z"
   },
   {
    "duration": 11,
    "start_time": "2024-02-10T12:19:06.428Z"
   },
   {
    "duration": 284,
    "start_time": "2024-02-10T12:21:15.187Z"
   },
   {
    "duration": 56,
    "start_time": "2024-02-10T12:21:38.835Z"
   },
   {
    "duration": 55,
    "start_time": "2024-02-10T12:23:38.747Z"
   },
   {
    "duration": 66,
    "start_time": "2024-02-10T12:23:51.363Z"
   },
   {
    "duration": 55,
    "start_time": "2024-02-10T12:23:56.177Z"
   },
   {
    "duration": 58,
    "start_time": "2024-02-10T12:24:13.297Z"
   },
   {
    "duration": 60,
    "start_time": "2024-02-10T12:24:29.106Z"
   },
   {
    "duration": 11,
    "start_time": "2024-02-10T12:24:44.385Z"
   },
   {
    "duration": 11,
    "start_time": "2024-02-10T12:24:59.090Z"
   },
   {
    "duration": 12,
    "start_time": "2024-02-10T12:25:13.906Z"
   },
   {
    "duration": 12,
    "start_time": "2024-02-10T12:25:18.416Z"
   },
   {
    "duration": 59,
    "start_time": "2024-02-10T12:25:28.241Z"
   },
   {
    "duration": 7,
    "start_time": "2024-02-10T12:26:10.385Z"
   },
   {
    "duration": 15,
    "start_time": "2024-02-10T12:26:21.896Z"
   },
   {
    "duration": 14,
    "start_time": "2024-02-10T12:26:28.288Z"
   },
   {
    "duration": 9,
    "start_time": "2024-02-10T12:27:00.282Z"
   },
   {
    "duration": 15,
    "start_time": "2024-02-10T12:27:07.400Z"
   },
   {
    "duration": 9,
    "start_time": "2024-02-10T12:27:09.928Z"
   },
   {
    "duration": 6,
    "start_time": "2024-02-10T12:27:23.881Z"
   },
   {
    "duration": 7,
    "start_time": "2024-02-10T12:31:00.071Z"
   },
   {
    "duration": 6,
    "start_time": "2024-02-10T12:34:19.022Z"
   },
   {
    "duration": 845,
    "start_time": "2024-02-10T12:34:25.823Z"
   },
   {
    "duration": 611,
    "start_time": "2024-02-10T12:34:54.398Z"
   },
   {
    "duration": 711,
    "start_time": "2024-02-10T12:35:10.165Z"
   },
   {
    "duration": 871,
    "start_time": "2024-02-10T12:35:19.166Z"
   },
   {
    "duration": 720,
    "start_time": "2024-02-10T12:36:37.687Z"
   },
   {
    "duration": 768,
    "start_time": "2024-02-10T12:37:39.238Z"
   },
   {
    "duration": 871,
    "start_time": "2024-02-10T12:37:56.626Z"
   },
   {
    "duration": 808,
    "start_time": "2024-02-10T12:38:08.575Z"
   },
   {
    "duration": 1003,
    "start_time": "2024-02-10T12:38:14.055Z"
   },
   {
    "duration": 837,
    "start_time": "2024-02-10T12:38:19.423Z"
   },
   {
    "duration": 781,
    "start_time": "2024-02-10T12:38:34.598Z"
   },
   {
    "duration": 846,
    "start_time": "2024-02-10T12:38:52.694Z"
   },
   {
    "duration": 688,
    "start_time": "2024-02-10T12:39:05.270Z"
   },
   {
    "duration": 626,
    "start_time": "2024-02-10T12:42:16.678Z"
   },
   {
    "duration": 765,
    "start_time": "2024-02-10T12:42:23.742Z"
   },
   {
    "duration": 6,
    "start_time": "2024-02-10T12:47:03.316Z"
   },
   {
    "duration": 1222,
    "start_time": "2024-02-10T13:51:39.157Z"
   },
   {
    "duration": 3,
    "start_time": "2024-02-10T13:51:40.381Z"
   },
   {
    "duration": 94,
    "start_time": "2024-02-10T13:51:40.386Z"
   },
   {
    "duration": 12,
    "start_time": "2024-02-10T13:51:40.482Z"
   },
   {
    "duration": 13,
    "start_time": "2024-02-10T13:51:40.495Z"
   },
   {
    "duration": 6,
    "start_time": "2024-02-10T13:51:40.509Z"
   },
   {
    "duration": 9,
    "start_time": "2024-02-10T13:51:40.516Z"
   },
   {
    "duration": 13,
    "start_time": "2024-02-10T13:51:40.526Z"
   },
   {
    "duration": 20,
    "start_time": "2024-02-10T13:51:40.541Z"
   },
   {
    "duration": 19,
    "start_time": "2024-02-10T13:51:40.563Z"
   },
   {
    "duration": 7,
    "start_time": "2024-02-10T13:51:40.591Z"
   },
   {
    "duration": 8,
    "start_time": "2024-02-10T13:51:40.600Z"
   },
   {
    "duration": 4,
    "start_time": "2024-02-10T13:51:40.610Z"
   },
   {
    "duration": 6,
    "start_time": "2024-02-10T13:51:40.615Z"
   },
   {
    "duration": 9,
    "start_time": "2024-02-10T13:51:40.623Z"
   },
   {
    "duration": 5,
    "start_time": "2024-02-10T13:51:40.634Z"
   },
   {
    "duration": 219,
    "start_time": "2024-02-10T13:51:40.640Z"
   },
   {
    "duration": 273,
    "start_time": "2024-02-10T13:51:40.861Z"
   },
   {
    "duration": 301,
    "start_time": "2024-02-10T13:51:41.136Z"
   },
   {
    "duration": 8,
    "start_time": "2024-02-10T13:51:41.438Z"
   },
   {
    "duration": 11,
    "start_time": "2024-02-10T13:51:41.447Z"
   },
   {
    "duration": 8,
    "start_time": "2024-02-10T13:51:41.460Z"
   },
   {
    "duration": 24,
    "start_time": "2024-02-10T13:51:41.470Z"
   },
   {
    "duration": 17,
    "start_time": "2024-02-10T13:51:41.496Z"
   },
   {
    "duration": 268,
    "start_time": "2024-02-10T13:51:41.515Z"
   },
   {
    "duration": 16,
    "start_time": "2024-02-10T13:51:41.785Z"
   },
   {
    "duration": 9,
    "start_time": "2024-02-10T13:51:41.803Z"
   },
   {
    "duration": 34,
    "start_time": "2024-02-10T13:51:41.816Z"
   },
   {
    "duration": 44,
    "start_time": "2024-02-10T13:51:41.852Z"
   },
   {
    "duration": 33,
    "start_time": "2024-02-10T13:51:41.898Z"
   },
   {
    "duration": 35,
    "start_time": "2024-02-10T13:51:41.933Z"
   },
   {
    "duration": 7,
    "start_time": "2024-02-10T13:51:41.969Z"
   },
   {
    "duration": 39,
    "start_time": "2024-02-10T13:51:41.977Z"
   },
   {
    "duration": 13,
    "start_time": "2024-02-10T13:51:42.018Z"
   },
   {
    "duration": 12,
    "start_time": "2024-02-10T13:51:42.032Z"
   },
   {
    "duration": 334,
    "start_time": "2024-02-10T13:51:42.046Z"
   },
   {
    "duration": 15,
    "start_time": "2024-02-10T13:51:42.381Z"
   },
   {
    "duration": 279,
    "start_time": "2024-02-10T13:51:42.398Z"
   },
   {
    "duration": 220,
    "start_time": "2024-02-10T13:51:42.679Z"
   },
   {
    "duration": 274,
    "start_time": "2024-02-10T13:51:42.901Z"
   },
   {
    "duration": 28,
    "start_time": "2024-02-10T13:51:43.176Z"
   },
   {
    "duration": 3082,
    "start_time": "2024-02-10T13:51:43.206Z"
   },
   {
    "duration": 761,
    "start_time": "2024-02-10T13:51:46.290Z"
   },
   {
    "duration": 425,
    "start_time": "2024-02-10T13:51:47.053Z"
   },
   {
    "duration": 23,
    "start_time": "2024-02-10T13:51:47.479Z"
   },
   {
    "duration": 20,
    "start_time": "2024-02-10T13:51:47.503Z"
   },
   {
    "duration": 22,
    "start_time": "2024-02-10T13:51:47.524Z"
   },
   {
    "duration": 7,
    "start_time": "2024-02-10T13:51:47.547Z"
   },
   {
    "duration": 692,
    "start_time": "2024-02-10T13:51:47.556Z"
   },
   {
    "duration": 7,
    "start_time": "2024-02-10T13:51:48.249Z"
   },
   {
    "duration": 785,
    "start_time": "2024-02-10T13:51:48.258Z"
   },
   {
    "duration": 7,
    "start_time": "2024-02-10T13:51:49.045Z"
   },
   {
    "duration": 74,
    "start_time": "2024-02-10T13:51:49.054Z"
   },
   {
    "duration": 7,
    "start_time": "2024-02-10T13:51:49.130Z"
   },
   {
    "duration": 23,
    "start_time": "2024-02-10T13:51:49.138Z"
   },
   {
    "duration": 12,
    "start_time": "2024-02-10T13:51:49.163Z"
   },
   {
    "duration": 784,
    "start_time": "2024-02-10T13:51:49.176Z"
   },
   {
    "duration": 6,
    "start_time": "2024-02-10T13:51:49.962Z"
   },
   {
    "duration": 10,
    "start_time": "2024-02-10T13:51:49.969Z"
   },
   {
    "duration": 1434,
    "start_time": "2024-02-10T17:07:12.632Z"
   },
   {
    "duration": 1433,
    "start_time": "2024-02-10T17:07:34.977Z"
   },
   {
    "duration": 1355,
    "start_time": "2024-02-10T17:08:13.592Z"
   },
   {
    "duration": 1397,
    "start_time": "2024-02-10T17:08:32.656Z"
   },
   {
    "duration": 376,
    "start_time": "2024-02-10T17:15:58.318Z"
   },
   {
    "duration": 322,
    "start_time": "2024-02-10T17:16:19.757Z"
   },
   {
    "duration": 270,
    "start_time": "2024-02-10T17:16:48.703Z"
   },
   {
    "duration": 322,
    "start_time": "2024-02-10T17:17:17.710Z"
   },
   {
    "duration": 313,
    "start_time": "2024-02-10T17:21:24.371Z"
   },
   {
    "duration": 1546,
    "start_time": "2024-02-10T17:21:50.317Z"
   },
   {
    "duration": 1640,
    "start_time": "2024-02-10T17:22:54.922Z"
   },
   {
    "duration": 1418,
    "start_time": "2024-02-10T17:23:04.907Z"
   },
   {
    "duration": 1746,
    "start_time": "2024-02-10T17:23:19.604Z"
   },
   {
    "duration": 1730,
    "start_time": "2024-02-10T17:25:36.602Z"
   },
   {
    "duration": 314,
    "start_time": "2024-02-10T17:26:08.754Z"
   },
   {
    "duration": 1723,
    "start_time": "2024-02-10T17:26:58.005Z"
   },
   {
    "duration": 16,
    "start_time": "2024-02-10T18:15:17.026Z"
   },
   {
    "duration": 7,
    "start_time": "2024-02-10T18:15:55.455Z"
   },
   {
    "duration": 10,
    "start_time": "2024-02-10T18:16:42.605Z"
   },
   {
    "duration": 7,
    "start_time": "2024-02-10T18:17:41.063Z"
   },
   {
    "duration": 11,
    "start_time": "2024-02-10T18:17:49.952Z"
   },
   {
    "duration": 86,
    "start_time": "2024-02-10T18:18:02.232Z"
   },
   {
    "duration": 12,
    "start_time": "2024-02-10T18:18:07.418Z"
   },
   {
    "duration": 12,
    "start_time": "2024-02-10T18:21:38.527Z"
   },
   {
    "duration": 147,
    "start_time": "2024-02-10T18:21:46.610Z"
   },
   {
    "duration": 127,
    "start_time": "2024-02-10T18:21:59.303Z"
   },
   {
    "duration": 162,
    "start_time": "2024-02-10T18:22:24.662Z"
   },
   {
    "duration": 299,
    "start_time": "2024-02-10T18:23:09.486Z"
   },
   {
    "duration": 165,
    "start_time": "2024-02-10T18:25:00.402Z"
   },
   {
    "duration": 166,
    "start_time": "2024-02-10T18:25:42.855Z"
   },
   {
    "duration": 207,
    "start_time": "2024-02-10T18:26:57.350Z"
   },
   {
    "duration": 202,
    "start_time": "2024-02-10T18:27:12.965Z"
   },
   {
    "duration": 325,
    "start_time": "2024-02-10T18:28:54.513Z"
   },
   {
    "duration": 229,
    "start_time": "2024-02-10T18:29:13.861Z"
   },
   {
    "duration": 198,
    "start_time": "2024-02-10T18:29:56.678Z"
   },
   {
    "duration": 222,
    "start_time": "2024-02-10T18:30:02.841Z"
   },
   {
    "duration": 4,
    "start_time": "2024-02-10T18:39:37.379Z"
   },
   {
    "duration": 221,
    "start_time": "2024-02-10T18:39:41.035Z"
   },
   {
    "duration": 3,
    "start_time": "2024-02-10T18:39:44.843Z"
   },
   {
    "duration": 7,
    "start_time": "2024-02-10T18:39:56.597Z"
   },
   {
    "duration": 215,
    "start_time": "2024-02-10T18:40:43.490Z"
   },
   {
    "duration": 183,
    "start_time": "2024-02-10T18:41:31.930Z"
   },
   {
    "duration": 299,
    "start_time": "2024-02-10T18:41:49.227Z"
   },
   {
    "duration": 212,
    "start_time": "2024-02-10T18:47:55.314Z"
   },
   {
    "duration": 175,
    "start_time": "2024-02-10T18:48:17.552Z"
   },
   {
    "duration": 237,
    "start_time": "2024-02-10T18:48:32.984Z"
   },
   {
    "duration": 1599,
    "start_time": "2024-02-10T18:49:43.168Z"
   },
   {
    "duration": 9,
    "start_time": "2024-02-10T18:51:06.249Z"
   },
   {
    "duration": 220,
    "start_time": "2024-02-10T18:51:13.457Z"
   },
   {
    "duration": 5,
    "start_time": "2024-02-10T18:51:15.936Z"
   },
   {
    "duration": 195,
    "start_time": "2024-02-10T18:52:08.760Z"
   },
   {
    "duration": 5,
    "start_time": "2024-02-10T18:52:12.680Z"
   },
   {
    "duration": 4,
    "start_time": "2024-02-10T18:53:43.921Z"
   },
   {
    "duration": 321,
    "start_time": "2024-02-10T18:58:34.311Z"
   },
   {
    "duration": 320,
    "start_time": "2024-02-10T18:59:08.128Z"
   },
   {
    "duration": 161,
    "start_time": "2024-02-10T18:59:26.601Z"
   },
   {
    "duration": 187,
    "start_time": "2024-02-10T18:59:40.666Z"
   },
   {
    "duration": 154,
    "start_time": "2024-02-10T18:59:53.024Z"
   },
   {
    "duration": 178,
    "start_time": "2024-02-10T19:00:09.768Z"
   },
   {
    "duration": 432,
    "start_time": "2024-02-10T19:01:14.143Z"
   },
   {
    "duration": 156,
    "start_time": "2024-02-10T19:01:23.838Z"
   },
   {
    "duration": 208,
    "start_time": "2024-02-10T19:03:08.062Z"
   },
   {
    "duration": 182,
    "start_time": "2024-02-10T19:03:37.574Z"
   },
   {
    "duration": 160,
    "start_time": "2024-02-10T19:03:56.974Z"
   },
   {
    "duration": 187,
    "start_time": "2024-02-10T19:04:19.912Z"
   },
   {
    "duration": 188,
    "start_time": "2024-02-10T19:04:28.216Z"
   },
   {
    "duration": 201,
    "start_time": "2024-02-10T19:04:43.126Z"
   },
   {
    "duration": 183,
    "start_time": "2024-02-10T19:04:51.319Z"
   },
   {
    "duration": 175,
    "start_time": "2024-02-10T19:05:08.208Z"
   },
   {
    "duration": 203,
    "start_time": "2024-02-10T19:05:16.668Z"
   },
   {
    "duration": 315,
    "start_time": "2024-02-10T19:12:23.918Z"
   },
   {
    "duration": 201,
    "start_time": "2024-02-10T19:12:32.173Z"
   },
   {
    "duration": 167,
    "start_time": "2024-02-10T19:14:53.916Z"
   },
   {
    "duration": 201,
    "start_time": "2024-02-10T19:15:00.013Z"
   },
   {
    "duration": 148,
    "start_time": "2024-02-10T19:15:35.635Z"
   },
   {
    "duration": 159,
    "start_time": "2024-02-10T19:16:11.172Z"
   },
   {
    "duration": 174,
    "start_time": "2024-02-10T19:17:09.667Z"
   },
   {
    "duration": 902,
    "start_time": "2024-02-10T19:20:02.979Z"
   },
   {
    "duration": 909,
    "start_time": "2024-02-10T19:20:07.816Z"
   },
   {
    "duration": 222,
    "start_time": "2024-02-10T19:23:53.899Z"
   },
   {
    "duration": 233,
    "start_time": "2024-02-10T19:24:16.314Z"
   },
   {
    "duration": 6,
    "start_time": "2024-02-10T19:24:56.522Z"
   },
   {
    "duration": 17,
    "start_time": "2024-02-10T19:26:08.490Z"
   },
   {
    "duration": 16,
    "start_time": "2024-02-10T19:29:14.736Z"
   },
   {
    "duration": 146,
    "start_time": "2024-02-10T19:29:18.512Z"
   },
   {
    "duration": 6,
    "start_time": "2024-02-10T19:29:45.576Z"
   },
   {
    "duration": 192,
    "start_time": "2024-02-10T19:30:16.935Z"
   },
   {
    "duration": 315,
    "start_time": "2024-02-10T19:30:20.500Z"
   },
   {
    "duration": 18,
    "start_time": "2024-02-10T19:30:53.751Z"
   },
   {
    "duration": 202,
    "start_time": "2024-02-10T19:30:55.647Z"
   },
   {
    "duration": 204,
    "start_time": "2024-02-10T19:33:46.328Z"
   },
   {
    "duration": 4,
    "start_time": "2024-02-10T19:33:58.437Z"
   },
   {
    "duration": 11,
    "start_time": "2024-02-10T19:34:17.190Z"
   },
   {
    "duration": 4,
    "start_time": "2024-02-10T19:34:21.430Z"
   },
   {
    "duration": 12,
    "start_time": "2024-02-10T19:34:37.542Z"
   },
   {
    "duration": 211,
    "start_time": "2024-02-10T19:34:42.053Z"
   },
   {
    "duration": 4,
    "start_time": "2024-02-10T19:34:44.780Z"
   },
   {
    "duration": 4,
    "start_time": "2024-02-10T19:34:47.549Z"
   },
   {
    "duration": 210,
    "start_time": "2024-02-10T19:35:14.348Z"
   },
   {
    "duration": 195,
    "start_time": "2024-02-10T19:35:56.693Z"
   },
   {
    "duration": 224,
    "start_time": "2024-02-10T19:36:23.484Z"
   },
   {
    "duration": 215,
    "start_time": "2024-02-10T19:36:43.847Z"
   },
   {
    "duration": 213,
    "start_time": "2024-02-10T19:37:22.628Z"
   },
   {
    "duration": 4,
    "start_time": "2024-02-10T19:37:35.276Z"
   },
   {
    "duration": 210,
    "start_time": "2024-02-10T19:38:08.139Z"
   },
   {
    "duration": 202,
    "start_time": "2024-02-10T19:38:37.109Z"
   },
   {
    "duration": 329,
    "start_time": "2024-02-10T19:38:48.421Z"
   },
   {
    "duration": 200,
    "start_time": "2024-02-10T19:38:55.101Z"
   },
   {
    "duration": 240,
    "start_time": "2024-02-10T19:39:02.995Z"
   },
   {
    "duration": 220,
    "start_time": "2024-02-10T19:39:10.434Z"
   },
   {
    "duration": 255,
    "start_time": "2024-02-10T19:39:28.707Z"
   },
   {
    "duration": 213,
    "start_time": "2024-02-10T19:39:38.243Z"
   },
   {
    "duration": 220,
    "start_time": "2024-02-10T19:39:55.450Z"
   },
   {
    "duration": 231,
    "start_time": "2024-02-10T19:40:09.186Z"
   },
   {
    "duration": 213,
    "start_time": "2024-02-10T19:40:18.322Z"
   },
   {
    "duration": 223,
    "start_time": "2024-02-10T19:40:26.501Z"
   },
   {
    "duration": 228,
    "start_time": "2024-02-10T19:40:34.098Z"
   },
   {
    "duration": 309,
    "start_time": "2024-02-10T19:40:47.043Z"
   },
   {
    "duration": 181,
    "start_time": "2024-02-10T19:40:55.125Z"
   },
   {
    "duration": 214,
    "start_time": "2024-02-10T19:41:05.315Z"
   },
   {
    "duration": 220,
    "start_time": "2024-02-10T19:41:26.507Z"
   },
   {
    "duration": 215,
    "start_time": "2024-02-10T19:41:30.850Z"
   },
   {
    "duration": 183,
    "start_time": "2024-02-10T19:46:11.224Z"
   },
   {
    "duration": 198,
    "start_time": "2024-02-10T19:46:35.640Z"
   },
   {
    "duration": 209,
    "start_time": "2024-02-10T19:46:47.715Z"
   },
   {
    "duration": 215,
    "start_time": "2024-02-10T19:47:06.809Z"
   },
   {
    "duration": 211,
    "start_time": "2024-02-10T19:47:13.224Z"
   },
   {
    "duration": 208,
    "start_time": "2024-02-10T19:47:44.736Z"
   },
   {
    "duration": 320,
    "start_time": "2024-02-10T19:48:09.144Z"
   },
   {
    "duration": 218,
    "start_time": "2024-02-10T19:48:36.063Z"
   },
   {
    "duration": 164,
    "start_time": "2024-02-10T19:50:40.038Z"
   },
   {
    "duration": 179,
    "start_time": "2024-02-10T19:51:07.118Z"
   },
   {
    "duration": 235,
    "start_time": "2024-02-10T19:51:31.823Z"
   },
   {
    "duration": 213,
    "start_time": "2024-02-10T19:51:37.878Z"
   },
   {
    "duration": 173,
    "start_time": "2024-02-10T19:51:47.494Z"
   },
   {
    "duration": 223,
    "start_time": "2024-02-10T19:52:10.885Z"
   },
   {
    "duration": 230,
    "start_time": "2024-02-10T19:52:16.001Z"
   },
   {
    "duration": 234,
    "start_time": "2024-02-10T19:53:22.298Z"
   },
   {
    "duration": 88,
    "start_time": "2024-02-10T19:53:34.415Z"
   },
   {
    "duration": 225,
    "start_time": "2024-02-10T19:53:41.446Z"
   },
   {
    "duration": 366,
    "start_time": "2024-02-10T19:54:09.567Z"
   },
   {
    "duration": 234,
    "start_time": "2024-02-10T19:55:06.175Z"
   },
   {
    "duration": 229,
    "start_time": "2024-02-10T19:55:19.958Z"
   },
   {
    "duration": 264,
    "start_time": "2024-02-10T19:55:55.263Z"
   },
   {
    "duration": 252,
    "start_time": "2024-02-10T19:56:39.934Z"
   },
   {
    "duration": 143,
    "start_time": "2024-02-10T19:56:54.346Z"
   },
   {
    "duration": 144,
    "start_time": "2024-02-10T19:57:08.829Z"
   },
   {
    "duration": 243,
    "start_time": "2024-02-10T19:57:32.804Z"
   },
   {
    "duration": 241,
    "start_time": "2024-02-10T19:58:02.820Z"
   },
   {
    "duration": 230,
    "start_time": "2024-02-10T19:58:20.052Z"
   },
   {
    "duration": 240,
    "start_time": "2024-02-10T19:58:50.340Z"
   },
   {
    "duration": 347,
    "start_time": "2024-02-10T19:59:10.317Z"
   },
   {
    "duration": 247,
    "start_time": "2024-02-10T20:00:05.788Z"
   },
   {
    "duration": 227,
    "start_time": "2024-02-10T20:00:20.428Z"
   },
   {
    "duration": 267,
    "start_time": "2024-02-10T20:00:27.867Z"
   },
   {
    "duration": 5,
    "start_time": "2024-02-10T20:00:40.957Z"
   },
   {
    "duration": 220,
    "start_time": "2024-02-10T20:00:51.427Z"
   },
   {
    "duration": 237,
    "start_time": "2024-02-10T20:01:32.302Z"
   },
   {
    "duration": 1208,
    "start_time": "2024-02-10T20:24:51.783Z"
   },
   {
    "duration": 3,
    "start_time": "2024-02-10T20:24:52.993Z"
   },
   {
    "duration": 97,
    "start_time": "2024-02-10T20:24:52.998Z"
   },
   {
    "duration": 13,
    "start_time": "2024-02-10T20:24:53.099Z"
   },
   {
    "duration": 40,
    "start_time": "2024-02-10T20:24:53.113Z"
   },
   {
    "duration": 67,
    "start_time": "2024-02-10T20:24:53.154Z"
   },
   {
    "duration": 26,
    "start_time": "2024-02-10T20:24:53.223Z"
   },
   {
    "duration": 33,
    "start_time": "2024-02-10T20:24:53.250Z"
   },
   {
    "duration": 20,
    "start_time": "2024-02-10T20:24:53.284Z"
   },
   {
    "duration": 24,
    "start_time": "2024-02-10T20:24:53.307Z"
   },
   {
    "duration": 27,
    "start_time": "2024-02-10T20:24:53.333Z"
   },
   {
    "duration": 27,
    "start_time": "2024-02-10T20:24:53.362Z"
   },
   {
    "duration": 21,
    "start_time": "2024-02-10T20:24:53.391Z"
   },
   {
    "duration": 44,
    "start_time": "2024-02-10T20:24:53.414Z"
   },
   {
    "duration": 46,
    "start_time": "2024-02-10T20:24:53.460Z"
   },
   {
    "duration": 21,
    "start_time": "2024-02-10T20:24:53.507Z"
   },
   {
    "duration": 190,
    "start_time": "2024-02-10T20:24:53.530Z"
   },
   {
    "duration": 270,
    "start_time": "2024-02-10T20:24:53.721Z"
   },
   {
    "duration": 272,
    "start_time": "2024-02-10T20:24:53.993Z"
   },
   {
    "duration": 6,
    "start_time": "2024-02-10T20:24:54.267Z"
   },
   {
    "duration": 30,
    "start_time": "2024-02-10T20:24:54.275Z"
   },
   {
    "duration": 51,
    "start_time": "2024-02-10T20:24:54.307Z"
   },
   {
    "duration": 28,
    "start_time": "2024-02-10T20:24:54.359Z"
   },
   {
    "duration": 28,
    "start_time": "2024-02-10T20:24:54.389Z"
   },
   {
    "duration": 292,
    "start_time": "2024-02-10T20:24:54.418Z"
   },
   {
    "duration": 11,
    "start_time": "2024-02-10T20:24:54.711Z"
   },
   {
    "duration": 38,
    "start_time": "2024-02-10T20:24:54.724Z"
   },
   {
    "duration": 41,
    "start_time": "2024-02-10T20:24:54.766Z"
   },
   {
    "duration": 45,
    "start_time": "2024-02-10T20:24:54.809Z"
   },
   {
    "duration": 23,
    "start_time": "2024-02-10T20:24:54.855Z"
   },
   {
    "duration": 28,
    "start_time": "2024-02-10T20:24:54.880Z"
   },
   {
    "duration": 34,
    "start_time": "2024-02-10T20:24:54.909Z"
   },
   {
    "duration": 33,
    "start_time": "2024-02-10T20:24:54.944Z"
   },
   {
    "duration": 23,
    "start_time": "2024-02-10T20:24:54.979Z"
   },
   {
    "duration": 9,
    "start_time": "2024-02-10T20:24:55.004Z"
   },
   {
    "duration": 336,
    "start_time": "2024-02-10T20:24:55.015Z"
   },
   {
    "duration": 17,
    "start_time": "2024-02-10T20:24:55.353Z"
   },
   {
    "duration": 307,
    "start_time": "2024-02-10T20:24:55.372Z"
   },
   {
    "duration": 14,
    "start_time": "2024-02-10T20:24:55.680Z"
   },
   {
    "duration": 205,
    "start_time": "2024-02-10T20:24:55.696Z"
   },
   {
    "duration": 212,
    "start_time": "2024-02-10T20:24:55.903Z"
   },
   {
    "duration": 265,
    "start_time": "2024-02-10T20:24:56.117Z"
   },
   {
    "duration": 22,
    "start_time": "2024-02-10T20:24:56.384Z"
   },
   {
    "duration": 2996,
    "start_time": "2024-02-10T20:24:56.408Z"
   },
   {
    "duration": 787,
    "start_time": "2024-02-10T20:24:59.405Z"
   },
   {
    "duration": 406,
    "start_time": "2024-02-10T20:25:00.195Z"
   },
   {
    "duration": 19,
    "start_time": "2024-02-10T20:25:00.604Z"
   },
   {
    "duration": 127,
    "start_time": "2024-02-10T20:25:00.625Z"
   },
   {
    "duration": 27,
    "start_time": "2024-02-10T20:25:00.755Z"
   },
   {
    "duration": 31,
    "start_time": "2024-02-10T20:25:00.784Z"
   },
   {
    "duration": 760,
    "start_time": "2024-02-10T20:25:00.817Z"
   },
   {
    "duration": 13,
    "start_time": "2024-02-10T20:25:01.578Z"
   },
   {
    "duration": 914,
    "start_time": "2024-02-10T20:25:01.593Z"
   },
   {
    "duration": 6,
    "start_time": "2024-02-10T20:25:02.509Z"
   },
   {
    "duration": 80,
    "start_time": "2024-02-10T20:25:02.517Z"
   },
   {
    "duration": 6,
    "start_time": "2024-02-10T20:25:02.599Z"
   },
   {
    "duration": 45,
    "start_time": "2024-02-10T20:25:02.607Z"
   },
   {
    "duration": 18,
    "start_time": "2024-02-10T20:25:02.654Z"
   },
   {
    "duration": 761,
    "start_time": "2024-02-10T20:25:02.674Z"
   },
   {
    "duration": 7,
    "start_time": "2024-02-10T20:25:03.437Z"
   },
   {
    "duration": 24,
    "start_time": "2024-02-10T20:25:03.445Z"
   },
   {
    "duration": 1476,
    "start_time": "2024-02-10T20:25:03.470Z"
   },
   {
    "duration": 294,
    "start_time": "2024-02-10T20:25:04.947Z"
   },
   {
    "duration": 197,
    "start_time": "2024-02-10T20:25:05.243Z"
   },
   {
    "duration": 5,
    "start_time": "2024-02-10T20:25:05.441Z"
   },
   {
    "duration": 1143,
    "start_time": "2024-02-11T07:20:02.442Z"
   },
   {
    "duration": 3,
    "start_time": "2024-02-11T07:20:03.587Z"
   },
   {
    "duration": 72,
    "start_time": "2024-02-11T07:20:03.591Z"
   },
   {
    "duration": 10,
    "start_time": "2024-02-11T07:20:03.665Z"
   },
   {
    "duration": 11,
    "start_time": "2024-02-11T07:20:03.676Z"
   },
   {
    "duration": 8,
    "start_time": "2024-02-11T07:20:03.688Z"
   },
   {
    "duration": 8,
    "start_time": "2024-02-11T07:20:03.697Z"
   },
   {
    "duration": 11,
    "start_time": "2024-02-11T07:20:03.707Z"
   },
   {
    "duration": 15,
    "start_time": "2024-02-11T07:20:03.719Z"
   },
   {
    "duration": 28,
    "start_time": "2024-02-11T07:20:03.737Z"
   },
   {
    "duration": 6,
    "start_time": "2024-02-11T07:20:03.767Z"
   },
   {
    "duration": 9,
    "start_time": "2024-02-11T07:20:03.775Z"
   },
   {
    "duration": 4,
    "start_time": "2024-02-11T07:20:03.785Z"
   },
   {
    "duration": 4,
    "start_time": "2024-02-11T07:20:03.790Z"
   },
   {
    "duration": 13,
    "start_time": "2024-02-11T07:20:03.796Z"
   },
   {
    "duration": 26,
    "start_time": "2024-02-11T07:20:03.810Z"
   },
   {
    "duration": 189,
    "start_time": "2024-02-11T07:20:03.837Z"
   },
   {
    "duration": 227,
    "start_time": "2024-02-11T07:20:04.028Z"
   },
   {
    "duration": 249,
    "start_time": "2024-02-11T07:20:04.257Z"
   },
   {
    "duration": 6,
    "start_time": "2024-02-11T07:20:04.508Z"
   },
   {
    "duration": 20,
    "start_time": "2024-02-11T07:20:04.515Z"
   },
   {
    "duration": 14,
    "start_time": "2024-02-11T07:20:04.537Z"
   },
   {
    "duration": 4,
    "start_time": "2024-02-11T07:20:04.553Z"
   },
   {
    "duration": 27,
    "start_time": "2024-02-11T07:20:04.558Z"
   },
   {
    "duration": 220,
    "start_time": "2024-02-11T07:20:04.587Z"
   },
   {
    "duration": 10,
    "start_time": "2024-02-11T07:20:04.809Z"
   },
   {
    "duration": 18,
    "start_time": "2024-02-11T07:20:04.821Z"
   },
   {
    "duration": 29,
    "start_time": "2024-02-11T07:20:04.843Z"
   },
   {
    "duration": 18,
    "start_time": "2024-02-11T07:20:04.874Z"
   },
   {
    "duration": 18,
    "start_time": "2024-02-11T07:20:04.894Z"
   },
   {
    "duration": 15,
    "start_time": "2024-02-11T07:20:04.913Z"
   },
   {
    "duration": 9,
    "start_time": "2024-02-11T07:20:04.929Z"
   },
   {
    "duration": 15,
    "start_time": "2024-02-11T07:20:04.940Z"
   },
   {
    "duration": 18,
    "start_time": "2024-02-11T07:20:04.956Z"
   },
   {
    "duration": 9,
    "start_time": "2024-02-11T07:20:04.976Z"
   },
   {
    "duration": 280,
    "start_time": "2024-02-11T07:20:04.986Z"
   },
   {
    "duration": 16,
    "start_time": "2024-02-11T07:20:05.268Z"
   },
   {
    "duration": 293,
    "start_time": "2024-02-11T07:20:05.285Z"
   },
   {
    "duration": 8,
    "start_time": "2024-02-11T07:20:05.580Z"
   },
   {
    "duration": 183,
    "start_time": "2024-02-11T07:20:05.590Z"
   },
   {
    "duration": 181,
    "start_time": "2024-02-11T07:20:05.774Z"
   },
   {
    "duration": 213,
    "start_time": "2024-02-11T07:20:05.956Z"
   },
   {
    "duration": 14,
    "start_time": "2024-02-11T07:20:06.171Z"
   },
   {
    "duration": 2667,
    "start_time": "2024-02-11T07:20:06.186Z"
   },
   {
    "duration": 656,
    "start_time": "2024-02-11T07:20:08.855Z"
   },
   {
    "duration": 335,
    "start_time": "2024-02-11T07:20:09.513Z"
   },
   {
    "duration": 15,
    "start_time": "2024-02-11T07:20:09.850Z"
   },
   {
    "duration": 53,
    "start_time": "2024-02-11T07:20:09.866Z"
   },
   {
    "duration": 34,
    "start_time": "2024-02-11T07:20:09.921Z"
   },
   {
    "duration": 6,
    "start_time": "2024-02-11T07:20:09.957Z"
   },
   {
    "duration": 633,
    "start_time": "2024-02-11T07:20:09.964Z"
   },
   {
    "duration": 6,
    "start_time": "2024-02-11T07:20:10.599Z"
   },
   {
    "duration": 692,
    "start_time": "2024-02-11T07:20:10.607Z"
   },
   {
    "duration": 5,
    "start_time": "2024-02-11T07:20:11.301Z"
   },
   {
    "duration": 68,
    "start_time": "2024-02-11T07:20:11.308Z"
   },
   {
    "duration": 5,
    "start_time": "2024-02-11T07:20:11.377Z"
   },
   {
    "duration": 25,
    "start_time": "2024-02-11T07:20:11.383Z"
   },
   {
    "duration": 19,
    "start_time": "2024-02-11T07:20:11.409Z"
   },
   {
    "duration": 686,
    "start_time": "2024-02-11T07:20:11.430Z"
   },
   {
    "duration": 7,
    "start_time": "2024-02-11T07:20:12.117Z"
   },
   {
    "duration": 5,
    "start_time": "2024-02-11T07:20:12.133Z"
   },
   {
    "duration": 1311,
    "start_time": "2024-02-11T07:20:12.139Z"
   },
   {
    "duration": 262,
    "start_time": "2024-02-11T07:20:13.451Z"
   },
   {
    "duration": 180,
    "start_time": "2024-02-11T07:20:13.715Z"
   },
   {
    "duration": 3,
    "start_time": "2024-02-11T07:20:13.896Z"
   },
   {
    "duration": 90,
    "start_time": "2024-02-11T07:35:25.909Z"
   },
   {
    "duration": 7,
    "start_time": "2024-02-11T07:35:36.782Z"
   },
   {
    "duration": 1360,
    "start_time": "2024-02-11T08:11:33.402Z"
   },
   {
    "duration": 3,
    "start_time": "2024-02-11T08:11:34.764Z"
   },
   {
    "duration": 197,
    "start_time": "2024-02-11T08:11:34.769Z"
   },
   {
    "duration": 12,
    "start_time": "2024-02-11T08:11:34.968Z"
   },
   {
    "duration": 10,
    "start_time": "2024-02-11T08:11:34.981Z"
   },
   {
    "duration": 4,
    "start_time": "2024-02-11T08:11:34.993Z"
   },
   {
    "duration": 7,
    "start_time": "2024-02-11T08:11:34.999Z"
   },
   {
    "duration": 9,
    "start_time": "2024-02-11T08:11:35.008Z"
   },
   {
    "duration": 6,
    "start_time": "2024-02-11T08:11:35.018Z"
   },
   {
    "duration": 9,
    "start_time": "2024-02-11T08:11:35.027Z"
   },
   {
    "duration": 5,
    "start_time": "2024-02-11T08:11:35.037Z"
   },
   {
    "duration": 7,
    "start_time": "2024-02-11T08:11:35.043Z"
   },
   {
    "duration": 3,
    "start_time": "2024-02-11T08:11:35.052Z"
   },
   {
    "duration": 8,
    "start_time": "2024-02-11T08:11:35.057Z"
   },
   {
    "duration": 8,
    "start_time": "2024-02-11T08:11:35.066Z"
   },
   {
    "duration": 4,
    "start_time": "2024-02-11T08:11:35.076Z"
   },
   {
    "duration": 189,
    "start_time": "2024-02-11T08:11:35.082Z"
   },
   {
    "duration": 248,
    "start_time": "2024-02-11T08:11:35.273Z"
   },
   {
    "duration": 250,
    "start_time": "2024-02-11T08:11:35.523Z"
   },
   {
    "duration": 7,
    "start_time": "2024-02-11T08:11:35.775Z"
   },
   {
    "duration": 9,
    "start_time": "2024-02-11T08:11:35.783Z"
   },
   {
    "duration": 25,
    "start_time": "2024-02-11T08:11:35.794Z"
   },
   {
    "duration": 5,
    "start_time": "2024-02-11T08:11:35.820Z"
   },
   {
    "duration": 12,
    "start_time": "2024-02-11T08:11:35.826Z"
   },
   {
    "duration": 244,
    "start_time": "2024-02-11T08:11:35.840Z"
   },
   {
    "duration": 12,
    "start_time": "2024-02-11T08:11:36.086Z"
   },
   {
    "duration": 8,
    "start_time": "2024-02-11T08:11:36.114Z"
   },
   {
    "duration": 30,
    "start_time": "2024-02-11T08:11:36.126Z"
   },
   {
    "duration": 9,
    "start_time": "2024-02-11T08:11:36.157Z"
   },
   {
    "duration": 9,
    "start_time": "2024-02-11T08:11:36.167Z"
   },
   {
    "duration": 6,
    "start_time": "2024-02-11T08:11:36.178Z"
   },
   {
    "duration": 6,
    "start_time": "2024-02-11T08:11:36.216Z"
   },
   {
    "duration": 10,
    "start_time": "2024-02-11T08:11:36.223Z"
   },
   {
    "duration": 10,
    "start_time": "2024-02-11T08:11:36.234Z"
   },
   {
    "duration": 8,
    "start_time": "2024-02-11T08:11:36.245Z"
   },
   {
    "duration": 295,
    "start_time": "2024-02-11T08:11:36.255Z"
   },
   {
    "duration": 15,
    "start_time": "2024-02-11T08:11:36.552Z"
   },
   {
    "duration": 283,
    "start_time": "2024-02-11T08:11:36.568Z"
   },
   {
    "duration": 9,
    "start_time": "2024-02-11T08:11:36.852Z"
   },
   {
    "duration": 172,
    "start_time": "2024-02-11T08:11:36.863Z"
   },
   {
    "duration": 181,
    "start_time": "2024-02-11T08:11:37.037Z"
   },
   {
    "duration": 232,
    "start_time": "2024-02-11T08:11:37.220Z"
   },
   {
    "duration": 16,
    "start_time": "2024-02-11T08:11:37.453Z"
   },
   {
    "duration": 2764,
    "start_time": "2024-02-11T08:11:37.471Z"
   },
   {
    "duration": 704,
    "start_time": "2024-02-11T08:11:40.237Z"
   },
   {
    "duration": 357,
    "start_time": "2024-02-11T08:11:40.943Z"
   },
   {
    "duration": 24,
    "start_time": "2024-02-11T08:11:41.301Z"
   },
   {
    "duration": 17,
    "start_time": "2024-02-11T08:11:41.327Z"
   },
   {
    "duration": 19,
    "start_time": "2024-02-11T08:11:41.345Z"
   },
   {
    "duration": 7,
    "start_time": "2024-02-11T08:11:41.366Z"
   },
   {
    "duration": 634,
    "start_time": "2024-02-11T08:11:41.375Z"
   },
   {
    "duration": 7,
    "start_time": "2024-02-11T08:11:42.011Z"
   },
   {
    "duration": 654,
    "start_time": "2024-02-11T08:11:42.020Z"
   },
   {
    "duration": 6,
    "start_time": "2024-02-11T08:11:42.676Z"
   },
   {
    "duration": 67,
    "start_time": "2024-02-11T08:11:42.683Z"
   },
   {
    "duration": 5,
    "start_time": "2024-02-11T08:11:42.752Z"
   },
   {
    "duration": 5,
    "start_time": "2024-02-11T08:11:42.759Z"
   },
   {
    "duration": 5,
    "start_time": "2024-02-11T08:11:42.765Z"
   },
   {
    "duration": 14,
    "start_time": "2024-02-11T08:11:42.771Z"
   },
   {
    "duration": 713,
    "start_time": "2024-02-11T08:11:42.786Z"
   },
   {
    "duration": 14,
    "start_time": "2024-02-11T08:11:43.501Z"
   },
   {
    "duration": 5,
    "start_time": "2024-02-11T08:11:43.516Z"
   },
   {
    "duration": 1352,
    "start_time": "2024-02-11T08:11:43.523Z"
   },
   {
    "duration": 267,
    "start_time": "2024-02-11T08:11:44.877Z"
   },
   {
    "duration": 181,
    "start_time": "2024-02-11T08:11:45.146Z"
   },
   {
    "duration": 4,
    "start_time": "2024-02-11T08:11:45.329Z"
   },
   {
    "duration": 1021,
    "start_time": "2024-02-11T08:12:38.749Z"
   },
   {
    "duration": 3,
    "start_time": "2024-02-11T08:12:39.771Z"
   },
   {
    "duration": 83,
    "start_time": "2024-02-11T08:12:39.775Z"
   },
   {
    "duration": 11,
    "start_time": "2024-02-11T08:12:39.860Z"
   },
   {
    "duration": 11,
    "start_time": "2024-02-11T08:12:39.872Z"
   },
   {
    "duration": 7,
    "start_time": "2024-02-11T08:12:39.884Z"
   },
   {
    "duration": 12,
    "start_time": "2024-02-11T08:12:39.892Z"
   },
   {
    "duration": 14,
    "start_time": "2024-02-11T08:12:39.906Z"
   },
   {
    "duration": 6,
    "start_time": "2024-02-11T08:12:39.921Z"
   },
   {
    "duration": 9,
    "start_time": "2024-02-11T08:12:39.929Z"
   },
   {
    "duration": 7,
    "start_time": "2024-02-11T08:12:39.940Z"
   },
   {
    "duration": 19,
    "start_time": "2024-02-11T08:12:39.948Z"
   },
   {
    "duration": 9,
    "start_time": "2024-02-11T08:12:39.969Z"
   },
   {
    "duration": 37,
    "start_time": "2024-02-11T08:12:39.980Z"
   },
   {
    "duration": 11,
    "start_time": "2024-02-11T08:12:40.019Z"
   },
   {
    "duration": 14,
    "start_time": "2024-02-11T08:12:40.032Z"
   },
   {
    "duration": 5,
    "start_time": "2024-02-11T08:12:40.048Z"
   },
   {
    "duration": 175,
    "start_time": "2024-02-11T08:12:40.055Z"
   },
   {
    "duration": 250,
    "start_time": "2024-02-11T08:12:40.232Z"
   },
   {
    "duration": 248,
    "start_time": "2024-02-11T08:12:40.483Z"
   },
   {
    "duration": 7,
    "start_time": "2024-02-11T08:12:40.733Z"
   },
   {
    "duration": 14,
    "start_time": "2024-02-11T08:12:40.741Z"
   },
   {
    "duration": 25,
    "start_time": "2024-02-11T08:12:40.756Z"
   },
   {
    "duration": 5,
    "start_time": "2024-02-11T08:12:40.783Z"
   },
   {
    "duration": 11,
    "start_time": "2024-02-11T08:12:40.789Z"
   },
   {
    "duration": 232,
    "start_time": "2024-02-11T08:12:40.814Z"
   },
   {
    "duration": 11,
    "start_time": "2024-02-11T08:12:41.048Z"
   },
   {
    "duration": 8,
    "start_time": "2024-02-11T08:12:41.062Z"
   },
   {
    "duration": 50,
    "start_time": "2024-02-11T08:12:41.072Z"
   },
   {
    "duration": 7,
    "start_time": "2024-02-11T08:12:41.124Z"
   },
   {
    "duration": 8,
    "start_time": "2024-02-11T08:12:41.132Z"
   },
   {
    "duration": 15,
    "start_time": "2024-02-11T08:12:41.141Z"
   },
   {
    "duration": 5,
    "start_time": "2024-02-11T08:12:41.157Z"
   },
   {
    "duration": 9,
    "start_time": "2024-02-11T08:12:41.163Z"
   },
   {
    "duration": 10,
    "start_time": "2024-02-11T08:12:41.174Z"
   },
   {
    "duration": 34,
    "start_time": "2024-02-11T08:12:41.186Z"
   },
   {
    "duration": 283,
    "start_time": "2024-02-11T08:12:41.222Z"
   },
   {
    "duration": 20,
    "start_time": "2024-02-11T08:12:41.506Z"
   },
   {
    "duration": 280,
    "start_time": "2024-02-11T08:12:41.528Z"
   },
   {
    "duration": 8,
    "start_time": "2024-02-11T08:12:41.814Z"
   },
   {
    "duration": 177,
    "start_time": "2024-02-11T08:12:41.824Z"
   },
   {
    "duration": 185,
    "start_time": "2024-02-11T08:12:42.003Z"
   },
   {
    "duration": 234,
    "start_time": "2024-02-11T08:12:42.189Z"
   },
   {
    "duration": 15,
    "start_time": "2024-02-11T08:12:42.425Z"
   },
   {
    "duration": 3450,
    "start_time": "2024-02-11T08:12:42.441Z"
   },
   {
    "duration": 713,
    "start_time": "2024-02-11T08:12:45.892Z"
   },
   {
    "duration": 357,
    "start_time": "2024-02-11T08:12:46.607Z"
   },
   {
    "duration": 18,
    "start_time": "2024-02-11T08:12:46.966Z"
   },
   {
    "duration": 36,
    "start_time": "2024-02-11T08:12:46.985Z"
   },
   {
    "duration": 21,
    "start_time": "2024-02-11T08:12:47.022Z"
   },
   {
    "duration": 6,
    "start_time": "2024-02-11T08:12:47.045Z"
   },
   {
    "duration": 664,
    "start_time": "2024-02-11T08:12:47.053Z"
   },
   {
    "duration": 6,
    "start_time": "2024-02-11T08:12:47.719Z"
   },
   {
    "duration": 692,
    "start_time": "2024-02-11T08:12:47.727Z"
   },
   {
    "duration": 5,
    "start_time": "2024-02-11T08:12:48.420Z"
   },
   {
    "duration": 54,
    "start_time": "2024-02-11T08:12:48.427Z"
   },
   {
    "duration": 7,
    "start_time": "2024-02-11T08:12:48.483Z"
   },
   {
    "duration": 27,
    "start_time": "2024-02-11T08:12:48.491Z"
   },
   {
    "duration": 5,
    "start_time": "2024-02-11T08:12:48.519Z"
   },
   {
    "duration": 8,
    "start_time": "2024-02-11T08:12:48.526Z"
   },
   {
    "duration": 712,
    "start_time": "2024-02-11T08:12:48.535Z"
   },
   {
    "duration": 6,
    "start_time": "2024-02-11T08:12:49.248Z"
   },
   {
    "duration": 5,
    "start_time": "2024-02-11T08:12:49.256Z"
   },
   {
    "duration": 1397,
    "start_time": "2024-02-11T08:12:49.262Z"
   },
   {
    "duration": 301,
    "start_time": "2024-02-11T08:12:50.661Z"
   },
   {
    "duration": 183,
    "start_time": "2024-02-11T08:12:50.964Z"
   },
   {
    "duration": 4,
    "start_time": "2024-02-11T08:12:51.149Z"
   },
   {
    "duration": 1069,
    "start_time": "2024-02-11T08:13:03.224Z"
   },
   {
    "duration": 3,
    "start_time": "2024-02-11T08:13:04.295Z"
   },
   {
    "duration": 77,
    "start_time": "2024-02-11T08:13:04.299Z"
   },
   {
    "duration": 11,
    "start_time": "2024-02-11T08:13:04.378Z"
   },
   {
    "duration": 12,
    "start_time": "2024-02-11T08:13:04.391Z"
   },
   {
    "duration": 17,
    "start_time": "2024-02-11T08:13:04.404Z"
   },
   {
    "duration": 15,
    "start_time": "2024-02-11T08:13:04.422Z"
   },
   {
    "duration": 16,
    "start_time": "2024-02-11T08:13:04.438Z"
   },
   {
    "duration": 18,
    "start_time": "2024-02-11T08:13:04.455Z"
   },
   {
    "duration": 19,
    "start_time": "2024-02-11T08:13:04.476Z"
   },
   {
    "duration": 16,
    "start_time": "2024-02-11T08:13:04.497Z"
   },
   {
    "duration": 15,
    "start_time": "2024-02-11T08:13:04.514Z"
   },
   {
    "duration": 21,
    "start_time": "2024-02-11T08:13:04.530Z"
   },
   {
    "duration": 14,
    "start_time": "2024-02-11T08:13:04.553Z"
   },
   {
    "duration": 8,
    "start_time": "2024-02-11T08:13:04.569Z"
   },
   {
    "duration": 20,
    "start_time": "2024-02-11T08:13:04.579Z"
   },
   {
    "duration": 6,
    "start_time": "2024-02-11T08:13:04.601Z"
   },
   {
    "duration": 158,
    "start_time": "2024-02-11T08:13:04.609Z"
   },
   {
    "duration": 229,
    "start_time": "2024-02-11T08:13:04.769Z"
   },
   {
    "duration": 256,
    "start_time": "2024-02-11T08:13:05.000Z"
   },
   {
    "duration": 6,
    "start_time": "2024-02-11T08:13:05.257Z"
   },
   {
    "duration": 33,
    "start_time": "2024-02-11T08:13:05.264Z"
   },
   {
    "duration": 22,
    "start_time": "2024-02-11T08:13:05.299Z"
   },
   {
    "duration": 7,
    "start_time": "2024-02-11T08:13:05.323Z"
   },
   {
    "duration": 22,
    "start_time": "2024-02-11T08:13:05.332Z"
   },
   {
    "duration": 220,
    "start_time": "2024-02-11T08:13:05.356Z"
   },
   {
    "duration": 11,
    "start_time": "2024-02-11T08:13:05.579Z"
   },
   {
    "duration": 25,
    "start_time": "2024-02-11T08:13:05.595Z"
   },
   {
    "duration": 43,
    "start_time": "2024-02-11T08:13:05.621Z"
   },
   {
    "duration": 28,
    "start_time": "2024-02-11T08:13:05.666Z"
   },
   {
    "duration": 44,
    "start_time": "2024-02-11T08:13:05.697Z"
   },
   {
    "duration": 16,
    "start_time": "2024-02-11T08:13:05.743Z"
   },
   {
    "duration": 22,
    "start_time": "2024-02-11T08:13:05.760Z"
   },
   {
    "duration": 20,
    "start_time": "2024-02-11T08:13:05.784Z"
   },
   {
    "duration": 24,
    "start_time": "2024-02-11T08:13:05.805Z"
   },
   {
    "duration": 17,
    "start_time": "2024-02-11T08:13:05.831Z"
   },
   {
    "duration": 259,
    "start_time": "2024-02-11T08:13:05.849Z"
   },
   {
    "duration": 15,
    "start_time": "2024-02-11T08:13:06.110Z"
   },
   {
    "duration": 305,
    "start_time": "2024-02-11T08:13:06.126Z"
   },
   {
    "duration": 8,
    "start_time": "2024-02-11T08:13:06.432Z"
   },
   {
    "duration": 169,
    "start_time": "2024-02-11T08:13:06.442Z"
   },
   {
    "duration": 224,
    "start_time": "2024-02-11T08:13:06.613Z"
   },
   {
    "duration": 490,
    "start_time": "2024-02-11T08:13:06.838Z"
   },
   {
    "duration": 17,
    "start_time": "2024-02-11T08:13:07.329Z"
   },
   {
    "duration": 3037,
    "start_time": "2024-02-11T08:13:07.347Z"
   },
   {
    "duration": 682,
    "start_time": "2024-02-11T08:13:10.399Z"
   },
   {
    "duration": 336,
    "start_time": "2024-02-11T08:13:11.083Z"
   },
   {
    "duration": 16,
    "start_time": "2024-02-11T08:13:11.421Z"
   },
   {
    "duration": 16,
    "start_time": "2024-02-11T08:13:11.439Z"
   },
   {
    "duration": 18,
    "start_time": "2024-02-11T08:13:11.456Z"
   },
   {
    "duration": 6,
    "start_time": "2024-02-11T08:13:11.475Z"
   },
   {
    "duration": 616,
    "start_time": "2024-02-11T08:13:11.483Z"
   },
   {
    "duration": 5,
    "start_time": "2024-02-11T08:13:12.101Z"
   },
   {
    "duration": 649,
    "start_time": "2024-02-11T08:13:12.114Z"
   },
   {
    "duration": 7,
    "start_time": "2024-02-11T08:13:12.764Z"
   },
   {
    "duration": 77,
    "start_time": "2024-02-11T08:13:12.772Z"
   },
   {
    "duration": 6,
    "start_time": "2024-02-11T08:13:12.851Z"
   },
   {
    "duration": 15,
    "start_time": "2024-02-11T08:13:12.859Z"
   },
   {
    "duration": 5,
    "start_time": "2024-02-11T08:13:12.876Z"
   },
   {
    "duration": 4,
    "start_time": "2024-02-11T08:13:12.882Z"
   },
   {
    "duration": 700,
    "start_time": "2024-02-11T08:13:12.887Z"
   },
   {
    "duration": 6,
    "start_time": "2024-02-11T08:13:13.588Z"
   },
   {
    "duration": 6,
    "start_time": "2024-02-11T08:13:13.595Z"
   },
   {
    "duration": 1334,
    "start_time": "2024-02-11T08:13:13.615Z"
   },
   {
    "duration": 254,
    "start_time": "2024-02-11T08:13:14.951Z"
   },
   {
    "duration": 172,
    "start_time": "2024-02-11T08:13:15.207Z"
   },
   {
    "duration": 3,
    "start_time": "2024-02-11T08:13:15.381Z"
   },
   {
    "duration": 391,
    "start_time": "2024-02-11T08:13:38.530Z"
   },
   {
    "duration": 1133,
    "start_time": "2024-02-11T08:13:55.646Z"
   },
   {
    "duration": 3,
    "start_time": "2024-02-11T08:13:56.781Z"
   },
   {
    "duration": 75,
    "start_time": "2024-02-11T08:13:56.786Z"
   },
   {
    "duration": 12,
    "start_time": "2024-02-11T08:13:56.863Z"
   },
   {
    "duration": 13,
    "start_time": "2024-02-11T08:13:56.877Z"
   },
   {
    "duration": 10,
    "start_time": "2024-02-11T08:13:56.891Z"
   },
   {
    "duration": 10,
    "start_time": "2024-02-11T08:13:56.902Z"
   },
   {
    "duration": 11,
    "start_time": "2024-02-11T08:13:56.914Z"
   },
   {
    "duration": 6,
    "start_time": "2024-02-11T08:13:56.927Z"
   },
   {
    "duration": 27,
    "start_time": "2024-02-11T08:13:56.935Z"
   },
   {
    "duration": 7,
    "start_time": "2024-02-11T08:13:56.963Z"
   },
   {
    "duration": 10,
    "start_time": "2024-02-11T08:13:56.971Z"
   },
   {
    "duration": 8,
    "start_time": "2024-02-11T08:13:56.982Z"
   },
   {
    "duration": 4,
    "start_time": "2024-02-11T08:13:56.991Z"
   },
   {
    "duration": 15,
    "start_time": "2024-02-11T08:13:57.015Z"
   },
   {
    "duration": 10,
    "start_time": "2024-02-11T08:13:57.032Z"
   },
   {
    "duration": 5,
    "start_time": "2024-02-11T08:13:57.043Z"
   },
   {
    "duration": 175,
    "start_time": "2024-02-11T08:13:57.050Z"
   },
   {
    "duration": 252,
    "start_time": "2024-02-11T08:13:57.226Z"
   },
   {
    "duration": 245,
    "start_time": "2024-02-11T08:13:57.479Z"
   },
   {
    "duration": 6,
    "start_time": "2024-02-11T08:13:57.726Z"
   },
   {
    "duration": 12,
    "start_time": "2024-02-11T08:13:57.734Z"
   },
   {
    "duration": 18,
    "start_time": "2024-02-11T08:13:57.747Z"
   },
   {
    "duration": 5,
    "start_time": "2024-02-11T08:13:57.766Z"
   },
   {
    "duration": 11,
    "start_time": "2024-02-11T08:13:57.772Z"
   },
   {
    "duration": 241,
    "start_time": "2024-02-11T08:13:57.784Z"
   },
   {
    "duration": 11,
    "start_time": "2024-02-11T08:13:58.026Z"
   },
   {
    "duration": 8,
    "start_time": "2024-02-11T08:13:58.041Z"
   },
   {
    "duration": 32,
    "start_time": "2024-02-11T08:13:58.050Z"
   },
   {
    "duration": 32,
    "start_time": "2024-02-11T08:13:58.084Z"
   },
   {
    "duration": 11,
    "start_time": "2024-02-11T08:13:58.118Z"
   },
   {
    "duration": 9,
    "start_time": "2024-02-11T08:13:58.130Z"
   },
   {
    "duration": 5,
    "start_time": "2024-02-11T08:13:58.141Z"
   },
   {
    "duration": 13,
    "start_time": "2024-02-11T08:13:58.148Z"
   },
   {
    "duration": 11,
    "start_time": "2024-02-11T08:13:58.163Z"
   },
   {
    "duration": 45,
    "start_time": "2024-02-11T08:13:58.175Z"
   },
   {
    "duration": 263,
    "start_time": "2024-02-11T08:13:58.222Z"
   },
   {
    "duration": 15,
    "start_time": "2024-02-11T08:13:58.487Z"
   },
   {
    "duration": 273,
    "start_time": "2024-02-11T08:13:58.503Z"
   },
   {
    "duration": 10,
    "start_time": "2024-02-11T08:13:58.777Z"
   },
   {
    "duration": 181,
    "start_time": "2024-02-11T08:13:58.789Z"
   },
   {
    "duration": 182,
    "start_time": "2024-02-11T08:13:58.972Z"
   },
   {
    "duration": 243,
    "start_time": "2024-02-11T08:13:59.156Z"
   },
   {
    "duration": 21,
    "start_time": "2024-02-11T08:13:59.400Z"
   },
   {
    "duration": 2684,
    "start_time": "2024-02-11T08:13:59.423Z"
   },
   {
    "duration": 661,
    "start_time": "2024-02-11T08:14:02.108Z"
   },
   {
    "duration": 663,
    "start_time": "2024-02-11T08:14:02.770Z"
   },
   {
    "duration": 16,
    "start_time": "2024-02-11T08:14:03.434Z"
   },
   {
    "duration": 69,
    "start_time": "2024-02-11T08:14:03.451Z"
   },
   {
    "duration": 21,
    "start_time": "2024-02-11T08:14:03.521Z"
   },
   {
    "duration": 7,
    "start_time": "2024-02-11T08:14:03.543Z"
   },
   {
    "duration": 989,
    "start_time": "2024-02-11T08:14:03.551Z"
   },
   {
    "duration": 6,
    "start_time": "2024-02-11T08:14:04.541Z"
   },
   {
    "duration": 696,
    "start_time": "2024-02-11T08:14:04.548Z"
   },
   {
    "duration": 5,
    "start_time": "2024-02-11T08:14:05.246Z"
   },
   {
    "duration": 64,
    "start_time": "2024-02-11T08:14:05.252Z"
   },
   {
    "duration": 6,
    "start_time": "2024-02-11T08:14:05.318Z"
   },
   {
    "duration": 5,
    "start_time": "2024-02-11T08:14:05.325Z"
   },
   {
    "duration": 6,
    "start_time": "2024-02-11T08:14:05.332Z"
   },
   {
    "duration": 7,
    "start_time": "2024-02-11T08:14:05.339Z"
   },
   {
    "duration": 731,
    "start_time": "2024-02-11T08:14:05.348Z"
   },
   {
    "duration": 6,
    "start_time": "2024-02-11T08:14:06.080Z"
   },
   {
    "duration": 5,
    "start_time": "2024-02-11T08:14:06.087Z"
   },
   {
    "duration": 1287,
    "start_time": "2024-02-11T08:14:06.094Z"
   },
   {
    "duration": 274,
    "start_time": "2024-02-11T08:14:07.383Z"
   },
   {
    "duration": 190,
    "start_time": "2024-02-11T08:14:07.659Z"
   },
   {
    "duration": 4,
    "start_time": "2024-02-11T08:14:07.850Z"
   },
   {
    "duration": 12,
    "start_time": "2024-02-11T08:46:39.324Z"
   },
   {
    "duration": 11,
    "start_time": "2024-02-11T08:46:50.147Z"
   },
   {
    "duration": 228,
    "start_time": "2024-02-11T08:47:03.178Z"
   },
   {
    "duration": 165,
    "start_time": "2024-02-11T08:47:14.587Z"
   },
   {
    "duration": 153,
    "start_time": "2024-02-11T08:47:21.716Z"
   },
   {
    "duration": 154,
    "start_time": "2024-02-11T08:47:26.676Z"
   },
   {
    "duration": 157,
    "start_time": "2024-02-11T08:47:34.995Z"
   },
   {
    "duration": 160,
    "start_time": "2024-02-11T08:47:38.892Z"
   },
   {
    "duration": 1093,
    "start_time": "2024-02-11T08:48:34.563Z"
   },
   {
    "duration": 3,
    "start_time": "2024-02-11T08:48:35.658Z"
   },
   {
    "duration": 82,
    "start_time": "2024-02-11T08:48:35.662Z"
   },
   {
    "duration": 11,
    "start_time": "2024-02-11T08:48:35.746Z"
   },
   {
    "duration": 16,
    "start_time": "2024-02-11T08:48:35.759Z"
   },
   {
    "duration": 13,
    "start_time": "2024-02-11T08:48:35.777Z"
   },
   {
    "duration": 9,
    "start_time": "2024-02-11T08:48:35.792Z"
   },
   {
    "duration": 14,
    "start_time": "2024-02-11T08:48:35.802Z"
   },
   {
    "duration": 7,
    "start_time": "2024-02-11T08:48:35.817Z"
   },
   {
    "duration": 17,
    "start_time": "2024-02-11T08:48:35.826Z"
   },
   {
    "duration": 9,
    "start_time": "2024-02-11T08:48:35.844Z"
   },
   {
    "duration": 25,
    "start_time": "2024-02-11T08:48:35.855Z"
   },
   {
    "duration": 32,
    "start_time": "2024-02-11T08:48:35.881Z"
   },
   {
    "duration": 7,
    "start_time": "2024-02-11T08:48:35.915Z"
   },
   {
    "duration": 7,
    "start_time": "2024-02-11T08:48:35.923Z"
   },
   {
    "duration": 28,
    "start_time": "2024-02-11T08:48:35.931Z"
   },
   {
    "duration": 10,
    "start_time": "2024-02-11T08:48:35.961Z"
   },
   {
    "duration": 159,
    "start_time": "2024-02-11T08:48:35.972Z"
   },
   {
    "duration": 235,
    "start_time": "2024-02-11T08:48:36.132Z"
   },
   {
    "duration": 242,
    "start_time": "2024-02-11T08:48:36.368Z"
   },
   {
    "duration": 6,
    "start_time": "2024-02-11T08:48:36.612Z"
   },
   {
    "duration": 9,
    "start_time": "2024-02-11T08:48:36.620Z"
   },
   {
    "duration": 15,
    "start_time": "2024-02-11T08:48:36.631Z"
   },
   {
    "duration": 6,
    "start_time": "2024-02-11T08:48:36.647Z"
   },
   {
    "duration": 15,
    "start_time": "2024-02-11T08:48:36.654Z"
   },
   {
    "duration": 244,
    "start_time": "2024-02-11T08:48:36.670Z"
   },
   {
    "duration": 11,
    "start_time": "2024-02-11T08:48:36.916Z"
   },
   {
    "duration": 8,
    "start_time": "2024-02-11T08:48:36.930Z"
   },
   {
    "duration": 34,
    "start_time": "2024-02-11T08:48:36.940Z"
   },
   {
    "duration": 8,
    "start_time": "2024-02-11T08:48:36.975Z"
   },
   {
    "duration": 33,
    "start_time": "2024-02-11T08:48:36.984Z"
   },
   {
    "duration": 6,
    "start_time": "2024-02-11T08:48:37.018Z"
   },
   {
    "duration": 4,
    "start_time": "2024-02-11T08:48:37.026Z"
   },
   {
    "duration": 10,
    "start_time": "2024-02-11T08:48:37.031Z"
   },
   {
    "duration": 9,
    "start_time": "2024-02-11T08:48:37.043Z"
   },
   {
    "duration": 7,
    "start_time": "2024-02-11T08:48:37.054Z"
   },
   {
    "duration": 286,
    "start_time": "2024-02-11T08:48:37.063Z"
   },
   {
    "duration": 16,
    "start_time": "2024-02-11T08:48:37.350Z"
   },
   {
    "duration": 298,
    "start_time": "2024-02-11T08:48:37.367Z"
   },
   {
    "duration": 9,
    "start_time": "2024-02-11T08:48:37.666Z"
   },
   {
    "duration": 181,
    "start_time": "2024-02-11T08:48:37.677Z"
   },
   {
    "duration": 212,
    "start_time": "2024-02-11T08:48:37.859Z"
   },
   {
    "duration": 254,
    "start_time": "2024-02-11T08:48:38.073Z"
   },
   {
    "duration": 17,
    "start_time": "2024-02-11T08:48:38.329Z"
   },
   {
    "duration": 3420,
    "start_time": "2024-02-11T08:48:38.347Z"
   },
   {
    "duration": 717,
    "start_time": "2024-02-11T08:48:41.768Z"
   },
   {
    "duration": 358,
    "start_time": "2024-02-11T08:48:42.486Z"
   },
   {
    "duration": 25,
    "start_time": "2024-02-11T08:48:42.846Z"
   },
   {
    "duration": 24,
    "start_time": "2024-02-11T08:48:42.873Z"
   },
   {
    "duration": 19,
    "start_time": "2024-02-11T08:48:42.915Z"
   },
   {
    "duration": 7,
    "start_time": "2024-02-11T08:48:42.936Z"
   },
   {
    "duration": 649,
    "start_time": "2024-02-11T08:48:42.945Z"
   },
   {
    "duration": 6,
    "start_time": "2024-02-11T08:48:43.595Z"
   },
   {
    "duration": 677,
    "start_time": "2024-02-11T08:48:43.602Z"
   },
   {
    "duration": 5,
    "start_time": "2024-02-11T08:48:44.281Z"
   },
   {
    "duration": 67,
    "start_time": "2024-02-11T08:48:44.288Z"
   },
   {
    "duration": 6,
    "start_time": "2024-02-11T08:48:44.356Z"
   },
   {
    "duration": 20,
    "start_time": "2024-02-11T08:48:44.364Z"
   },
   {
    "duration": 29,
    "start_time": "2024-02-11T08:48:44.385Z"
   },
   {
    "duration": 13,
    "start_time": "2024-02-11T08:48:44.415Z"
   },
   {
    "duration": 715,
    "start_time": "2024-02-11T08:48:44.429Z"
   },
   {
    "duration": 14,
    "start_time": "2024-02-11T08:48:45.145Z"
   },
   {
    "duration": 11,
    "start_time": "2024-02-11T08:48:45.161Z"
   },
   {
    "duration": 1391,
    "start_time": "2024-02-11T08:48:45.174Z"
   },
   {
    "duration": 260,
    "start_time": "2024-02-11T08:48:46.566Z"
   },
   {
    "duration": 177,
    "start_time": "2024-02-11T08:48:46.828Z"
   },
   {
    "duration": 9,
    "start_time": "2024-02-11T08:48:47.007Z"
   },
   {
    "duration": 16,
    "start_time": "2024-02-11T08:50:15.722Z"
   },
   {
    "duration": 1125,
    "start_time": "2024-02-11T08:50:32.763Z"
   },
   {
    "duration": 3,
    "start_time": "2024-02-11T08:50:33.890Z"
   },
   {
    "duration": 72,
    "start_time": "2024-02-11T08:50:33.894Z"
   },
   {
    "duration": 12,
    "start_time": "2024-02-11T08:50:33.968Z"
   },
   {
    "duration": 17,
    "start_time": "2024-02-11T08:50:33.982Z"
   },
   {
    "duration": 10,
    "start_time": "2024-02-11T08:50:34.000Z"
   },
   {
    "duration": 8,
    "start_time": "2024-02-11T08:50:34.012Z"
   },
   {
    "duration": 13,
    "start_time": "2024-02-11T08:50:34.021Z"
   },
   {
    "duration": 6,
    "start_time": "2024-02-11T08:50:34.035Z"
   },
   {
    "duration": 8,
    "start_time": "2024-02-11T08:50:34.045Z"
   },
   {
    "duration": 6,
    "start_time": "2024-02-11T08:50:34.055Z"
   },
   {
    "duration": 9,
    "start_time": "2024-02-11T08:50:34.062Z"
   },
   {
    "duration": 7,
    "start_time": "2024-02-11T08:50:34.072Z"
   },
   {
    "duration": 4,
    "start_time": "2024-02-11T08:50:34.114Z"
   },
   {
    "duration": 5,
    "start_time": "2024-02-11T08:50:34.120Z"
   },
   {
    "duration": 19,
    "start_time": "2024-02-11T08:50:34.126Z"
   },
   {
    "duration": 5,
    "start_time": "2024-02-11T08:50:34.147Z"
   },
   {
    "duration": 174,
    "start_time": "2024-02-11T08:50:34.153Z"
   },
   {
    "duration": 235,
    "start_time": "2024-02-11T08:50:34.329Z"
   },
   {
    "duration": 252,
    "start_time": "2024-02-11T08:50:34.566Z"
   },
   {
    "duration": 8,
    "start_time": "2024-02-11T08:50:34.820Z"
   },
   {
    "duration": 10,
    "start_time": "2024-02-11T08:50:34.829Z"
   },
   {
    "duration": 7,
    "start_time": "2024-02-11T08:50:34.840Z"
   },
   {
    "duration": 5,
    "start_time": "2024-02-11T08:50:34.848Z"
   },
   {
    "duration": 14,
    "start_time": "2024-02-11T08:50:34.854Z"
   },
   {
    "duration": 271,
    "start_time": "2024-02-11T08:50:34.870Z"
   },
   {
    "duration": 11,
    "start_time": "2024-02-11T08:50:35.142Z"
   },
   {
    "duration": 7,
    "start_time": "2024-02-11T08:50:35.156Z"
   },
   {
    "duration": 32,
    "start_time": "2024-02-11T08:50:35.164Z"
   },
   {
    "duration": 23,
    "start_time": "2024-02-11T08:50:35.197Z"
   },
   {
    "duration": 10,
    "start_time": "2024-02-11T08:50:35.222Z"
   },
   {
    "duration": 7,
    "start_time": "2024-02-11T08:50:35.233Z"
   },
   {
    "duration": 4,
    "start_time": "2024-02-11T08:50:35.241Z"
   },
   {
    "duration": 20,
    "start_time": "2024-02-11T08:50:35.246Z"
   },
   {
    "duration": 10,
    "start_time": "2024-02-11T08:50:35.267Z"
   },
   {
    "duration": 8,
    "start_time": "2024-02-11T08:50:35.279Z"
   },
   {
    "duration": 275,
    "start_time": "2024-02-11T08:50:35.288Z"
   },
   {
    "duration": 15,
    "start_time": "2024-02-11T08:50:35.564Z"
   },
   {
    "duration": 294,
    "start_time": "2024-02-11T08:50:35.580Z"
   },
   {
    "duration": 8,
    "start_time": "2024-02-11T08:50:35.876Z"
   },
   {
    "duration": 171,
    "start_time": "2024-02-11T08:50:35.885Z"
   },
   {
    "duration": 195,
    "start_time": "2024-02-11T08:50:36.058Z"
   },
   {
    "duration": 233,
    "start_time": "2024-02-11T08:50:36.255Z"
   },
   {
    "duration": 26,
    "start_time": "2024-02-11T08:50:36.489Z"
   },
   {
    "duration": 2638,
    "start_time": "2024-02-11T08:50:36.517Z"
   },
   {
    "duration": 696,
    "start_time": "2024-02-11T08:50:39.156Z"
   },
   {
    "duration": 359,
    "start_time": "2024-02-11T08:50:39.853Z"
   },
   {
    "duration": 16,
    "start_time": "2024-02-11T08:50:40.214Z"
   },
   {
    "duration": 16,
    "start_time": "2024-02-11T08:50:40.232Z"
   },
   {
    "duration": 18,
    "start_time": "2024-02-11T08:50:40.249Z"
   },
   {
    "duration": 6,
    "start_time": "2024-02-11T08:50:40.269Z"
   },
   {
    "duration": 644,
    "start_time": "2024-02-11T08:50:40.276Z"
   },
   {
    "duration": 6,
    "start_time": "2024-02-11T08:50:40.921Z"
   },
   {
    "duration": 686,
    "start_time": "2024-02-11T08:50:40.929Z"
   },
   {
    "duration": 6,
    "start_time": "2024-02-11T08:50:41.616Z"
   },
   {
    "duration": 54,
    "start_time": "2024-02-11T08:50:41.623Z"
   },
   {
    "duration": 6,
    "start_time": "2024-02-11T08:50:41.679Z"
   },
   {
    "duration": 30,
    "start_time": "2024-02-11T08:50:41.687Z"
   },
   {
    "duration": 6,
    "start_time": "2024-02-11T08:50:41.719Z"
   },
   {
    "duration": 3,
    "start_time": "2024-02-11T08:50:41.727Z"
   },
   {
    "duration": 684,
    "start_time": "2024-02-11T08:50:41.732Z"
   },
   {
    "duration": 6,
    "start_time": "2024-02-11T08:50:42.418Z"
   },
   {
    "duration": 6,
    "start_time": "2024-02-11T08:50:42.425Z"
   },
   {
    "duration": 1322,
    "start_time": "2024-02-11T08:50:42.433Z"
   },
   {
    "duration": 263,
    "start_time": "2024-02-11T08:50:43.756Z"
   },
   {
    "duration": 176,
    "start_time": "2024-02-11T08:50:44.020Z"
   },
   {
    "duration": 3,
    "start_time": "2024-02-11T08:50:44.198Z"
   },
   {
    "duration": 232,
    "start_time": "2024-02-11T08:54:47.135Z"
   },
   {
    "duration": 182,
    "start_time": "2024-02-11T08:54:51.649Z"
   },
   {
    "duration": 172,
    "start_time": "2024-02-11T08:54:54.928Z"
   },
   {
    "duration": 150,
    "start_time": "2024-02-11T08:54:59.552Z"
   },
   {
    "duration": 173,
    "start_time": "2024-02-11T08:56:07.359Z"
   },
   {
    "duration": 454,
    "start_time": "2024-02-11T08:59:36.807Z"
   },
   {
    "duration": 645,
    "start_time": "2024-02-11T09:03:30.885Z"
   },
   {
    "duration": 461,
    "start_time": "2024-02-11T09:04:39.894Z"
   },
   {
    "duration": 7,
    "start_time": "2024-02-11T09:05:08.725Z"
   },
   {
    "duration": 1134,
    "start_time": "2024-02-11T09:07:28.139Z"
   },
   {
    "duration": 3,
    "start_time": "2024-02-11T09:07:29.275Z"
   },
   {
    "duration": 76,
    "start_time": "2024-02-11T09:07:29.280Z"
   },
   {
    "duration": 11,
    "start_time": "2024-02-11T09:07:29.358Z"
   },
   {
    "duration": 11,
    "start_time": "2024-02-11T09:07:29.371Z"
   },
   {
    "duration": 6,
    "start_time": "2024-02-11T09:07:29.383Z"
   },
   {
    "duration": 9,
    "start_time": "2024-02-11T09:07:29.390Z"
   },
   {
    "duration": 19,
    "start_time": "2024-02-11T09:07:29.400Z"
   },
   {
    "duration": 7,
    "start_time": "2024-02-11T09:07:29.420Z"
   },
   {
    "duration": 9,
    "start_time": "2024-02-11T09:07:29.429Z"
   },
   {
    "duration": 11,
    "start_time": "2024-02-11T09:07:29.440Z"
   },
   {
    "duration": 11,
    "start_time": "2024-02-11T09:07:29.453Z"
   },
   {
    "duration": 8,
    "start_time": "2024-02-11T09:07:29.466Z"
   },
   {
    "duration": 4,
    "start_time": "2024-02-11T09:07:29.476Z"
   },
   {
    "duration": 16,
    "start_time": "2024-02-11T09:07:29.482Z"
   },
   {
    "duration": 8,
    "start_time": "2024-02-11T09:07:29.515Z"
   },
   {
    "duration": 4,
    "start_time": "2024-02-11T09:07:29.525Z"
   },
   {
    "duration": 210,
    "start_time": "2024-02-11T09:07:29.531Z"
   },
   {
    "duration": 273,
    "start_time": "2024-02-11T09:07:29.743Z"
   },
   {
    "duration": 274,
    "start_time": "2024-02-11T09:07:30.018Z"
   },
   {
    "duration": 8,
    "start_time": "2024-02-11T09:07:30.293Z"
   },
   {
    "duration": 30,
    "start_time": "2024-02-11T09:07:30.302Z"
   },
   {
    "duration": 39,
    "start_time": "2024-02-11T09:07:30.334Z"
   },
   {
    "duration": 24,
    "start_time": "2024-02-11T09:07:30.375Z"
   },
   {
    "duration": 44,
    "start_time": "2024-02-11T09:07:30.401Z"
   },
   {
    "duration": 279,
    "start_time": "2024-02-11T09:07:30.447Z"
   },
   {
    "duration": 14,
    "start_time": "2024-02-11T09:07:30.728Z"
   },
   {
    "duration": 59,
    "start_time": "2024-02-11T09:07:30.746Z"
   },
   {
    "duration": 97,
    "start_time": "2024-02-11T09:07:30.807Z"
   },
   {
    "duration": 55,
    "start_time": "2024-02-11T09:07:30.906Z"
   },
   {
    "duration": 47,
    "start_time": "2024-02-11T09:07:30.962Z"
   },
   {
    "duration": 76,
    "start_time": "2024-02-11T09:07:31.011Z"
   },
   {
    "duration": 35,
    "start_time": "2024-02-11T09:07:31.089Z"
   },
   {
    "duration": 27,
    "start_time": "2024-02-11T09:07:31.125Z"
   },
   {
    "duration": 46,
    "start_time": "2024-02-11T09:07:31.153Z"
   },
   {
    "duration": 65,
    "start_time": "2024-02-11T09:07:31.201Z"
   },
   {
    "duration": 323,
    "start_time": "2024-02-11T09:07:31.268Z"
   },
   {
    "duration": 24,
    "start_time": "2024-02-11T09:07:31.592Z"
   },
   {
    "duration": 279,
    "start_time": "2024-02-11T09:07:31.618Z"
   },
   {
    "duration": 17,
    "start_time": "2024-02-11T09:07:31.898Z"
   },
   {
    "duration": 173,
    "start_time": "2024-02-11T09:07:31.917Z"
   },
   {
    "duration": 200,
    "start_time": "2024-02-11T09:07:32.091Z"
   },
   {
    "duration": 238,
    "start_time": "2024-02-11T09:07:32.293Z"
   },
   {
    "duration": 16,
    "start_time": "2024-02-11T09:07:32.533Z"
   },
   {
    "duration": 2721,
    "start_time": "2024-02-11T09:07:32.550Z"
   },
   {
    "duration": 730,
    "start_time": "2024-02-11T09:07:35.283Z"
   },
   {
    "duration": 277,
    "start_time": "2024-02-11T09:07:36.014Z"
   },
   {
    "duration": 24,
    "start_time": "2024-02-11T09:07:36.293Z"
   },
   {
    "duration": 16,
    "start_time": "2024-02-11T09:07:36.319Z"
   },
   {
    "duration": 19,
    "start_time": "2024-02-11T09:07:36.337Z"
   },
   {
    "duration": 6,
    "start_time": "2024-02-11T09:07:36.357Z"
   },
   {
    "duration": 491,
    "start_time": "2024-02-11T09:07:36.365Z"
   },
   {
    "duration": 7,
    "start_time": "2024-02-11T09:07:36.859Z"
   },
   {
    "duration": 694,
    "start_time": "2024-02-11T09:07:36.868Z"
   },
   {
    "duration": 7,
    "start_time": "2024-02-11T09:07:37.564Z"
   },
   {
    "duration": 71,
    "start_time": "2024-02-11T09:07:37.573Z"
   },
   {
    "duration": 7,
    "start_time": "2024-02-11T09:07:37.646Z"
   },
   {
    "duration": 6,
    "start_time": "2024-02-11T09:07:37.655Z"
   },
   {
    "duration": 5,
    "start_time": "2024-02-11T09:07:37.663Z"
   },
   {
    "duration": 3,
    "start_time": "2024-02-11T09:07:37.670Z"
   },
   {
    "duration": 679,
    "start_time": "2024-02-11T09:07:37.675Z"
   },
   {
    "duration": 5,
    "start_time": "2024-02-11T09:07:38.356Z"
   },
   {
    "duration": 5,
    "start_time": "2024-02-11T09:07:38.363Z"
   },
   {
    "duration": 1396,
    "start_time": "2024-02-11T09:07:38.370Z"
   },
   {
    "duration": 270,
    "start_time": "2024-02-11T09:07:39.767Z"
   },
   {
    "duration": 189,
    "start_time": "2024-02-11T09:07:40.039Z"
   },
   {
    "duration": 4,
    "start_time": "2024-02-11T09:07:40.230Z"
   },
   {
    "duration": 51,
    "start_time": "2024-02-11T09:09:25.037Z"
   },
   {
    "duration": 1029,
    "start_time": "2024-02-11T09:10:36.749Z"
   },
   {
    "duration": 3,
    "start_time": "2024-02-11T09:10:37.780Z"
   },
   {
    "duration": 72,
    "start_time": "2024-02-11T09:10:37.784Z"
   },
   {
    "duration": 11,
    "start_time": "2024-02-11T09:10:37.859Z"
   },
   {
    "duration": 11,
    "start_time": "2024-02-11T09:10:37.871Z"
   },
   {
    "duration": 5,
    "start_time": "2024-02-11T09:10:37.883Z"
   },
   {
    "duration": 8,
    "start_time": "2024-02-11T09:10:37.889Z"
   },
   {
    "duration": 18,
    "start_time": "2024-02-11T09:10:37.899Z"
   },
   {
    "duration": 7,
    "start_time": "2024-02-11T09:10:37.919Z"
   },
   {
    "duration": 17,
    "start_time": "2024-02-11T09:10:37.929Z"
   },
   {
    "duration": 14,
    "start_time": "2024-02-11T09:10:37.948Z"
   },
   {
    "duration": 11,
    "start_time": "2024-02-11T09:10:37.963Z"
   },
   {
    "duration": 7,
    "start_time": "2024-02-11T09:10:37.975Z"
   },
   {
    "duration": 6,
    "start_time": "2024-02-11T09:10:37.983Z"
   },
   {
    "duration": 25,
    "start_time": "2024-02-11T09:10:37.990Z"
   },
   {
    "duration": 8,
    "start_time": "2024-02-11T09:10:38.017Z"
   },
   {
    "duration": 4,
    "start_time": "2024-02-11T09:10:38.026Z"
   },
   {
    "duration": 186,
    "start_time": "2024-02-11T09:10:38.031Z"
   },
   {
    "duration": 250,
    "start_time": "2024-02-11T09:10:38.219Z"
   },
   {
    "duration": 240,
    "start_time": "2024-02-11T09:10:38.470Z"
   },
   {
    "duration": 6,
    "start_time": "2024-02-11T09:10:38.714Z"
   },
   {
    "duration": 23,
    "start_time": "2024-02-11T09:10:38.721Z"
   },
   {
    "duration": 9,
    "start_time": "2024-02-11T09:10:38.746Z"
   },
   {
    "duration": 5,
    "start_time": "2024-02-11T09:10:38.756Z"
   },
   {
    "duration": 12,
    "start_time": "2024-02-11T09:10:38.762Z"
   },
   {
    "duration": 248,
    "start_time": "2024-02-11T09:10:38.776Z"
   },
   {
    "duration": 11,
    "start_time": "2024-02-11T09:10:39.026Z"
   },
   {
    "duration": 8,
    "start_time": "2024-02-11T09:10:39.042Z"
   },
   {
    "duration": 30,
    "start_time": "2024-02-11T09:10:39.052Z"
   },
   {
    "duration": 36,
    "start_time": "2024-02-11T09:10:39.084Z"
   },
   {
    "duration": 11,
    "start_time": "2024-02-11T09:10:39.121Z"
   },
   {
    "duration": 18,
    "start_time": "2024-02-11T09:10:39.134Z"
   },
   {
    "duration": 5,
    "start_time": "2024-02-11T09:10:39.153Z"
   },
   {
    "duration": 9,
    "start_time": "2024-02-11T09:10:39.159Z"
   },
   {
    "duration": 10,
    "start_time": "2024-02-11T09:10:39.169Z"
   },
   {
    "duration": 8,
    "start_time": "2024-02-11T09:10:39.181Z"
   },
   {
    "duration": 285,
    "start_time": "2024-02-11T09:10:39.190Z"
   },
   {
    "duration": 15,
    "start_time": "2024-02-11T09:10:39.477Z"
   },
   {
    "duration": 275,
    "start_time": "2024-02-11T09:10:39.493Z"
   },
   {
    "duration": 8,
    "start_time": "2024-02-11T09:10:39.770Z"
   },
   {
    "duration": 194,
    "start_time": "2024-02-11T09:10:39.779Z"
   },
   {
    "duration": 175,
    "start_time": "2024-02-11T09:10:39.975Z"
   },
   {
    "duration": 245,
    "start_time": "2024-02-11T09:10:40.152Z"
   },
   {
    "duration": 25,
    "start_time": "2024-02-11T09:10:40.398Z"
   },
   {
    "duration": 2655,
    "start_time": "2024-02-11T09:10:40.424Z"
   },
   {
    "duration": 696,
    "start_time": "2024-02-11T09:10:43.081Z"
   },
   {
    "duration": 278,
    "start_time": "2024-02-11T09:10:43.779Z"
   },
   {
    "duration": 17,
    "start_time": "2024-02-11T09:10:44.059Z"
   },
   {
    "duration": 18,
    "start_time": "2024-02-11T09:10:44.077Z"
   },
   {
    "duration": 37,
    "start_time": "2024-02-11T09:10:44.096Z"
   },
   {
    "duration": 7,
    "start_time": "2024-02-11T09:10:44.134Z"
   },
   {
    "duration": 468,
    "start_time": "2024-02-11T09:10:44.142Z"
   },
   {
    "duration": 7,
    "start_time": "2024-02-11T09:10:44.611Z"
   },
   {
    "duration": 688,
    "start_time": "2024-02-11T09:10:44.619Z"
   },
   {
    "duration": 8,
    "start_time": "2024-02-11T09:10:45.309Z"
   },
   {
    "duration": 52,
    "start_time": "2024-02-11T09:10:45.319Z"
   },
   {
    "duration": 6,
    "start_time": "2024-02-11T09:10:45.373Z"
   },
   {
    "duration": 6,
    "start_time": "2024-02-11T09:10:45.380Z"
   },
   {
    "duration": 30,
    "start_time": "2024-02-11T09:10:45.387Z"
   },
   {
    "duration": 11,
    "start_time": "2024-02-11T09:10:45.419Z"
   },
   {
    "duration": 591,
    "start_time": "2024-02-11T09:10:45.431Z"
   },
   {
    "duration": 5,
    "start_time": "2024-02-11T09:10:46.023Z"
   },
   {
    "duration": 6,
    "start_time": "2024-02-11T09:10:46.029Z"
   },
   {
    "duration": 1356,
    "start_time": "2024-02-11T09:10:46.036Z"
   },
   {
    "duration": 259,
    "start_time": "2024-02-11T09:10:47.394Z"
   },
   {
    "duration": 185,
    "start_time": "2024-02-11T09:10:47.655Z"
   },
   {
    "duration": 5,
    "start_time": "2024-02-11T09:10:47.842Z"
   },
   {
    "duration": 74,
    "start_time": "2024-02-11T09:15:09.658Z"
   },
   {
    "duration": 10,
    "start_time": "2024-02-11T09:19:47.684Z"
   },
   {
    "duration": 98,
    "start_time": "2024-02-11T09:21:20.132Z"
   },
   {
    "duration": 16,
    "start_time": "2024-02-11T09:22:50.595Z"
   },
   {
    "duration": 15,
    "start_time": "2024-02-11T09:22:56.130Z"
   },
   {
    "duration": 5,
    "start_time": "2024-02-11T09:23:40.330Z"
   },
   {
    "duration": 4,
    "start_time": "2024-02-11T09:24:39.236Z"
   },
   {
    "duration": 4,
    "start_time": "2024-02-11T09:24:56.555Z"
   },
   {
    "duration": 3,
    "start_time": "2024-02-11T09:25:38.354Z"
   },
   {
    "duration": 5,
    "start_time": "2024-02-11T09:27:48.331Z"
   },
   {
    "duration": 5,
    "start_time": "2024-02-11T09:28:07.370Z"
   },
   {
    "duration": 4,
    "start_time": "2024-02-11T09:28:27.042Z"
   },
   {
    "duration": 15,
    "start_time": "2024-02-11T09:28:50.050Z"
   },
   {
    "duration": 11,
    "start_time": "2024-02-11T09:29:43.657Z"
   },
   {
    "duration": 14,
    "start_time": "2024-02-11T09:32:58.921Z"
   },
   {
    "duration": 118,
    "start_time": "2024-02-11T09:35:28.681Z"
   },
   {
    "duration": 213,
    "start_time": "2024-02-11T09:35:44.680Z"
   },
   {
    "duration": 123,
    "start_time": "2024-02-11T09:35:51.208Z"
   },
   {
    "duration": 123,
    "start_time": "2024-02-11T09:36:11.858Z"
   },
   {
    "duration": 136,
    "start_time": "2024-02-11T09:36:20.345Z"
   },
   {
    "duration": 8,
    "start_time": "2024-02-11T09:36:46.362Z"
   },
   {
    "duration": 133,
    "start_time": "2024-02-11T09:37:04.177Z"
   },
   {
    "duration": 14,
    "start_time": "2024-02-11T09:39:36.921Z"
   },
   {
    "duration": 15,
    "start_time": "2024-02-11T09:40:05.129Z"
   },
   {
    "duration": 15,
    "start_time": "2024-02-11T09:40:16.113Z"
   },
   {
    "duration": 109,
    "start_time": "2024-02-11T09:40:49.048Z"
   },
   {
    "duration": 135,
    "start_time": "2024-02-11T09:41:26.879Z"
   },
   {
    "duration": 140,
    "start_time": "2024-02-11T09:41:48.481Z"
   },
   {
    "duration": 225,
    "start_time": "2024-02-11T09:43:08.057Z"
   },
   {
    "duration": 306,
    "start_time": "2024-02-11T09:43:17.777Z"
   },
   {
    "duration": 219,
    "start_time": "2024-02-11T09:43:49.327Z"
   },
   {
    "duration": 274,
    "start_time": "2024-02-11T09:44:15.568Z"
   },
   {
    "duration": 229,
    "start_time": "2024-02-11T09:44:40.976Z"
   },
   {
    "duration": 167,
    "start_time": "2024-02-11T09:44:59.591Z"
   },
   {
    "duration": 202,
    "start_time": "2024-02-11T09:46:43.616Z"
   },
   {
    "duration": 174,
    "start_time": "2024-02-11T09:48:53.804Z"
   },
   {
    "duration": 154,
    "start_time": "2024-02-11T09:49:25.790Z"
   },
   {
    "duration": 244,
    "start_time": "2024-02-11T09:49:42.622Z"
   },
   {
    "duration": 173,
    "start_time": "2024-02-11T09:49:57.596Z"
   },
   {
    "duration": 177,
    "start_time": "2024-02-11T09:50:02.966Z"
   },
   {
    "duration": 10,
    "start_time": "2024-02-11T09:51:37.692Z"
   },
   {
    "duration": 174,
    "start_time": "2024-02-11T09:52:07.574Z"
   },
   {
    "duration": 174,
    "start_time": "2024-02-11T09:52:29.182Z"
   },
   {
    "duration": 198,
    "start_time": "2024-02-11T09:52:32.807Z"
   },
   {
    "duration": 246,
    "start_time": "2024-02-11T09:52:54.054Z"
   },
   {
    "duration": 69,
    "start_time": "2024-02-11T09:53:34.141Z"
   },
   {
    "duration": 15,
    "start_time": "2024-02-11T09:53:39.630Z"
   },
   {
    "duration": 2734,
    "start_time": "2024-02-11T09:55:24.580Z"
   },
   {
    "duration": 91,
    "start_time": "2024-02-11T09:57:01.475Z"
   },
   {
    "duration": 2759,
    "start_time": "2024-02-11T09:57:04.804Z"
   },
   {
    "duration": 2780,
    "start_time": "2024-02-11T09:57:59.066Z"
   },
   {
    "duration": 2677,
    "start_time": "2024-02-11T09:58:55.460Z"
   },
   {
    "duration": 731,
    "start_time": "2024-02-11T09:59:40.442Z"
   },
   {
    "duration": 805,
    "start_time": "2024-02-11T10:00:01.036Z"
   },
   {
    "duration": 698,
    "start_time": "2024-02-11T10:00:07.043Z"
   },
   {
    "duration": 692,
    "start_time": "2024-02-11T10:00:27.074Z"
   },
   {
    "duration": 183,
    "start_time": "2024-02-11T10:01:26.883Z"
   },
   {
    "duration": 291,
    "start_time": "2024-02-11T10:01:39.755Z"
   },
   {
    "duration": 1241,
    "start_time": "2024-02-11T10:03:00.043Z"
   },
   {
    "duration": 1377,
    "start_time": "2024-02-11T10:03:47.658Z"
   },
   {
    "duration": 82,
    "start_time": "2024-02-11T10:05:07.651Z"
   },
   {
    "duration": 11,
    "start_time": "2024-02-11T10:11:08.175Z"
   },
   {
    "duration": 10,
    "start_time": "2024-02-11T10:11:42.673Z"
   },
   {
    "duration": 70,
    "start_time": "2024-02-11T10:16:28.661Z"
   },
   {
    "duration": 10,
    "start_time": "2024-02-11T10:17:11.663Z"
   },
   {
    "duration": 6,
    "start_time": "2024-02-11T10:17:32.551Z"
   },
   {
    "duration": 12,
    "start_time": "2024-02-11T10:19:40.010Z"
   },
   {
    "duration": 16,
    "start_time": "2024-02-11T10:20:25.951Z"
   },
   {
    "duration": 19,
    "start_time": "2024-02-11T10:20:40.581Z"
   },
   {
    "duration": 18,
    "start_time": "2024-02-11T10:20:44.287Z"
   },
   {
    "duration": 22,
    "start_time": "2024-02-11T10:21:09.246Z"
   },
   {
    "duration": 23,
    "start_time": "2024-02-11T10:21:18.654Z"
   },
   {
    "duration": 11,
    "start_time": "2024-02-11T10:22:06.759Z"
   },
   {
    "duration": 215,
    "start_time": "2024-02-11T10:33:37.749Z"
   },
   {
    "duration": 313,
    "start_time": "2024-02-11T10:35:10.609Z"
   },
   {
    "duration": 218,
    "start_time": "2024-02-11T10:35:52.230Z"
   },
   {
    "duration": 213,
    "start_time": "2024-02-11T10:36:23.013Z"
   },
   {
    "duration": 210,
    "start_time": "2024-02-11T10:37:10.563Z"
   },
   {
    "duration": 111,
    "start_time": "2024-02-11T10:37:27.876Z"
   },
   {
    "duration": 15865,
    "start_time": "2024-02-11T10:38:12.988Z"
   },
   {
    "duration": 16232,
    "start_time": "2024-02-11T10:39:02.532Z"
   },
   {
    "duration": 450,
    "start_time": "2024-02-11T10:39:26.132Z"
   },
   {
    "duration": 453,
    "start_time": "2024-02-11T10:43:48.254Z"
   },
   {
    "duration": 298,
    "start_time": "2024-02-11T10:44:02.396Z"
   },
   {
    "duration": 694,
    "start_time": "2024-02-11T10:44:16.717Z"
   },
   {
    "duration": 252,
    "start_time": "2024-02-11T10:44:27.493Z"
   },
   {
    "duration": 301,
    "start_time": "2024-02-11T10:44:36.596Z"
   },
   {
    "duration": 342,
    "start_time": "2024-02-11T10:44:45.204Z"
   },
   {
    "duration": 356,
    "start_time": "2024-02-11T10:44:51.413Z"
   },
   {
    "duration": 445,
    "start_time": "2024-02-11T10:45:09.058Z"
   },
   {
    "duration": 125,
    "start_time": "2024-02-11T10:45:26.138Z"
   },
   {
    "duration": 118,
    "start_time": "2024-02-11T10:45:34.219Z"
   },
   {
    "duration": 371,
    "start_time": "2024-02-11T10:45:42.643Z"
   },
   {
    "duration": 360,
    "start_time": "2024-02-11T10:45:59.402Z"
   },
   {
    "duration": 439,
    "start_time": "2024-02-11T10:46:11.526Z"
   },
   {
    "duration": 354,
    "start_time": "2024-02-11T10:47:07.845Z"
   },
   {
    "duration": 80,
    "start_time": "2024-02-11T10:47:45.059Z"
   },
   {
    "duration": 433,
    "start_time": "2024-02-11T10:47:54.656Z"
   },
   {
    "duration": 286,
    "start_time": "2024-02-11T10:48:19.378Z"
   },
   {
    "duration": 343,
    "start_time": "2024-02-11T10:48:38.130Z"
   },
   {
    "duration": 94,
    "start_time": "2024-02-11T10:49:07.716Z"
   },
   {
    "duration": 484,
    "start_time": "2024-02-11T10:49:17.691Z"
   },
   {
    "duration": 362,
    "start_time": "2024-02-11T10:49:27.380Z"
   },
   {
    "duration": 372,
    "start_time": "2024-02-11T10:49:40.395Z"
   },
   {
    "duration": 373,
    "start_time": "2024-02-11T10:49:56.668Z"
   },
   {
    "duration": 345,
    "start_time": "2024-02-11T10:51:50.818Z"
   },
   {
    "duration": 1178,
    "start_time": "2024-02-11T10:51:57.615Z"
   },
   {
    "duration": 3,
    "start_time": "2024-02-11T10:51:58.795Z"
   },
   {
    "duration": 73,
    "start_time": "2024-02-11T10:51:58.799Z"
   },
   {
    "duration": 11,
    "start_time": "2024-02-11T10:51:58.874Z"
   },
   {
    "duration": 11,
    "start_time": "2024-02-11T10:51:58.887Z"
   },
   {
    "duration": 5,
    "start_time": "2024-02-11T10:51:58.899Z"
   },
   {
    "duration": 8,
    "start_time": "2024-02-11T10:51:58.906Z"
   },
   {
    "duration": 13,
    "start_time": "2024-02-11T10:51:58.915Z"
   },
   {
    "duration": 6,
    "start_time": "2024-02-11T10:51:58.930Z"
   },
   {
    "duration": 10,
    "start_time": "2024-02-11T10:51:58.938Z"
   },
   {
    "duration": 5,
    "start_time": "2024-02-11T10:51:58.950Z"
   },
   {
    "duration": 20,
    "start_time": "2024-02-11T10:51:58.956Z"
   },
   {
    "duration": 11,
    "start_time": "2024-02-11T10:51:58.977Z"
   },
   {
    "duration": 26,
    "start_time": "2024-02-11T10:51:58.989Z"
   },
   {
    "duration": 12,
    "start_time": "2024-02-11T10:51:59.016Z"
   },
   {
    "duration": 11,
    "start_time": "2024-02-11T10:51:59.029Z"
   },
   {
    "duration": 4,
    "start_time": "2024-02-11T10:51:59.042Z"
   },
   {
    "duration": 177,
    "start_time": "2024-02-11T10:51:59.048Z"
   },
   {
    "duration": 233,
    "start_time": "2024-02-11T10:51:59.227Z"
   },
   {
    "duration": 248,
    "start_time": "2024-02-11T10:51:59.462Z"
   },
   {
    "duration": 6,
    "start_time": "2024-02-11T10:51:59.714Z"
   },
   {
    "duration": 8,
    "start_time": "2024-02-11T10:51:59.722Z"
   },
   {
    "duration": 8,
    "start_time": "2024-02-11T10:51:59.731Z"
   },
   {
    "duration": 5,
    "start_time": "2024-02-11T10:51:59.740Z"
   },
   {
    "duration": 10,
    "start_time": "2024-02-11T10:51:59.746Z"
   },
   {
    "duration": 296,
    "start_time": "2024-02-11T10:51:59.758Z"
   },
   {
    "duration": 10,
    "start_time": "2024-02-11T10:52:00.056Z"
   },
   {
    "duration": 26,
    "start_time": "2024-02-11T10:52:00.070Z"
   },
   {
    "duration": 64,
    "start_time": "2024-02-11T10:52:00.097Z"
   },
   {
    "duration": 40,
    "start_time": "2024-02-11T10:52:00.162Z"
   },
   {
    "duration": 38,
    "start_time": "2024-02-11T10:52:00.204Z"
   },
   {
    "duration": 25,
    "start_time": "2024-02-11T10:52:00.243Z"
   },
   {
    "duration": 55,
    "start_time": "2024-02-11T10:52:00.269Z"
   },
   {
    "duration": 34,
    "start_time": "2024-02-11T10:52:00.326Z"
   },
   {
    "duration": 31,
    "start_time": "2024-02-11T10:52:00.361Z"
   },
   {
    "duration": 37,
    "start_time": "2024-02-11T10:52:00.393Z"
   },
   {
    "duration": 31,
    "start_time": "2024-02-11T10:52:00.431Z"
   },
   {
    "duration": 165,
    "start_time": "2024-02-11T10:52:00.463Z"
   },
   {
    "duration": 15,
    "start_time": "2024-02-11T10:52:00.630Z"
   },
   {
    "duration": 239,
    "start_time": "2024-02-11T10:52:00.647Z"
   },
   {
    "duration": 12,
    "start_time": "2024-02-11T10:52:00.887Z"
   },
   {
    "duration": 298,
    "start_time": "2024-02-11T10:52:00.901Z"
   },
   {
    "duration": 203,
    "start_time": "2024-02-11T10:52:01.201Z"
   },
   {
    "duration": 259,
    "start_time": "2024-02-11T10:52:01.406Z"
   },
   {
    "duration": 17,
    "start_time": "2024-02-11T10:52:01.666Z"
   },
   {
    "duration": 2659,
    "start_time": "2024-02-11T10:52:01.684Z"
   },
   {
    "duration": 677,
    "start_time": "2024-02-11T10:52:04.345Z"
   },
   {
    "duration": 185,
    "start_time": "2024-02-11T10:52:05.024Z"
   },
   {
    "duration": 16,
    "start_time": "2024-02-11T10:52:05.211Z"
   },
   {
    "duration": 20,
    "start_time": "2024-02-11T10:52:05.229Z"
   },
   {
    "duration": 161,
    "start_time": "2024-02-11T10:52:05.250Z"
   },
   {
    "duration": 10,
    "start_time": "2024-02-11T10:52:05.415Z"
   },
   {
    "duration": 10,
    "start_time": "2024-02-11T10:52:05.427Z"
   },
   {
    "duration": 18,
    "start_time": "2024-02-11T10:52:05.439Z"
   },
   {
    "duration": 525,
    "start_time": "2024-02-11T10:52:05.458Z"
   },
   {
    "duration": 6,
    "start_time": "2024-02-11T10:52:05.984Z"
   },
   {
    "duration": 694,
    "start_time": "2024-02-11T10:52:05.991Z"
   },
   {
    "duration": 390,
    "start_time": "2024-02-11T10:52:06.687Z"
   },
   {
    "duration": 6,
    "start_time": "2024-02-11T10:52:07.078Z"
   },
   {
    "duration": 85,
    "start_time": "2024-02-11T10:52:07.085Z"
   },
   {
    "duration": 6,
    "start_time": "2024-02-11T10:52:07.172Z"
   },
   {
    "duration": 11,
    "start_time": "2024-02-11T10:52:07.180Z"
   },
   {
    "duration": 21,
    "start_time": "2024-02-11T10:52:07.192Z"
   },
   {
    "duration": 25,
    "start_time": "2024-02-11T10:52:07.215Z"
   },
   {
    "duration": 611,
    "start_time": "2024-02-11T10:52:07.242Z"
   },
   {
    "duration": 6,
    "start_time": "2024-02-11T10:52:07.856Z"
   },
   {
    "duration": 11,
    "start_time": "2024-02-11T10:52:07.864Z"
   },
   {
    "duration": 1397,
    "start_time": "2024-02-11T10:52:07.877Z"
   },
   {
    "duration": 269,
    "start_time": "2024-02-11T10:52:09.275Z"
   },
   {
    "duration": 185,
    "start_time": "2024-02-11T10:52:09.546Z"
   },
   {
    "duration": 4,
    "start_time": "2024-02-11T10:52:09.732Z"
   },
   {
    "duration": 325,
    "start_time": "2024-02-11T11:31:36.668Z"
   },
   {
    "duration": 201,
    "start_time": "2024-02-11T11:33:39.029Z"
   },
   {
    "duration": 201,
    "start_time": "2024-02-11T11:33:58.724Z"
   },
   {
    "duration": 216,
    "start_time": "2024-02-11T11:34:49.963Z"
   },
   {
    "duration": 4,
    "start_time": "2024-02-11T11:36:09.325Z"
   },
   {
    "duration": 4,
    "start_time": "2024-02-11T11:36:27.579Z"
   },
   {
    "duration": 4,
    "start_time": "2024-02-11T11:37:13.845Z"
   },
   {
    "duration": 205,
    "start_time": "2024-02-11T11:38:23.163Z"
   },
   {
    "duration": 203,
    "start_time": "2024-02-11T11:38:26.093Z"
   },
   {
    "duration": 169,
    "start_time": "2024-02-11T11:38:49.932Z"
   },
   {
    "duration": 211,
    "start_time": "2024-02-11T11:38:58.676Z"
   },
   {
    "duration": 8,
    "start_time": "2024-02-11T11:39:32.133Z"
   },
   {
    "duration": 4,
    "start_time": "2024-02-11T11:39:38.421Z"
   },
   {
    "duration": 14,
    "start_time": "2024-02-11T11:40:07.732Z"
   },
   {
    "duration": 207,
    "start_time": "2024-02-11T11:40:10.635Z"
   },
   {
    "duration": 4,
    "start_time": "2024-02-11T11:40:21.460Z"
   },
   {
    "duration": 4,
    "start_time": "2024-02-11T11:40:23.539Z"
   },
   {
    "duration": 6,
    "start_time": "2024-02-11T11:41:58.979Z"
   },
   {
    "duration": 8,
    "start_time": "2024-02-11T11:42:05.132Z"
   },
   {
    "duration": 9,
    "start_time": "2024-02-11T11:45:49.492Z"
   },
   {
    "duration": 13,
    "start_time": "2024-02-11T11:49:23.676Z"
   },
   {
    "duration": 14,
    "start_time": "2024-02-11T11:49:55.513Z"
   },
   {
    "duration": 16,
    "start_time": "2024-02-11T11:50:31.291Z"
   },
   {
    "duration": 15,
    "start_time": "2024-02-11T11:50:47.987Z"
   },
   {
    "duration": 15,
    "start_time": "2024-02-11T11:51:39.434Z"
   },
   {
    "duration": 12,
    "start_time": "2024-02-11T11:52:33.164Z"
   },
   {
    "duration": 14,
    "start_time": "2024-02-11T11:53:02.235Z"
   },
   {
    "duration": 18,
    "start_time": "2024-02-11T11:53:12.443Z"
   },
   {
    "duration": 15,
    "start_time": "2024-02-11T11:53:22.022Z"
   },
   {
    "duration": 11,
    "start_time": "2024-02-11T11:58:18.417Z"
   },
   {
    "duration": 11,
    "start_time": "2024-02-11T11:58:22.138Z"
   },
   {
    "duration": 11,
    "start_time": "2024-02-11T11:58:40.235Z"
   },
   {
    "duration": 12,
    "start_time": "2024-02-11T11:58:44.986Z"
   },
   {
    "duration": 13,
    "start_time": "2024-02-11T11:58:59.770Z"
   },
   {
    "duration": 11,
    "start_time": "2024-02-11T11:59:04.988Z"
   },
   {
    "duration": 11,
    "start_time": "2024-02-11T11:59:09.875Z"
   },
   {
    "duration": 18,
    "start_time": "2024-02-11T11:59:27.937Z"
   },
   {
    "duration": 17,
    "start_time": "2024-02-11T11:59:31.307Z"
   },
   {
    "duration": 14,
    "start_time": "2024-02-11T11:59:41.980Z"
   },
   {
    "duration": 12,
    "start_time": "2024-02-11T12:00:21.129Z"
   },
   {
    "duration": 21,
    "start_time": "2024-02-11T12:01:45.377Z"
   },
   {
    "duration": 20,
    "start_time": "2024-02-11T12:02:05.745Z"
   },
   {
    "duration": 19,
    "start_time": "2024-02-11T12:03:53.459Z"
   },
   {
    "duration": 15,
    "start_time": "2024-02-11T12:04:53.771Z"
   },
   {
    "duration": 21,
    "start_time": "2024-02-11T12:08:18.119Z"
   },
   {
    "duration": 19,
    "start_time": "2024-02-11T12:08:33.904Z"
   },
   {
    "duration": 9,
    "start_time": "2024-02-11T12:09:46.917Z"
   },
   {
    "duration": 9,
    "start_time": "2024-02-11T12:11:18.724Z"
   },
   {
    "duration": 7,
    "start_time": "2024-02-11T12:13:16.907Z"
   },
   {
    "duration": 16,
    "start_time": "2024-02-11T12:13:58.363Z"
   },
   {
    "duration": 80,
    "start_time": "2024-02-11T12:16:59.514Z"
   },
   {
    "duration": 1086,
    "start_time": "2024-02-11T12:17:13.434Z"
   },
   {
    "duration": 10,
    "start_time": "2024-02-11T12:17:41.755Z"
   },
   {
    "duration": 16,
    "start_time": "2024-02-11T12:17:52.473Z"
   },
   {
    "duration": 20,
    "start_time": "2024-02-11T12:19:38.505Z"
   },
   {
    "duration": 20,
    "start_time": "2024-02-11T12:22:38.016Z"
   },
   {
    "duration": 17,
    "start_time": "2024-02-11T12:23:57.119Z"
   },
   {
    "duration": 22,
    "start_time": "2024-02-11T12:24:03.500Z"
   },
   {
    "duration": 23,
    "start_time": "2024-02-11T12:24:06.079Z"
   },
   {
    "duration": 21,
    "start_time": "2024-02-11T12:24:29.552Z"
   },
   {
    "duration": 20,
    "start_time": "2024-02-11T12:24:44.441Z"
   },
   {
    "duration": 21,
    "start_time": "2024-02-11T12:24:59.023Z"
   },
   {
    "duration": 17,
    "start_time": "2024-02-11T12:25:35.000Z"
   },
   {
    "duration": 27,
    "start_time": "2024-02-11T12:25:43.063Z"
   },
   {
    "duration": 25,
    "start_time": "2024-02-11T12:27:07.238Z"
   },
   {
    "duration": 11,
    "start_time": "2024-02-11T12:30:51.318Z"
   },
   {
    "duration": 16,
    "start_time": "2024-02-11T12:34:51.942Z"
   },
   {
    "duration": 17,
    "start_time": "2024-02-11T12:35:56.988Z"
   },
   {
    "duration": 17,
    "start_time": "2024-02-11T12:40:17.050Z"
   },
   {
    "duration": 18,
    "start_time": "2024-02-11T12:40:57.819Z"
   },
   {
    "duration": 19,
    "start_time": "2024-02-11T12:43:02.443Z"
   },
   {
    "duration": 7,
    "start_time": "2024-02-11T12:43:25.858Z"
   },
   {
    "duration": 9,
    "start_time": "2024-02-11T12:43:58.138Z"
   },
   {
    "duration": 20,
    "start_time": "2024-02-11T12:44:53.283Z"
   },
   {
    "duration": 24,
    "start_time": "2024-02-11T12:45:24.666Z"
   },
   {
    "duration": 1105,
    "start_time": "2024-02-11T12:45:49.073Z"
   },
   {
    "duration": 3,
    "start_time": "2024-02-11T12:45:50.180Z"
   },
   {
    "duration": 76,
    "start_time": "2024-02-11T12:45:50.184Z"
   },
   {
    "duration": 11,
    "start_time": "2024-02-11T12:45:50.262Z"
   },
   {
    "duration": 11,
    "start_time": "2024-02-11T12:45:50.274Z"
   },
   {
    "duration": 5,
    "start_time": "2024-02-11T12:45:50.286Z"
   },
   {
    "duration": 8,
    "start_time": "2024-02-11T12:45:50.292Z"
   },
   {
    "duration": 13,
    "start_time": "2024-02-11T12:45:50.302Z"
   },
   {
    "duration": 7,
    "start_time": "2024-02-11T12:45:50.316Z"
   },
   {
    "duration": 9,
    "start_time": "2024-02-11T12:45:50.326Z"
   },
   {
    "duration": 5,
    "start_time": "2024-02-11T12:45:50.336Z"
   },
   {
    "duration": 9,
    "start_time": "2024-02-11T12:45:50.343Z"
   },
   {
    "duration": 7,
    "start_time": "2024-02-11T12:45:50.353Z"
   },
   {
    "duration": 3,
    "start_time": "2024-02-11T12:45:50.362Z"
   },
   {
    "duration": 4,
    "start_time": "2024-02-11T12:45:50.367Z"
   },
   {
    "duration": 51,
    "start_time": "2024-02-11T12:45:50.372Z"
   },
   {
    "duration": 4,
    "start_time": "2024-02-11T12:45:50.426Z"
   },
   {
    "duration": 172,
    "start_time": "2024-02-11T12:45:50.432Z"
   },
   {
    "duration": 255,
    "start_time": "2024-02-11T12:45:50.606Z"
   },
   {
    "duration": 254,
    "start_time": "2024-02-11T12:45:50.864Z"
   },
   {
    "duration": 6,
    "start_time": "2024-02-11T12:45:51.120Z"
   },
   {
    "duration": 19,
    "start_time": "2024-02-11T12:45:51.128Z"
   },
   {
    "duration": 7,
    "start_time": "2024-02-11T12:45:51.148Z"
   },
   {
    "duration": 7,
    "start_time": "2024-02-11T12:45:51.156Z"
   },
   {
    "duration": 11,
    "start_time": "2024-02-11T12:45:51.164Z"
   },
   {
    "duration": 255,
    "start_time": "2024-02-11T12:45:51.176Z"
   },
   {
    "duration": 10,
    "start_time": "2024-02-11T12:45:51.433Z"
   },
   {
    "duration": 7,
    "start_time": "2024-02-11T12:45:51.447Z"
   },
   {
    "duration": 28,
    "start_time": "2024-02-11T12:45:51.455Z"
   },
   {
    "duration": 31,
    "start_time": "2024-02-11T12:45:51.485Z"
   },
   {
    "duration": 8,
    "start_time": "2024-02-11T12:45:51.517Z"
   },
   {
    "duration": 6,
    "start_time": "2024-02-11T12:45:51.527Z"
   },
   {
    "duration": 7,
    "start_time": "2024-02-11T12:45:51.535Z"
   },
   {
    "duration": 15,
    "start_time": "2024-02-11T12:45:51.543Z"
   },
   {
    "duration": 4,
    "start_time": "2024-02-11T12:45:51.560Z"
   },
   {
    "duration": 16,
    "start_time": "2024-02-11T12:45:51.565Z"
   },
   {
    "duration": 37,
    "start_time": "2024-02-11T12:45:51.583Z"
   },
   {
    "duration": 146,
    "start_time": "2024-02-11T12:45:51.621Z"
   },
   {
    "duration": 24,
    "start_time": "2024-02-11T12:45:51.768Z"
   },
   {
    "duration": 9,
    "start_time": "2024-02-11T12:45:51.793Z"
   },
   {
    "duration": 20,
    "start_time": "2024-02-11T12:45:51.803Z"
   },
   {
    "duration": 211,
    "start_time": "2024-02-11T12:45:51.825Z"
   },
   {
    "duration": 12,
    "start_time": "2024-02-11T12:45:52.038Z"
   },
   {
    "duration": 260,
    "start_time": "2024-02-11T12:45:52.052Z"
   },
   {
    "duration": 186,
    "start_time": "2024-02-11T12:45:52.315Z"
   },
   {
    "duration": 239,
    "start_time": "2024-02-11T12:45:52.503Z"
   },
   {
    "duration": 16,
    "start_time": "2024-02-11T12:45:52.743Z"
   },
   {
    "duration": 3562,
    "start_time": "2024-02-11T12:45:52.761Z"
   },
   {
    "duration": 909,
    "start_time": "2024-02-11T12:45:56.324Z"
   },
   {
    "duration": 181,
    "start_time": "2024-02-11T12:45:57.235Z"
   },
   {
    "duration": 17,
    "start_time": "2024-02-11T12:45:57.418Z"
   },
   {
    "duration": 21,
    "start_time": "2024-02-11T12:45:57.436Z"
   },
   {
    "duration": 23,
    "start_time": "2024-02-11T12:45:57.459Z"
   },
   {
    "duration": 149,
    "start_time": "2024-02-11T12:45:57.484Z"
   },
   {
    "duration": 10,
    "start_time": "2024-02-11T12:45:57.635Z"
   },
   {
    "duration": 10,
    "start_time": "2024-02-11T12:45:57.647Z"
   },
   {
    "duration": 532,
    "start_time": "2024-02-11T12:45:57.659Z"
   },
   {
    "duration": 6,
    "start_time": "2024-02-11T12:45:58.193Z"
   },
   {
    "duration": 679,
    "start_time": "2024-02-11T12:45:58.201Z"
   },
   {
    "duration": 366,
    "start_time": "2024-02-11T12:45:58.881Z"
   },
   {
    "duration": 6,
    "start_time": "2024-02-11T12:45:59.249Z"
   },
   {
    "duration": 72,
    "start_time": "2024-02-11T12:45:59.257Z"
   },
   {
    "duration": 8,
    "start_time": "2024-02-11T12:45:59.330Z"
   },
   {
    "duration": 5,
    "start_time": "2024-02-11T12:45:59.339Z"
   },
   {
    "duration": 7,
    "start_time": "2024-02-11T12:45:59.346Z"
   },
   {
    "duration": 3,
    "start_time": "2024-02-11T12:45:59.355Z"
   },
   {
    "duration": 628,
    "start_time": "2024-02-11T12:45:59.360Z"
   },
   {
    "duration": 6,
    "start_time": "2024-02-11T12:45:59.990Z"
   },
   {
    "duration": 18,
    "start_time": "2024-02-11T12:45:59.998Z"
   },
   {
    "duration": 1403,
    "start_time": "2024-02-11T12:46:00.018Z"
   },
   {
    "duration": 284,
    "start_time": "2024-02-11T12:46:01.423Z"
   },
   {
    "duration": 179,
    "start_time": "2024-02-11T12:46:01.708Z"
   },
   {
    "duration": 4,
    "start_time": "2024-02-11T12:46:01.889Z"
   },
   {
    "duration": 9,
    "start_time": "2024-02-11T12:46:42.891Z"
   },
   {
    "duration": 120,
    "start_time": "2024-02-11T12:47:29.026Z"
   },
   {
    "duration": 24,
    "start_time": "2024-02-11T12:48:04.954Z"
   },
   {
    "duration": 10,
    "start_time": "2024-02-11T12:48:41.065Z"
   },
   {
    "duration": 126,
    "start_time": "2024-02-11T12:52:26.185Z"
   },
   {
    "duration": 24,
    "start_time": "2024-02-11T12:52:44.473Z"
   },
   {
    "duration": 29,
    "start_time": "2024-02-11T12:55:21.368Z"
   },
   {
    "duration": 9,
    "start_time": "2024-02-11T12:55:24.567Z"
   },
   {
    "duration": 211,
    "start_time": "2024-02-11T12:56:11.056Z"
   },
   {
    "duration": 194,
    "start_time": "2024-02-11T12:56:33.248Z"
   },
   {
    "duration": 27,
    "start_time": "2024-02-11T12:57:40.090Z"
   },
   {
    "duration": 24,
    "start_time": "2024-02-11T12:58:04.168Z"
   },
   {
    "duration": 9,
    "start_time": "2024-02-11T12:58:06.409Z"
   },
   {
    "duration": 196,
    "start_time": "2024-02-11T12:58:11.951Z"
   },
   {
    "duration": 205,
    "start_time": "2024-02-11T12:59:10.657Z"
   },
   {
    "duration": 199,
    "start_time": "2024-02-11T12:59:26.297Z"
   },
   {
    "duration": 200,
    "start_time": "2024-02-11T12:59:39.904Z"
   },
   {
    "duration": 27,
    "start_time": "2024-02-11T13:01:10.310Z"
   },
   {
    "duration": 26,
    "start_time": "2024-02-11T13:01:30.375Z"
   },
   {
    "duration": 9,
    "start_time": "2024-02-11T13:01:33.263Z"
   },
   {
    "duration": 210,
    "start_time": "2024-02-11T13:01:38.135Z"
   },
   {
    "duration": 23,
    "start_time": "2024-02-11T13:02:49.975Z"
   },
   {
    "duration": 24,
    "start_time": "2024-02-11T13:03:57.175Z"
   },
   {
    "duration": 25,
    "start_time": "2024-02-11T13:05:21.632Z"
   },
   {
    "duration": 9,
    "start_time": "2024-02-11T13:05:25.727Z"
   },
   {
    "duration": 214,
    "start_time": "2024-02-11T13:05:29.246Z"
   },
   {
    "duration": 29,
    "start_time": "2024-02-11T13:09:52.501Z"
   },
   {
    "duration": 10,
    "start_time": "2024-02-11T13:09:58.428Z"
   },
   {
    "duration": 29,
    "start_time": "2024-02-11T13:10:11.517Z"
   },
   {
    "duration": 10,
    "start_time": "2024-02-11T13:10:13.573Z"
   },
   {
    "duration": 1144,
    "start_time": "2024-02-11T13:27:27.607Z"
   },
   {
    "duration": 3,
    "start_time": "2024-02-11T13:27:28.752Z"
   },
   {
    "duration": 87,
    "start_time": "2024-02-11T13:27:28.757Z"
   },
   {
    "duration": 11,
    "start_time": "2024-02-11T13:27:28.846Z"
   },
   {
    "duration": 12,
    "start_time": "2024-02-11T13:27:28.859Z"
   },
   {
    "duration": 12,
    "start_time": "2024-02-11T13:27:28.872Z"
   },
   {
    "duration": 14,
    "start_time": "2024-02-11T13:27:28.885Z"
   },
   {
    "duration": 13,
    "start_time": "2024-02-11T13:27:28.900Z"
   },
   {
    "duration": 6,
    "start_time": "2024-02-11T13:27:28.915Z"
   },
   {
    "duration": 10,
    "start_time": "2024-02-11T13:27:28.923Z"
   },
   {
    "duration": 8,
    "start_time": "2024-02-11T13:27:28.935Z"
   },
   {
    "duration": 19,
    "start_time": "2024-02-11T13:27:28.944Z"
   },
   {
    "duration": 7,
    "start_time": "2024-02-11T13:27:28.965Z"
   },
   {
    "duration": 5,
    "start_time": "2024-02-11T13:27:28.973Z"
   },
   {
    "duration": 3,
    "start_time": "2024-02-11T13:27:28.979Z"
   },
   {
    "duration": 33,
    "start_time": "2024-02-11T13:27:28.984Z"
   },
   {
    "duration": 5,
    "start_time": "2024-02-11T13:27:29.018Z"
   },
   {
    "duration": 170,
    "start_time": "2024-02-11T13:27:29.024Z"
   },
   {
    "duration": 256,
    "start_time": "2024-02-11T13:27:29.196Z"
   },
   {
    "duration": 258,
    "start_time": "2024-02-11T13:27:29.454Z"
   },
   {
    "duration": 6,
    "start_time": "2024-02-11T13:27:29.714Z"
   },
   {
    "duration": 8,
    "start_time": "2024-02-11T13:27:29.722Z"
   },
   {
    "duration": 11,
    "start_time": "2024-02-11T13:27:29.731Z"
   },
   {
    "duration": 5,
    "start_time": "2024-02-11T13:27:29.743Z"
   },
   {
    "duration": 14,
    "start_time": "2024-02-11T13:27:29.749Z"
   },
   {
    "duration": 257,
    "start_time": "2024-02-11T13:27:29.765Z"
   },
   {
    "duration": 11,
    "start_time": "2024-02-11T13:27:30.023Z"
   },
   {
    "duration": 34,
    "start_time": "2024-02-11T13:27:30.038Z"
   },
   {
    "duration": 82,
    "start_time": "2024-02-11T13:27:30.073Z"
   },
   {
    "duration": 34,
    "start_time": "2024-02-11T13:27:30.156Z"
   },
   {
    "duration": 48,
    "start_time": "2024-02-11T13:27:30.191Z"
   },
   {
    "duration": 39,
    "start_time": "2024-02-11T13:27:30.241Z"
   },
   {
    "duration": 35,
    "start_time": "2024-02-11T13:27:30.282Z"
   },
   {
    "duration": 52,
    "start_time": "2024-02-11T13:27:30.319Z"
   },
   {
    "duration": 39,
    "start_time": "2024-02-11T13:27:30.373Z"
   },
   {
    "duration": 37,
    "start_time": "2024-02-11T13:27:30.414Z"
   },
   {
    "duration": 51,
    "start_time": "2024-02-11T13:27:30.453Z"
   },
   {
    "duration": 175,
    "start_time": "2024-02-11T13:27:30.506Z"
   },
   {
    "duration": 33,
    "start_time": "2024-02-11T13:27:30.682Z"
   },
   {
    "duration": 29,
    "start_time": "2024-02-11T13:27:30.717Z"
   },
   {
    "duration": 254,
    "start_time": "2024-02-11T13:27:30.748Z"
   },
   {
    "duration": 15,
    "start_time": "2024-02-11T13:27:31.004Z"
   },
   {
    "duration": 276,
    "start_time": "2024-02-11T13:27:31.020Z"
   },
   {
    "duration": 203,
    "start_time": "2024-02-11T13:27:31.298Z"
   },
   {
    "duration": 258,
    "start_time": "2024-02-11T13:27:31.503Z"
   },
   {
    "duration": 16,
    "start_time": "2024-02-11T13:27:31.763Z"
   },
   {
    "duration": 2970,
    "start_time": "2024-02-11T13:27:31.781Z"
   },
   {
    "duration": 1143,
    "start_time": "2024-02-11T13:27:34.752Z"
   },
   {
    "duration": 181,
    "start_time": "2024-02-11T13:27:35.897Z"
   },
   {
    "duration": 17,
    "start_time": "2024-02-11T13:27:36.080Z"
   },
   {
    "duration": 32,
    "start_time": "2024-02-11T13:27:36.098Z"
   },
   {
    "duration": 23,
    "start_time": "2024-02-11T13:27:36.132Z"
   },
   {
    "duration": 133,
    "start_time": "2024-02-11T13:27:36.156Z"
   },
   {
    "duration": 9,
    "start_time": "2024-02-11T13:27:36.291Z"
   },
   {
    "duration": 21,
    "start_time": "2024-02-11T13:27:36.302Z"
   },
   {
    "duration": 445,
    "start_time": "2024-02-11T13:27:36.324Z"
   },
   {
    "duration": 6,
    "start_time": "2024-02-11T13:27:36.770Z"
   },
   {
    "duration": 691,
    "start_time": "2024-02-11T13:27:36.777Z"
   },
   {
    "duration": 372,
    "start_time": "2024-02-11T13:27:37.469Z"
   },
   {
    "duration": 6,
    "start_time": "2024-02-11T13:27:37.843Z"
   },
   {
    "duration": 68,
    "start_time": "2024-02-11T13:27:37.851Z"
   },
   {
    "duration": 6,
    "start_time": "2024-02-11T13:27:37.920Z"
   },
   {
    "duration": 6,
    "start_time": "2024-02-11T13:27:37.927Z"
   },
   {
    "duration": 8,
    "start_time": "2024-02-11T13:27:37.934Z"
   },
   {
    "duration": 6,
    "start_time": "2024-02-11T13:27:37.943Z"
   },
   {
    "duration": 650,
    "start_time": "2024-02-11T13:27:37.950Z"
   },
   {
    "duration": 13,
    "start_time": "2024-02-11T13:27:38.601Z"
   },
   {
    "duration": 14,
    "start_time": "2024-02-11T13:27:38.616Z"
   },
   {
    "duration": 1381,
    "start_time": "2024-02-11T13:27:38.631Z"
   },
   {
    "duration": 268,
    "start_time": "2024-02-11T13:27:40.014Z"
   },
   {
    "duration": 181,
    "start_time": "2024-02-11T13:27:40.284Z"
   },
   {
    "duration": 3,
    "start_time": "2024-02-11T13:27:40.467Z"
   },
   {
    "duration": 1148,
    "start_time": "2024-02-11T13:55:55.527Z"
   },
   {
    "duration": 3,
    "start_time": "2024-02-11T13:55:56.678Z"
   },
   {
    "duration": 75,
    "start_time": "2024-02-11T13:55:56.683Z"
   },
   {
    "duration": 13,
    "start_time": "2024-02-11T13:55:56.760Z"
   },
   {
    "duration": 11,
    "start_time": "2024-02-11T13:55:56.774Z"
   },
   {
    "duration": 14,
    "start_time": "2024-02-11T13:55:56.786Z"
   },
   {
    "duration": 15,
    "start_time": "2024-02-11T13:55:56.801Z"
   },
   {
    "duration": 14,
    "start_time": "2024-02-11T13:55:56.817Z"
   },
   {
    "duration": 7,
    "start_time": "2024-02-11T13:55:56.834Z"
   },
   {
    "duration": 11,
    "start_time": "2024-02-11T13:55:56.843Z"
   },
   {
    "duration": 11,
    "start_time": "2024-02-11T13:55:56.856Z"
   },
   {
    "duration": 13,
    "start_time": "2024-02-11T13:55:56.869Z"
   },
   {
    "duration": 7,
    "start_time": "2024-02-11T13:55:56.884Z"
   },
   {
    "duration": 5,
    "start_time": "2024-02-11T13:55:56.916Z"
   },
   {
    "duration": 7,
    "start_time": "2024-02-11T13:55:56.923Z"
   },
   {
    "duration": 18,
    "start_time": "2024-02-11T13:55:56.932Z"
   },
   {
    "duration": 8,
    "start_time": "2024-02-11T13:55:56.951Z"
   },
   {
    "duration": 203,
    "start_time": "2024-02-11T13:55:56.960Z"
   },
   {
    "duration": 256,
    "start_time": "2024-02-11T13:55:57.164Z"
   },
   {
    "duration": 280,
    "start_time": "2024-02-11T13:55:57.422Z"
   },
   {
    "duration": 16,
    "start_time": "2024-02-11T13:55:57.704Z"
   },
   {
    "duration": 13,
    "start_time": "2024-02-11T13:55:57.721Z"
   },
   {
    "duration": 8,
    "start_time": "2024-02-11T13:55:57.735Z"
   },
   {
    "duration": 8,
    "start_time": "2024-02-11T13:55:57.745Z"
   },
   {
    "duration": 15,
    "start_time": "2024-02-11T13:55:57.755Z"
   },
   {
    "duration": 269,
    "start_time": "2024-02-11T13:55:57.771Z"
   },
   {
    "duration": 11,
    "start_time": "2024-02-11T13:55:58.042Z"
   },
   {
    "duration": 13,
    "start_time": "2024-02-11T13:55:58.057Z"
   },
   {
    "duration": 46,
    "start_time": "2024-02-11T13:55:58.072Z"
   },
   {
    "duration": 9,
    "start_time": "2024-02-11T13:55:58.120Z"
   },
   {
    "duration": 8,
    "start_time": "2024-02-11T13:55:58.131Z"
   },
   {
    "duration": 7,
    "start_time": "2024-02-11T13:55:58.140Z"
   },
   {
    "duration": 4,
    "start_time": "2024-02-11T13:55:58.149Z"
   },
   {
    "duration": 9,
    "start_time": "2024-02-11T13:55:58.155Z"
   },
   {
    "duration": 5,
    "start_time": "2024-02-11T13:55:58.166Z"
   },
   {
    "duration": 57,
    "start_time": "2024-02-11T13:55:58.172Z"
   },
   {
    "duration": 15,
    "start_time": "2024-02-11T13:55:58.231Z"
   },
   {
    "duration": 151,
    "start_time": "2024-02-11T13:55:58.248Z"
   },
   {
    "duration": 38,
    "start_time": "2024-02-11T13:55:58.401Z"
   },
   {
    "duration": 8,
    "start_time": "2024-02-11T13:55:58.441Z"
   },
   {
    "duration": 232,
    "start_time": "2024-02-11T13:55:58.451Z"
   },
   {
    "duration": 8,
    "start_time": "2024-02-11T13:55:58.685Z"
   },
   {
    "duration": 261,
    "start_time": "2024-02-11T13:55:58.695Z"
   },
   {
    "duration": 198,
    "start_time": "2024-02-11T13:55:58.958Z"
   },
   {
    "duration": 247,
    "start_time": "2024-02-11T13:55:59.158Z"
   },
   {
    "duration": 21,
    "start_time": "2024-02-11T13:55:59.406Z"
   },
   {
    "duration": 2679,
    "start_time": "2024-02-11T13:55:59.428Z"
   },
   {
    "duration": 681,
    "start_time": "2024-02-11T13:56:02.108Z"
   },
   {
    "duration": 188,
    "start_time": "2024-02-11T13:56:02.791Z"
   },
   {
    "duration": 16,
    "start_time": "2024-02-11T13:56:02.981Z"
   },
   {
    "duration": 40,
    "start_time": "2024-02-11T13:56:02.998Z"
   },
   {
    "duration": 26,
    "start_time": "2024-02-11T13:56:03.039Z"
   },
   {
    "duration": 140,
    "start_time": "2024-02-11T13:56:03.067Z"
   },
   {
    "duration": 11,
    "start_time": "2024-02-11T13:56:03.215Z"
   },
   {
    "duration": 24,
    "start_time": "2024-02-11T13:56:03.227Z"
   },
   {
    "duration": 457,
    "start_time": "2024-02-11T13:56:03.253Z"
   },
   {
    "duration": 5,
    "start_time": "2024-02-11T13:56:03.714Z"
   },
   {
    "duration": 651,
    "start_time": "2024-02-11T13:56:03.720Z"
   },
   {
    "duration": 358,
    "start_time": "2024-02-11T13:56:04.373Z"
   },
   {
    "duration": 6,
    "start_time": "2024-02-11T13:56:04.732Z"
   },
   {
    "duration": 57,
    "start_time": "2024-02-11T13:56:04.739Z"
   },
   {
    "duration": 19,
    "start_time": "2024-02-11T13:56:04.797Z"
   },
   {
    "duration": 6,
    "start_time": "2024-02-11T13:56:04.817Z"
   },
   {
    "duration": 6,
    "start_time": "2024-02-11T13:56:04.824Z"
   },
   {
    "duration": 4,
    "start_time": "2024-02-11T13:56:04.831Z"
   },
   {
    "duration": 635,
    "start_time": "2024-02-11T13:56:04.837Z"
   },
   {
    "duration": 5,
    "start_time": "2024-02-11T13:56:05.474Z"
   },
   {
    "duration": 5,
    "start_time": "2024-02-11T13:56:05.481Z"
   },
   {
    "duration": 1440,
    "start_time": "2024-02-11T13:56:05.488Z"
   },
   {
    "duration": 273,
    "start_time": "2024-02-11T13:56:06.930Z"
   },
   {
    "duration": 174,
    "start_time": "2024-02-11T13:56:07.205Z"
   },
   {
    "duration": 4,
    "start_time": "2024-02-11T13:56:07.381Z"
   },
   {
    "duration": 1105,
    "start_time": "2024-02-12T06:49:04.733Z"
   },
   {
    "duration": 3,
    "start_time": "2024-02-12T06:49:05.840Z"
   },
   {
    "duration": 81,
    "start_time": "2024-02-12T06:49:05.845Z"
   },
   {
    "duration": 11,
    "start_time": "2024-02-12T06:49:05.928Z"
   },
   {
    "duration": 27,
    "start_time": "2024-02-12T06:49:05.941Z"
   },
   {
    "duration": 12,
    "start_time": "2024-02-12T06:49:05.969Z"
   },
   {
    "duration": 20,
    "start_time": "2024-02-12T06:49:05.983Z"
   },
   {
    "duration": 28,
    "start_time": "2024-02-12T06:49:06.005Z"
   },
   {
    "duration": 14,
    "start_time": "2024-02-12T06:49:06.035Z"
   },
   {
    "duration": 36,
    "start_time": "2024-02-12T06:49:06.052Z"
   },
   {
    "duration": 6,
    "start_time": "2024-02-12T06:49:06.089Z"
   },
   {
    "duration": 32,
    "start_time": "2024-02-12T06:49:06.097Z"
   },
   {
    "duration": 18,
    "start_time": "2024-02-12T06:49:06.131Z"
   },
   {
    "duration": 4,
    "start_time": "2024-02-12T06:49:06.151Z"
   },
   {
    "duration": 20,
    "start_time": "2024-02-12T06:49:06.157Z"
   },
   {
    "duration": 28,
    "start_time": "2024-02-12T06:49:06.178Z"
   },
   {
    "duration": 12,
    "start_time": "2024-02-12T06:49:06.207Z"
   },
   {
    "duration": 182,
    "start_time": "2024-02-12T06:49:06.220Z"
   },
   {
    "duration": 250,
    "start_time": "2024-02-12T06:49:06.404Z"
   },
   {
    "duration": 270,
    "start_time": "2024-02-12T06:49:06.656Z"
   },
   {
    "duration": 8,
    "start_time": "2024-02-12T06:49:06.927Z"
   },
   {
    "duration": 21,
    "start_time": "2024-02-12T06:49:06.936Z"
   },
   {
    "duration": 20,
    "start_time": "2024-02-12T06:49:06.959Z"
   },
   {
    "duration": 6,
    "start_time": "2024-02-12T06:49:06.981Z"
   },
   {
    "duration": 20,
    "start_time": "2024-02-12T06:49:06.988Z"
   },
   {
    "duration": 285,
    "start_time": "2024-02-12T06:49:07.010Z"
   },
   {
    "duration": 11,
    "start_time": "2024-02-12T06:49:07.297Z"
   },
   {
    "duration": 7,
    "start_time": "2024-02-12T06:49:07.312Z"
   },
   {
    "duration": 37,
    "start_time": "2024-02-12T06:49:07.321Z"
   },
   {
    "duration": 20,
    "start_time": "2024-02-12T06:49:07.359Z"
   },
   {
    "duration": 10,
    "start_time": "2024-02-12T06:49:07.380Z"
   },
   {
    "duration": 9,
    "start_time": "2024-02-12T06:49:07.391Z"
   },
   {
    "duration": 14,
    "start_time": "2024-02-12T06:49:07.402Z"
   },
   {
    "duration": 9,
    "start_time": "2024-02-12T06:49:07.418Z"
   },
   {
    "duration": 4,
    "start_time": "2024-02-12T06:49:07.429Z"
   },
   {
    "duration": 39,
    "start_time": "2024-02-12T06:49:07.434Z"
   },
   {
    "duration": 14,
    "start_time": "2024-02-12T06:49:07.475Z"
   },
   {
    "duration": 157,
    "start_time": "2024-02-12T06:49:07.490Z"
   },
   {
    "duration": 35,
    "start_time": "2024-02-12T06:49:07.648Z"
   },
   {
    "duration": 13,
    "start_time": "2024-02-12T06:49:07.684Z"
   },
   {
    "duration": 241,
    "start_time": "2024-02-12T06:49:07.698Z"
   },
   {
    "duration": 9,
    "start_time": "2024-02-12T06:49:07.941Z"
   },
   {
    "duration": 267,
    "start_time": "2024-02-12T06:49:07.951Z"
   },
   {
    "duration": 215,
    "start_time": "2024-02-12T06:49:08.219Z"
   },
   {
    "duration": 258,
    "start_time": "2024-02-12T06:49:08.436Z"
   },
   {
    "duration": 16,
    "start_time": "2024-02-12T06:49:08.696Z"
   },
   {
    "duration": 2804,
    "start_time": "2024-02-12T06:49:08.713Z"
   },
   {
    "duration": 731,
    "start_time": "2024-02-12T06:49:11.519Z"
   },
   {
    "duration": 194,
    "start_time": "2024-02-12T06:49:12.251Z"
   },
   {
    "duration": 26,
    "start_time": "2024-02-12T06:49:12.447Z"
   },
   {
    "duration": 35,
    "start_time": "2024-02-12T06:49:12.475Z"
   },
   {
    "duration": 29,
    "start_time": "2024-02-12T06:49:12.512Z"
   },
   {
    "duration": 136,
    "start_time": "2024-02-12T06:49:12.543Z"
   },
   {
    "duration": 10,
    "start_time": "2024-02-12T06:49:12.680Z"
   },
   {
    "duration": 34,
    "start_time": "2024-02-12T06:49:12.692Z"
   },
   {
    "duration": 497,
    "start_time": "2024-02-12T06:49:12.727Z"
   },
   {
    "duration": 6,
    "start_time": "2024-02-12T06:49:13.226Z"
   },
   {
    "duration": 717,
    "start_time": "2024-02-12T06:49:13.234Z"
   },
   {
    "duration": 410,
    "start_time": "2024-02-12T06:49:13.954Z"
   },
   {
    "duration": 10,
    "start_time": "2024-02-12T06:49:14.366Z"
   },
   {
    "duration": 59,
    "start_time": "2024-02-12T06:49:14.378Z"
   },
   {
    "duration": 6,
    "start_time": "2024-02-12T06:49:14.438Z"
   },
   {
    "duration": 27,
    "start_time": "2024-02-12T06:49:14.446Z"
   },
   {
    "duration": 5,
    "start_time": "2024-02-12T06:49:14.475Z"
   },
   {
    "duration": 10,
    "start_time": "2024-02-12T06:49:14.481Z"
   },
   {
    "duration": 623,
    "start_time": "2024-02-12T06:49:14.492Z"
   },
   {
    "duration": 6,
    "start_time": "2024-02-12T06:49:15.117Z"
   },
   {
    "duration": 22,
    "start_time": "2024-02-12T06:49:15.124Z"
   },
   {
    "duration": 1469,
    "start_time": "2024-02-12T06:49:15.148Z"
   },
   {
    "duration": 280,
    "start_time": "2024-02-12T06:49:16.619Z"
   },
   {
    "duration": 201,
    "start_time": "2024-02-12T06:49:16.900Z"
   },
   {
    "duration": 4,
    "start_time": "2024-02-12T06:49:17.102Z"
   },
   {
    "duration": 280,
    "start_time": "2024-02-12T06:57:42.023Z"
   },
   {
    "duration": 176,
    "start_time": "2024-02-12T06:58:00.519Z"
   },
   {
    "duration": 173,
    "start_time": "2024-02-12T06:58:08.801Z"
   },
   {
    "duration": 106,
    "start_time": "2024-02-12T06:58:30.329Z"
   },
   {
    "duration": 15,
    "start_time": "2024-02-12T06:58:37.647Z"
   },
   {
    "duration": 12,
    "start_time": "2024-02-12T06:58:56.474Z"
   },
   {
    "duration": 179,
    "start_time": "2024-02-12T06:59:04.361Z"
   },
   {
    "duration": 174,
    "start_time": "2024-02-12T06:59:19.682Z"
   },
   {
    "duration": 1150,
    "start_time": "2024-02-14T19:05:14.813Z"
   },
   {
    "duration": 2,
    "start_time": "2024-02-14T19:05:15.966Z"
   },
   {
    "duration": 311,
    "start_time": "2024-02-14T19:05:15.973Z"
   },
   {
    "duration": 12,
    "start_time": "2024-02-14T19:05:16.287Z"
   },
   {
    "duration": 11,
    "start_time": "2024-02-14T19:05:16.300Z"
   },
   {
    "duration": 9,
    "start_time": "2024-02-14T19:05:16.313Z"
   },
   {
    "duration": 12,
    "start_time": "2024-02-14T19:05:16.323Z"
   },
   {
    "duration": 14,
    "start_time": "2024-02-14T19:05:16.337Z"
   },
   {
    "duration": 7,
    "start_time": "2024-02-14T19:05:16.353Z"
   },
   {
    "duration": 11,
    "start_time": "2024-02-14T19:05:16.374Z"
   },
   {
    "duration": 6,
    "start_time": "2024-02-14T19:05:16.386Z"
   },
   {
    "duration": 11,
    "start_time": "2024-02-14T19:05:16.394Z"
   },
   {
    "duration": 9,
    "start_time": "2024-02-14T19:05:16.407Z"
   },
   {
    "duration": 9,
    "start_time": "2024-02-14T19:05:16.418Z"
   },
   {
    "duration": 6,
    "start_time": "2024-02-14T19:05:16.429Z"
   },
   {
    "duration": 36,
    "start_time": "2024-02-14T19:05:16.437Z"
   },
   {
    "duration": 5,
    "start_time": "2024-02-14T19:05:16.474Z"
   },
   {
    "duration": 197,
    "start_time": "2024-02-14T19:05:16.481Z"
   },
   {
    "duration": 277,
    "start_time": "2024-02-14T19:05:16.680Z"
   },
   {
    "duration": 302,
    "start_time": "2024-02-14T19:05:16.959Z"
   },
   {
    "duration": 11,
    "start_time": "2024-02-14T19:05:17.263Z"
   },
   {
    "duration": 9,
    "start_time": "2024-02-14T19:05:17.276Z"
   },
   {
    "duration": 7,
    "start_time": "2024-02-14T19:05:17.286Z"
   },
   {
    "duration": 5,
    "start_time": "2024-02-14T19:05:17.294Z"
   },
   {
    "duration": 30,
    "start_time": "2024-02-14T19:05:17.300Z"
   },
   {
    "duration": 259,
    "start_time": "2024-02-14T19:05:17.332Z"
   },
   {
    "duration": 11,
    "start_time": "2024-02-14T19:05:17.593Z"
   },
   {
    "duration": 9,
    "start_time": "2024-02-14T19:05:17.609Z"
   },
   {
    "duration": 57,
    "start_time": "2024-02-14T19:05:17.620Z"
   },
   {
    "duration": 10,
    "start_time": "2024-02-14T19:05:17.678Z"
   },
   {
    "duration": 13,
    "start_time": "2024-02-14T19:05:17.690Z"
   },
   {
    "duration": 6,
    "start_time": "2024-02-14T19:05:17.705Z"
   },
   {
    "duration": 5,
    "start_time": "2024-02-14T19:05:17.713Z"
   },
   {
    "duration": 20,
    "start_time": "2024-02-14T19:05:17.720Z"
   },
   {
    "duration": 9,
    "start_time": "2024-02-14T19:05:17.742Z"
   },
   {
    "duration": 32,
    "start_time": "2024-02-14T19:05:17.753Z"
   },
   {
    "duration": 20,
    "start_time": "2024-02-14T19:05:17.787Z"
   },
   {
    "duration": 168,
    "start_time": "2024-02-14T19:05:17.808Z"
   },
   {
    "duration": 195,
    "start_time": "2024-02-14T19:05:17.978Z"
   },
   {
    "duration": 124,
    "start_time": "2024-02-14T19:05:18.175Z"
   },
   {
    "duration": 29,
    "start_time": "2024-02-14T19:05:18.300Z"
   },
   {
    "duration": 255,
    "start_time": "2024-02-14T19:05:18.331Z"
   },
   {
    "duration": 10,
    "start_time": "2024-02-14T19:05:18.588Z"
   },
   {
    "duration": 214,
    "start_time": "2024-02-14T19:05:18.599Z"
   },
   {
    "duration": 222,
    "start_time": "2024-02-14T19:05:18.815Z"
   },
   {
    "duration": 274,
    "start_time": "2024-02-14T19:05:19.039Z"
   },
   {
    "duration": 27,
    "start_time": "2024-02-14T19:05:19.315Z"
   },
   {
    "duration": 3129,
    "start_time": "2024-02-14T19:05:19.344Z"
   },
   {
    "duration": 1429,
    "start_time": "2024-02-14T19:05:22.475Z"
   },
   {
    "duration": 438,
    "start_time": "2024-02-14T19:05:23.905Z"
   },
   {
    "duration": 28,
    "start_time": "2024-02-14T19:05:24.345Z"
   },
   {
    "duration": 31,
    "start_time": "2024-02-14T19:05:24.375Z"
   },
   {
    "duration": 28,
    "start_time": "2024-02-14T19:05:24.409Z"
   },
   {
    "duration": 42,
    "start_time": "2024-02-14T19:05:24.439Z"
   },
   {
    "duration": 12,
    "start_time": "2024-02-14T19:05:24.482Z"
   },
   {
    "duration": 16,
    "start_time": "2024-02-14T19:05:24.496Z"
   },
   {
    "duration": 544,
    "start_time": "2024-02-14T19:05:24.513Z"
   },
   {
    "duration": 14,
    "start_time": "2024-02-14T19:05:25.059Z"
   },
   {
    "duration": 745,
    "start_time": "2024-02-14T19:05:25.075Z"
   },
   {
    "duration": 415,
    "start_time": "2024-02-14T19:05:25.822Z"
   },
   {
    "duration": 7,
    "start_time": "2024-02-14T19:05:26.238Z"
   },
   {
    "duration": 74,
    "start_time": "2024-02-14T19:05:26.246Z"
   },
   {
    "duration": 7,
    "start_time": "2024-02-14T19:05:26.322Z"
   },
   {
    "duration": 33,
    "start_time": "2024-02-14T19:05:26.331Z"
   },
   {
    "duration": 11,
    "start_time": "2024-02-14T19:05:26.366Z"
   },
   {
    "duration": 8,
    "start_time": "2024-02-14T19:05:26.379Z"
   },
   {
    "duration": 793,
    "start_time": "2024-02-14T19:05:26.389Z"
   },
   {
    "duration": 7,
    "start_time": "2024-02-14T19:05:27.184Z"
   },
   {
    "duration": 6,
    "start_time": "2024-02-14T19:05:27.192Z"
   },
   {
    "duration": 1474,
    "start_time": "2024-02-14T19:05:27.199Z"
   },
   {
    "duration": 467,
    "start_time": "2024-02-14T19:05:28.675Z"
   },
   {
    "duration": 221,
    "start_time": "2024-02-14T19:05:29.143Z"
   },
   {
    "duration": 9,
    "start_time": "2024-02-14T19:05:29.372Z"
   },
   {
    "duration": 280,
    "start_time": "2024-02-14T19:05:45.051Z"
   },
   {
    "duration": 181,
    "start_time": "2024-02-14T19:06:07.186Z"
   },
   {
    "duration": 182,
    "start_time": "2024-02-14T19:06:22.393Z"
   },
   {
    "duration": 237,
    "start_time": "2024-02-14T19:06:30.961Z"
   },
   {
    "duration": 1106,
    "start_time": "2024-05-01T09:49:28.587Z"
   },
   {
    "duration": 3,
    "start_time": "2024-05-01T09:49:29.695Z"
   },
   {
    "duration": 224,
    "start_time": "2024-05-01T09:49:29.699Z"
   },
   {
    "duration": 10,
    "start_time": "2024-05-01T09:49:29.925Z"
   },
   {
    "duration": 33,
    "start_time": "2024-05-01T09:49:29.936Z"
   },
   {
    "duration": 16,
    "start_time": "2024-05-01T09:49:29.971Z"
   },
   {
    "duration": 8,
    "start_time": "2024-05-01T09:49:29.988Z"
   },
   {
    "duration": 10,
    "start_time": "2024-05-01T09:49:29.997Z"
   },
   {
    "duration": 36,
    "start_time": "2024-05-01T09:49:30.008Z"
   },
   {
    "duration": 56,
    "start_time": "2024-05-01T09:49:30.047Z"
   },
   {
    "duration": 40,
    "start_time": "2024-05-01T09:49:30.104Z"
   },
   {
    "duration": 55,
    "start_time": "2024-05-01T09:49:30.148Z"
   },
   {
    "duration": 35,
    "start_time": "2024-05-01T09:49:30.205Z"
   },
   {
    "duration": 50,
    "start_time": "2024-05-01T09:49:30.242Z"
   },
   {
    "duration": 69,
    "start_time": "2024-05-01T09:49:30.293Z"
   },
   {
    "duration": 80,
    "start_time": "2024-05-01T09:49:30.363Z"
   },
   {
    "duration": 63,
    "start_time": "2024-05-01T09:49:30.445Z"
   },
   {
    "duration": 211,
    "start_time": "2024-05-01T09:49:30.510Z"
   },
   {
    "duration": 259,
    "start_time": "2024-05-01T09:49:30.722Z"
   },
   {
    "duration": 276,
    "start_time": "2024-05-01T09:49:30.982Z"
   },
   {
    "duration": 7,
    "start_time": "2024-05-01T09:49:31.259Z"
   },
   {
    "duration": 39,
    "start_time": "2024-05-01T09:49:31.268Z"
   },
   {
    "duration": 30,
    "start_time": "2024-05-01T09:49:31.308Z"
   },
   {
    "duration": 21,
    "start_time": "2024-05-01T09:49:31.340Z"
   },
   {
    "duration": 30,
    "start_time": "2024-05-01T09:49:31.363Z"
   },
   {
    "duration": 262,
    "start_time": "2024-05-01T09:49:31.395Z"
   },
   {
    "duration": 10,
    "start_time": "2024-05-01T09:49:31.658Z"
   },
   {
    "duration": 14,
    "start_time": "2024-05-01T09:49:31.671Z"
   },
   {
    "duration": 33,
    "start_time": "2024-05-01T09:49:31.687Z"
   },
   {
    "duration": 6,
    "start_time": "2024-05-01T09:49:31.721Z"
   },
   {
    "duration": 23,
    "start_time": "2024-05-01T09:49:31.728Z"
   },
   {
    "duration": 22,
    "start_time": "2024-05-01T09:49:31.753Z"
   },
   {
    "duration": 12,
    "start_time": "2024-05-01T09:49:31.777Z"
   },
   {
    "duration": 8,
    "start_time": "2024-05-01T09:49:31.790Z"
   },
   {
    "duration": 5,
    "start_time": "2024-05-01T09:49:31.799Z"
   },
   {
    "duration": 12,
    "start_time": "2024-05-01T09:49:31.805Z"
   },
   {
    "duration": 13,
    "start_time": "2024-05-01T09:49:31.818Z"
   },
   {
    "duration": 157,
    "start_time": "2024-05-01T09:49:31.832Z"
   },
   {
    "duration": 160,
    "start_time": "2024-05-01T09:49:31.991Z"
   },
   {
    "duration": 117,
    "start_time": "2024-05-01T09:49:32.152Z"
   },
   {
    "duration": 12,
    "start_time": "2024-05-01T09:49:32.271Z"
   },
   {
    "duration": 207,
    "start_time": "2024-05-01T09:49:32.284Z"
   },
   {
    "duration": 9,
    "start_time": "2024-05-01T09:49:32.492Z"
   },
   {
    "duration": 197,
    "start_time": "2024-05-01T09:49:32.503Z"
   },
   {
    "duration": 192,
    "start_time": "2024-05-01T09:49:32.701Z"
   },
   {
    "duration": 249,
    "start_time": "2024-05-01T09:49:32.894Z"
   },
   {
    "duration": 25,
    "start_time": "2024-05-01T09:49:33.147Z"
   },
   {
    "duration": 3745,
    "start_time": "2024-05-01T09:49:33.173Z"
   },
   {
    "duration": 1275,
    "start_time": "2024-05-01T09:49:36.946Z"
   },
   {
    "duration": 279,
    "start_time": "2024-05-01T09:49:38.223Z"
   },
   {
    "duration": 17,
    "start_time": "2024-05-01T09:49:38.504Z"
   },
   {
    "duration": 42,
    "start_time": "2024-05-01T09:49:38.523Z"
   },
   {
    "duration": 23,
    "start_time": "2024-05-01T09:49:38.566Z"
   },
   {
    "duration": 11,
    "start_time": "2024-05-01T09:49:38.590Z"
   },
   {
    "duration": 11,
    "start_time": "2024-05-01T09:49:38.602Z"
   },
   {
    "duration": 39,
    "start_time": "2024-05-01T09:49:38.614Z"
   },
   {
    "duration": 437,
    "start_time": "2024-05-01T09:49:38.660Z"
   },
   {
    "duration": 5,
    "start_time": "2024-05-01T09:49:39.099Z"
   },
   {
    "duration": 751,
    "start_time": "2024-05-01T09:49:39.105Z"
   },
   {
    "duration": 601,
    "start_time": "2024-05-01T09:49:39.858Z"
   },
   {
    "duration": 7,
    "start_time": "2024-05-01T09:49:40.461Z"
   },
   {
    "duration": 124,
    "start_time": "2024-05-01T09:49:40.469Z"
   },
   {
    "duration": 9,
    "start_time": "2024-05-01T09:49:40.651Z"
   },
   {
    "duration": 9,
    "start_time": "2024-05-01T09:49:40.662Z"
   },
   {
    "duration": 17,
    "start_time": "2024-05-01T09:49:40.672Z"
   },
   {
    "duration": 11,
    "start_time": "2024-05-01T09:49:40.690Z"
   },
   {
    "duration": 1178,
    "start_time": "2024-05-01T09:49:40.702Z"
   },
   {
    "duration": 5,
    "start_time": "2024-05-01T09:49:41.881Z"
   },
   {
    "duration": 6,
    "start_time": "2024-05-01T09:49:41.888Z"
   },
   {
    "duration": 1785,
    "start_time": "2024-05-01T09:49:41.895Z"
   },
   {
    "duration": 720,
    "start_time": "2024-05-01T09:49:43.682Z"
   },
   {
    "duration": 173,
    "start_time": "2024-05-01T09:49:44.403Z"
   },
   {
    "duration": 3,
    "start_time": "2024-05-01T09:49:44.578Z"
   },
   {
    "duration": 199,
    "start_time": "2024-05-01T09:50:09.582Z"
   },
   {
    "duration": 207,
    "start_time": "2024-05-01T09:50:14.206Z"
   },
   {
    "duration": 225,
    "start_time": "2024-05-01T09:51:27.862Z"
   }
  ],
  "kernelspec": {
   "display_name": "Python 3 (ipykernel)",
   "language": "python",
   "name": "python3"
  },
  "language_info": {
   "codemirror_mode": {
    "name": "ipython",
    "version": 3
   },
   "file_extension": ".py",
   "mimetype": "text/x-python",
   "name": "python",
   "nbconvert_exporter": "python",
   "pygments_lexer": "ipython3",
   "version": "3.11.5"
  },
  "toc": {
   "base_numbering": 1,
   "nav_menu": {},
   "number_sections": true,
   "sideBar": true,
   "skip_h1_title": true,
   "title_cell": "Table of Contents",
   "title_sidebar": "Contents",
   "toc_cell": false,
   "toc_position": {
    "height": "calc(100% - 180px)",
    "left": "10px",
    "top": "150px",
    "width": "591.469px"
   },
   "toc_section_display": true,
   "toc_window_display": true
  }
 },
 "nbformat": 4,
 "nbformat_minor": 5
}
